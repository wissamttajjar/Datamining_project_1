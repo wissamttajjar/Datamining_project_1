{
 "cells": [
  {
   "cell_type": "code",
   "id": "initial_id",
   "metadata": {
    "collapsed": true,
    "ExecuteTime": {
     "end_time": "2025-06-19T08:40:42.354653Z",
     "start_time": "2025-06-19T08:40:41.605309Z"
    }
   },
   "source": [
    "import pandas as pd\n",
    "import os\n",
    "import numpy as np\n",
    "from geopandas import GeoDataFrame\n",
    "from shapely.geometry import Point"
   ],
   "outputs": [],
   "execution_count": 1
  },
  {
   "metadata": {
    "ExecuteTime": {
     "end_time": "2025-06-19T08:41:11.750297Z",
     "start_time": "2025-06-19T08:41:11.746912Z"
    }
   },
   "cell_type": "code",
   "source": "os.chdir('C:/Users/wissam_T/Desktop/5th/2nd semester/dm/h.w 1/project')",
   "id": "8a6fea6166ba70dc",
   "outputs": [],
   "execution_count": 2
  },
  {
   "metadata": {
    "ExecuteTime": {
     "end_time": "2025-06-19T08:41:12.521749Z",
     "start_time": "2025-06-19T08:41:12.483076Z"
    }
   },
   "cell_type": "code",
   "source": "df_merged = pd.read_csv('datasets/Merged_trips_with_stations.csv')",
   "id": "d6ad419eb005f3a5",
   "outputs": [],
   "execution_count": 3
  },
  {
   "metadata": {
    "ExecuteTime": {
     "end_time": "2025-06-18T15:25:07.246595Z",
     "start_time": "2025-06-18T15:25:07.242099Z"
    }
   },
   "cell_type": "code",
   "source": "df_merged.columns",
   "id": "7f58b6cf3cd36294",
   "outputs": [
    {
     "data": {
      "text/plain": [
       "Index(['ride_id', 'rideable_type', 'started_at', 'ended_at',\n",
       "       'start_station_name', 'start_station_id', 'end_station_name',\n",
       "       'end_station_id', 'member_casual', 'duration_min', 'geometry_start',\n",
       "       'geometry_end', 'Zone_start_zone_name', 'Zone_start_GIS_ID',\n",
       "       'Zone_start_OBJECTID', 'Zone_start_geometry', 'Zone_end_zone_name',\n",
       "       'Zone_end_GIS_ID', 'Zone_end_OBJECTID', 'Zone_end_geometry', 'date',\n",
       "       'Weather_temp', 'Weather_windspeedmean', 'Weather_sunrise',\n",
       "       'Weather_sunset', 'Weather_conditions', 'Bikeshare_NAME_start',\n",
       "       'Bikeshare_STATION_TYPE_start', 'Bikeshare_CAPACITY_start',\n",
       "       'Bikeshare_REGION_ID_start', 'Bikeshare_REGION_NAME_start',\n",
       "       'Bikeshare_geometry_start', 'Bikeshare_NAME_end',\n",
       "       'Bikeshare_STATION_TYPE_end', 'Bikeshare_CAPACITY_end',\n",
       "       'Bikeshare_REGION_ID_end', 'Bikeshare_REGION_NAME_end',\n",
       "       'Bikeshare_geometry_end', 'StartStation_NAME', 'EndStation_NAME'],\n",
       "      dtype='object')"
      ]
     },
     "execution_count": 28,
     "metadata": {},
     "output_type": "execute_result"
    }
   ],
   "execution_count": 28
  },
  {
   "metadata": {
    "ExecuteTime": {
     "end_time": "2025-06-18T15:25:07.251077Z",
     "start_time": "2025-06-18T15:25:07.247601Z"
    }
   },
   "cell_type": "code",
   "source": [
    "print(df_merged['Bikeshare_CAPACITY_start'].isna().sum())\n",
    "print(df_merged['Bikeshare_CAPACITY_end'].isna().sum())"
   ],
   "id": "e075889d408bac57",
   "outputs": [
    {
     "name": "stdout",
     "output_type": "stream",
     "text": [
      "0\n",
      "28\n"
     ]
    }
   ],
   "execution_count": 29
  },
  {
   "metadata": {
    "ExecuteTime": {
     "end_time": "2025-06-18T15:25:07.255218Z",
     "start_time": "2025-06-18T15:25:07.252083Z"
    }
   },
   "cell_type": "code",
   "source": "df_merged.shape",
   "id": "219ec4c6da4c2d0a",
   "outputs": [
    {
     "data": {
      "text/plain": [
       "(97, 40)"
      ]
     },
     "execution_count": 30,
     "metadata": {},
     "output_type": "execute_result"
    }
   ],
   "execution_count": 30
  },
  {
   "metadata": {
    "ExecuteTime": {
     "end_time": "2025-06-18T15:29:43.895345Z",
     "start_time": "2025-06-18T15:29:43.890345Z"
    }
   },
   "cell_type": "code",
   "source": "df_merged_copy = df_merged.copy()",
   "id": "23571f0543384bea",
   "outputs": [],
   "execution_count": 43
  },
  {
   "metadata": {
    "ExecuteTime": {
     "end_time": "2025-06-18T15:28:32.330209Z",
     "start_time": "2025-06-18T15:28:32.319047Z"
    }
   },
   "cell_type": "code",
   "source": [
    "start_stations = df_merged[['start_station_id', 'Bikeshare_CAPACITY_start']].rename(\n",
    "    columns={'start_station_id': 'station_id', 'Bikeshare_CAPACITY_start': 'capacity'}\n",
    ")\n",
    "\n",
    "end_stations = df_merged[['end_station_id', 'Bikeshare_CAPACITY_end']].rename(\n",
    "    columns={'end_station_id': 'station_id', 'Bikeshare_CAPACITY_end': 'capacity'}\n",
    ")\n",
    "\n",
    "# Combine both into one list of stations\n",
    "stations = pd.concat([start_stations, end_stations])\n",
    "\n",
    "# Remove nulls and duplicates (in case some stations appear twice)\n",
    "stations = stations.drop_duplicates(subset='station_id')\n",
    "\n",
    "# Step 2: Calculate thresholds (33rd and 66th percentiles)\n",
    "low_threshold = np.percentile(stations['capacity'], 33)\n",
    "high_threshold = np.percentile(stations['capacity'], 66)\n",
    "\n",
    "# Step 3: Define a function to assign category\n",
    "def assign_size_category(cap):\n",
    "    if cap < low_threshold:\n",
    "        return 'Small'\n",
    "    elif cap < high_threshold:\n",
    "        return 'Medium'\n",
    "    else:\n",
    "        return 'Large'\n",
    "\n",
    "# Step 4: Apply the function to create the new column\n",
    "stations['station_size'] = stations['capacity'].apply(assign_size_category)\n",
    "\n",
    "# Now `stations` has: station_id, capacity, and station_size\n",
    "print(stations.head())\n"
   ],
   "id": "48656885bffb7daf",
   "outputs": [
    {
     "name": "stdout",
     "output_type": "stream",
     "text": [
      "    station_id  capacity station_size\n",
      "0      31519.0      15.0        Large\n",
      "7      31651.0      19.0        Large\n",
      "9      31939.0      17.0        Large\n",
      "10     30200.0      27.0        Large\n",
      "11     32265.0      12.0        Large\n"
     ]
    }
   ],
   "execution_count": 41
  },
  {
   "metadata": {
    "ExecuteTime": {
     "end_time": "2025-06-18T15:33:22.832354Z",
     "start_time": "2025-06-18T15:33:22.822885Z"
    }
   },
   "cell_type": "code",
   "source": [
    "# Merge back to the original df for start stations\n",
    "df = df_merged_copy.merge(\n",
    "    stations[['station_id', 'station_size']],\n",
    "    left_on='start_station_id',\n",
    "    right_on='station_id',\n",
    "    how='left'\n",
    ").rename(columns={'station_size': 'start_station_size'}).drop(columns=['station_id'])\n",
    "\n",
    "# Merge back again for end stations\n",
    "df = df.merge(\n",
    "    stations[['station_id', 'station_size']],\n",
    "    left_on='end_station_id',\n",
    "    right_on='station_id',\n",
    "    how='left'\n",
    ").rename(columns={'station_size': 'end_station_size'}).drop(columns=['station_id'])\n"
   ],
   "id": "98f0e0b5c8ad1729",
   "outputs": [],
   "execution_count": 49
  },
  {
   "metadata": {
    "ExecuteTime": {
     "end_time": "2025-06-18T15:33:35.483601Z",
     "start_time": "2025-06-18T15:33:35.478287Z"
    }
   },
   "cell_type": "code",
   "source": "df.shape",
   "id": "7e307576618ad7a2",
   "outputs": [
    {
     "data": {
      "text/plain": [
       "(97, 42)"
      ]
     },
     "execution_count": 51,
     "metadata": {},
     "output_type": "execute_result"
    }
   ],
   "execution_count": 51
  },
  {
   "metadata": {
    "ExecuteTime": {
     "end_time": "2025-06-18T17:01:35.367766Z",
     "start_time": "2025-06-18T17:01:35.284860Z"
    }
   },
   "cell_type": "code",
   "source": "df_merged_copy.to_csv('added_size.csv', index=False)",
   "id": "d149c76f7e6ae235",
   "outputs": [],
   "execution_count": 52
  }
 ],
 "metadata": {
  "kernelspec": {
   "display_name": "Python 3",
   "language": "python",
   "name": "python3"
  },
  "language_info": {
   "codemirror_mode": {
    "name": "ipython",
    "version": 2
   },
   "file_extension": ".py",
   "mimetype": "text/x-python",
   "name": "python",
   "nbconvert_exporter": "python",
   "pygments_lexer": "ipython2",
   "version": "2.7.6"
  }
 },
 "nbformat": 4,
 "nbformat_minor": 5
}
