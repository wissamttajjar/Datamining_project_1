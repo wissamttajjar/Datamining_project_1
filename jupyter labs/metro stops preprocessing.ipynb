{
 "cells": [
  {
   "cell_type": "code",
   "id": "initial_id",
   "metadata": {
    "collapsed": true,
    "ExecuteTime": {
     "end_time": "2025-06-19T10:07:25.858651Z",
     "start_time": "2025-06-19T10:07:25.854187Z"
    }
   },
   "source": [
    "import pandas as pd\n",
    "import os\n",
    "import numpy as np\n",
    "from geopandas import gpd\n",
    "from shapely import wkt\n",
    "from shapely.geometry import Point, Polygon\n",
    "import re"
   ],
   "outputs": [],
   "execution_count": 26
  },
  {
   "metadata": {
    "ExecuteTime": {
     "end_time": "2025-06-19T10:07:25.867738Z",
     "start_time": "2025-06-19T10:07:25.860720Z"
    }
   },
   "cell_type": "code",
   "source": "os.chdir('C:/Users/wissam_T/Desktop/5th/2nd semester/dm/h.w 1/project')",
   "id": "8a6fea6166ba70dc",
   "outputs": [],
   "execution_count": 27
  },
  {
   "metadata": {
    "ExecuteTime": {
     "end_time": "2025-06-19T10:07:25.937050Z",
     "start_time": "2025-06-19T10:07:25.903071Z"
    }
   },
   "cell_type": "code",
   "source": "df_merged = pd.read_csv('datasets/Merged_trips_with_stations.csv')",
   "id": "d6ad419eb005f3a5",
   "outputs": [],
   "execution_count": 28
  },
  {
   "metadata": {
    "ExecuteTime": {
     "end_time": "2025-06-19T10:07:25.943813Z",
     "start_time": "2025-06-19T10:07:25.938430Z"
    }
   },
   "cell_type": "code",
   "source": "df_merged.columns",
   "id": "7f58b6cf3cd36294",
   "outputs": [
    {
     "data": {
      "text/plain": [
       "Index(['ride_id', 'rideable_type', 'started_at', 'ended_at',\n",
       "       'start_station_name', 'start_station_id', 'end_station_name',\n",
       "       'end_station_id', 'member_casual', 'duration_min', 'geometry_start',\n",
       "       'geometry_end', 'Zone_start_zone_name', 'Zone_start_GIS_ID',\n",
       "       'Zone_start_OBJECTID', 'Zone_start_geometry', 'Zone_end_zone_name',\n",
       "       'Zone_end_GIS_ID', 'Zone_end_OBJECTID', 'Zone_end_geometry', 'date',\n",
       "       'Weather_temp', 'Weather_windspeedmean', 'Weather_sunrise',\n",
       "       'Weather_sunset', 'Weather_conditions', 'Bikeshare_NAME_start',\n",
       "       'Bikeshare_STATION_TYPE_start', 'Bikeshare_CAPACITY_start',\n",
       "       'Bikeshare_REGION_ID_start', 'Bikeshare_REGION_NAME_start',\n",
       "       'Bikeshare_geometry_start', 'Bikeshare_NAME_end',\n",
       "       'Bikeshare_STATION_TYPE_end', 'Bikeshare_CAPACITY_end',\n",
       "       'Bikeshare_REGION_ID_end', 'Bikeshare_REGION_NAME_end',\n",
       "       'Bikeshare_geometry_end', 'StartStation_NAME', 'EndStation_NAME'],\n",
       "      dtype='object')"
      ]
     },
     "execution_count": 29,
     "metadata": {},
     "output_type": "execute_result"
    }
   ],
   "execution_count": 29
  },
  {
   "metadata": {
    "ExecuteTime": {
     "end_time": "2025-06-19T10:07:25.948818Z",
     "start_time": "2025-06-19T10:07:25.944817Z"
    }
   },
   "cell_type": "code",
   "source": [
    "print(df_merged['Bikeshare_CAPACITY_start'].isna().sum())\n",
    "print(df_merged['Bikeshare_CAPACITY_end'].isna().sum())"
   ],
   "id": "e075889d408bac57",
   "outputs": [
    {
     "name": "stdout",
     "output_type": "stream",
     "text": [
      "0\n",
      "28\n"
     ]
    }
   ],
   "execution_count": 30
  },
  {
   "metadata": {
    "ExecuteTime": {
     "end_time": "2025-06-19T10:07:25.953388Z",
     "start_time": "2025-06-19T10:07:25.949957Z"
    }
   },
   "cell_type": "code",
   "source": "df_merged.shape",
   "id": "219ec4c6da4c2d0a",
   "outputs": [
    {
     "data": {
      "text/plain": [
       "(97, 40)"
      ]
     },
     "execution_count": 31,
     "metadata": {},
     "output_type": "execute_result"
    }
   ],
   "execution_count": 31
  },
  {
   "metadata": {
    "ExecuteTime": {
     "end_time": "2025-06-19T10:07:25.957392Z",
     "start_time": "2025-06-19T10:07:25.954393Z"
    }
   },
   "cell_type": "code",
   "source": "df_merged_copy = df_merged.copy()",
   "id": "23571f0543384bea",
   "outputs": [],
   "execution_count": 32
  },
  {
   "metadata": {
    "ExecuteTime": {
     "end_time": "2025-06-19T10:07:25.967624Z",
     "start_time": "2025-06-19T10:07:25.958493Z"
    }
   },
   "cell_type": "code",
   "source": [
    "start_stations = df_merged[['start_station_id', 'Bikeshare_CAPACITY_start']].rename(\n",
    "    columns={'start_station_id': 'station_id', 'Bikeshare_CAPACITY_start': 'capacity'}\n",
    ")\n",
    "\n",
    "end_stations = df_merged[['end_station_id', 'Bikeshare_CAPACITY_end']].rename(\n",
    "    columns={'end_station_id': 'station_id', 'Bikeshare_CAPACITY_end': 'capacity'}\n",
    ")\n",
    "\n",
    "# Combine both into one list of stations\n",
    "stations = pd.concat([start_stations, end_stations])\n",
    "\n",
    "# Remove nulls and duplicates (in case some stations appear twice)\n",
    "stations = stations.drop_duplicates(subset='station_id')\n",
    "\n",
    "# Step 2: Calculate thresholds (33rd and 66th percentiles)\n",
    "low_threshold = np.percentile(stations['capacity'], 33)\n",
    "high_threshold = np.percentile(stations['capacity'], 66)\n",
    "\n",
    "# Step 3: Define a function to assign category\n",
    "def assign_size_category(cap):\n",
    "    if cap < low_threshold:\n",
    "        return 'Small'\n",
    "    elif cap < high_threshold:\n",
    "        return 'Medium'\n",
    "    else:\n",
    "        return 'Large'\n",
    "\n",
    "# Step 4: Apply the function to create the new column\n",
    "stations['station_size'] = stations['capacity'].apply(assign_size_category)\n",
    "\n",
    "# Now `stations` has: station_id, capacity, and station_size\n",
    "print(stations.head())\n"
   ],
   "id": "48656885bffb7daf",
   "outputs": [
    {
     "name": "stdout",
     "output_type": "stream",
     "text": [
      "    station_id  capacity station_size\n",
      "0      31519.0      15.0        Large\n",
      "7      31651.0      19.0        Large\n",
      "9      31939.0      17.0        Large\n",
      "10     30200.0      27.0        Large\n",
      "11     32265.0      12.0        Large\n"
     ]
    }
   ],
   "execution_count": 33
  },
  {
   "metadata": {
    "ExecuteTime": {
     "end_time": "2025-06-19T10:11:41.319098Z",
     "start_time": "2025-06-19T10:11:41.310291Z"
    }
   },
   "cell_type": "code",
   "source": [
    "# Merge back to the original df for start stations\n",
    "df_with_sizes = df_merged_copy.merge(\n",
    "    stations[['station_id', 'station_size']],\n",
    "    left_on='start_station_id',\n",
    "    right_on='station_id',\n",
    "    how='left'\n",
    ").rename(columns={'station_size': 'start_station_size'}).drop(columns=['station_id'])\n",
    "\n",
    "# Merge back again for end stations\n",
    "df_with_sizes = df_with_sizes.merge(\n",
    "    stations[['station_id', 'station_size']],\n",
    "    left_on='end_station_id',\n",
    "    right_on='station_id',\n",
    "    how='left'\n",
    ").rename(columns={'station_size': 'end_station_size'}).drop(columns=['station_id'])\n"
   ],
   "id": "98f0e0b5c8ad1729",
   "outputs": [],
   "execution_count": 39
  },
  {
   "metadata": {
    "ExecuteTime": {
     "end_time": "2025-06-19T10:11:42.494083Z",
     "start_time": "2025-06-19T10:11:42.489664Z"
    }
   },
   "cell_type": "code",
   "source": "df_with_sizes.shape",
   "id": "7e307576618ad7a2",
   "outputs": [
    {
     "data": {
      "text/plain": [
       "(97, 42)"
      ]
     },
     "execution_count": 40,
     "metadata": {},
     "output_type": "execute_result"
    }
   ],
   "execution_count": 40
  },
  {
   "metadata": {
    "ExecuteTime": {
     "end_time": "2025-06-19T10:11:46.097599Z",
     "start_time": "2025-06-19T10:11:46.042579Z"
    }
   },
   "cell_type": "code",
   "source": "df_merged_copy.to_csv('datasets/added_size.csv', index=False)",
   "id": "d149c76f7e6ae235",
   "outputs": [
    {
     "ename": "PermissionError",
     "evalue": "[Errno 13] Permission denied: 'datasets/added_size.csv'",
     "output_type": "error",
     "traceback": [
      "\u001B[1;31m---------------------------------------------------------------------------\u001B[0m",
      "\u001B[1;31mPermissionError\u001B[0m                           Traceback (most recent call last)",
      "Cell \u001B[1;32mIn[41], line 1\u001B[0m\n\u001B[1;32m----> 1\u001B[0m df_merged_copy\u001B[38;5;241m.\u001B[39mto_csv(\u001B[38;5;124m'\u001B[39m\u001B[38;5;124mdatasets/added_size.csv\u001B[39m\u001B[38;5;124m'\u001B[39m, index\u001B[38;5;241m=\u001B[39m\u001B[38;5;28;01mFalse\u001B[39;00m)\n",
      "File \u001B[1;32mA:\\programs\\anaconda\\Lib\\site-packages\\pandas\\util\\_decorators.py:333\u001B[0m, in \u001B[0;36mdeprecate_nonkeyword_arguments.<locals>.decorate.<locals>.wrapper\u001B[1;34m(*args, **kwargs)\u001B[0m\n\u001B[0;32m    327\u001B[0m \u001B[38;5;28;01mif\u001B[39;00m \u001B[38;5;28mlen\u001B[39m(args) \u001B[38;5;241m>\u001B[39m num_allow_args:\n\u001B[0;32m    328\u001B[0m     warnings\u001B[38;5;241m.\u001B[39mwarn(\n\u001B[0;32m    329\u001B[0m         msg\u001B[38;5;241m.\u001B[39mformat(arguments\u001B[38;5;241m=\u001B[39m_format_argument_list(allow_args)),\n\u001B[0;32m    330\u001B[0m         \u001B[38;5;167;01mFutureWarning\u001B[39;00m,\n\u001B[0;32m    331\u001B[0m         stacklevel\u001B[38;5;241m=\u001B[39mfind_stack_level(),\n\u001B[0;32m    332\u001B[0m     )\n\u001B[1;32m--> 333\u001B[0m \u001B[38;5;28;01mreturn\u001B[39;00m func(\u001B[38;5;241m*\u001B[39margs, \u001B[38;5;241m*\u001B[39m\u001B[38;5;241m*\u001B[39mkwargs)\n",
      "File \u001B[1;32mA:\\programs\\anaconda\\Lib\\site-packages\\pandas\\core\\generic.py:3967\u001B[0m, in \u001B[0;36mNDFrame.to_csv\u001B[1;34m(self, path_or_buf, sep, na_rep, float_format, columns, header, index, index_label, mode, encoding, compression, quoting, quotechar, lineterminator, chunksize, date_format, doublequote, escapechar, decimal, errors, storage_options)\u001B[0m\n\u001B[0;32m   3956\u001B[0m df \u001B[38;5;241m=\u001B[39m \u001B[38;5;28mself\u001B[39m \u001B[38;5;28;01mif\u001B[39;00m \u001B[38;5;28misinstance\u001B[39m(\u001B[38;5;28mself\u001B[39m, ABCDataFrame) \u001B[38;5;28;01melse\u001B[39;00m \u001B[38;5;28mself\u001B[39m\u001B[38;5;241m.\u001B[39mto_frame()\n\u001B[0;32m   3958\u001B[0m formatter \u001B[38;5;241m=\u001B[39m DataFrameFormatter(\n\u001B[0;32m   3959\u001B[0m     frame\u001B[38;5;241m=\u001B[39mdf,\n\u001B[0;32m   3960\u001B[0m     header\u001B[38;5;241m=\u001B[39mheader,\n\u001B[1;32m   (...)\u001B[0m\n\u001B[0;32m   3964\u001B[0m     decimal\u001B[38;5;241m=\u001B[39mdecimal,\n\u001B[0;32m   3965\u001B[0m )\n\u001B[1;32m-> 3967\u001B[0m \u001B[38;5;28;01mreturn\u001B[39;00m DataFrameRenderer(formatter)\u001B[38;5;241m.\u001B[39mto_csv(\n\u001B[0;32m   3968\u001B[0m     path_or_buf,\n\u001B[0;32m   3969\u001B[0m     lineterminator\u001B[38;5;241m=\u001B[39mlineterminator,\n\u001B[0;32m   3970\u001B[0m     sep\u001B[38;5;241m=\u001B[39msep,\n\u001B[0;32m   3971\u001B[0m     encoding\u001B[38;5;241m=\u001B[39mencoding,\n\u001B[0;32m   3972\u001B[0m     errors\u001B[38;5;241m=\u001B[39merrors,\n\u001B[0;32m   3973\u001B[0m     compression\u001B[38;5;241m=\u001B[39mcompression,\n\u001B[0;32m   3974\u001B[0m     quoting\u001B[38;5;241m=\u001B[39mquoting,\n\u001B[0;32m   3975\u001B[0m     columns\u001B[38;5;241m=\u001B[39mcolumns,\n\u001B[0;32m   3976\u001B[0m     index_label\u001B[38;5;241m=\u001B[39mindex_label,\n\u001B[0;32m   3977\u001B[0m     mode\u001B[38;5;241m=\u001B[39mmode,\n\u001B[0;32m   3978\u001B[0m     chunksize\u001B[38;5;241m=\u001B[39mchunksize,\n\u001B[0;32m   3979\u001B[0m     quotechar\u001B[38;5;241m=\u001B[39mquotechar,\n\u001B[0;32m   3980\u001B[0m     date_format\u001B[38;5;241m=\u001B[39mdate_format,\n\u001B[0;32m   3981\u001B[0m     doublequote\u001B[38;5;241m=\u001B[39mdoublequote,\n\u001B[0;32m   3982\u001B[0m     escapechar\u001B[38;5;241m=\u001B[39mescapechar,\n\u001B[0;32m   3983\u001B[0m     storage_options\u001B[38;5;241m=\u001B[39mstorage_options,\n\u001B[0;32m   3984\u001B[0m )\n",
      "File \u001B[1;32mA:\\programs\\anaconda\\Lib\\site-packages\\pandas\\io\\formats\\format.py:1014\u001B[0m, in \u001B[0;36mDataFrameRenderer.to_csv\u001B[1;34m(self, path_or_buf, encoding, sep, columns, index_label, mode, compression, quoting, quotechar, lineterminator, chunksize, date_format, doublequote, escapechar, errors, storage_options)\u001B[0m\n\u001B[0;32m    993\u001B[0m     created_buffer \u001B[38;5;241m=\u001B[39m \u001B[38;5;28;01mFalse\u001B[39;00m\n\u001B[0;32m    995\u001B[0m csv_formatter \u001B[38;5;241m=\u001B[39m CSVFormatter(\n\u001B[0;32m    996\u001B[0m     path_or_buf\u001B[38;5;241m=\u001B[39mpath_or_buf,\n\u001B[0;32m    997\u001B[0m     lineterminator\u001B[38;5;241m=\u001B[39mlineterminator,\n\u001B[1;32m   (...)\u001B[0m\n\u001B[0;32m   1012\u001B[0m     formatter\u001B[38;5;241m=\u001B[39m\u001B[38;5;28mself\u001B[39m\u001B[38;5;241m.\u001B[39mfmt,\n\u001B[0;32m   1013\u001B[0m )\n\u001B[1;32m-> 1014\u001B[0m csv_formatter\u001B[38;5;241m.\u001B[39msave()\n\u001B[0;32m   1016\u001B[0m \u001B[38;5;28;01mif\u001B[39;00m created_buffer:\n\u001B[0;32m   1017\u001B[0m     \u001B[38;5;28;01massert\u001B[39;00m \u001B[38;5;28misinstance\u001B[39m(path_or_buf, StringIO)\n",
      "File \u001B[1;32mA:\\programs\\anaconda\\Lib\\site-packages\\pandas\\io\\formats\\csvs.py:251\u001B[0m, in \u001B[0;36mCSVFormatter.save\u001B[1;34m(self)\u001B[0m\n\u001B[0;32m    247\u001B[0m \u001B[38;5;250m\u001B[39m\u001B[38;5;124;03m\"\"\"\u001B[39;00m\n\u001B[0;32m    248\u001B[0m \u001B[38;5;124;03mCreate the writer & save.\u001B[39;00m\n\u001B[0;32m    249\u001B[0m \u001B[38;5;124;03m\"\"\"\u001B[39;00m\n\u001B[0;32m    250\u001B[0m \u001B[38;5;66;03m# apply compression and byte/text conversion\u001B[39;00m\n\u001B[1;32m--> 251\u001B[0m \u001B[38;5;28;01mwith\u001B[39;00m get_handle(\n\u001B[0;32m    252\u001B[0m     \u001B[38;5;28mself\u001B[39m\u001B[38;5;241m.\u001B[39mfilepath_or_buffer,\n\u001B[0;32m    253\u001B[0m     \u001B[38;5;28mself\u001B[39m\u001B[38;5;241m.\u001B[39mmode,\n\u001B[0;32m    254\u001B[0m     encoding\u001B[38;5;241m=\u001B[39m\u001B[38;5;28mself\u001B[39m\u001B[38;5;241m.\u001B[39mencoding,\n\u001B[0;32m    255\u001B[0m     errors\u001B[38;5;241m=\u001B[39m\u001B[38;5;28mself\u001B[39m\u001B[38;5;241m.\u001B[39merrors,\n\u001B[0;32m    256\u001B[0m     compression\u001B[38;5;241m=\u001B[39m\u001B[38;5;28mself\u001B[39m\u001B[38;5;241m.\u001B[39mcompression,\n\u001B[0;32m    257\u001B[0m     storage_options\u001B[38;5;241m=\u001B[39m\u001B[38;5;28mself\u001B[39m\u001B[38;5;241m.\u001B[39mstorage_options,\n\u001B[0;32m    258\u001B[0m ) \u001B[38;5;28;01mas\u001B[39;00m handles:\n\u001B[0;32m    259\u001B[0m     \u001B[38;5;66;03m# Note: self.encoding is irrelevant here\u001B[39;00m\n\u001B[0;32m    260\u001B[0m     \u001B[38;5;28mself\u001B[39m\u001B[38;5;241m.\u001B[39mwriter \u001B[38;5;241m=\u001B[39m csvlib\u001B[38;5;241m.\u001B[39mwriter(\n\u001B[0;32m    261\u001B[0m         handles\u001B[38;5;241m.\u001B[39mhandle,\n\u001B[0;32m    262\u001B[0m         lineterminator\u001B[38;5;241m=\u001B[39m\u001B[38;5;28mself\u001B[39m\u001B[38;5;241m.\u001B[39mlineterminator,\n\u001B[1;32m   (...)\u001B[0m\n\u001B[0;32m    267\u001B[0m         quotechar\u001B[38;5;241m=\u001B[39m\u001B[38;5;28mself\u001B[39m\u001B[38;5;241m.\u001B[39mquotechar,\n\u001B[0;32m    268\u001B[0m     )\n\u001B[0;32m    270\u001B[0m     \u001B[38;5;28mself\u001B[39m\u001B[38;5;241m.\u001B[39m_save()\n",
      "File \u001B[1;32mA:\\programs\\anaconda\\Lib\\site-packages\\pandas\\io\\common.py:873\u001B[0m, in \u001B[0;36mget_handle\u001B[1;34m(path_or_buf, mode, encoding, compression, memory_map, is_text, errors, storage_options)\u001B[0m\n\u001B[0;32m    868\u001B[0m \u001B[38;5;28;01melif\u001B[39;00m \u001B[38;5;28misinstance\u001B[39m(handle, \u001B[38;5;28mstr\u001B[39m):\n\u001B[0;32m    869\u001B[0m     \u001B[38;5;66;03m# Check whether the filename is to be opened in binary mode.\u001B[39;00m\n\u001B[0;32m    870\u001B[0m     \u001B[38;5;66;03m# Binary mode does not support 'encoding' and 'newline'.\u001B[39;00m\n\u001B[0;32m    871\u001B[0m     \u001B[38;5;28;01mif\u001B[39;00m ioargs\u001B[38;5;241m.\u001B[39mencoding \u001B[38;5;129;01mand\u001B[39;00m \u001B[38;5;124m\"\u001B[39m\u001B[38;5;124mb\u001B[39m\u001B[38;5;124m\"\u001B[39m \u001B[38;5;129;01mnot\u001B[39;00m \u001B[38;5;129;01min\u001B[39;00m ioargs\u001B[38;5;241m.\u001B[39mmode:\n\u001B[0;32m    872\u001B[0m         \u001B[38;5;66;03m# Encoding\u001B[39;00m\n\u001B[1;32m--> 873\u001B[0m         handle \u001B[38;5;241m=\u001B[39m \u001B[38;5;28mopen\u001B[39m(\n\u001B[0;32m    874\u001B[0m             handle,\n\u001B[0;32m    875\u001B[0m             ioargs\u001B[38;5;241m.\u001B[39mmode,\n\u001B[0;32m    876\u001B[0m             encoding\u001B[38;5;241m=\u001B[39mioargs\u001B[38;5;241m.\u001B[39mencoding,\n\u001B[0;32m    877\u001B[0m             errors\u001B[38;5;241m=\u001B[39merrors,\n\u001B[0;32m    878\u001B[0m             newline\u001B[38;5;241m=\u001B[39m\u001B[38;5;124m\"\u001B[39m\u001B[38;5;124m\"\u001B[39m,\n\u001B[0;32m    879\u001B[0m         )\n\u001B[0;32m    880\u001B[0m     \u001B[38;5;28;01melse\u001B[39;00m:\n\u001B[0;32m    881\u001B[0m         \u001B[38;5;66;03m# Binary mode\u001B[39;00m\n\u001B[0;32m    882\u001B[0m         handle \u001B[38;5;241m=\u001B[39m \u001B[38;5;28mopen\u001B[39m(handle, ioargs\u001B[38;5;241m.\u001B[39mmode)\n",
      "\u001B[1;31mPermissionError\u001B[0m: [Errno 13] Permission denied: 'datasets/added_size.csv'"
     ]
    }
   ],
   "execution_count": 41
  },
  {
   "metadata": {
    "ExecuteTime": {
     "end_time": "2025-06-19T10:11:47.565455Z",
     "start_time": "2025-06-19T10:11:47.560016Z"
    }
   },
   "cell_type": "code",
   "source": "df_merged_copy.columns",
   "id": "4cbd99b39ee46815",
   "outputs": [
    {
     "data": {
      "text/plain": [
       "Index(['ride_id', 'rideable_type', 'started_at', 'ended_at',\n",
       "       'start_station_name', 'start_station_id', 'end_station_name',\n",
       "       'end_station_id', 'member_casual', 'duration_min', 'geometry_start',\n",
       "       'geometry_end', 'Zone_start_zone_name', 'Zone_start_GIS_ID',\n",
       "       'Zone_start_OBJECTID', 'Zone_start_geometry', 'Zone_end_zone_name',\n",
       "       'Zone_end_GIS_ID', 'Zone_end_OBJECTID', 'Zone_end_geometry', 'date',\n",
       "       'Weather_temp', 'Weather_windspeedmean', 'Weather_sunrise',\n",
       "       'Weather_sunset', 'Weather_conditions', 'Bikeshare_NAME_start',\n",
       "       'Bikeshare_STATION_TYPE_start', 'Bikeshare_CAPACITY_start',\n",
       "       'Bikeshare_REGION_ID_start', 'Bikeshare_REGION_NAME_start',\n",
       "       'Bikeshare_geometry_start', 'Bikeshare_NAME_end',\n",
       "       'Bikeshare_STATION_TYPE_end', 'Bikeshare_CAPACITY_end',\n",
       "       'Bikeshare_REGION_ID_end', 'Bikeshare_REGION_NAME_end',\n",
       "       'Bikeshare_geometry_end', 'StartStation_NAME', 'EndStation_NAME'],\n",
       "      dtype='object')"
      ]
     },
     "execution_count": 42,
     "metadata": {},
     "output_type": "execute_result"
    }
   ],
   "execution_count": 42
  },
  {
   "metadata": {
    "ExecuteTime": {
     "end_time": "2025-06-19T10:13:26.451065Z",
     "start_time": "2025-06-19T10:13:26.443608Z"
    }
   },
   "cell_type": "code",
   "source": [
    "# First, remove the \"POINT (\" and \")\" parts, then split\n",
    "df_with_coords = pd.DataFrame(df_merged_copy)\n",
    "df_with_coords['start_longitude'] = df_with_coords['Bikeshare_geometry_start'].str.extract(r'POINT \\((-?\\d+\\.\\d+)')[0].astype(float)\n",
    "df_with_coords['start_latitude'] = df_with_coords['Bikeshare_geometry_start'].str.extract(r'POINT \\(-?\\d+\\.\\d+ (\\d+\\.\\d+)\\)')[0].astype(float)\n",
    "\n",
    "df_with_coords['end_longitude'] = df_with_coords['Bikeshare_geometry_end'].str.extract(r'POINT \\((-?\\d+\\.\\d+)')[0].astype(float)\n",
    "df_with_coords['end_latitude'] = df_with_coords['Bikeshare_geometry_end'].str.extract(r'POINT \\(-?\\d+\\.\\d+ (\\d+\\.\\d+)\\)')[0].astype(float)\n"
   ],
   "id": "8fab6ac7313d8879",
   "outputs": [],
   "execution_count": 44
  },
  {
   "metadata": {
    "ExecuteTime": {
     "end_time": "2025-06-19T10:13:33.713846Z",
     "start_time": "2025-06-19T10:13:33.699464Z"
    }
   },
   "cell_type": "code",
   "source": "df_with_coords.head()",
   "id": "4a2974ac2dfd54b9",
   "outputs": [
    {
     "data": {
      "text/plain": [
       "            ride_id  rideable_type           started_at             ended_at  \\\n",
       "0  748A93D7DE8A41CD   classic_bike  2024-01-25 15:49:59  2024-01-25 15:52:35   \n",
       "1  75CBFD136F06305B   classic_bike  2024-01-02 16:44:58  2024-01-02 16:53:25   \n",
       "2  0536C9720F87E04C   classic_bike  2024-01-24 15:40:15  2024-01-24 15:43:55   \n",
       "3  9E17390C218783B5   classic_bike  2024-01-04 15:35:00  2024-01-04 15:37:35   \n",
       "4  00727D0E773CDFF7  electric_bike  2024-01-05 12:27:58  2024-01-05 12:35:40   \n",
       "\n",
       "  start_station_name  start_station_id     end_station_name  end_station_id  \\\n",
       "0      1st & O St NW             31519        1st & L St NW         31677.0   \n",
       "1      1st & O St NW             31519  4th & College St NW         31138.0   \n",
       "2      1st & O St NW             31519        1st & L St NW         31677.0   \n",
       "3      1st & O St NW             31519        1st & L St NW         31677.0   \n",
       "4      1st & O St NW             31519       10th & G St NW         31274.0   \n",
       "\n",
       "  member_casual  duration_min  ... Bikeshare_CAPACITY_end  \\\n",
       "0        member      2.600000  ...                   19.0   \n",
       "1        member      8.450000  ...                   15.0   \n",
       "2        member      3.666667  ...                   19.0   \n",
       "3        member      2.583333  ...                   19.0   \n",
       "4        casual      7.700000  ...                   23.0   \n",
       "\n",
       "  Bikeshare_REGION_ID_end Bikeshare_REGION_NAME_end  \\\n",
       "0                    42.0                  DCA-CABI   \n",
       "1                    42.0                  DCA-CABI   \n",
       "2                    42.0                  DCA-CABI   \n",
       "3                    42.0                  DCA-CABI   \n",
       "4                    42.0                  DCA-CABI   \n",
       "\n",
       "         Bikeshare_geometry_end  StartStation_NAME      EndStation_NAME  \\\n",
       "0  POINT (-77.011987 38.903819)      1st & O St NW        1st & L St NW   \n",
       "1  POINT (-77.018135 38.921233)      1st & O St NW  4th & College St NW   \n",
       "2  POINT (-77.011987 38.903819)      1st & O St NW        1st & L St NW   \n",
       "3  POINT (-77.011987 38.903819)      1st & O St NW        1st & L St NW   \n",
       "4  POINT (-77.026235 38.898243)      1st & O St NW       10th & G St NW   \n",
       "\n",
       "  start_longitude start_latitude  end_longitude end_latitude  \n",
       "0      -77.012365      38.908643     -77.011987    38.903819  \n",
       "1      -77.012365      38.908643     -77.018135    38.921233  \n",
       "2      -77.012365      38.908643     -77.011987    38.903819  \n",
       "3      -77.012365      38.908643     -77.011987    38.903819  \n",
       "4      -77.012365      38.908643     -77.026235    38.898243  \n",
       "\n",
       "[5 rows x 44 columns]"
      ],
      "text/html": [
       "<div>\n",
       "<style scoped>\n",
       "    .dataframe tbody tr th:only-of-type {\n",
       "        vertical-align: middle;\n",
       "    }\n",
       "\n",
       "    .dataframe tbody tr th {\n",
       "        vertical-align: top;\n",
       "    }\n",
       "\n",
       "    .dataframe thead th {\n",
       "        text-align: right;\n",
       "    }\n",
       "</style>\n",
       "<table border=\"1\" class=\"dataframe\">\n",
       "  <thead>\n",
       "    <tr style=\"text-align: right;\">\n",
       "      <th></th>\n",
       "      <th>ride_id</th>\n",
       "      <th>rideable_type</th>\n",
       "      <th>started_at</th>\n",
       "      <th>ended_at</th>\n",
       "      <th>start_station_name</th>\n",
       "      <th>start_station_id</th>\n",
       "      <th>end_station_name</th>\n",
       "      <th>end_station_id</th>\n",
       "      <th>member_casual</th>\n",
       "      <th>duration_min</th>\n",
       "      <th>...</th>\n",
       "      <th>Bikeshare_CAPACITY_end</th>\n",
       "      <th>Bikeshare_REGION_ID_end</th>\n",
       "      <th>Bikeshare_REGION_NAME_end</th>\n",
       "      <th>Bikeshare_geometry_end</th>\n",
       "      <th>StartStation_NAME</th>\n",
       "      <th>EndStation_NAME</th>\n",
       "      <th>start_longitude</th>\n",
       "      <th>start_latitude</th>\n",
       "      <th>end_longitude</th>\n",
       "      <th>end_latitude</th>\n",
       "    </tr>\n",
       "  </thead>\n",
       "  <tbody>\n",
       "    <tr>\n",
       "      <th>0</th>\n",
       "      <td>748A93D7DE8A41CD</td>\n",
       "      <td>classic_bike</td>\n",
       "      <td>2024-01-25 15:49:59</td>\n",
       "      <td>2024-01-25 15:52:35</td>\n",
       "      <td>1st &amp; O St NW</td>\n",
       "      <td>31519</td>\n",
       "      <td>1st &amp; L St NW</td>\n",
       "      <td>31677.0</td>\n",
       "      <td>member</td>\n",
       "      <td>2.600000</td>\n",
       "      <td>...</td>\n",
       "      <td>19.0</td>\n",
       "      <td>42.0</td>\n",
       "      <td>DCA-CABI</td>\n",
       "      <td>POINT (-77.011987 38.903819)</td>\n",
       "      <td>1st &amp; O St NW</td>\n",
       "      <td>1st &amp; L St NW</td>\n",
       "      <td>-77.012365</td>\n",
       "      <td>38.908643</td>\n",
       "      <td>-77.011987</td>\n",
       "      <td>38.903819</td>\n",
       "    </tr>\n",
       "    <tr>\n",
       "      <th>1</th>\n",
       "      <td>75CBFD136F06305B</td>\n",
       "      <td>classic_bike</td>\n",
       "      <td>2024-01-02 16:44:58</td>\n",
       "      <td>2024-01-02 16:53:25</td>\n",
       "      <td>1st &amp; O St NW</td>\n",
       "      <td>31519</td>\n",
       "      <td>4th &amp; College St NW</td>\n",
       "      <td>31138.0</td>\n",
       "      <td>member</td>\n",
       "      <td>8.450000</td>\n",
       "      <td>...</td>\n",
       "      <td>15.0</td>\n",
       "      <td>42.0</td>\n",
       "      <td>DCA-CABI</td>\n",
       "      <td>POINT (-77.018135 38.921233)</td>\n",
       "      <td>1st &amp; O St NW</td>\n",
       "      <td>4th &amp; College St NW</td>\n",
       "      <td>-77.012365</td>\n",
       "      <td>38.908643</td>\n",
       "      <td>-77.018135</td>\n",
       "      <td>38.921233</td>\n",
       "    </tr>\n",
       "    <tr>\n",
       "      <th>2</th>\n",
       "      <td>0536C9720F87E04C</td>\n",
       "      <td>classic_bike</td>\n",
       "      <td>2024-01-24 15:40:15</td>\n",
       "      <td>2024-01-24 15:43:55</td>\n",
       "      <td>1st &amp; O St NW</td>\n",
       "      <td>31519</td>\n",
       "      <td>1st &amp; L St NW</td>\n",
       "      <td>31677.0</td>\n",
       "      <td>member</td>\n",
       "      <td>3.666667</td>\n",
       "      <td>...</td>\n",
       "      <td>19.0</td>\n",
       "      <td>42.0</td>\n",
       "      <td>DCA-CABI</td>\n",
       "      <td>POINT (-77.011987 38.903819)</td>\n",
       "      <td>1st &amp; O St NW</td>\n",
       "      <td>1st &amp; L St NW</td>\n",
       "      <td>-77.012365</td>\n",
       "      <td>38.908643</td>\n",
       "      <td>-77.011987</td>\n",
       "      <td>38.903819</td>\n",
       "    </tr>\n",
       "    <tr>\n",
       "      <th>3</th>\n",
       "      <td>9E17390C218783B5</td>\n",
       "      <td>classic_bike</td>\n",
       "      <td>2024-01-04 15:35:00</td>\n",
       "      <td>2024-01-04 15:37:35</td>\n",
       "      <td>1st &amp; O St NW</td>\n",
       "      <td>31519</td>\n",
       "      <td>1st &amp; L St NW</td>\n",
       "      <td>31677.0</td>\n",
       "      <td>member</td>\n",
       "      <td>2.583333</td>\n",
       "      <td>...</td>\n",
       "      <td>19.0</td>\n",
       "      <td>42.0</td>\n",
       "      <td>DCA-CABI</td>\n",
       "      <td>POINT (-77.011987 38.903819)</td>\n",
       "      <td>1st &amp; O St NW</td>\n",
       "      <td>1st &amp; L St NW</td>\n",
       "      <td>-77.012365</td>\n",
       "      <td>38.908643</td>\n",
       "      <td>-77.011987</td>\n",
       "      <td>38.903819</td>\n",
       "    </tr>\n",
       "    <tr>\n",
       "      <th>4</th>\n",
       "      <td>00727D0E773CDFF7</td>\n",
       "      <td>electric_bike</td>\n",
       "      <td>2024-01-05 12:27:58</td>\n",
       "      <td>2024-01-05 12:35:40</td>\n",
       "      <td>1st &amp; O St NW</td>\n",
       "      <td>31519</td>\n",
       "      <td>10th &amp; G St NW</td>\n",
       "      <td>31274.0</td>\n",
       "      <td>casual</td>\n",
       "      <td>7.700000</td>\n",
       "      <td>...</td>\n",
       "      <td>23.0</td>\n",
       "      <td>42.0</td>\n",
       "      <td>DCA-CABI</td>\n",
       "      <td>POINT (-77.026235 38.898243)</td>\n",
       "      <td>1st &amp; O St NW</td>\n",
       "      <td>10th &amp; G St NW</td>\n",
       "      <td>-77.012365</td>\n",
       "      <td>38.908643</td>\n",
       "      <td>-77.026235</td>\n",
       "      <td>38.898243</td>\n",
       "    </tr>\n",
       "  </tbody>\n",
       "</table>\n",
       "<p>5 rows × 44 columns</p>\n",
       "</div>"
      ]
     },
     "execution_count": 45,
     "metadata": {},
     "output_type": "execute_result"
    }
   ],
   "execution_count": 45
  },
  {
   "metadata": {
    "ExecuteTime": {
     "end_time": "2025-06-19T10:21:00.403857Z",
     "start_time": "2025-06-19T10:21:00.398858Z"
    }
   },
   "cell_type": "code",
   "source": [
    "def haversine_np(lat1, lon1, lat2, lon2):\n",
    "\n",
    "    R = 6371000\n",
    "    lat1, lon1, lat2, lon2 = map(np.radians, [lat1, lon1, lat2, lon2])\n",
    "    \n",
    "    dlat = lat2 - lat1\n",
    "    dlon = lon2 - lon1\n",
    "    \n",
    "    a = np.sin(dlat / 2)**2 + np.cos(lat1) * np.cos(lat2) * np.sin(dlon / 2)**2\n",
    "    c = 2 * np.arcsin(np.sqrt(a))\n",
    "    return R * c"
   ],
   "id": "9fbc7d215575edc",
   "outputs": [],
   "execution_count": 58
  },
  {
   "metadata": {
    "ExecuteTime": {
     "end_time": "2025-06-19T10:21:01.047263Z",
     "start_time": "2025-06-19T10:21:01.043416Z"
    }
   },
   "cell_type": "code",
   "source": [
    "def min_distance_to_station(lat, lon, locations):\n",
    "    if np.isnan(lat) or np.isnan(lon):\n",
    "        return np.nan\n",
    "    distances = haversine_np(lat, lon, locations[:, 0], locations[:, 1])\n",
    "    return np.min(distances)"
   ],
   "id": "aab470ab4bbc5d68",
   "outputs": [],
   "execution_count": 59
  },
  {
   "metadata": {
    "ExecuteTime": {
     "end_time": "2025-06-19T10:58:07.445157Z",
     "start_time": "2025-06-19T10:58:07.441132Z"
    }
   },
   "cell_type": "code",
   "source": [
    "shopping_centers = np.array([\n",
    "    [38.9009, -77.0260],   # CityCenterDC\n",
    "    [38.8971, -77.0064],   # Union Station\n",
    "    [38.9057, -77.0631],   # Georgetown Park\n",
    "    [38.8631, -77.0599],   # Pentagon City\n",
    "    [38.8765, -77.0316],   # The Wharf\n",
    "    [38.8741, -77.0028],   # Capitol Riverfront\n",
    "    [38.9613, -77.0840],   # Friendship Heights\n",
    "])"
   ],
   "id": "a20bcdf388a6981",
   "outputs": [],
   "execution_count": 80
  },
  {
   "metadata": {
    "ExecuteTime": {
     "end_time": "2025-06-19T10:58:08.639985Z",
     "start_time": "2025-06-19T10:58:08.624740Z"
    }
   },
   "cell_type": "code",
   "source": [
    "proximity = 300\n",
    "df_with_coords['start_near_any_mall'] = df_with_coords.apply(\n",
    "    lambda row: int(min_distance_to_station(row['start_latitude'], row['start_longitude'], shopping_centers) <= proximity),\n",
    "    axis=1\n",
    ")\n",
    "\n",
    "df_with_coords['end_near_any_mall'] = df_with_coords.apply(\n",
    "    lambda row: int(min_distance_to_station(row['end_latitude'], row['end_longitude'], shopping_centers) <= proximity),\n",
    "    axis=1\n",
    ")"
   ],
   "id": "19e23bd38c3a5aba",
   "outputs": [],
   "execution_count": 81
  },
  {
   "metadata": {
    "ExecuteTime": {
     "end_time": "2025-06-19T10:58:09.374309Z",
     "start_time": "2025-06-19T10:58:09.369309Z"
    }
   },
   "cell_type": "code",
   "source": [
    "count_of_ones = df_with_coords['start_near_any_mall'].eq(1).sum()\n",
    "\n",
    "print(f\"Number of 1s in '{'start_near_any_mall'}': {count_of_ones}\")\n",
    "\n",
    "count_of_ones = df_with_coords['end_near_any_mall'].eq(1).sum()\n",
    "\n",
    "print(f\"Number of 1s in '{'end_near_any_mall'}': {count_of_ones}\")"
   ],
   "id": "c86bdd903ddf397a",
   "outputs": [
    {
     "name": "stdout",
     "output_type": "stream",
     "text": [
      "Number of 1s in 'start_near_any_mall': 2\n",
      "Number of 1s in 'end_near_any_mall': 9\n"
     ]
    }
   ],
   "execution_count": 82
  }
 ],
 "metadata": {
  "kernelspec": {
   "display_name": "Python 3",
   "language": "python",
   "name": "python3"
  },
  "language_info": {
   "codemirror_mode": {
    "name": "ipython",
    "version": 2
   },
   "file_extension": ".py",
   "mimetype": "text/x-python",
   "name": "python",
   "nbconvert_exporter": "python",
   "pygments_lexer": "ipython2",
   "version": "2.7.6"
  }
 },
 "nbformat": 4,
 "nbformat_minor": 5
}
