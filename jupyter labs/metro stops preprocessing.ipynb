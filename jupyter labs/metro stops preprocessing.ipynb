{
 "cells": [
  {
   "cell_type": "code",
   "id": "initial_id",
   "metadata": {
    "collapsed": true,
    "ExecuteTime": {
     "end_time": "2025-06-19T16:24:00.098872Z",
     "start_time": "2025-06-19T16:24:00.095892Z"
    }
   },
   "source": [
    "import pandas as pd\n",
    "import os\n",
    "import numpy as np\n",
    "from geopandas import gpd\n",
    "from shapely import wkt\n",
    "from shapely.geometry import Point, Polygon\n",
    "import re"
   ],
   "outputs": [],
   "execution_count": 256
  },
  {
   "metadata": {
    "ExecuteTime": {
     "end_time": "2025-06-19T16:24:00.105906Z",
     "start_time": "2025-06-19T16:24:00.102988Z"
    }
   },
   "cell_type": "code",
   "source": "os.chdir('C:/Users/wissam_T/Desktop/5th/2nd semester/dm/h.w 1/project')",
   "id": "8a6fea6166ba70dc",
   "outputs": [],
   "execution_count": 257
  },
  {
   "metadata": {
    "ExecuteTime": {
     "end_time": "2025-06-19T16:24:00.144509Z",
     "start_time": "2025-06-19T16:24:00.114502Z"
    }
   },
   "cell_type": "code",
   "source": "df_merged = pd.read_csv('datasets/Merged_trips_with_stations.csv')",
   "id": "d6ad419eb005f3a5",
   "outputs": [],
   "execution_count": 258
  },
  {
   "metadata": {
    "ExecuteTime": {
     "end_time": "2025-06-19T16:24:00.151027Z",
     "start_time": "2025-06-19T16:24:00.146025Z"
    }
   },
   "cell_type": "code",
   "source": "df_merged.columns",
   "id": "7f58b6cf3cd36294",
   "outputs": [
    {
     "data": {
      "text/plain": [
       "Index(['ride_id', 'rideable_type', 'started_at', 'ended_at',\n",
       "       'start_station_name', 'start_station_id', 'end_station_name',\n",
       "       'end_station_id', 'member_casual', 'duration_min', 'geometry_start',\n",
       "       'geometry_end', 'Zone_start_zone_name', 'Zone_start_GIS_ID',\n",
       "       'Zone_start_OBJECTID', 'Zone_start_geometry', 'Zone_end_zone_name',\n",
       "       'Zone_end_GIS_ID', 'Zone_end_OBJECTID', 'Zone_end_geometry', 'date',\n",
       "       'Weather_temp', 'Weather_windspeedmean', 'Weather_sunrise',\n",
       "       'Weather_sunset', 'Weather_conditions', 'Bikeshare_NAME_start',\n",
       "       'Bikeshare_STATION_TYPE_start', 'Bikeshare_CAPACITY_start',\n",
       "       'Bikeshare_REGION_ID_start', 'Bikeshare_REGION_NAME_start',\n",
       "       'Bikeshare_geometry_start', 'Bikeshare_NAME_end',\n",
       "       'Bikeshare_STATION_TYPE_end', 'Bikeshare_CAPACITY_end',\n",
       "       'Bikeshare_REGION_ID_end', 'Bikeshare_REGION_NAME_end',\n",
       "       'Bikeshare_geometry_end', 'StartStation_NAME', 'EndStation_NAME'],\n",
       "      dtype='object')"
      ]
     },
     "execution_count": 259,
     "metadata": {},
     "output_type": "execute_result"
    }
   ],
   "execution_count": 259
  },
  {
   "metadata": {
    "ExecuteTime": {
     "end_time": "2025-06-19T16:24:00.155541Z",
     "start_time": "2025-06-19T16:24:00.151535Z"
    }
   },
   "cell_type": "code",
   "source": [
    "print(df_merged['Bikeshare_CAPACITY_start'].isna().sum())\n",
    "print(df_merged['Bikeshare_CAPACITY_end'].isna().sum())"
   ],
   "id": "e075889d408bac57",
   "outputs": [
    {
     "name": "stdout",
     "output_type": "stream",
     "text": [
      "0\n",
      "28\n"
     ]
    }
   ],
   "execution_count": 260
  },
  {
   "metadata": {
    "ExecuteTime": {
     "end_time": "2025-06-19T16:24:00.159934Z",
     "start_time": "2025-06-19T16:24:00.156045Z"
    }
   },
   "cell_type": "code",
   "source": "df_merged.shape",
   "id": "219ec4c6da4c2d0a",
   "outputs": [
    {
     "data": {
      "text/plain": [
       "(97, 40)"
      ]
     },
     "execution_count": 261,
     "metadata": {},
     "output_type": "execute_result"
    }
   ],
   "execution_count": 261
  },
  {
   "metadata": {
    "ExecuteTime": {
     "end_time": "2025-06-19T16:24:00.163335Z",
     "start_time": "2025-06-19T16:24:00.160952Z"
    }
   },
   "cell_type": "code",
   "source": "df_merged_copy = df_merged.copy()",
   "id": "23571f0543384bea",
   "outputs": [],
   "execution_count": 262
  },
  {
   "metadata": {
    "ExecuteTime": {
     "end_time": "2025-06-19T16:24:00.172828Z",
     "start_time": "2025-06-19T16:24:00.164343Z"
    }
   },
   "cell_type": "code",
   "source": [
    "start_stations = df_merged[['start_station_id', 'Bikeshare_CAPACITY_start']].rename(\n",
    "    columns={'start_station_id': 'station_id', 'Bikeshare_CAPACITY_start': 'capacity'}\n",
    ")\n",
    "\n",
    "end_stations = df_merged[['end_station_id', 'Bikeshare_CAPACITY_end']].rename(\n",
    "    columns={'end_station_id': 'station_id', 'Bikeshare_CAPACITY_end': 'capacity'}\n",
    ")\n",
    "\n",
    "# Combine both into one list of stations\n",
    "stations = pd.concat([start_stations, end_stations])\n",
    "\n",
    "# Remove nulls and duplicates (in case some stations appear twice)\n",
    "stations = stations.drop_duplicates(subset='station_id')\n",
    "\n",
    "# Step 2: Calculate thresholds (33rd and 66th percentiles)\n",
    "low_threshold = np.percentile(stations['capacity'], 33)\n",
    "high_threshold = np.percentile(stations['capacity'], 66)\n",
    "\n",
    "# Step 3: Define a function to assign category\n",
    "def assign_size_category(cap):\n",
    "    if cap < low_threshold:\n",
    "        return 'Small'\n",
    "    elif cap < high_threshold:\n",
    "        return 'Medium'\n",
    "    else:\n",
    "        return 'Large'\n",
    "\n",
    "# Step 4: Apply the function to create the new column\n",
    "stations['station_size'] = stations['capacity'].apply(assign_size_category)\n",
    "\n",
    "# Now `stations` has: station_id, capacity, and station_size\n",
    "print(stations.head())\n"
   ],
   "id": "48656885bffb7daf",
   "outputs": [
    {
     "name": "stdout",
     "output_type": "stream",
     "text": [
      "    station_id  capacity station_size\n",
      "0      31519.0      15.0        Large\n",
      "7      31651.0      19.0        Large\n",
      "9      31939.0      17.0        Large\n",
      "10     30200.0      27.0        Large\n",
      "11     32265.0      12.0        Large\n"
     ]
    }
   ],
   "execution_count": 263
  },
  {
   "metadata": {
    "ExecuteTime": {
     "end_time": "2025-06-19T16:24:00.185680Z",
     "start_time": "2025-06-19T16:24:00.177845Z"
    }
   },
   "cell_type": "code",
   "source": [
    "# Merge back to the original df for start stations\n",
    "df_with_sizes = df_merged_copy.merge(\n",
    "    stations[['station_id', 'station_size']],\n",
    "    left_on='start_station_id',\n",
    "    right_on='station_id',\n",
    "    how='left'\n",
    ").rename(columns={'station_size': 'start_station_size'}).drop(columns=['station_id'])\n",
    "\n",
    "# Merge back again for end stations\n",
    "df_with_sizes = df_with_sizes.merge(\n",
    "    stations[['station_id', 'station_size']],\n",
    "    left_on='end_station_id',\n",
    "    right_on='station_id',\n",
    "    how='left'\n",
    ").rename(columns={'station_size': 'end_station_size'}).drop(columns=['station_id'])\n"
   ],
   "id": "98f0e0b5c8ad1729",
   "outputs": [],
   "execution_count": 264
  },
  {
   "metadata": {
    "ExecuteTime": {
     "end_time": "2025-06-19T16:24:00.193092Z",
     "start_time": "2025-06-19T16:24:00.189700Z"
    }
   },
   "cell_type": "code",
   "source": "df_with_sizes.shape",
   "id": "7e307576618ad7a2",
   "outputs": [
    {
     "data": {
      "text/plain": [
       "(97, 42)"
      ]
     },
     "execution_count": 265,
     "metadata": {},
     "output_type": "execute_result"
    }
   ],
   "execution_count": 265
  },
  {
   "metadata": {
    "ExecuteTime": {
     "end_time": "2025-06-19T16:24:00.206495Z",
     "start_time": "2025-06-19T16:24:00.202103Z"
    }
   },
   "cell_type": "code",
   "source": "df_merged_copy.columns",
   "id": "4cbd99b39ee46815",
   "outputs": [
    {
     "data": {
      "text/plain": [
       "Index(['ride_id', 'rideable_type', 'started_at', 'ended_at',\n",
       "       'start_station_name', 'start_station_id', 'end_station_name',\n",
       "       'end_station_id', 'member_casual', 'duration_min', 'geometry_start',\n",
       "       'geometry_end', 'Zone_start_zone_name', 'Zone_start_GIS_ID',\n",
       "       'Zone_start_OBJECTID', 'Zone_start_geometry', 'Zone_end_zone_name',\n",
       "       'Zone_end_GIS_ID', 'Zone_end_OBJECTID', 'Zone_end_geometry', 'date',\n",
       "       'Weather_temp', 'Weather_windspeedmean', 'Weather_sunrise',\n",
       "       'Weather_sunset', 'Weather_conditions', 'Bikeshare_NAME_start',\n",
       "       'Bikeshare_STATION_TYPE_start', 'Bikeshare_CAPACITY_start',\n",
       "       'Bikeshare_REGION_ID_start', 'Bikeshare_REGION_NAME_start',\n",
       "       'Bikeshare_geometry_start', 'Bikeshare_NAME_end',\n",
       "       'Bikeshare_STATION_TYPE_end', 'Bikeshare_CAPACITY_end',\n",
       "       'Bikeshare_REGION_ID_end', 'Bikeshare_REGION_NAME_end',\n",
       "       'Bikeshare_geometry_end', 'StartStation_NAME', 'EndStation_NAME'],\n",
       "      dtype='object')"
      ]
     },
     "execution_count": 266,
     "metadata": {},
     "output_type": "execute_result"
    }
   ],
   "execution_count": 266
  },
  {
   "metadata": {
    "ExecuteTime": {
     "end_time": "2025-06-19T16:24:00.213517Z",
     "start_time": "2025-06-19T16:24:00.207499Z"
    }
   },
   "cell_type": "code",
   "source": [
    "# First, remove the \"POINT (\" and \")\" parts, then split\n",
    "df_with_coords = pd.DataFrame(df_merged_copy)\n",
    "df_with_coords['start_longitude'] = df_with_coords['Bikeshare_geometry_start'].str.extract(r'POINT \\((-?\\d+\\.\\d+)')[0].astype(float)\n",
    "df_with_coords['start_latitude'] = df_with_coords['Bikeshare_geometry_start'].str.extract(r'POINT \\(-?\\d+\\.\\d+ (\\d+\\.\\d+)\\)')[0].astype(float)\n",
    "\n",
    "df_with_coords['end_longitude'] = df_with_coords['Bikeshare_geometry_end'].str.extract(r'POINT \\((-?\\d+\\.\\d+)')[0].astype(float)\n",
    "df_with_coords['end_latitude'] = df_with_coords['Bikeshare_geometry_end'].str.extract(r'POINT \\(-?\\d+\\.\\d+ (\\d+\\.\\d+)\\)')[0].astype(float)\n"
   ],
   "id": "8fab6ac7313d8879",
   "outputs": [],
   "execution_count": 267
  },
  {
   "metadata": {
    "ExecuteTime": {
     "end_time": "2025-06-19T16:24:00.227335Z",
     "start_time": "2025-06-19T16:24:00.214522Z"
    }
   },
   "cell_type": "code",
   "source": "df_with_coords.head()",
   "id": "4a2974ac2dfd54b9",
   "outputs": [
    {
     "data": {
      "text/plain": [
       "            ride_id  rideable_type           started_at             ended_at  \\\n",
       "0  748A93D7DE8A41CD   classic_bike  2024-01-25 15:49:59  2024-01-25 15:52:35   \n",
       "1  75CBFD136F06305B   classic_bike  2024-01-02 16:44:58  2024-01-02 16:53:25   \n",
       "2  0536C9720F87E04C   classic_bike  2024-01-24 15:40:15  2024-01-24 15:43:55   \n",
       "3  9E17390C218783B5   classic_bike  2024-01-04 15:35:00  2024-01-04 15:37:35   \n",
       "4  00727D0E773CDFF7  electric_bike  2024-01-05 12:27:58  2024-01-05 12:35:40   \n",
       "\n",
       "  start_station_name  start_station_id     end_station_name  end_station_id  \\\n",
       "0      1st & O St NW             31519        1st & L St NW         31677.0   \n",
       "1      1st & O St NW             31519  4th & College St NW         31138.0   \n",
       "2      1st & O St NW             31519        1st & L St NW         31677.0   \n",
       "3      1st & O St NW             31519        1st & L St NW         31677.0   \n",
       "4      1st & O St NW             31519       10th & G St NW         31274.0   \n",
       "\n",
       "  member_casual  duration_min  ... Bikeshare_CAPACITY_end  \\\n",
       "0        member      2.600000  ...                   19.0   \n",
       "1        member      8.450000  ...                   15.0   \n",
       "2        member      3.666667  ...                   19.0   \n",
       "3        member      2.583333  ...                   19.0   \n",
       "4        casual      7.700000  ...                   23.0   \n",
       "\n",
       "  Bikeshare_REGION_ID_end Bikeshare_REGION_NAME_end  \\\n",
       "0                    42.0                  DCA-CABI   \n",
       "1                    42.0                  DCA-CABI   \n",
       "2                    42.0                  DCA-CABI   \n",
       "3                    42.0                  DCA-CABI   \n",
       "4                    42.0                  DCA-CABI   \n",
       "\n",
       "         Bikeshare_geometry_end  StartStation_NAME      EndStation_NAME  \\\n",
       "0  POINT (-77.011987 38.903819)      1st & O St NW        1st & L St NW   \n",
       "1  POINT (-77.018135 38.921233)      1st & O St NW  4th & College St NW   \n",
       "2  POINT (-77.011987 38.903819)      1st & O St NW        1st & L St NW   \n",
       "3  POINT (-77.011987 38.903819)      1st & O St NW        1st & L St NW   \n",
       "4  POINT (-77.026235 38.898243)      1st & O St NW       10th & G St NW   \n",
       "\n",
       "  start_longitude start_latitude  end_longitude end_latitude  \n",
       "0      -77.012365      38.908643     -77.011987    38.903819  \n",
       "1      -77.012365      38.908643     -77.018135    38.921233  \n",
       "2      -77.012365      38.908643     -77.011987    38.903819  \n",
       "3      -77.012365      38.908643     -77.011987    38.903819  \n",
       "4      -77.012365      38.908643     -77.026235    38.898243  \n",
       "\n",
       "[5 rows x 44 columns]"
      ],
      "text/html": [
       "<div>\n",
       "<style scoped>\n",
       "    .dataframe tbody tr th:only-of-type {\n",
       "        vertical-align: middle;\n",
       "    }\n",
       "\n",
       "    .dataframe tbody tr th {\n",
       "        vertical-align: top;\n",
       "    }\n",
       "\n",
       "    .dataframe thead th {\n",
       "        text-align: right;\n",
       "    }\n",
       "</style>\n",
       "<table border=\"1\" class=\"dataframe\">\n",
       "  <thead>\n",
       "    <tr style=\"text-align: right;\">\n",
       "      <th></th>\n",
       "      <th>ride_id</th>\n",
       "      <th>rideable_type</th>\n",
       "      <th>started_at</th>\n",
       "      <th>ended_at</th>\n",
       "      <th>start_station_name</th>\n",
       "      <th>start_station_id</th>\n",
       "      <th>end_station_name</th>\n",
       "      <th>end_station_id</th>\n",
       "      <th>member_casual</th>\n",
       "      <th>duration_min</th>\n",
       "      <th>...</th>\n",
       "      <th>Bikeshare_CAPACITY_end</th>\n",
       "      <th>Bikeshare_REGION_ID_end</th>\n",
       "      <th>Bikeshare_REGION_NAME_end</th>\n",
       "      <th>Bikeshare_geometry_end</th>\n",
       "      <th>StartStation_NAME</th>\n",
       "      <th>EndStation_NAME</th>\n",
       "      <th>start_longitude</th>\n",
       "      <th>start_latitude</th>\n",
       "      <th>end_longitude</th>\n",
       "      <th>end_latitude</th>\n",
       "    </tr>\n",
       "  </thead>\n",
       "  <tbody>\n",
       "    <tr>\n",
       "      <th>0</th>\n",
       "      <td>748A93D7DE8A41CD</td>\n",
       "      <td>classic_bike</td>\n",
       "      <td>2024-01-25 15:49:59</td>\n",
       "      <td>2024-01-25 15:52:35</td>\n",
       "      <td>1st &amp; O St NW</td>\n",
       "      <td>31519</td>\n",
       "      <td>1st &amp; L St NW</td>\n",
       "      <td>31677.0</td>\n",
       "      <td>member</td>\n",
       "      <td>2.600000</td>\n",
       "      <td>...</td>\n",
       "      <td>19.0</td>\n",
       "      <td>42.0</td>\n",
       "      <td>DCA-CABI</td>\n",
       "      <td>POINT (-77.011987 38.903819)</td>\n",
       "      <td>1st &amp; O St NW</td>\n",
       "      <td>1st &amp; L St NW</td>\n",
       "      <td>-77.012365</td>\n",
       "      <td>38.908643</td>\n",
       "      <td>-77.011987</td>\n",
       "      <td>38.903819</td>\n",
       "    </tr>\n",
       "    <tr>\n",
       "      <th>1</th>\n",
       "      <td>75CBFD136F06305B</td>\n",
       "      <td>classic_bike</td>\n",
       "      <td>2024-01-02 16:44:58</td>\n",
       "      <td>2024-01-02 16:53:25</td>\n",
       "      <td>1st &amp; O St NW</td>\n",
       "      <td>31519</td>\n",
       "      <td>4th &amp; College St NW</td>\n",
       "      <td>31138.0</td>\n",
       "      <td>member</td>\n",
       "      <td>8.450000</td>\n",
       "      <td>...</td>\n",
       "      <td>15.0</td>\n",
       "      <td>42.0</td>\n",
       "      <td>DCA-CABI</td>\n",
       "      <td>POINT (-77.018135 38.921233)</td>\n",
       "      <td>1st &amp; O St NW</td>\n",
       "      <td>4th &amp; College St NW</td>\n",
       "      <td>-77.012365</td>\n",
       "      <td>38.908643</td>\n",
       "      <td>-77.018135</td>\n",
       "      <td>38.921233</td>\n",
       "    </tr>\n",
       "    <tr>\n",
       "      <th>2</th>\n",
       "      <td>0536C9720F87E04C</td>\n",
       "      <td>classic_bike</td>\n",
       "      <td>2024-01-24 15:40:15</td>\n",
       "      <td>2024-01-24 15:43:55</td>\n",
       "      <td>1st &amp; O St NW</td>\n",
       "      <td>31519</td>\n",
       "      <td>1st &amp; L St NW</td>\n",
       "      <td>31677.0</td>\n",
       "      <td>member</td>\n",
       "      <td>3.666667</td>\n",
       "      <td>...</td>\n",
       "      <td>19.0</td>\n",
       "      <td>42.0</td>\n",
       "      <td>DCA-CABI</td>\n",
       "      <td>POINT (-77.011987 38.903819)</td>\n",
       "      <td>1st &amp; O St NW</td>\n",
       "      <td>1st &amp; L St NW</td>\n",
       "      <td>-77.012365</td>\n",
       "      <td>38.908643</td>\n",
       "      <td>-77.011987</td>\n",
       "      <td>38.903819</td>\n",
       "    </tr>\n",
       "    <tr>\n",
       "      <th>3</th>\n",
       "      <td>9E17390C218783B5</td>\n",
       "      <td>classic_bike</td>\n",
       "      <td>2024-01-04 15:35:00</td>\n",
       "      <td>2024-01-04 15:37:35</td>\n",
       "      <td>1st &amp; O St NW</td>\n",
       "      <td>31519</td>\n",
       "      <td>1st &amp; L St NW</td>\n",
       "      <td>31677.0</td>\n",
       "      <td>member</td>\n",
       "      <td>2.583333</td>\n",
       "      <td>...</td>\n",
       "      <td>19.0</td>\n",
       "      <td>42.0</td>\n",
       "      <td>DCA-CABI</td>\n",
       "      <td>POINT (-77.011987 38.903819)</td>\n",
       "      <td>1st &amp; O St NW</td>\n",
       "      <td>1st &amp; L St NW</td>\n",
       "      <td>-77.012365</td>\n",
       "      <td>38.908643</td>\n",
       "      <td>-77.011987</td>\n",
       "      <td>38.903819</td>\n",
       "    </tr>\n",
       "    <tr>\n",
       "      <th>4</th>\n",
       "      <td>00727D0E773CDFF7</td>\n",
       "      <td>electric_bike</td>\n",
       "      <td>2024-01-05 12:27:58</td>\n",
       "      <td>2024-01-05 12:35:40</td>\n",
       "      <td>1st &amp; O St NW</td>\n",
       "      <td>31519</td>\n",
       "      <td>10th &amp; G St NW</td>\n",
       "      <td>31274.0</td>\n",
       "      <td>casual</td>\n",
       "      <td>7.700000</td>\n",
       "      <td>...</td>\n",
       "      <td>23.0</td>\n",
       "      <td>42.0</td>\n",
       "      <td>DCA-CABI</td>\n",
       "      <td>POINT (-77.026235 38.898243)</td>\n",
       "      <td>1st &amp; O St NW</td>\n",
       "      <td>10th &amp; G St NW</td>\n",
       "      <td>-77.012365</td>\n",
       "      <td>38.908643</td>\n",
       "      <td>-77.026235</td>\n",
       "      <td>38.898243</td>\n",
       "    </tr>\n",
       "  </tbody>\n",
       "</table>\n",
       "<p>5 rows × 44 columns</p>\n",
       "</div>"
      ]
     },
     "execution_count": 268,
     "metadata": {},
     "output_type": "execute_result"
    }
   ],
   "execution_count": 268
  },
  {
   "metadata": {
    "ExecuteTime": {
     "end_time": "2025-06-19T16:24:00.231574Z",
     "start_time": "2025-06-19T16:24:00.228342Z"
    }
   },
   "cell_type": "code",
   "source": [
    "def haversine_np(lat1, lon1, lat2, lon2):\n",
    "    R = 6371000\n",
    "    phi1 = np.radians(lat1)\n",
    "    phi2 = np.radians(lat2)\n",
    "    delta_phi = np.radians(lat2 - lat1)\n",
    "    delta_lambda = np.radians(lon2 - lon1)\n",
    "    \n",
    "    a = np.sin(delta_phi / 2.0)**2 + \\\n",
    "        np.cos(phi1) * np.cos(phi2) * np.sin(delta_lambda / 2.0)**2\n",
    "    c = 2 * np.arcsin(np.sqrt(a))\n",
    "    \n",
    "    return R * c"
   ],
   "id": "9fbc7d215575edc",
   "outputs": [],
   "execution_count": 269
  },
  {
   "metadata": {
    "ExecuteTime": {
     "end_time": "2025-06-19T16:24:00.240690Z",
     "start_time": "2025-06-19T16:24:00.236583Z"
    }
   },
   "cell_type": "code",
   "source": [
    "def distance_to_closest_mall(lat, lon):\n",
    "    if np.isnan(lat) or np.isnan(lon):\n",
    "        return np.nan\n",
    "    distances = haversine_np(lat, lon, shopping_centers[:, 0], shopping_centers[:, 1])\n",
    "    return np.min(distances)"
   ],
   "id": "aab470ab4bbc5d68",
   "outputs": [],
   "execution_count": 270
  },
  {
   "metadata": {
    "ExecuteTime": {
     "end_time": "2025-06-19T16:24:00.256109Z",
     "start_time": "2025-06-19T16:24:00.251704Z"
    }
   },
   "cell_type": "code",
   "source": [
    "shopping_centers = np.array([\n",
    "    [38.9009, -77.0260],   # CityCenterDC\n",
    "    [38.8971, -77.0064],   # Union Station\n",
    "    [38.9057, -77.0631],   # Georgetown Park\n",
    "    [38.8631, -77.0599],   # Pentagon City\n",
    "    [38.8765, -77.0316],   # The Wharf\n",
    "    [38.8741, -77.0028],   # Capitol Riverfront\n",
    "    [38.9613, -77.0840],   # Friendship Heights\n",
    "])"
   ],
   "id": "a20bcdf388a6981",
   "outputs": [],
   "execution_count": 271
  },
  {
   "metadata": {
    "ExecuteTime": {
     "end_time": "2025-06-19T16:24:00.267636Z",
     "start_time": "2025-06-19T16:24:00.257114Z"
    }
   },
   "cell_type": "code",
   "source": [
    "proximity = 300\n",
    "df_with_coords['start_near_any_mall'] = df_with_coords.apply(\n",
    "    lambda row: int(distance_to_closest_mall(row['start_latitude'], row['start_longitude']) <= proximity),\n",
    "    axis=1\n",
    ")\n",
    "\n",
    "df_with_coords['end_near_any_mall'] = df_with_coords.apply(\n",
    "    lambda row: int(distance_to_closest_mall(row['end_latitude'], row['end_longitude']) <= proximity),\n",
    "    axis=1\n",
    ")"
   ],
   "id": "19e23bd38c3a5aba",
   "outputs": [],
   "execution_count": 272
  },
  {
   "metadata": {
    "ExecuteTime": {
     "end_time": "2025-06-19T16:24:00.272812Z",
     "start_time": "2025-06-19T16:24:00.268810Z"
    }
   },
   "cell_type": "code",
   "source": [
    "def closest_mall_info(lat, lon):\n",
    "    if np.isnan(lat) or np.isnan(lon):\n",
    "        return (np.nan, np.nan)\n",
    "    distances = haversine_np(lat, lon, shopping_centers[:, 0], shopping_centers[:, 1])\n",
    "    idx = np.argmin(distances)\n",
    "    return distances[idx]"
   ],
   "id": "16082d939733dcdb",
   "outputs": [],
   "execution_count": 273
  },
  {
   "metadata": {
    "ExecuteTime": {
     "end_time": "2025-06-19T16:24:00.293118Z",
     "start_time": "2025-06-19T16:24:00.288867Z"
    }
   },
   "cell_type": "code",
   "source": [
    "count_of_ones = df_with_coords['start_near_any_mall'].eq(1).sum()\n",
    "\n",
    "print(f\"Number of 1s in '{'start_near_any_mall'}': {count_of_ones}\")\n",
    "\n",
    "count_of_ones = df_with_coords['end_near_any_mall'].eq(1).sum()\n",
    "\n",
    "print(f\"Number of 1s in '{'end_near_any_mall'}': {count_of_ones}\")"
   ],
   "id": "c86bdd903ddf397a",
   "outputs": [
    {
     "name": "stdout",
     "output_type": "stream",
     "text": [
      "Number of 1s in 'start_near_any_mall': 2\n",
      "Number of 1s in 'end_near_any_mall': 9\n"
     ]
    }
   ],
   "execution_count": 274
  },
  {
   "metadata": {
    "ExecuteTime": {
     "end_time": "2025-06-19T16:24:03.241916Z",
     "start_time": "2025-06-19T16:24:03.235503Z"
    }
   },
   "cell_type": "code",
   "source": [
    "df_with_coords['end_distance_to_closest_mall_m'] = df_with_coords.apply(\n",
    "    lambda row: distance_to_closest_mall(row['end_latitude'], row['end_longitude']),\n",
    "    axis=1\n",
    ")"
   ],
   "id": "f195c9f85cbf28cf",
   "outputs": [],
   "execution_count": 275
  },
  {
   "metadata": {
    "ExecuteTime": {
     "end_time": "2025-06-19T16:24:55.553963Z",
     "start_time": "2025-06-19T16:24:55.478538Z"
    }
   },
   "cell_type": "code",
   "source": "df_with_coords.to_csv('datasets/modified.csv', index=False)",
   "id": "21ca1f2afadfa296",
   "outputs": [],
   "execution_count": 278
  }
 ],
 "metadata": {
  "kernelspec": {
   "display_name": "Python 3",
   "language": "python",
   "name": "python3"
  },
  "language_info": {
   "codemirror_mode": {
    "name": "ipython",
    "version": 2
   },
   "file_extension": ".py",
   "mimetype": "text/x-python",
   "name": "python",
   "nbconvert_exporter": "python",
   "pygments_lexer": "ipython2",
   "version": "2.7.6"
  }
 },
 "nbformat": 4,
 "nbformat_minor": 5
}
