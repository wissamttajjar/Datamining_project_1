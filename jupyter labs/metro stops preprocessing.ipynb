{
 "cells": [
  {
   "cell_type": "code",
   "id": "initial_id",
   "metadata": {
    "collapsed": true,
    "ExecuteTime": {
     "end_time": "2025-06-21T15:31:04.073377Z",
     "start_time": "2025-06-21T15:31:04.069365Z"
    }
   },
   "source": [
    "import pandas as pd\n",
    "import os\n",
    "import numpy as np\n",
    "import pygeohash as pgh\n",
    "import plotly.express as px"
   ],
   "outputs": [],
   "execution_count": 421
  },
  {
   "metadata": {
    "ExecuteTime": {
     "end_time": "2025-06-21T15:31:04.181183Z",
     "start_time": "2025-06-21T15:31:04.176681Z"
    }
   },
   "cell_type": "code",
   "source": "os.chdir('C:/Users/wissam_T/Desktop/5th/2nd semester/dm/h.w 1/project')",
   "id": "8a6fea6166ba70dc",
   "outputs": [],
   "execution_count": 422
  },
  {
   "metadata": {
    "ExecuteTime": {
     "end_time": "2025-06-21T15:31:04.205882Z",
     "start_time": "2025-06-21T15:31:04.202711Z"
    }
   },
   "cell_type": "code",
   "source": "from project.functions import helper_functions as hf",
   "id": "24b44302f8f19049",
   "outputs": [],
   "execution_count": 423
  },
  {
   "metadata": {
    "ExecuteTime": {
     "end_time": "2025-06-21T15:31:04.247203Z",
     "start_time": "2025-06-21T15:31:04.216886Z"
    }
   },
   "cell_type": "code",
   "source": "df_merged = pd.read_csv('datasets/Merged_trips_with_stations.csv')",
   "id": "d6ad419eb005f3a5",
   "outputs": [],
   "execution_count": 424
  },
  {
   "metadata": {
    "ExecuteTime": {
     "end_time": "2025-06-21T15:31:04.252543Z",
     "start_time": "2025-06-21T15:31:04.248208Z"
    }
   },
   "cell_type": "code",
   "source": "df_merged.columns",
   "id": "7f58b6cf3cd36294",
   "outputs": [
    {
     "data": {
      "text/plain": [
       "Index(['ride_id', 'rideable_type', 'started_at', 'ended_at',\n",
       "       'start_station_name', 'start_station_id', 'end_station_name',\n",
       "       'end_station_id', 'member_casual', 'duration_min', 'geometry_start',\n",
       "       'geometry_end', 'Zone_start_zone_name', 'Zone_start_GIS_ID',\n",
       "       'Zone_start_OBJECTID', 'Zone_start_geometry', 'Zone_end_zone_name',\n",
       "       'Zone_end_GIS_ID', 'Zone_end_OBJECTID', 'Zone_end_geometry', 'date',\n",
       "       'Weather_temp', 'Weather_windspeedmean', 'Weather_sunrise',\n",
       "       'Weather_sunset', 'Weather_conditions', 'Bikeshare_NAME_start',\n",
       "       'Bikeshare_STATION_TYPE_start', 'Bikeshare_CAPACITY_start',\n",
       "       'Bikeshare_REGION_ID_start', 'Bikeshare_REGION_NAME_start',\n",
       "       'Bikeshare_geometry_start', 'Bikeshare_NAME_end',\n",
       "       'Bikeshare_STATION_TYPE_end', 'Bikeshare_CAPACITY_end',\n",
       "       'Bikeshare_REGION_ID_end', 'Bikeshare_REGION_NAME_end',\n",
       "       'Bikeshare_geometry_end', 'StartStation_NAME', 'EndStation_NAME'],\n",
       "      dtype='object')"
      ]
     },
     "execution_count": 425,
     "metadata": {},
     "output_type": "execute_result"
    }
   ],
   "execution_count": 425
  },
  {
   "metadata": {
    "ExecuteTime": {
     "end_time": "2025-06-21T15:31:04.263351Z",
     "start_time": "2025-06-21T15:31:04.258546Z"
    }
   },
   "cell_type": "code",
   "source": [
    "print(df_merged['Bikeshare_CAPACITY_start'].isna().sum())\n",
    "print(df_merged['Bikeshare_CAPACITY_end'].isna().sum())"
   ],
   "id": "e075889d408bac57",
   "outputs": [
    {
     "name": "stdout",
     "output_type": "stream",
     "text": [
      "0\n",
      "28\n"
     ]
    }
   ],
   "execution_count": 426
  },
  {
   "metadata": {
    "ExecuteTime": {
     "end_time": "2025-06-21T15:31:04.290299Z",
     "start_time": "2025-06-21T15:31:04.286109Z"
    }
   },
   "cell_type": "code",
   "source": "df_merged.shape",
   "id": "219ec4c6da4c2d0a",
   "outputs": [
    {
     "data": {
      "text/plain": [
       "(97, 40)"
      ]
     },
     "execution_count": 427,
     "metadata": {},
     "output_type": "execute_result"
    }
   ],
   "execution_count": 427
  },
  {
   "metadata": {
    "ExecuteTime": {
     "end_time": "2025-06-21T15:31:04.324647Z",
     "start_time": "2025-06-21T15:31:04.321773Z"
    }
   },
   "cell_type": "code",
   "source": "df_merged_copy = df_merged.copy()",
   "id": "23571f0543384bea",
   "outputs": [],
   "execution_count": 428
  },
  {
   "metadata": {
    "ExecuteTime": {
     "end_time": "2025-06-21T15:31:04.363756Z",
     "start_time": "2025-06-21T15:31:04.356674Z"
    }
   },
   "cell_type": "code",
   "source": [
    "# First, remove the \"POINT (\" and \")\" parts, then split\n",
    "df_modified = pd.DataFrame(df_merged_copy)\n",
    "df_modified['start_longitude'] = df_modified['Bikeshare_geometry_start'].str.extract(r'POINT \\((-?\\d+\\.\\d+)')[0].astype(float)\n",
    "df_modified['start_latitude'] = df_modified['Bikeshare_geometry_start'].str.extract(r'POINT \\(-?\\d+\\.\\d+ (\\d+\\.\\d+)\\)')[0].astype(float)\n",
    "\n",
    "df_modified['end_longitude'] = df_modified['Bikeshare_geometry_end'].str.extract(r'POINT \\((-?\\d+\\.\\d+)')[0].astype(float)\n",
    "df_modified['end_latitude'] = df_modified['Bikeshare_geometry_end'].str.extract(r'POINT \\(-?\\d+\\.\\d+ (\\d+\\.\\d+)\\)')[0].astype(float)\n"
   ],
   "id": "8d8ec7e74b5b0823",
   "outputs": [],
   "execution_count": 429
  },
  {
   "metadata": {
    "ExecuteTime": {
     "end_time": "2025-06-21T15:31:04.427993Z",
     "start_time": "2025-06-21T15:31:04.378766Z"
    }
   },
   "cell_type": "code",
   "source": [
    "df_modified['rounded_start_lat'] = df_modified['start_latitude'].round(5)\n",
    "df_modified['rounded_start_lon'] = df_modified['start_longitude'].round(5)\n",
    "\n",
    "ref_from_start = df_modified[\n",
    "    df_modified['end_station_name'].notna() &\n",
    "    df_modified['start_latitude'].notna() &\n",
    "    df_modified['start_longitude'].notna()\n",
    "    ][\n",
    "    ['rounded_start_lat', 'rounded_start_lon', \n",
    "     'end_station_name', 'end_station_id',\n",
    "     'end_latitude', 'end_longitude',\n",
    "     'Bikeshare_NAME_end', 'Bikeshare_STATION_TYPE_end',\n",
    "     'Bikeshare_CAPACITY_end', 'Bikeshare_REGION_ID_end',\n",
    "     'Bikeshare_REGION_NAME_end', 'Bikeshare_geometry_end',\n",
    "     'Zone_end_zone_name', 'Zone_end_GIS_ID',\n",
    "     'Zone_end_OBJECTID', 'Zone_end_geometry',\n",
    "     'EndStation_NAME']\n",
    "].drop_duplicates(subset=['rounded_start_lat', 'rounded_start_lon'])\n",
    "\n",
    "ref_from_start.set_index(['rounded_start_lat', 'rounded_start_lon'], inplace=True)\n",
    "\n",
    "end_cols_to_fill = [\n",
    "    'end_station_name', 'end_station_id',\n",
    "    'end_latitude', 'end_longitude',\n",
    "    'Bikeshare_NAME_end', 'Bikeshare_STATION_TYPE_end',\n",
    "    'Bikeshare_CAPACITY_end', 'Bikeshare_REGION_ID_end',\n",
    "    'Bikeshare_REGION_NAME_end', 'Bikeshare_geometry_end',\n",
    "    'Zone_end_zone_name', 'Zone_end_GIS_ID',\n",
    "    'Zone_end_OBJECTID', 'Zone_end_geometry',\n",
    "    'EndStation_NAME'\n",
    "]\n",
    "\n",
    "for col in end_cols_to_fill:\n",
    "    df_modified[col] = df_modified.apply(lambda row: hf.fill_from_start_coords(row, col, ref_from_start), axis=1)\n",
    "\n",
    "df_modified.drop(columns=['rounded_start_lat', 'rounded_start_lon'], inplace=True)\n",
    "\n"
   ],
   "id": "acffbc18ac4bd5bc",
   "outputs": [],
   "execution_count": 430
  },
  {
   "metadata": {
    "ExecuteTime": {
     "end_time": "2025-06-21T15:31:04.432042Z",
     "start_time": "2025-06-21T15:31:04.429010Z"
    }
   },
   "cell_type": "code",
   "source": [
    "def assign_size_category(cap):\n",
    "    if cap <= low_threshold:\n",
    "        return 'Small'\n",
    "    elif cap <= high_threshold:\n",
    "        return 'Medium'\n",
    "    else:\n",
    "        return 'Large'"
   ],
   "id": "a50b292f97a01cb6",
   "outputs": [],
   "execution_count": 431
  },
  {
   "metadata": {
    "ExecuteTime": {
     "end_time": "2025-06-21T15:31:04.449307Z",
     "start_time": "2025-06-21T15:31:04.433052Z"
    }
   },
   "cell_type": "code",
   "source": [
    "start_stations = df_merged[['start_station_id', 'Bikeshare_CAPACITY_start']].rename(\n",
    "    columns={'start_station_id': 'station_id', 'Bikeshare_CAPACITY_start': 'capacity'}\n",
    ")\n",
    "\n",
    "end_stations = df_merged[['end_station_id', 'Bikeshare_CAPACITY_end']].rename(\n",
    "    columns={'end_station_id': 'station_id', 'Bikeshare_CAPACITY_end': 'capacity'}\n",
    ")\n",
    "\n",
    "# Combine both into one list of stations\n",
    "stations = pd.concat([start_stations, end_stations])\n",
    "\n",
    "# Remove nulls and duplicates (in case some stations appear twice)\n",
    "stations = stations.dropna(subset=['capacity'])\n",
    "stations = stations.drop_duplicates(subset='station_id')\n",
    "stations['station_size'] = stations['capacity'].apply(assign_size_category)\n",
    "\n",
    "df_modified = df_modified.drop(columns=['start_station_size', 'end_station_size'], errors='ignore')\n",
    "\n",
    "low_threshold = np.percentile(stations['capacity'], 33)\n",
    "high_threshold = np.percentile(stations['capacity'], 66)\n",
    "\n",
    "# Step 4: Apply the function to create the new column\n",
    "stations['station_size'] = stations['capacity'].apply(assign_size_category)\n",
    "\n",
    "df_modified = df_modified.merge(\n",
    "    stations[['station_id', 'station_size']],\n",
    "    left_on='start_station_id',\n",
    "    right_on='station_id',\n",
    "    how='left'\n",
    ").rename(columns={'station_size': 'start_station_size'}).drop(columns=['station_id'])\n",
    "\n",
    "# Merge end station sizes\n",
    "df_modified = df_modified.merge(\n",
    "    stations[['station_id', 'station_size']],\n",
    "    left_on='end_station_id',\n",
    "    right_on='station_id',\n",
    "    how='left'\n",
    ").rename(columns={'station_size': 'end_station_size'}).drop(columns=['station_id'])\n",
    "\n",
    "\n",
    "# Now `stations` has: station_id, capacity, and station_size\n",
    "print(stations.head())\n",
    "\n"
   ],
   "id": "48656885bffb7daf",
   "outputs": [
    {
     "name": "stdout",
     "output_type": "stream",
     "text": [
      "    station_id  capacity station_size\n",
      "0      31519.0      15.0        Small\n",
      "7      31651.0      19.0       Medium\n",
      "9      31939.0      17.0       Medium\n",
      "10     30200.0      27.0        Large\n",
      "11     32265.0      12.0        Small\n"
     ]
    }
   ],
   "execution_count": 432
  },
  {
   "metadata": {
    "ExecuteTime": {
     "end_time": "2025-06-21T15:31:04.456994Z",
     "start_time": "2025-06-21T15:31:04.452836Z"
    }
   },
   "cell_type": "code",
   "source": [
    "stations.dropna(subset=['capacity'], inplace=True)\n",
    "stations = stations.drop_duplicates(subset='station_id')"
   ],
   "id": "42c0d00b897fc19c",
   "outputs": [],
   "execution_count": 433
  },
  {
   "metadata": {
    "ExecuteTime": {
     "end_time": "2025-06-21T15:31:04.480181Z",
     "start_time": "2025-06-21T15:31:04.476169Z"
    }
   },
   "cell_type": "code",
   "source": "df_modified.shape",
   "id": "7e307576618ad7a2",
   "outputs": [
    {
     "data": {
      "text/plain": [
       "(97, 46)"
      ]
     },
     "execution_count": 434,
     "metadata": {},
     "output_type": "execute_result"
    }
   ],
   "execution_count": 434
  },
  {
   "metadata": {
    "ExecuteTime": {
     "end_time": "2025-06-21T15:31:04.540815Z",
     "start_time": "2025-06-21T15:31:04.525777Z"
    }
   },
   "cell_type": "code",
   "source": "df_modified",
   "id": "4cbd99b39ee46815",
   "outputs": [
    {
     "data": {
      "text/plain": [
       "             ride_id  rideable_type           started_at             ended_at  \\\n",
       "0   748A93D7DE8A41CD   classic_bike  2024-01-25 15:49:59  2024-01-25 15:52:35   \n",
       "1   75CBFD136F06305B   classic_bike  2024-01-02 16:44:58  2024-01-02 16:53:25   \n",
       "2   0536C9720F87E04C   classic_bike  2024-01-24 15:40:15  2024-01-24 15:43:55   \n",
       "3   9E17390C218783B5   classic_bike  2024-01-04 15:35:00  2024-01-04 15:37:35   \n",
       "4   00727D0E773CDFF7  electric_bike  2024-01-05 12:27:58  2024-01-05 12:35:40   \n",
       "..               ...            ...                  ...                  ...   \n",
       "92  7F6EB9E56D972AD2   classic_bike  2024-01-05 22:58:07  2024-01-05 23:04:08   \n",
       "93  C6FF417383F01E06   classic_bike  2024-01-13 12:45:26  2024-01-13 12:51:39   \n",
       "94  8DD20FEDB618CE47   classic_bike  2024-01-08 19:11:35  2024-01-08 19:15:42   \n",
       "95  03A98F39C412ACD9   classic_bike  2024-01-02 17:11:18  2024-01-02 17:23:10   \n",
       "96  D0B068C458A2A5A7   classic_bike  2024-01-01 13:58:05  2024-01-01 14:05:49   \n",
       "\n",
       "      start_station_name  start_station_id  \\\n",
       "0          1st & O St NW             31519   \n",
       "1          1st & O St NW             31519   \n",
       "2          1st & O St NW             31519   \n",
       "3          1st & O St NW             31519   \n",
       "4          1st & O St NW             31519   \n",
       "..                   ...               ...   \n",
       "92         1st & O St NW             31519   \n",
       "93  Alabama & MLK Ave SE             31800   \n",
       "94         1st & O St NW             31519   \n",
       "95     11th & Park Rd NW             31651   \n",
       "96     11th & Park Rd NW             31651   \n",
       "\n",
       "                                     end_station_name  end_station_id  \\\n",
       "0                                       1st & L St NW         31677.0   \n",
       "1                                 4th & College St NW         31138.0   \n",
       "2                                       1st & L St NW         31677.0   \n",
       "3                                       1st & L St NW         31677.0   \n",
       "4                                      10th & G St NW         31274.0   \n",
       "..                                                ...             ...   \n",
       "92                                     11th & O St NW         31286.0   \n",
       "93  Alabama Ave & Stanton Rd SE / Shops at Park Vi...         31813.0   \n",
       "94                                     11th & O St NW         31286.0   \n",
       "95                                     11th & O St NW         31286.0   \n",
       "96                                     11th & O St NW         31286.0   \n",
       "\n",
       "   member_casual  duration_min  ... Bikeshare_REGION_NAME_end  \\\n",
       "0         member      2.600000  ...                  DCA-CABI   \n",
       "1         member      8.450000  ...                  DCA-CABI   \n",
       "2         member      3.666667  ...                  DCA-CABI   \n",
       "3         member      2.583333  ...                  DCA-CABI   \n",
       "4         casual      7.700000  ...                  DCA-CABI   \n",
       "..           ...           ...  ...                       ...   \n",
       "92        member      6.016667  ...                  DCA-CABI   \n",
       "93        casual      6.216667  ...                  DCA-CABI   \n",
       "94        member      4.116667  ...                  DCA-CABI   \n",
       "95        casual     11.866667  ...                  DCA-CABI   \n",
       "96        member      7.733333  ...                  DCA-CABI   \n",
       "\n",
       "          Bikeshare_geometry_end     StartStation_NAME  \\\n",
       "0   POINT (-77.011987 38.903819)         1st & O St NW   \n",
       "1   POINT (-77.018135 38.921233)         1st & O St NW   \n",
       "2   POINT (-77.011987 38.903819)         1st & O St NW   \n",
       "3   POINT (-77.011987 38.903819)         1st & O St NW   \n",
       "4   POINT (-77.026235 38.898243)         1st & O St NW   \n",
       "..                           ...                   ...   \n",
       "92  POINT (-77.027088 38.908431)         1st & O St NW   \n",
       "93    POINT (-76.98185 38.84627)  Alabama & MLK Ave SE   \n",
       "94  POINT (-77.027088 38.908431)         1st & O St NW   \n",
       "95  POINT (-77.027088 38.908431)     11th & Park Rd NW   \n",
       "96  POINT (-77.027088 38.908431)     11th & Park Rd NW   \n",
       "\n",
       "                                      EndStation_NAME  start_longitude  \\\n",
       "0                                       1st & L St NW       -77.012365   \n",
       "1                                 4th & College St NW       -77.012365   \n",
       "2                                       1st & L St NW       -77.012365   \n",
       "3                                       1st & L St NW       -77.012365   \n",
       "4                                      10th & G St NW       -77.012365   \n",
       "..                                                ...              ...   \n",
       "92                                     11th & O St NW       -77.012365   \n",
       "93  Alabama Ave & Stanton Rd SE / Shops at Park Vi...       -76.999376   \n",
       "94                                     11th & O St NW       -77.012365   \n",
       "95                                     11th & O St NW       -77.028247   \n",
       "96                                     11th & O St NW       -77.028247   \n",
       "\n",
       "   start_latitude end_longitude end_latitude  start_station_size  \\\n",
       "0       38.908643    -77.011987    38.903819               Small   \n",
       "1       38.908643    -77.018135    38.921233               Small   \n",
       "2       38.908643    -77.011987    38.903819               Small   \n",
       "3       38.908643    -77.011987    38.903819               Small   \n",
       "4       38.908643    -77.026235    38.898243               Small   \n",
       "..            ...           ...          ...                 ...   \n",
       "92      38.908643    -77.027088    38.908431               Small   \n",
       "93      38.843230    -76.981850    38.846270               Small   \n",
       "94      38.908643    -77.027088    38.908431               Small   \n",
       "95      38.931322    -77.027088    38.908431              Medium   \n",
       "96      38.931322    -77.027088    38.908431              Medium   \n",
       "\n",
       "   end_station_size  \n",
       "0            Medium  \n",
       "1             Small  \n",
       "2            Medium  \n",
       "3            Medium  \n",
       "4             Large  \n",
       "..              ...  \n",
       "92            Large  \n",
       "93           Medium  \n",
       "94            Large  \n",
       "95            Large  \n",
       "96            Large  \n",
       "\n",
       "[97 rows x 46 columns]"
      ],
      "text/html": [
       "<div>\n",
       "<style scoped>\n",
       "    .dataframe tbody tr th:only-of-type {\n",
       "        vertical-align: middle;\n",
       "    }\n",
       "\n",
       "    .dataframe tbody tr th {\n",
       "        vertical-align: top;\n",
       "    }\n",
       "\n",
       "    .dataframe thead th {\n",
       "        text-align: right;\n",
       "    }\n",
       "</style>\n",
       "<table border=\"1\" class=\"dataframe\">\n",
       "  <thead>\n",
       "    <tr style=\"text-align: right;\">\n",
       "      <th></th>\n",
       "      <th>ride_id</th>\n",
       "      <th>rideable_type</th>\n",
       "      <th>started_at</th>\n",
       "      <th>ended_at</th>\n",
       "      <th>start_station_name</th>\n",
       "      <th>start_station_id</th>\n",
       "      <th>end_station_name</th>\n",
       "      <th>end_station_id</th>\n",
       "      <th>member_casual</th>\n",
       "      <th>duration_min</th>\n",
       "      <th>...</th>\n",
       "      <th>Bikeshare_REGION_NAME_end</th>\n",
       "      <th>Bikeshare_geometry_end</th>\n",
       "      <th>StartStation_NAME</th>\n",
       "      <th>EndStation_NAME</th>\n",
       "      <th>start_longitude</th>\n",
       "      <th>start_latitude</th>\n",
       "      <th>end_longitude</th>\n",
       "      <th>end_latitude</th>\n",
       "      <th>start_station_size</th>\n",
       "      <th>end_station_size</th>\n",
       "    </tr>\n",
       "  </thead>\n",
       "  <tbody>\n",
       "    <tr>\n",
       "      <th>0</th>\n",
       "      <td>748A93D7DE8A41CD</td>\n",
       "      <td>classic_bike</td>\n",
       "      <td>2024-01-25 15:49:59</td>\n",
       "      <td>2024-01-25 15:52:35</td>\n",
       "      <td>1st &amp; O St NW</td>\n",
       "      <td>31519</td>\n",
       "      <td>1st &amp; L St NW</td>\n",
       "      <td>31677.0</td>\n",
       "      <td>member</td>\n",
       "      <td>2.600000</td>\n",
       "      <td>...</td>\n",
       "      <td>DCA-CABI</td>\n",
       "      <td>POINT (-77.011987 38.903819)</td>\n",
       "      <td>1st &amp; O St NW</td>\n",
       "      <td>1st &amp; L St NW</td>\n",
       "      <td>-77.012365</td>\n",
       "      <td>38.908643</td>\n",
       "      <td>-77.011987</td>\n",
       "      <td>38.903819</td>\n",
       "      <td>Small</td>\n",
       "      <td>Medium</td>\n",
       "    </tr>\n",
       "    <tr>\n",
       "      <th>1</th>\n",
       "      <td>75CBFD136F06305B</td>\n",
       "      <td>classic_bike</td>\n",
       "      <td>2024-01-02 16:44:58</td>\n",
       "      <td>2024-01-02 16:53:25</td>\n",
       "      <td>1st &amp; O St NW</td>\n",
       "      <td>31519</td>\n",
       "      <td>4th &amp; College St NW</td>\n",
       "      <td>31138.0</td>\n",
       "      <td>member</td>\n",
       "      <td>8.450000</td>\n",
       "      <td>...</td>\n",
       "      <td>DCA-CABI</td>\n",
       "      <td>POINT (-77.018135 38.921233)</td>\n",
       "      <td>1st &amp; O St NW</td>\n",
       "      <td>4th &amp; College St NW</td>\n",
       "      <td>-77.012365</td>\n",
       "      <td>38.908643</td>\n",
       "      <td>-77.018135</td>\n",
       "      <td>38.921233</td>\n",
       "      <td>Small</td>\n",
       "      <td>Small</td>\n",
       "    </tr>\n",
       "    <tr>\n",
       "      <th>2</th>\n",
       "      <td>0536C9720F87E04C</td>\n",
       "      <td>classic_bike</td>\n",
       "      <td>2024-01-24 15:40:15</td>\n",
       "      <td>2024-01-24 15:43:55</td>\n",
       "      <td>1st &amp; O St NW</td>\n",
       "      <td>31519</td>\n",
       "      <td>1st &amp; L St NW</td>\n",
       "      <td>31677.0</td>\n",
       "      <td>member</td>\n",
       "      <td>3.666667</td>\n",
       "      <td>...</td>\n",
       "      <td>DCA-CABI</td>\n",
       "      <td>POINT (-77.011987 38.903819)</td>\n",
       "      <td>1st &amp; O St NW</td>\n",
       "      <td>1st &amp; L St NW</td>\n",
       "      <td>-77.012365</td>\n",
       "      <td>38.908643</td>\n",
       "      <td>-77.011987</td>\n",
       "      <td>38.903819</td>\n",
       "      <td>Small</td>\n",
       "      <td>Medium</td>\n",
       "    </tr>\n",
       "    <tr>\n",
       "      <th>3</th>\n",
       "      <td>9E17390C218783B5</td>\n",
       "      <td>classic_bike</td>\n",
       "      <td>2024-01-04 15:35:00</td>\n",
       "      <td>2024-01-04 15:37:35</td>\n",
       "      <td>1st &amp; O St NW</td>\n",
       "      <td>31519</td>\n",
       "      <td>1st &amp; L St NW</td>\n",
       "      <td>31677.0</td>\n",
       "      <td>member</td>\n",
       "      <td>2.583333</td>\n",
       "      <td>...</td>\n",
       "      <td>DCA-CABI</td>\n",
       "      <td>POINT (-77.011987 38.903819)</td>\n",
       "      <td>1st &amp; O St NW</td>\n",
       "      <td>1st &amp; L St NW</td>\n",
       "      <td>-77.012365</td>\n",
       "      <td>38.908643</td>\n",
       "      <td>-77.011987</td>\n",
       "      <td>38.903819</td>\n",
       "      <td>Small</td>\n",
       "      <td>Medium</td>\n",
       "    </tr>\n",
       "    <tr>\n",
       "      <th>4</th>\n",
       "      <td>00727D0E773CDFF7</td>\n",
       "      <td>electric_bike</td>\n",
       "      <td>2024-01-05 12:27:58</td>\n",
       "      <td>2024-01-05 12:35:40</td>\n",
       "      <td>1st &amp; O St NW</td>\n",
       "      <td>31519</td>\n",
       "      <td>10th &amp; G St NW</td>\n",
       "      <td>31274.0</td>\n",
       "      <td>casual</td>\n",
       "      <td>7.700000</td>\n",
       "      <td>...</td>\n",
       "      <td>DCA-CABI</td>\n",
       "      <td>POINT (-77.026235 38.898243)</td>\n",
       "      <td>1st &amp; O St NW</td>\n",
       "      <td>10th &amp; G St NW</td>\n",
       "      <td>-77.012365</td>\n",
       "      <td>38.908643</td>\n",
       "      <td>-77.026235</td>\n",
       "      <td>38.898243</td>\n",
       "      <td>Small</td>\n",
       "      <td>Large</td>\n",
       "    </tr>\n",
       "    <tr>\n",
       "      <th>...</th>\n",
       "      <td>...</td>\n",
       "      <td>...</td>\n",
       "      <td>...</td>\n",
       "      <td>...</td>\n",
       "      <td>...</td>\n",
       "      <td>...</td>\n",
       "      <td>...</td>\n",
       "      <td>...</td>\n",
       "      <td>...</td>\n",
       "      <td>...</td>\n",
       "      <td>...</td>\n",
       "      <td>...</td>\n",
       "      <td>...</td>\n",
       "      <td>...</td>\n",
       "      <td>...</td>\n",
       "      <td>...</td>\n",
       "      <td>...</td>\n",
       "      <td>...</td>\n",
       "      <td>...</td>\n",
       "      <td>...</td>\n",
       "      <td>...</td>\n",
       "    </tr>\n",
       "    <tr>\n",
       "      <th>92</th>\n",
       "      <td>7F6EB9E56D972AD2</td>\n",
       "      <td>classic_bike</td>\n",
       "      <td>2024-01-05 22:58:07</td>\n",
       "      <td>2024-01-05 23:04:08</td>\n",
       "      <td>1st &amp; O St NW</td>\n",
       "      <td>31519</td>\n",
       "      <td>11th &amp; O St NW</td>\n",
       "      <td>31286.0</td>\n",
       "      <td>member</td>\n",
       "      <td>6.016667</td>\n",
       "      <td>...</td>\n",
       "      <td>DCA-CABI</td>\n",
       "      <td>POINT (-77.027088 38.908431)</td>\n",
       "      <td>1st &amp; O St NW</td>\n",
       "      <td>11th &amp; O St NW</td>\n",
       "      <td>-77.012365</td>\n",
       "      <td>38.908643</td>\n",
       "      <td>-77.027088</td>\n",
       "      <td>38.908431</td>\n",
       "      <td>Small</td>\n",
       "      <td>Large</td>\n",
       "    </tr>\n",
       "    <tr>\n",
       "      <th>93</th>\n",
       "      <td>C6FF417383F01E06</td>\n",
       "      <td>classic_bike</td>\n",
       "      <td>2024-01-13 12:45:26</td>\n",
       "      <td>2024-01-13 12:51:39</td>\n",
       "      <td>Alabama &amp; MLK Ave SE</td>\n",
       "      <td>31800</td>\n",
       "      <td>Alabama Ave &amp; Stanton Rd SE / Shops at Park Vi...</td>\n",
       "      <td>31813.0</td>\n",
       "      <td>casual</td>\n",
       "      <td>6.216667</td>\n",
       "      <td>...</td>\n",
       "      <td>DCA-CABI</td>\n",
       "      <td>POINT (-76.98185 38.84627)</td>\n",
       "      <td>Alabama &amp; MLK Ave SE</td>\n",
       "      <td>Alabama Ave &amp; Stanton Rd SE / Shops at Park Vi...</td>\n",
       "      <td>-76.999376</td>\n",
       "      <td>38.843230</td>\n",
       "      <td>-76.981850</td>\n",
       "      <td>38.846270</td>\n",
       "      <td>Small</td>\n",
       "      <td>Medium</td>\n",
       "    </tr>\n",
       "    <tr>\n",
       "      <th>94</th>\n",
       "      <td>8DD20FEDB618CE47</td>\n",
       "      <td>classic_bike</td>\n",
       "      <td>2024-01-08 19:11:35</td>\n",
       "      <td>2024-01-08 19:15:42</td>\n",
       "      <td>1st &amp; O St NW</td>\n",
       "      <td>31519</td>\n",
       "      <td>11th &amp; O St NW</td>\n",
       "      <td>31286.0</td>\n",
       "      <td>member</td>\n",
       "      <td>4.116667</td>\n",
       "      <td>...</td>\n",
       "      <td>DCA-CABI</td>\n",
       "      <td>POINT (-77.027088 38.908431)</td>\n",
       "      <td>1st &amp; O St NW</td>\n",
       "      <td>11th &amp; O St NW</td>\n",
       "      <td>-77.012365</td>\n",
       "      <td>38.908643</td>\n",
       "      <td>-77.027088</td>\n",
       "      <td>38.908431</td>\n",
       "      <td>Small</td>\n",
       "      <td>Large</td>\n",
       "    </tr>\n",
       "    <tr>\n",
       "      <th>95</th>\n",
       "      <td>03A98F39C412ACD9</td>\n",
       "      <td>classic_bike</td>\n",
       "      <td>2024-01-02 17:11:18</td>\n",
       "      <td>2024-01-02 17:23:10</td>\n",
       "      <td>11th &amp; Park Rd NW</td>\n",
       "      <td>31651</td>\n",
       "      <td>11th &amp; O St NW</td>\n",
       "      <td>31286.0</td>\n",
       "      <td>casual</td>\n",
       "      <td>11.866667</td>\n",
       "      <td>...</td>\n",
       "      <td>DCA-CABI</td>\n",
       "      <td>POINT (-77.027088 38.908431)</td>\n",
       "      <td>11th &amp; Park Rd NW</td>\n",
       "      <td>11th &amp; O St NW</td>\n",
       "      <td>-77.028247</td>\n",
       "      <td>38.931322</td>\n",
       "      <td>-77.027088</td>\n",
       "      <td>38.908431</td>\n",
       "      <td>Medium</td>\n",
       "      <td>Large</td>\n",
       "    </tr>\n",
       "    <tr>\n",
       "      <th>96</th>\n",
       "      <td>D0B068C458A2A5A7</td>\n",
       "      <td>classic_bike</td>\n",
       "      <td>2024-01-01 13:58:05</td>\n",
       "      <td>2024-01-01 14:05:49</td>\n",
       "      <td>11th &amp; Park Rd NW</td>\n",
       "      <td>31651</td>\n",
       "      <td>11th &amp; O St NW</td>\n",
       "      <td>31286.0</td>\n",
       "      <td>member</td>\n",
       "      <td>7.733333</td>\n",
       "      <td>...</td>\n",
       "      <td>DCA-CABI</td>\n",
       "      <td>POINT (-77.027088 38.908431)</td>\n",
       "      <td>11th &amp; Park Rd NW</td>\n",
       "      <td>11th &amp; O St NW</td>\n",
       "      <td>-77.028247</td>\n",
       "      <td>38.931322</td>\n",
       "      <td>-77.027088</td>\n",
       "      <td>38.908431</td>\n",
       "      <td>Medium</td>\n",
       "      <td>Large</td>\n",
       "    </tr>\n",
       "  </tbody>\n",
       "</table>\n",
       "<p>97 rows × 46 columns</p>\n",
       "</div>"
      ]
     },
     "execution_count": 435,
     "metadata": {},
     "output_type": "execute_result"
    }
   ],
   "execution_count": 435
  },
  {
   "metadata": {
    "ExecuteTime": {
     "end_time": "2025-06-21T15:31:04.557776Z",
     "start_time": "2025-06-21T15:31:04.544832Z"
    }
   },
   "cell_type": "code",
   "source": "df_modified.head()",
   "id": "4a2974ac2dfd54b9",
   "outputs": [
    {
     "data": {
      "text/plain": [
       "            ride_id  rideable_type           started_at             ended_at  \\\n",
       "0  748A93D7DE8A41CD   classic_bike  2024-01-25 15:49:59  2024-01-25 15:52:35   \n",
       "1  75CBFD136F06305B   classic_bike  2024-01-02 16:44:58  2024-01-02 16:53:25   \n",
       "2  0536C9720F87E04C   classic_bike  2024-01-24 15:40:15  2024-01-24 15:43:55   \n",
       "3  9E17390C218783B5   classic_bike  2024-01-04 15:35:00  2024-01-04 15:37:35   \n",
       "4  00727D0E773CDFF7  electric_bike  2024-01-05 12:27:58  2024-01-05 12:35:40   \n",
       "\n",
       "  start_station_name  start_station_id     end_station_name  end_station_id  \\\n",
       "0      1st & O St NW             31519        1st & L St NW         31677.0   \n",
       "1      1st & O St NW             31519  4th & College St NW         31138.0   \n",
       "2      1st & O St NW             31519        1st & L St NW         31677.0   \n",
       "3      1st & O St NW             31519        1st & L St NW         31677.0   \n",
       "4      1st & O St NW             31519       10th & G St NW         31274.0   \n",
       "\n",
       "  member_casual  duration_min  ... Bikeshare_REGION_NAME_end  \\\n",
       "0        member      2.600000  ...                  DCA-CABI   \n",
       "1        member      8.450000  ...                  DCA-CABI   \n",
       "2        member      3.666667  ...                  DCA-CABI   \n",
       "3        member      2.583333  ...                  DCA-CABI   \n",
       "4        casual      7.700000  ...                  DCA-CABI   \n",
       "\n",
       "         Bikeshare_geometry_end StartStation_NAME      EndStation_NAME  \\\n",
       "0  POINT (-77.011987 38.903819)     1st & O St NW        1st & L St NW   \n",
       "1  POINT (-77.018135 38.921233)     1st & O St NW  4th & College St NW   \n",
       "2  POINT (-77.011987 38.903819)     1st & O St NW        1st & L St NW   \n",
       "3  POINT (-77.011987 38.903819)     1st & O St NW        1st & L St NW   \n",
       "4  POINT (-77.026235 38.898243)     1st & O St NW       10th & G St NW   \n",
       "\n",
       "   start_longitude start_latitude end_longitude end_latitude  \\\n",
       "0       -77.012365      38.908643    -77.011987    38.903819   \n",
       "1       -77.012365      38.908643    -77.018135    38.921233   \n",
       "2       -77.012365      38.908643    -77.011987    38.903819   \n",
       "3       -77.012365      38.908643    -77.011987    38.903819   \n",
       "4       -77.012365      38.908643    -77.026235    38.898243   \n",
       "\n",
       "   start_station_size end_station_size  \n",
       "0               Small           Medium  \n",
       "1               Small            Small  \n",
       "2               Small           Medium  \n",
       "3               Small           Medium  \n",
       "4               Small            Large  \n",
       "\n",
       "[5 rows x 46 columns]"
      ],
      "text/html": [
       "<div>\n",
       "<style scoped>\n",
       "    .dataframe tbody tr th:only-of-type {\n",
       "        vertical-align: middle;\n",
       "    }\n",
       "\n",
       "    .dataframe tbody tr th {\n",
       "        vertical-align: top;\n",
       "    }\n",
       "\n",
       "    .dataframe thead th {\n",
       "        text-align: right;\n",
       "    }\n",
       "</style>\n",
       "<table border=\"1\" class=\"dataframe\">\n",
       "  <thead>\n",
       "    <tr style=\"text-align: right;\">\n",
       "      <th></th>\n",
       "      <th>ride_id</th>\n",
       "      <th>rideable_type</th>\n",
       "      <th>started_at</th>\n",
       "      <th>ended_at</th>\n",
       "      <th>start_station_name</th>\n",
       "      <th>start_station_id</th>\n",
       "      <th>end_station_name</th>\n",
       "      <th>end_station_id</th>\n",
       "      <th>member_casual</th>\n",
       "      <th>duration_min</th>\n",
       "      <th>...</th>\n",
       "      <th>Bikeshare_REGION_NAME_end</th>\n",
       "      <th>Bikeshare_geometry_end</th>\n",
       "      <th>StartStation_NAME</th>\n",
       "      <th>EndStation_NAME</th>\n",
       "      <th>start_longitude</th>\n",
       "      <th>start_latitude</th>\n",
       "      <th>end_longitude</th>\n",
       "      <th>end_latitude</th>\n",
       "      <th>start_station_size</th>\n",
       "      <th>end_station_size</th>\n",
       "    </tr>\n",
       "  </thead>\n",
       "  <tbody>\n",
       "    <tr>\n",
       "      <th>0</th>\n",
       "      <td>748A93D7DE8A41CD</td>\n",
       "      <td>classic_bike</td>\n",
       "      <td>2024-01-25 15:49:59</td>\n",
       "      <td>2024-01-25 15:52:35</td>\n",
       "      <td>1st &amp; O St NW</td>\n",
       "      <td>31519</td>\n",
       "      <td>1st &amp; L St NW</td>\n",
       "      <td>31677.0</td>\n",
       "      <td>member</td>\n",
       "      <td>2.600000</td>\n",
       "      <td>...</td>\n",
       "      <td>DCA-CABI</td>\n",
       "      <td>POINT (-77.011987 38.903819)</td>\n",
       "      <td>1st &amp; O St NW</td>\n",
       "      <td>1st &amp; L St NW</td>\n",
       "      <td>-77.012365</td>\n",
       "      <td>38.908643</td>\n",
       "      <td>-77.011987</td>\n",
       "      <td>38.903819</td>\n",
       "      <td>Small</td>\n",
       "      <td>Medium</td>\n",
       "    </tr>\n",
       "    <tr>\n",
       "      <th>1</th>\n",
       "      <td>75CBFD136F06305B</td>\n",
       "      <td>classic_bike</td>\n",
       "      <td>2024-01-02 16:44:58</td>\n",
       "      <td>2024-01-02 16:53:25</td>\n",
       "      <td>1st &amp; O St NW</td>\n",
       "      <td>31519</td>\n",
       "      <td>4th &amp; College St NW</td>\n",
       "      <td>31138.0</td>\n",
       "      <td>member</td>\n",
       "      <td>8.450000</td>\n",
       "      <td>...</td>\n",
       "      <td>DCA-CABI</td>\n",
       "      <td>POINT (-77.018135 38.921233)</td>\n",
       "      <td>1st &amp; O St NW</td>\n",
       "      <td>4th &amp; College St NW</td>\n",
       "      <td>-77.012365</td>\n",
       "      <td>38.908643</td>\n",
       "      <td>-77.018135</td>\n",
       "      <td>38.921233</td>\n",
       "      <td>Small</td>\n",
       "      <td>Small</td>\n",
       "    </tr>\n",
       "    <tr>\n",
       "      <th>2</th>\n",
       "      <td>0536C9720F87E04C</td>\n",
       "      <td>classic_bike</td>\n",
       "      <td>2024-01-24 15:40:15</td>\n",
       "      <td>2024-01-24 15:43:55</td>\n",
       "      <td>1st &amp; O St NW</td>\n",
       "      <td>31519</td>\n",
       "      <td>1st &amp; L St NW</td>\n",
       "      <td>31677.0</td>\n",
       "      <td>member</td>\n",
       "      <td>3.666667</td>\n",
       "      <td>...</td>\n",
       "      <td>DCA-CABI</td>\n",
       "      <td>POINT (-77.011987 38.903819)</td>\n",
       "      <td>1st &amp; O St NW</td>\n",
       "      <td>1st &amp; L St NW</td>\n",
       "      <td>-77.012365</td>\n",
       "      <td>38.908643</td>\n",
       "      <td>-77.011987</td>\n",
       "      <td>38.903819</td>\n",
       "      <td>Small</td>\n",
       "      <td>Medium</td>\n",
       "    </tr>\n",
       "    <tr>\n",
       "      <th>3</th>\n",
       "      <td>9E17390C218783B5</td>\n",
       "      <td>classic_bike</td>\n",
       "      <td>2024-01-04 15:35:00</td>\n",
       "      <td>2024-01-04 15:37:35</td>\n",
       "      <td>1st &amp; O St NW</td>\n",
       "      <td>31519</td>\n",
       "      <td>1st &amp; L St NW</td>\n",
       "      <td>31677.0</td>\n",
       "      <td>member</td>\n",
       "      <td>2.583333</td>\n",
       "      <td>...</td>\n",
       "      <td>DCA-CABI</td>\n",
       "      <td>POINT (-77.011987 38.903819)</td>\n",
       "      <td>1st &amp; O St NW</td>\n",
       "      <td>1st &amp; L St NW</td>\n",
       "      <td>-77.012365</td>\n",
       "      <td>38.908643</td>\n",
       "      <td>-77.011987</td>\n",
       "      <td>38.903819</td>\n",
       "      <td>Small</td>\n",
       "      <td>Medium</td>\n",
       "    </tr>\n",
       "    <tr>\n",
       "      <th>4</th>\n",
       "      <td>00727D0E773CDFF7</td>\n",
       "      <td>electric_bike</td>\n",
       "      <td>2024-01-05 12:27:58</td>\n",
       "      <td>2024-01-05 12:35:40</td>\n",
       "      <td>1st &amp; O St NW</td>\n",
       "      <td>31519</td>\n",
       "      <td>10th &amp; G St NW</td>\n",
       "      <td>31274.0</td>\n",
       "      <td>casual</td>\n",
       "      <td>7.700000</td>\n",
       "      <td>...</td>\n",
       "      <td>DCA-CABI</td>\n",
       "      <td>POINT (-77.026235 38.898243)</td>\n",
       "      <td>1st &amp; O St NW</td>\n",
       "      <td>10th &amp; G St NW</td>\n",
       "      <td>-77.012365</td>\n",
       "      <td>38.908643</td>\n",
       "      <td>-77.026235</td>\n",
       "      <td>38.898243</td>\n",
       "      <td>Small</td>\n",
       "      <td>Large</td>\n",
       "    </tr>\n",
       "  </tbody>\n",
       "</table>\n",
       "<p>5 rows × 46 columns</p>\n",
       "</div>"
      ]
     },
     "execution_count": 436,
     "metadata": {},
     "output_type": "execute_result"
    }
   ],
   "execution_count": 436
  },
  {
   "metadata": {
    "ExecuteTime": {
     "end_time": "2025-06-21T15:31:04.569825Z",
     "start_time": "2025-06-21T15:31:04.565799Z"
    }
   },
   "cell_type": "code",
   "source": [
    "shopping_centers = np.array([\n",
    "    [38.9009, -77.0260],   # CityCenterDC\n",
    "    [38.8971, -77.0064],   # Union Station\n",
    "    [38.9057, -77.0631],   # Georgetown Park\n",
    "    [38.8631, -77.0599],   # Pentagon City\n",
    "    [38.8765, -77.0316],   # The Wharf\n",
    "    [38.8741, -77.0028],   # Capitol Riverfront\n",
    "    [38.9613, -77.0840],   # Friendship Heights\n",
    "])"
   ],
   "id": "a20bcdf388a6981",
   "outputs": [],
   "execution_count": 437
  },
  {
   "metadata": {
    "ExecuteTime": {
     "end_time": "2025-06-21T15:31:04.624267Z",
     "start_time": "2025-06-21T15:31:04.612840Z"
    }
   },
   "cell_type": "code",
   "source": [
    "proximity = 300\n",
    "df_modified['start_near_any_mall'] = df_modified.apply(\n",
    "    lambda row: int(hf.distance_to_closest_mall(row['start_latitude'], row['start_longitude'], shopping_centers) <= proximity),\n",
    "    axis=1\n",
    ")\n",
    "\n",
    "df_modified['end_near_any_mall'] = df_modified.apply(\n",
    "    lambda row: int(hf.distance_to_closest_mall(row['end_latitude'], row['end_longitude'], shopping_centers) <= proximity),\n",
    "    axis=1\n",
    ")"
   ],
   "id": "19e23bd38c3a5aba",
   "outputs": [],
   "execution_count": 438
  },
  {
   "metadata": {
    "ExecuteTime": {
     "end_time": "2025-06-21T15:31:04.645600Z",
     "start_time": "2025-06-21T15:31:04.641280Z"
    }
   },
   "cell_type": "code",
   "source": [
    "count_of_ones = df_modified['start_near_any_mall'].eq(1).sum()\n",
    "\n",
    "print(f\"Number of 1s in '{'start_near_any_mall'}': {count_of_ones}\")\n",
    "\n",
    "count_of_ones = df_modified['end_near_any_mall'].eq(1).sum()\n",
    "\n",
    "print(f\"Number of 1s in '{'end_near_any_mall'}': {count_of_ones}\")"
   ],
   "id": "c86bdd903ddf397a",
   "outputs": [
    {
     "name": "stdout",
     "output_type": "stream",
     "text": [
      "Number of 1s in 'start_near_any_mall': 2\n",
      "Number of 1s in 'end_near_any_mall': 17\n"
     ]
    }
   ],
   "execution_count": 439
  },
  {
   "metadata": {
    "ExecuteTime": {
     "end_time": "2025-06-21T15:31:04.781799Z",
     "start_time": "2025-06-21T15:31:04.771799Z"
    }
   },
   "cell_type": "code",
   "source": [
    "df_modified['end_distance_to_closest_mall_m'] = df_modified.apply(\n",
    "    lambda row: hf.distance_to_closest_mall(row['end_latitude'], row['end_longitude'], shopping_centers),\n",
    "    axis=1\n",
    ")"
   ],
   "id": "f195c9f85cbf28cf",
   "outputs": [],
   "execution_count": 440
  },
  {
   "metadata": {
    "ExecuteTime": {
     "end_time": "2025-06-21T15:31:04.950605Z",
     "start_time": "2025-06-21T15:31:04.860304Z"
    }
   },
   "cell_type": "code",
   "source": "df_modified.to_csv('datasets/modified.csv', index=False)",
   "id": "21ca1f2afadfa296",
   "outputs": [],
   "execution_count": 441
  },
  {
   "metadata": {
    "ExecuteTime": {
     "end_time": "2025-06-21T15:31:04.967113Z",
     "start_time": "2025-06-21T15:31:04.952612Z"
    }
   },
   "cell_type": "code",
   "source": [
    "null_counts = df_modified.isnull().sum()\n",
    "\n",
    "# Calculate total number of rows in the DataFrame\n",
    "total_rows = len(df_modified)\n",
    "\n",
    "# Calculate percentage of null values for all columns\n",
    "# Use .apply(lambda x: f\"{x:.2f}%\") for formatting if you want to store as string\n",
    "null_percentages = (null_counts / total_rows) * 100\n",
    "\n",
    "# Create a new DataFrame to store these results\n",
    "null_summary_df = pd.DataFrame({\n",
    "    'Null Count': null_counts,\n",
    "    'Null Percentage': null_percentages\n",
    "})\n",
    "\n",
    "# Optional: Sort by Null Count or Null Percentage to see most affected columns first\n",
    "null_summary_df = null_summary_df.sort_values(by='Null Count', ascending=False)\n",
    "\n",
    "rows_with_nulls_df = df_modified[df_modified.isnull().any(axis=1)]\n",
    "\n",
    "null_summary_df"
   ],
   "id": "aaf7aa163c4ac3cb",
   "outputs": [
    {
     "data": {
      "text/plain": [
       "                                Null Count  Null Percentage\n",
       "Zone_start_OBJECTID                     31        31.958763\n",
       "Zone_start_geometry                     31        31.958763\n",
       "Zone_start_zone_name                    31        31.958763\n",
       "Zone_start_GIS_ID                       31        31.958763\n",
       "Zone_end_geometry                       22        22.680412\n",
       "Zone_end_OBJECTID                       22        22.680412\n",
       "Zone_end_GIS_ID                         22        22.680412\n",
       "Zone_end_zone_name                      22        22.680412\n",
       "Bikeshare_NAME_end                       5         5.154639\n",
       "Bikeshare_STATION_TYPE_end               5         5.154639\n",
       "Bikeshare_CAPACITY_end                   5         5.154639\n",
       "Bikeshare_REGION_ID_end                  5         5.154639\n",
       "Bikeshare_REGION_NAME_end                5         5.154639\n",
       "Bikeshare_geometry_end                   5         5.154639\n",
       "EndStation_NAME                          5         5.154639\n",
       "end_distance_to_closest_mall_m           5         5.154639\n",
       "end_longitude                            5         5.154639\n",
       "end_latitude                             5         5.154639\n",
       "end_station_id                           5         5.154639\n",
       "end_station_name                         5         5.154639\n",
       "end_station_size                         5         5.154639\n",
       "Bikeshare_REGION_NAME_start              0         0.000000\n",
       "start_longitude                          0         0.000000\n",
       "start_latitude                           0         0.000000\n",
       "StartStation_NAME                        0         0.000000\n",
       "start_station_size                       0         0.000000\n",
       "start_near_any_mall                      0         0.000000\n",
       "end_near_any_mall                        0         0.000000\n",
       "Bikeshare_geometry_start                 0         0.000000\n",
       "ride_id                                  0         0.000000\n",
       "Bikeshare_REGION_ID_start                0         0.000000\n",
       "geometry_end                             0         0.000000\n",
       "started_at                               0         0.000000\n",
       "ended_at                                 0         0.000000\n",
       "start_station_name                       0         0.000000\n",
       "start_station_id                         0         0.000000\n",
       "member_casual                            0         0.000000\n",
       "duration_min                             0         0.000000\n",
       "geometry_start                           0         0.000000\n",
       "date                                     0         0.000000\n",
       "Bikeshare_CAPACITY_start                 0         0.000000\n",
       "Weather_temp                             0         0.000000\n",
       "Weather_windspeedmean                    0         0.000000\n",
       "Weather_sunrise                          0         0.000000\n",
       "rideable_type                            0         0.000000\n",
       "Weather_conditions                       0         0.000000\n",
       "Bikeshare_NAME_start                     0         0.000000\n",
       "Bikeshare_STATION_TYPE_start             0         0.000000\n",
       "Weather_sunset                           0         0.000000"
      ],
      "text/html": [
       "<div>\n",
       "<style scoped>\n",
       "    .dataframe tbody tr th:only-of-type {\n",
       "        vertical-align: middle;\n",
       "    }\n",
       "\n",
       "    .dataframe tbody tr th {\n",
       "        vertical-align: top;\n",
       "    }\n",
       "\n",
       "    .dataframe thead th {\n",
       "        text-align: right;\n",
       "    }\n",
       "</style>\n",
       "<table border=\"1\" class=\"dataframe\">\n",
       "  <thead>\n",
       "    <tr style=\"text-align: right;\">\n",
       "      <th></th>\n",
       "      <th>Null Count</th>\n",
       "      <th>Null Percentage</th>\n",
       "    </tr>\n",
       "  </thead>\n",
       "  <tbody>\n",
       "    <tr>\n",
       "      <th>Zone_start_OBJECTID</th>\n",
       "      <td>31</td>\n",
       "      <td>31.958763</td>\n",
       "    </tr>\n",
       "    <tr>\n",
       "      <th>Zone_start_geometry</th>\n",
       "      <td>31</td>\n",
       "      <td>31.958763</td>\n",
       "    </tr>\n",
       "    <tr>\n",
       "      <th>Zone_start_zone_name</th>\n",
       "      <td>31</td>\n",
       "      <td>31.958763</td>\n",
       "    </tr>\n",
       "    <tr>\n",
       "      <th>Zone_start_GIS_ID</th>\n",
       "      <td>31</td>\n",
       "      <td>31.958763</td>\n",
       "    </tr>\n",
       "    <tr>\n",
       "      <th>Zone_end_geometry</th>\n",
       "      <td>22</td>\n",
       "      <td>22.680412</td>\n",
       "    </tr>\n",
       "    <tr>\n",
       "      <th>Zone_end_OBJECTID</th>\n",
       "      <td>22</td>\n",
       "      <td>22.680412</td>\n",
       "    </tr>\n",
       "    <tr>\n",
       "      <th>Zone_end_GIS_ID</th>\n",
       "      <td>22</td>\n",
       "      <td>22.680412</td>\n",
       "    </tr>\n",
       "    <tr>\n",
       "      <th>Zone_end_zone_name</th>\n",
       "      <td>22</td>\n",
       "      <td>22.680412</td>\n",
       "    </tr>\n",
       "    <tr>\n",
       "      <th>Bikeshare_NAME_end</th>\n",
       "      <td>5</td>\n",
       "      <td>5.154639</td>\n",
       "    </tr>\n",
       "    <tr>\n",
       "      <th>Bikeshare_STATION_TYPE_end</th>\n",
       "      <td>5</td>\n",
       "      <td>5.154639</td>\n",
       "    </tr>\n",
       "    <tr>\n",
       "      <th>Bikeshare_CAPACITY_end</th>\n",
       "      <td>5</td>\n",
       "      <td>5.154639</td>\n",
       "    </tr>\n",
       "    <tr>\n",
       "      <th>Bikeshare_REGION_ID_end</th>\n",
       "      <td>5</td>\n",
       "      <td>5.154639</td>\n",
       "    </tr>\n",
       "    <tr>\n",
       "      <th>Bikeshare_REGION_NAME_end</th>\n",
       "      <td>5</td>\n",
       "      <td>5.154639</td>\n",
       "    </tr>\n",
       "    <tr>\n",
       "      <th>Bikeshare_geometry_end</th>\n",
       "      <td>5</td>\n",
       "      <td>5.154639</td>\n",
       "    </tr>\n",
       "    <tr>\n",
       "      <th>EndStation_NAME</th>\n",
       "      <td>5</td>\n",
       "      <td>5.154639</td>\n",
       "    </tr>\n",
       "    <tr>\n",
       "      <th>end_distance_to_closest_mall_m</th>\n",
       "      <td>5</td>\n",
       "      <td>5.154639</td>\n",
       "    </tr>\n",
       "    <tr>\n",
       "      <th>end_longitude</th>\n",
       "      <td>5</td>\n",
       "      <td>5.154639</td>\n",
       "    </tr>\n",
       "    <tr>\n",
       "      <th>end_latitude</th>\n",
       "      <td>5</td>\n",
       "      <td>5.154639</td>\n",
       "    </tr>\n",
       "    <tr>\n",
       "      <th>end_station_id</th>\n",
       "      <td>5</td>\n",
       "      <td>5.154639</td>\n",
       "    </tr>\n",
       "    <tr>\n",
       "      <th>end_station_name</th>\n",
       "      <td>5</td>\n",
       "      <td>5.154639</td>\n",
       "    </tr>\n",
       "    <tr>\n",
       "      <th>end_station_size</th>\n",
       "      <td>5</td>\n",
       "      <td>5.154639</td>\n",
       "    </tr>\n",
       "    <tr>\n",
       "      <th>Bikeshare_REGION_NAME_start</th>\n",
       "      <td>0</td>\n",
       "      <td>0.000000</td>\n",
       "    </tr>\n",
       "    <tr>\n",
       "      <th>start_longitude</th>\n",
       "      <td>0</td>\n",
       "      <td>0.000000</td>\n",
       "    </tr>\n",
       "    <tr>\n",
       "      <th>start_latitude</th>\n",
       "      <td>0</td>\n",
       "      <td>0.000000</td>\n",
       "    </tr>\n",
       "    <tr>\n",
       "      <th>StartStation_NAME</th>\n",
       "      <td>0</td>\n",
       "      <td>0.000000</td>\n",
       "    </tr>\n",
       "    <tr>\n",
       "      <th>start_station_size</th>\n",
       "      <td>0</td>\n",
       "      <td>0.000000</td>\n",
       "    </tr>\n",
       "    <tr>\n",
       "      <th>start_near_any_mall</th>\n",
       "      <td>0</td>\n",
       "      <td>0.000000</td>\n",
       "    </tr>\n",
       "    <tr>\n",
       "      <th>end_near_any_mall</th>\n",
       "      <td>0</td>\n",
       "      <td>0.000000</td>\n",
       "    </tr>\n",
       "    <tr>\n",
       "      <th>Bikeshare_geometry_start</th>\n",
       "      <td>0</td>\n",
       "      <td>0.000000</td>\n",
       "    </tr>\n",
       "    <tr>\n",
       "      <th>ride_id</th>\n",
       "      <td>0</td>\n",
       "      <td>0.000000</td>\n",
       "    </tr>\n",
       "    <tr>\n",
       "      <th>Bikeshare_REGION_ID_start</th>\n",
       "      <td>0</td>\n",
       "      <td>0.000000</td>\n",
       "    </tr>\n",
       "    <tr>\n",
       "      <th>geometry_end</th>\n",
       "      <td>0</td>\n",
       "      <td>0.000000</td>\n",
       "    </tr>\n",
       "    <tr>\n",
       "      <th>started_at</th>\n",
       "      <td>0</td>\n",
       "      <td>0.000000</td>\n",
       "    </tr>\n",
       "    <tr>\n",
       "      <th>ended_at</th>\n",
       "      <td>0</td>\n",
       "      <td>0.000000</td>\n",
       "    </tr>\n",
       "    <tr>\n",
       "      <th>start_station_name</th>\n",
       "      <td>0</td>\n",
       "      <td>0.000000</td>\n",
       "    </tr>\n",
       "    <tr>\n",
       "      <th>start_station_id</th>\n",
       "      <td>0</td>\n",
       "      <td>0.000000</td>\n",
       "    </tr>\n",
       "    <tr>\n",
       "      <th>member_casual</th>\n",
       "      <td>0</td>\n",
       "      <td>0.000000</td>\n",
       "    </tr>\n",
       "    <tr>\n",
       "      <th>duration_min</th>\n",
       "      <td>0</td>\n",
       "      <td>0.000000</td>\n",
       "    </tr>\n",
       "    <tr>\n",
       "      <th>geometry_start</th>\n",
       "      <td>0</td>\n",
       "      <td>0.000000</td>\n",
       "    </tr>\n",
       "    <tr>\n",
       "      <th>date</th>\n",
       "      <td>0</td>\n",
       "      <td>0.000000</td>\n",
       "    </tr>\n",
       "    <tr>\n",
       "      <th>Bikeshare_CAPACITY_start</th>\n",
       "      <td>0</td>\n",
       "      <td>0.000000</td>\n",
       "    </tr>\n",
       "    <tr>\n",
       "      <th>Weather_temp</th>\n",
       "      <td>0</td>\n",
       "      <td>0.000000</td>\n",
       "    </tr>\n",
       "    <tr>\n",
       "      <th>Weather_windspeedmean</th>\n",
       "      <td>0</td>\n",
       "      <td>0.000000</td>\n",
       "    </tr>\n",
       "    <tr>\n",
       "      <th>Weather_sunrise</th>\n",
       "      <td>0</td>\n",
       "      <td>0.000000</td>\n",
       "    </tr>\n",
       "    <tr>\n",
       "      <th>rideable_type</th>\n",
       "      <td>0</td>\n",
       "      <td>0.000000</td>\n",
       "    </tr>\n",
       "    <tr>\n",
       "      <th>Weather_conditions</th>\n",
       "      <td>0</td>\n",
       "      <td>0.000000</td>\n",
       "    </tr>\n",
       "    <tr>\n",
       "      <th>Bikeshare_NAME_start</th>\n",
       "      <td>0</td>\n",
       "      <td>0.000000</td>\n",
       "    </tr>\n",
       "    <tr>\n",
       "      <th>Bikeshare_STATION_TYPE_start</th>\n",
       "      <td>0</td>\n",
       "      <td>0.000000</td>\n",
       "    </tr>\n",
       "    <tr>\n",
       "      <th>Weather_sunset</th>\n",
       "      <td>0</td>\n",
       "      <td>0.000000</td>\n",
       "    </tr>\n",
       "  </tbody>\n",
       "</table>\n",
       "</div>"
      ]
     },
     "execution_count": 442,
     "metadata": {},
     "output_type": "execute_result"
    }
   ],
   "execution_count": 442
  },
  {
   "metadata": {
    "ExecuteTime": {
     "end_time": "2025-06-21T15:31:05.012245Z",
     "start_time": "2025-06-21T15:31:04.999258Z"
    }
   },
   "cell_type": "code",
   "source": [
    "precision = 6\n",
    "\n",
    "df_modified['start_geohash'] = df_modified.apply(\n",
    "    lambda row: pgh.encode(row['start_latitude'], row['start_longitude'], precision=precision)\n",
    "    if not np.isnan(row['start_latitude']) and not np.isnan(row['start_longitude']) else np.nan,\n",
    "    axis=1\n",
    ")\n",
    "\n",
    "df_modified['end_geohash'] = df_modified.apply(\n",
    "    lambda row: pgh.encode(row['end_latitude'], row['end_longitude'], precision=precision)\n",
    "    if not np.isnan(row['end_latitude']) and not np.isnan(row['end_longitude']) else np.nan,\n",
    "    axis=1\n",
    ")"
   ],
   "id": "18a96e42322bfd1b",
   "outputs": [],
   "execution_count": 443
  },
  {
   "metadata": {
    "ExecuteTime": {
     "end_time": "2025-06-21T15:31:05.050196Z",
     "start_time": "2025-06-21T15:31:05.040249Z"
    }
   },
   "cell_type": "code",
   "source": [
    "daily_trip_counts = df_modified.groupby(['start_geohash', 'date']).size().reset_index(name='trip_count')\n",
    "\n",
    "avg_trips_per_geohash = daily_trip_counts.groupby('start_geohash')['trip_count'].mean().reset_index()\n",
    "avg_trips_per_geohash.rename(columns={'trip_count': 'avg_daily_trips'}, inplace=True)\n",
    "\n",
    "quantiles = avg_trips_per_geohash['avg_daily_trips'].quantile([0.22, 0.88])\n",
    "low_thresh = quantiles[0.22]\n",
    "high_thresh = quantiles[0.88]"
   ],
   "id": "8f19ff01d8b470b0",
   "outputs": [],
   "execution_count": 444
  },
  {
   "metadata": {
    "ExecuteTime": {
     "end_time": "2025-06-21T15:31:05.102827Z",
     "start_time": "2025-06-21T15:31:05.099550Z"
    }
   },
   "cell_type": "code",
   "source": [
    "def categorize_traffic(avg):\n",
    "    if avg <= low_thresh:\n",
    "        return 'Low Traffic'\n",
    "    elif avg <= high_thresh:\n",
    "        return 'Medium Traffic'\n",
    "    else:\n",
    "        return 'High Traffic'"
   ],
   "id": "6ea4920386cf7c00",
   "outputs": [],
   "execution_count": 445
  },
  {
   "metadata": {
    "ExecuteTime": {
     "end_time": "2025-06-21T15:31:05.148594Z",
     "start_time": "2025-06-21T15:31:05.142128Z"
    }
   },
   "cell_type": "code",
   "source": [
    "avg_trips_per_geohash['traffic_category'] = avg_trips_per_geohash['avg_daily_trips'].apply(categorize_traffic)\n",
    "\n",
    "df_modified = df_modified.merge(\n",
    "    avg_trips_per_geohash[['start_geohash', 'traffic_category']],\n",
    "    on='start_geohash',\n",
    "    how='left'\n",
    ")"
   ],
   "id": "d6dde24c2bec3729",
   "outputs": [],
   "execution_count": 446
  },
  {
   "metadata": {
    "ExecuteTime": {
     "end_time": "2025-06-21T15:31:05.264796Z",
     "start_time": "2025-06-21T15:31:05.260931Z"
    }
   },
   "cell_type": "code",
   "source": "df_modified.columns",
   "id": "5edb6c0ed21faa4a",
   "outputs": [
    {
     "data": {
      "text/plain": [
       "Index(['ride_id', 'rideable_type', 'started_at', 'ended_at',\n",
       "       'start_station_name', 'start_station_id', 'end_station_name',\n",
       "       'end_station_id', 'member_casual', 'duration_min', 'geometry_start',\n",
       "       'geometry_end', 'Zone_start_zone_name', 'Zone_start_GIS_ID',\n",
       "       'Zone_start_OBJECTID', 'Zone_start_geometry', 'Zone_end_zone_name',\n",
       "       'Zone_end_GIS_ID', 'Zone_end_OBJECTID', 'Zone_end_geometry', 'date',\n",
       "       'Weather_temp', 'Weather_windspeedmean', 'Weather_sunrise',\n",
       "       'Weather_sunset', 'Weather_conditions', 'Bikeshare_NAME_start',\n",
       "       'Bikeshare_STATION_TYPE_start', 'Bikeshare_CAPACITY_start',\n",
       "       'Bikeshare_REGION_ID_start', 'Bikeshare_REGION_NAME_start',\n",
       "       'Bikeshare_geometry_start', 'Bikeshare_NAME_end',\n",
       "       'Bikeshare_STATION_TYPE_end', 'Bikeshare_CAPACITY_end',\n",
       "       'Bikeshare_REGION_ID_end', 'Bikeshare_REGION_NAME_end',\n",
       "       'Bikeshare_geometry_end', 'StartStation_NAME', 'EndStation_NAME',\n",
       "       'start_longitude', 'start_latitude', 'end_longitude', 'end_latitude',\n",
       "       'start_station_size', 'end_station_size', 'start_near_any_mall',\n",
       "       'end_near_any_mall', 'end_distance_to_closest_mall_m', 'start_geohash',\n",
       "       'end_geohash', 'traffic_category'],\n",
       "      dtype='object')"
      ]
     },
     "execution_count": 447,
     "metadata": {},
     "output_type": "execute_result"
    }
   ],
   "execution_count": 447
  },
  {
   "metadata": {
    "ExecuteTime": {
     "end_time": "2025-06-21T15:31:05.301080Z",
     "start_time": "2025-06-21T15:31:05.298069Z"
    }
   },
   "cell_type": "code",
   "source": "# df_modified.to_csv('datasets/modified.csv', index=False)",
   "id": "99a180f26429fd1c",
   "outputs": [],
   "execution_count": 448
  },
  {
   "metadata": {
    "ExecuteTime": {
     "end_time": "2025-06-21T15:31:05.354460Z",
     "start_time": "2025-06-21T15:31:05.350348Z"
    }
   },
   "cell_type": "code",
   "source": [
    "def classify_weather(condition):\n",
    "    if pd.isna(condition):\n",
    "        return np.nan\n",
    "    condition = condition.lower()\n",
    "    if any(w in condition for w in ['clear', 'sunny']):\n",
    "        return 'Sunny'\n",
    "    elif any(w in condition for w in ['rain', 'storm', 'shower', 'drizzle']):\n",
    "        return 'Rainy'\n",
    "    elif any(w in condition for w in ['cloud', 'overcast', 'fog', 'mist']):\n",
    "        return 'Cloudy'\n",
    "    else:\n",
    "        return 'Cloudy'"
   ],
   "id": "fbbc99eb20d1df31",
   "outputs": [],
   "execution_count": 449
  },
  {
   "metadata": {
    "ExecuteTime": {
     "end_time": "2025-06-21T15:31:05.375283Z",
     "start_time": "2025-06-21T15:31:05.370464Z"
    }
   },
   "cell_type": "code",
   "source": [
    "df_modified['weather_category'] = df_modified['Weather_conditions'].apply(classify_weather)\n",
    "\n",
    "# Step 3: Drop old weather columns\n",
    "df_modified.drop(columns=[\n",
    "    'Weather_temp',\n",
    "    'Weather_windspeedmean',\n",
    "    'Weather_sunrise',\n",
    "    'Weather_sunset',\n",
    "    'Weather_conditions'\n",
    "], inplace=True)"
   ],
   "id": "e09591d743ab711",
   "outputs": [],
   "execution_count": 450
  },
  {
   "metadata": {
    "ExecuteTime": {
     "end_time": "2025-06-21T15:31:05.394287Z",
     "start_time": "2025-06-21T15:31:05.389287Z"
    }
   },
   "cell_type": "code",
   "source": [
    "df_modified.drop(columns=[\n",
    "    'Bikeshare_geometry_end',\n",
    "    'Bikeshare_geometry_start',\n",
    "    'geometry_end',\n",
    "    'geometry_start'\n",
    "], inplace=True)"
   ],
   "id": "7d99fb079b6c441a",
   "outputs": [],
   "execution_count": 451
  },
  {
   "metadata": {
    "ExecuteTime": {
     "end_time": "2025-06-21T15:31:05.431822Z",
     "start_time": "2025-06-21T15:31:05.416828Z"
    }
   },
   "cell_type": "code",
   "source": "df_modified",
   "id": "cc57ad0c9f7a9629",
   "outputs": [
    {
     "data": {
      "text/plain": [
       "             ride_id  rideable_type           started_at             ended_at  \\\n",
       "0   748A93D7DE8A41CD   classic_bike  2024-01-25 15:49:59  2024-01-25 15:52:35   \n",
       "1   75CBFD136F06305B   classic_bike  2024-01-02 16:44:58  2024-01-02 16:53:25   \n",
       "2   0536C9720F87E04C   classic_bike  2024-01-24 15:40:15  2024-01-24 15:43:55   \n",
       "3   9E17390C218783B5   classic_bike  2024-01-04 15:35:00  2024-01-04 15:37:35   \n",
       "4   00727D0E773CDFF7  electric_bike  2024-01-05 12:27:58  2024-01-05 12:35:40   \n",
       "..               ...            ...                  ...                  ...   \n",
       "92  7F6EB9E56D972AD2   classic_bike  2024-01-05 22:58:07  2024-01-05 23:04:08   \n",
       "93  C6FF417383F01E06   classic_bike  2024-01-13 12:45:26  2024-01-13 12:51:39   \n",
       "94  8DD20FEDB618CE47   classic_bike  2024-01-08 19:11:35  2024-01-08 19:15:42   \n",
       "95  03A98F39C412ACD9   classic_bike  2024-01-02 17:11:18  2024-01-02 17:23:10   \n",
       "96  D0B068C458A2A5A7   classic_bike  2024-01-01 13:58:05  2024-01-01 14:05:49   \n",
       "\n",
       "      start_station_name  start_station_id  \\\n",
       "0          1st & O St NW             31519   \n",
       "1          1st & O St NW             31519   \n",
       "2          1st & O St NW             31519   \n",
       "3          1st & O St NW             31519   \n",
       "4          1st & O St NW             31519   \n",
       "..                   ...               ...   \n",
       "92         1st & O St NW             31519   \n",
       "93  Alabama & MLK Ave SE             31800   \n",
       "94         1st & O St NW             31519   \n",
       "95     11th & Park Rd NW             31651   \n",
       "96     11th & Park Rd NW             31651   \n",
       "\n",
       "                                     end_station_name  end_station_id  \\\n",
       "0                                       1st & L St NW         31677.0   \n",
       "1                                 4th & College St NW         31138.0   \n",
       "2                                       1st & L St NW         31677.0   \n",
       "3                                       1st & L St NW         31677.0   \n",
       "4                                      10th & G St NW         31274.0   \n",
       "..                                                ...             ...   \n",
       "92                                     11th & O St NW         31286.0   \n",
       "93  Alabama Ave & Stanton Rd SE / Shops at Park Vi...         31813.0   \n",
       "94                                     11th & O St NW         31286.0   \n",
       "95                                     11th & O St NW         31286.0   \n",
       "96                                     11th & O St NW         31286.0   \n",
       "\n",
       "   member_casual  duration_min  ... end_latitude start_station_size  \\\n",
       "0         member      2.600000  ...    38.903819              Small   \n",
       "1         member      8.450000  ...    38.921233              Small   \n",
       "2         member      3.666667  ...    38.903819              Small   \n",
       "3         member      2.583333  ...    38.903819              Small   \n",
       "4         casual      7.700000  ...    38.898243              Small   \n",
       "..           ...           ...  ...          ...                ...   \n",
       "92        member      6.016667  ...    38.908431              Small   \n",
       "93        casual      6.216667  ...    38.846270              Small   \n",
       "94        member      4.116667  ...    38.908431              Small   \n",
       "95        casual     11.866667  ...    38.908431             Medium   \n",
       "96        member      7.733333  ...    38.908431             Medium   \n",
       "\n",
       "    end_station_size start_near_any_mall end_near_any_mall  \\\n",
       "0             Medium                   0                 0   \n",
       "1              Small                   0                 0   \n",
       "2             Medium                   0                 0   \n",
       "3             Medium                   0                 0   \n",
       "4              Large                   0                 1   \n",
       "..               ...                 ...               ...   \n",
       "92             Large                   0                 0   \n",
       "93            Medium                   0                 0   \n",
       "94             Large                   0                 0   \n",
       "95             Large                   0                 0   \n",
       "96             Large                   0                 0   \n",
       "\n",
       "   end_distance_to_closest_mall_m  start_geohash end_geohash traffic_category  \\\n",
       "0                      889.908267         dqcjre      dqcjrd     High Traffic   \n",
       "1                     2361.117404         dqcjre      dqcjrm     High Traffic   \n",
       "2                      889.908267         dqcjre      dqcjrd     High Traffic   \n",
       "3                      889.908267         dqcjre      dqcjrd     High Traffic   \n",
       "4                      296.143991         dqcjre      dqcjr1     High Traffic   \n",
       "..                            ...            ...         ...              ...   \n",
       "92                     842.684543         dqcjre      dqcjr5     High Traffic   \n",
       "93                    3587.020946         dqchzz      dqckbp      Low Traffic   \n",
       "94                     842.684543         dqcjre      dqcjr5     High Traffic   \n",
       "95                     842.684543         dqcjrp      dqcjr5   Medium Traffic   \n",
       "96                     842.684543         dqcjrp      dqcjr5   Medium Traffic   \n",
       "\n",
       "   weather_category  \n",
       "0             Rainy  \n",
       "1            Cloudy  \n",
       "2            Cloudy  \n",
       "3            Cloudy  \n",
       "4            Cloudy  \n",
       "..              ...  \n",
       "92           Cloudy  \n",
       "93            Rainy  \n",
       "94           Cloudy  \n",
       "95           Cloudy  \n",
       "96            Rainy  \n",
       "\n",
       "[97 rows x 44 columns]"
      ],
      "text/html": [
       "<div>\n",
       "<style scoped>\n",
       "    .dataframe tbody tr th:only-of-type {\n",
       "        vertical-align: middle;\n",
       "    }\n",
       "\n",
       "    .dataframe tbody tr th {\n",
       "        vertical-align: top;\n",
       "    }\n",
       "\n",
       "    .dataframe thead th {\n",
       "        text-align: right;\n",
       "    }\n",
       "</style>\n",
       "<table border=\"1\" class=\"dataframe\">\n",
       "  <thead>\n",
       "    <tr style=\"text-align: right;\">\n",
       "      <th></th>\n",
       "      <th>ride_id</th>\n",
       "      <th>rideable_type</th>\n",
       "      <th>started_at</th>\n",
       "      <th>ended_at</th>\n",
       "      <th>start_station_name</th>\n",
       "      <th>start_station_id</th>\n",
       "      <th>end_station_name</th>\n",
       "      <th>end_station_id</th>\n",
       "      <th>member_casual</th>\n",
       "      <th>duration_min</th>\n",
       "      <th>...</th>\n",
       "      <th>end_latitude</th>\n",
       "      <th>start_station_size</th>\n",
       "      <th>end_station_size</th>\n",
       "      <th>start_near_any_mall</th>\n",
       "      <th>end_near_any_mall</th>\n",
       "      <th>end_distance_to_closest_mall_m</th>\n",
       "      <th>start_geohash</th>\n",
       "      <th>end_geohash</th>\n",
       "      <th>traffic_category</th>\n",
       "      <th>weather_category</th>\n",
       "    </tr>\n",
       "  </thead>\n",
       "  <tbody>\n",
       "    <tr>\n",
       "      <th>0</th>\n",
       "      <td>748A93D7DE8A41CD</td>\n",
       "      <td>classic_bike</td>\n",
       "      <td>2024-01-25 15:49:59</td>\n",
       "      <td>2024-01-25 15:52:35</td>\n",
       "      <td>1st &amp; O St NW</td>\n",
       "      <td>31519</td>\n",
       "      <td>1st &amp; L St NW</td>\n",
       "      <td>31677.0</td>\n",
       "      <td>member</td>\n",
       "      <td>2.600000</td>\n",
       "      <td>...</td>\n",
       "      <td>38.903819</td>\n",
       "      <td>Small</td>\n",
       "      <td>Medium</td>\n",
       "      <td>0</td>\n",
       "      <td>0</td>\n",
       "      <td>889.908267</td>\n",
       "      <td>dqcjre</td>\n",
       "      <td>dqcjrd</td>\n",
       "      <td>High Traffic</td>\n",
       "      <td>Rainy</td>\n",
       "    </tr>\n",
       "    <tr>\n",
       "      <th>1</th>\n",
       "      <td>75CBFD136F06305B</td>\n",
       "      <td>classic_bike</td>\n",
       "      <td>2024-01-02 16:44:58</td>\n",
       "      <td>2024-01-02 16:53:25</td>\n",
       "      <td>1st &amp; O St NW</td>\n",
       "      <td>31519</td>\n",
       "      <td>4th &amp; College St NW</td>\n",
       "      <td>31138.0</td>\n",
       "      <td>member</td>\n",
       "      <td>8.450000</td>\n",
       "      <td>...</td>\n",
       "      <td>38.921233</td>\n",
       "      <td>Small</td>\n",
       "      <td>Small</td>\n",
       "      <td>0</td>\n",
       "      <td>0</td>\n",
       "      <td>2361.117404</td>\n",
       "      <td>dqcjre</td>\n",
       "      <td>dqcjrm</td>\n",
       "      <td>High Traffic</td>\n",
       "      <td>Cloudy</td>\n",
       "    </tr>\n",
       "    <tr>\n",
       "      <th>2</th>\n",
       "      <td>0536C9720F87E04C</td>\n",
       "      <td>classic_bike</td>\n",
       "      <td>2024-01-24 15:40:15</td>\n",
       "      <td>2024-01-24 15:43:55</td>\n",
       "      <td>1st &amp; O St NW</td>\n",
       "      <td>31519</td>\n",
       "      <td>1st &amp; L St NW</td>\n",
       "      <td>31677.0</td>\n",
       "      <td>member</td>\n",
       "      <td>3.666667</td>\n",
       "      <td>...</td>\n",
       "      <td>38.903819</td>\n",
       "      <td>Small</td>\n",
       "      <td>Medium</td>\n",
       "      <td>0</td>\n",
       "      <td>0</td>\n",
       "      <td>889.908267</td>\n",
       "      <td>dqcjre</td>\n",
       "      <td>dqcjrd</td>\n",
       "      <td>High Traffic</td>\n",
       "      <td>Cloudy</td>\n",
       "    </tr>\n",
       "    <tr>\n",
       "      <th>3</th>\n",
       "      <td>9E17390C218783B5</td>\n",
       "      <td>classic_bike</td>\n",
       "      <td>2024-01-04 15:35:00</td>\n",
       "      <td>2024-01-04 15:37:35</td>\n",
       "      <td>1st &amp; O St NW</td>\n",
       "      <td>31519</td>\n",
       "      <td>1st &amp; L St NW</td>\n",
       "      <td>31677.0</td>\n",
       "      <td>member</td>\n",
       "      <td>2.583333</td>\n",
       "      <td>...</td>\n",
       "      <td>38.903819</td>\n",
       "      <td>Small</td>\n",
       "      <td>Medium</td>\n",
       "      <td>0</td>\n",
       "      <td>0</td>\n",
       "      <td>889.908267</td>\n",
       "      <td>dqcjre</td>\n",
       "      <td>dqcjrd</td>\n",
       "      <td>High Traffic</td>\n",
       "      <td>Cloudy</td>\n",
       "    </tr>\n",
       "    <tr>\n",
       "      <th>4</th>\n",
       "      <td>00727D0E773CDFF7</td>\n",
       "      <td>electric_bike</td>\n",
       "      <td>2024-01-05 12:27:58</td>\n",
       "      <td>2024-01-05 12:35:40</td>\n",
       "      <td>1st &amp; O St NW</td>\n",
       "      <td>31519</td>\n",
       "      <td>10th &amp; G St NW</td>\n",
       "      <td>31274.0</td>\n",
       "      <td>casual</td>\n",
       "      <td>7.700000</td>\n",
       "      <td>...</td>\n",
       "      <td>38.898243</td>\n",
       "      <td>Small</td>\n",
       "      <td>Large</td>\n",
       "      <td>0</td>\n",
       "      <td>1</td>\n",
       "      <td>296.143991</td>\n",
       "      <td>dqcjre</td>\n",
       "      <td>dqcjr1</td>\n",
       "      <td>High Traffic</td>\n",
       "      <td>Cloudy</td>\n",
       "    </tr>\n",
       "    <tr>\n",
       "      <th>...</th>\n",
       "      <td>...</td>\n",
       "      <td>...</td>\n",
       "      <td>...</td>\n",
       "      <td>...</td>\n",
       "      <td>...</td>\n",
       "      <td>...</td>\n",
       "      <td>...</td>\n",
       "      <td>...</td>\n",
       "      <td>...</td>\n",
       "      <td>...</td>\n",
       "      <td>...</td>\n",
       "      <td>...</td>\n",
       "      <td>...</td>\n",
       "      <td>...</td>\n",
       "      <td>...</td>\n",
       "      <td>...</td>\n",
       "      <td>...</td>\n",
       "      <td>...</td>\n",
       "      <td>...</td>\n",
       "      <td>...</td>\n",
       "      <td>...</td>\n",
       "    </tr>\n",
       "    <tr>\n",
       "      <th>92</th>\n",
       "      <td>7F6EB9E56D972AD2</td>\n",
       "      <td>classic_bike</td>\n",
       "      <td>2024-01-05 22:58:07</td>\n",
       "      <td>2024-01-05 23:04:08</td>\n",
       "      <td>1st &amp; O St NW</td>\n",
       "      <td>31519</td>\n",
       "      <td>11th &amp; O St NW</td>\n",
       "      <td>31286.0</td>\n",
       "      <td>member</td>\n",
       "      <td>6.016667</td>\n",
       "      <td>...</td>\n",
       "      <td>38.908431</td>\n",
       "      <td>Small</td>\n",
       "      <td>Large</td>\n",
       "      <td>0</td>\n",
       "      <td>0</td>\n",
       "      <td>842.684543</td>\n",
       "      <td>dqcjre</td>\n",
       "      <td>dqcjr5</td>\n",
       "      <td>High Traffic</td>\n",
       "      <td>Cloudy</td>\n",
       "    </tr>\n",
       "    <tr>\n",
       "      <th>93</th>\n",
       "      <td>C6FF417383F01E06</td>\n",
       "      <td>classic_bike</td>\n",
       "      <td>2024-01-13 12:45:26</td>\n",
       "      <td>2024-01-13 12:51:39</td>\n",
       "      <td>Alabama &amp; MLK Ave SE</td>\n",
       "      <td>31800</td>\n",
       "      <td>Alabama Ave &amp; Stanton Rd SE / Shops at Park Vi...</td>\n",
       "      <td>31813.0</td>\n",
       "      <td>casual</td>\n",
       "      <td>6.216667</td>\n",
       "      <td>...</td>\n",
       "      <td>38.846270</td>\n",
       "      <td>Small</td>\n",
       "      <td>Medium</td>\n",
       "      <td>0</td>\n",
       "      <td>0</td>\n",
       "      <td>3587.020946</td>\n",
       "      <td>dqchzz</td>\n",
       "      <td>dqckbp</td>\n",
       "      <td>Low Traffic</td>\n",
       "      <td>Rainy</td>\n",
       "    </tr>\n",
       "    <tr>\n",
       "      <th>94</th>\n",
       "      <td>8DD20FEDB618CE47</td>\n",
       "      <td>classic_bike</td>\n",
       "      <td>2024-01-08 19:11:35</td>\n",
       "      <td>2024-01-08 19:15:42</td>\n",
       "      <td>1st &amp; O St NW</td>\n",
       "      <td>31519</td>\n",
       "      <td>11th &amp; O St NW</td>\n",
       "      <td>31286.0</td>\n",
       "      <td>member</td>\n",
       "      <td>4.116667</td>\n",
       "      <td>...</td>\n",
       "      <td>38.908431</td>\n",
       "      <td>Small</td>\n",
       "      <td>Large</td>\n",
       "      <td>0</td>\n",
       "      <td>0</td>\n",
       "      <td>842.684543</td>\n",
       "      <td>dqcjre</td>\n",
       "      <td>dqcjr5</td>\n",
       "      <td>High Traffic</td>\n",
       "      <td>Cloudy</td>\n",
       "    </tr>\n",
       "    <tr>\n",
       "      <th>95</th>\n",
       "      <td>03A98F39C412ACD9</td>\n",
       "      <td>classic_bike</td>\n",
       "      <td>2024-01-02 17:11:18</td>\n",
       "      <td>2024-01-02 17:23:10</td>\n",
       "      <td>11th &amp; Park Rd NW</td>\n",
       "      <td>31651</td>\n",
       "      <td>11th &amp; O St NW</td>\n",
       "      <td>31286.0</td>\n",
       "      <td>casual</td>\n",
       "      <td>11.866667</td>\n",
       "      <td>...</td>\n",
       "      <td>38.908431</td>\n",
       "      <td>Medium</td>\n",
       "      <td>Large</td>\n",
       "      <td>0</td>\n",
       "      <td>0</td>\n",
       "      <td>842.684543</td>\n",
       "      <td>dqcjrp</td>\n",
       "      <td>dqcjr5</td>\n",
       "      <td>Medium Traffic</td>\n",
       "      <td>Cloudy</td>\n",
       "    </tr>\n",
       "    <tr>\n",
       "      <th>96</th>\n",
       "      <td>D0B068C458A2A5A7</td>\n",
       "      <td>classic_bike</td>\n",
       "      <td>2024-01-01 13:58:05</td>\n",
       "      <td>2024-01-01 14:05:49</td>\n",
       "      <td>11th &amp; Park Rd NW</td>\n",
       "      <td>31651</td>\n",
       "      <td>11th &amp; O St NW</td>\n",
       "      <td>31286.0</td>\n",
       "      <td>member</td>\n",
       "      <td>7.733333</td>\n",
       "      <td>...</td>\n",
       "      <td>38.908431</td>\n",
       "      <td>Medium</td>\n",
       "      <td>Large</td>\n",
       "      <td>0</td>\n",
       "      <td>0</td>\n",
       "      <td>842.684543</td>\n",
       "      <td>dqcjrp</td>\n",
       "      <td>dqcjr5</td>\n",
       "      <td>Medium Traffic</td>\n",
       "      <td>Rainy</td>\n",
       "    </tr>\n",
       "  </tbody>\n",
       "</table>\n",
       "<p>97 rows × 44 columns</p>\n",
       "</div>"
      ]
     },
     "execution_count": 452,
     "metadata": {},
     "output_type": "execute_result"
    }
   ],
   "execution_count": 452
  },
  {
   "metadata": {
    "ExecuteTime": {
     "end_time": "2025-06-21T15:31:05.451197Z",
     "start_time": "2025-06-21T15:31:05.446348Z"
    }
   },
   "cell_type": "code",
   "source": "df_modified['trip_price'] = df_modified.apply(hf.calculate_price, axis=1)",
   "id": "8f6b0e417b3ec7c2",
   "outputs": [],
   "execution_count": 453
  },
  {
   "metadata": {
    "ExecuteTime": {
     "end_time": "2025-06-21T15:31:07.842007Z",
     "start_time": "2025-06-21T15:31:07.829211Z"
    }
   },
   "cell_type": "code",
   "source": [
    "df_modified['ended_at'] = pd.to_datetime(df_modified['ended_at'])\n",
    "\n",
    "df_modified['payment_day'] = df_modified['ended_at'].dt.date\n",
    "\n",
    "daily_revenue = df_modified.groupby(['payment_day', 'weather_category'])['trip_price'].sum().reset_index()\n",
    "\n",
    "long_format = daily_revenue.copy()\n",
    "\n",
    "wide_format = daily_revenue.pivot(index='payment_day', columns='weather_category', values='trip_price').fillna(0).reset_index()\n",
    "wide_format.columns.name = None  # remove pivoted column name\n",
    "\n",
    "print(\"Long Format:\")\n",
    "print(long_format.head())\n",
    "\n",
    "print(\"\\nWide Format:\")\n",
    "print(wide_format.head())"
   ],
   "id": "5f24cd3d21f2a521",
   "outputs": [
    {
     "name": "stdout",
     "output_type": "stream",
     "text": [
      "Long Format:\n",
      "  payment_day weather_category  trip_price\n",
      "0  2024-01-01            Rainy        3.59\n",
      "1  2024-01-02           Cloudy        9.18\n",
      "2  2024-01-03           Cloudy       20.45\n",
      "3  2024-01-04           Cloudy       11.27\n",
      "4  2024-01-05           Cloudy        8.68\n",
      "\n",
      "Wide Format:\n",
      "  payment_day  Cloudy  Rainy  Sunny\n",
      "0  2024-01-01    0.00   3.59    0.0\n",
      "1  2024-01-02    9.18   0.00    0.0\n",
      "2  2024-01-03   20.45   0.00    0.0\n",
      "3  2024-01-04   11.27   0.00    0.0\n",
      "4  2024-01-05    8.68   0.00    0.0\n"
     ]
    }
   ],
   "execution_count": 454
  },
  {
   "metadata": {
    "ExecuteTime": {
     "end_time": "2025-06-21T15:57:25.496339Z",
     "start_time": "2025-06-21T15:57:25.457340Z"
    }
   },
   "cell_type": "code",
   "source": [
    "# 1. Bar plot showing statistics of the top 5 start stations that had most trips\n",
    "top5_starts = df_modified['start_station_name'].value_counts().nlargest(5).reset_index()\n",
    "top5_starts.columns = ['start_station_name', 'trip_count']\n",
    "fig1 = px.bar(\n",
    "    top5_starts,\n",
    "    x='start_station_name',\n",
    "    y='trip_count',\n",
    "    title='Top 5 Start Stations by Trip Count',\n",
    "    labels={'trip_count': 'Number of Trips', 'start_station_name': 'Start Station'},\n",
    "    color='trip_count',\n",
    "    color_continuous_scale='Blues'\n",
    ")\n",
    "\n",
    "fig1.show()"
   ],
   "id": "dd8be9421da4df99",
   "outputs": [
    {
     "data": {
      "application/vnd.plotly.v1+json": {
       "data": [
        {
         "alignmentgroup": "True",
         "hovertemplate": "Start Station=%{x}<br>Number of Trips=%{marker.color}<extra></extra>",
         "legendgroup": "",
         "marker": {
          "color": [
           12,
           12,
           11,
           11,
           5
          ],
          "coloraxis": "coloraxis",
          "pattern": {
           "shape": ""
          }
         },
         "name": "",
         "offsetgroup": "",
         "orientation": "v",
         "showlegend": false,
         "textposition": "auto",
         "x": [
          "9th St & Pennsylvania Ave NW",
          "Half & Water St SW",
          "1st & O St NW",
          "Wilson Blvd & N Oak St",
          "N Lynn St & Fairfax Dr"
         ],
         "xaxis": "x",
         "y": [
          12,
          12,
          11,
          11,
          5
         ],
         "yaxis": "y",
         "type": "bar"
        }
       ],
       "layout": {
        "template": {
         "data": {
          "histogram2dcontour": [
           {
            "type": "histogram2dcontour",
            "colorbar": {
             "outlinewidth": 0,
             "ticks": ""
            },
            "colorscale": [
             [
              0.0,
              "#0d0887"
             ],
             [
              0.1111111111111111,
              "#46039f"
             ],
             [
              0.2222222222222222,
              "#7201a8"
             ],
             [
              0.3333333333333333,
              "#9c179e"
             ],
             [
              0.4444444444444444,
              "#bd3786"
             ],
             [
              0.5555555555555556,
              "#d8576b"
             ],
             [
              0.6666666666666666,
              "#ed7953"
             ],
             [
              0.7777777777777778,
              "#fb9f3a"
             ],
             [
              0.8888888888888888,
              "#fdca26"
             ],
             [
              1.0,
              "#f0f921"
             ]
            ]
           }
          ],
          "choropleth": [
           {
            "type": "choropleth",
            "colorbar": {
             "outlinewidth": 0,
             "ticks": ""
            }
           }
          ],
          "histogram2d": [
           {
            "type": "histogram2d",
            "colorbar": {
             "outlinewidth": 0,
             "ticks": ""
            },
            "colorscale": [
             [
              0.0,
              "#0d0887"
             ],
             [
              0.1111111111111111,
              "#46039f"
             ],
             [
              0.2222222222222222,
              "#7201a8"
             ],
             [
              0.3333333333333333,
              "#9c179e"
             ],
             [
              0.4444444444444444,
              "#bd3786"
             ],
             [
              0.5555555555555556,
              "#d8576b"
             ],
             [
              0.6666666666666666,
              "#ed7953"
             ],
             [
              0.7777777777777778,
              "#fb9f3a"
             ],
             [
              0.8888888888888888,
              "#fdca26"
             ],
             [
              1.0,
              "#f0f921"
             ]
            ]
           }
          ],
          "heatmap": [
           {
            "type": "heatmap",
            "colorbar": {
             "outlinewidth": 0,
             "ticks": ""
            },
            "colorscale": [
             [
              0.0,
              "#0d0887"
             ],
             [
              0.1111111111111111,
              "#46039f"
             ],
             [
              0.2222222222222222,
              "#7201a8"
             ],
             [
              0.3333333333333333,
              "#9c179e"
             ],
             [
              0.4444444444444444,
              "#bd3786"
             ],
             [
              0.5555555555555556,
              "#d8576b"
             ],
             [
              0.6666666666666666,
              "#ed7953"
             ],
             [
              0.7777777777777778,
              "#fb9f3a"
             ],
             [
              0.8888888888888888,
              "#fdca26"
             ],
             [
              1.0,
              "#f0f921"
             ]
            ]
           }
          ],
          "heatmapgl": [
           {
            "type": "heatmapgl",
            "colorbar": {
             "outlinewidth": 0,
             "ticks": ""
            },
            "colorscale": [
             [
              0.0,
              "#0d0887"
             ],
             [
              0.1111111111111111,
              "#46039f"
             ],
             [
              0.2222222222222222,
              "#7201a8"
             ],
             [
              0.3333333333333333,
              "#9c179e"
             ],
             [
              0.4444444444444444,
              "#bd3786"
             ],
             [
              0.5555555555555556,
              "#d8576b"
             ],
             [
              0.6666666666666666,
              "#ed7953"
             ],
             [
              0.7777777777777778,
              "#fb9f3a"
             ],
             [
              0.8888888888888888,
              "#fdca26"
             ],
             [
              1.0,
              "#f0f921"
             ]
            ]
           }
          ],
          "contourcarpet": [
           {
            "type": "contourcarpet",
            "colorbar": {
             "outlinewidth": 0,
             "ticks": ""
            }
           }
          ],
          "contour": [
           {
            "type": "contour",
            "colorbar": {
             "outlinewidth": 0,
             "ticks": ""
            },
            "colorscale": [
             [
              0.0,
              "#0d0887"
             ],
             [
              0.1111111111111111,
              "#46039f"
             ],
             [
              0.2222222222222222,
              "#7201a8"
             ],
             [
              0.3333333333333333,
              "#9c179e"
             ],
             [
              0.4444444444444444,
              "#bd3786"
             ],
             [
              0.5555555555555556,
              "#d8576b"
             ],
             [
              0.6666666666666666,
              "#ed7953"
             ],
             [
              0.7777777777777778,
              "#fb9f3a"
             ],
             [
              0.8888888888888888,
              "#fdca26"
             ],
             [
              1.0,
              "#f0f921"
             ]
            ]
           }
          ],
          "surface": [
           {
            "type": "surface",
            "colorbar": {
             "outlinewidth": 0,
             "ticks": ""
            },
            "colorscale": [
             [
              0.0,
              "#0d0887"
             ],
             [
              0.1111111111111111,
              "#46039f"
             ],
             [
              0.2222222222222222,
              "#7201a8"
             ],
             [
              0.3333333333333333,
              "#9c179e"
             ],
             [
              0.4444444444444444,
              "#bd3786"
             ],
             [
              0.5555555555555556,
              "#d8576b"
             ],
             [
              0.6666666666666666,
              "#ed7953"
             ],
             [
              0.7777777777777778,
              "#fb9f3a"
             ],
             [
              0.8888888888888888,
              "#fdca26"
             ],
             [
              1.0,
              "#f0f921"
             ]
            ]
           }
          ],
          "mesh3d": [
           {
            "type": "mesh3d",
            "colorbar": {
             "outlinewidth": 0,
             "ticks": ""
            }
           }
          ],
          "scatter": [
           {
            "fillpattern": {
             "fillmode": "overlay",
             "size": 10,
             "solidity": 0.2
            },
            "type": "scatter"
           }
          ],
          "parcoords": [
           {
            "type": "parcoords",
            "line": {
             "colorbar": {
              "outlinewidth": 0,
              "ticks": ""
             }
            }
           }
          ],
          "scatterpolargl": [
           {
            "type": "scatterpolargl",
            "marker": {
             "colorbar": {
              "outlinewidth": 0,
              "ticks": ""
             }
            }
           }
          ],
          "bar": [
           {
            "error_x": {
             "color": "#2a3f5f"
            },
            "error_y": {
             "color": "#2a3f5f"
            },
            "marker": {
             "line": {
              "color": "#E5ECF6",
              "width": 0.5
             },
             "pattern": {
              "fillmode": "overlay",
              "size": 10,
              "solidity": 0.2
             }
            },
            "type": "bar"
           }
          ],
          "scattergeo": [
           {
            "type": "scattergeo",
            "marker": {
             "colorbar": {
              "outlinewidth": 0,
              "ticks": ""
             }
            }
           }
          ],
          "scatterpolar": [
           {
            "type": "scatterpolar",
            "marker": {
             "colorbar": {
              "outlinewidth": 0,
              "ticks": ""
             }
            }
           }
          ],
          "histogram": [
           {
            "marker": {
             "pattern": {
              "fillmode": "overlay",
              "size": 10,
              "solidity": 0.2
             }
            },
            "type": "histogram"
           }
          ],
          "scattergl": [
           {
            "type": "scattergl",
            "marker": {
             "colorbar": {
              "outlinewidth": 0,
              "ticks": ""
             }
            }
           }
          ],
          "scatter3d": [
           {
            "type": "scatter3d",
            "line": {
             "colorbar": {
              "outlinewidth": 0,
              "ticks": ""
             }
            },
            "marker": {
             "colorbar": {
              "outlinewidth": 0,
              "ticks": ""
             }
            }
           }
          ],
          "scattermapbox": [
           {
            "type": "scattermapbox",
            "marker": {
             "colorbar": {
              "outlinewidth": 0,
              "ticks": ""
             }
            }
           }
          ],
          "scatterternary": [
           {
            "type": "scatterternary",
            "marker": {
             "colorbar": {
              "outlinewidth": 0,
              "ticks": ""
             }
            }
           }
          ],
          "scattercarpet": [
           {
            "type": "scattercarpet",
            "marker": {
             "colorbar": {
              "outlinewidth": 0,
              "ticks": ""
             }
            }
           }
          ],
          "carpet": [
           {
            "aaxis": {
             "endlinecolor": "#2a3f5f",
             "gridcolor": "white",
             "linecolor": "white",
             "minorgridcolor": "white",
             "startlinecolor": "#2a3f5f"
            },
            "baxis": {
             "endlinecolor": "#2a3f5f",
             "gridcolor": "white",
             "linecolor": "white",
             "minorgridcolor": "white",
             "startlinecolor": "#2a3f5f"
            },
            "type": "carpet"
           }
          ],
          "table": [
           {
            "cells": {
             "fill": {
              "color": "#EBF0F8"
             },
             "line": {
              "color": "white"
             }
            },
            "header": {
             "fill": {
              "color": "#C8D4E3"
             },
             "line": {
              "color": "white"
             }
            },
            "type": "table"
           }
          ],
          "barpolar": [
           {
            "marker": {
             "line": {
              "color": "#E5ECF6",
              "width": 0.5
             },
             "pattern": {
              "fillmode": "overlay",
              "size": 10,
              "solidity": 0.2
             }
            },
            "type": "barpolar"
           }
          ],
          "pie": [
           {
            "automargin": true,
            "type": "pie"
           }
          ]
         },
         "layout": {
          "autotypenumbers": "strict",
          "colorway": [
           "#636efa",
           "#EF553B",
           "#00cc96",
           "#ab63fa",
           "#FFA15A",
           "#19d3f3",
           "#FF6692",
           "#B6E880",
           "#FF97FF",
           "#FECB52"
          ],
          "font": {
           "color": "#2a3f5f"
          },
          "hovermode": "closest",
          "hoverlabel": {
           "align": "left"
          },
          "paper_bgcolor": "white",
          "plot_bgcolor": "#E5ECF6",
          "polar": {
           "bgcolor": "#E5ECF6",
           "angularaxis": {
            "gridcolor": "white",
            "linecolor": "white",
            "ticks": ""
           },
           "radialaxis": {
            "gridcolor": "white",
            "linecolor": "white",
            "ticks": ""
           }
          },
          "ternary": {
           "bgcolor": "#E5ECF6",
           "aaxis": {
            "gridcolor": "white",
            "linecolor": "white",
            "ticks": ""
           },
           "baxis": {
            "gridcolor": "white",
            "linecolor": "white",
            "ticks": ""
           },
           "caxis": {
            "gridcolor": "white",
            "linecolor": "white",
            "ticks": ""
           }
          },
          "coloraxis": {
           "colorbar": {
            "outlinewidth": 0,
            "ticks": ""
           }
          },
          "colorscale": {
           "sequential": [
            [
             0.0,
             "#0d0887"
            ],
            [
             0.1111111111111111,
             "#46039f"
            ],
            [
             0.2222222222222222,
             "#7201a8"
            ],
            [
             0.3333333333333333,
             "#9c179e"
            ],
            [
             0.4444444444444444,
             "#bd3786"
            ],
            [
             0.5555555555555556,
             "#d8576b"
            ],
            [
             0.6666666666666666,
             "#ed7953"
            ],
            [
             0.7777777777777778,
             "#fb9f3a"
            ],
            [
             0.8888888888888888,
             "#fdca26"
            ],
            [
             1.0,
             "#f0f921"
            ]
           ],
           "sequentialminus": [
            [
             0.0,
             "#0d0887"
            ],
            [
             0.1111111111111111,
             "#46039f"
            ],
            [
             0.2222222222222222,
             "#7201a8"
            ],
            [
             0.3333333333333333,
             "#9c179e"
            ],
            [
             0.4444444444444444,
             "#bd3786"
            ],
            [
             0.5555555555555556,
             "#d8576b"
            ],
            [
             0.6666666666666666,
             "#ed7953"
            ],
            [
             0.7777777777777778,
             "#fb9f3a"
            ],
            [
             0.8888888888888888,
             "#fdca26"
            ],
            [
             1.0,
             "#f0f921"
            ]
           ],
           "diverging": [
            [
             0,
             "#8e0152"
            ],
            [
             0.1,
             "#c51b7d"
            ],
            [
             0.2,
             "#de77ae"
            ],
            [
             0.3,
             "#f1b6da"
            ],
            [
             0.4,
             "#fde0ef"
            ],
            [
             0.5,
             "#f7f7f7"
            ],
            [
             0.6,
             "#e6f5d0"
            ],
            [
             0.7,
             "#b8e186"
            ],
            [
             0.8,
             "#7fbc41"
            ],
            [
             0.9,
             "#4d9221"
            ],
            [
             1,
             "#276419"
            ]
           ]
          },
          "xaxis": {
           "gridcolor": "white",
           "linecolor": "white",
           "ticks": "",
           "title": {
            "standoff": 15
           },
           "zerolinecolor": "white",
           "automargin": true,
           "zerolinewidth": 2
          },
          "yaxis": {
           "gridcolor": "white",
           "linecolor": "white",
           "ticks": "",
           "title": {
            "standoff": 15
           },
           "zerolinecolor": "white",
           "automargin": true,
           "zerolinewidth": 2
          },
          "scene": {
           "xaxis": {
            "backgroundcolor": "#E5ECF6",
            "gridcolor": "white",
            "linecolor": "white",
            "showbackground": true,
            "ticks": "",
            "zerolinecolor": "white",
            "gridwidth": 2
           },
           "yaxis": {
            "backgroundcolor": "#E5ECF6",
            "gridcolor": "white",
            "linecolor": "white",
            "showbackground": true,
            "ticks": "",
            "zerolinecolor": "white",
            "gridwidth": 2
           },
           "zaxis": {
            "backgroundcolor": "#E5ECF6",
            "gridcolor": "white",
            "linecolor": "white",
            "showbackground": true,
            "ticks": "",
            "zerolinecolor": "white",
            "gridwidth": 2
           }
          },
          "shapedefaults": {
           "line": {
            "color": "#2a3f5f"
           }
          },
          "annotationdefaults": {
           "arrowcolor": "#2a3f5f",
           "arrowhead": 0,
           "arrowwidth": 1
          },
          "geo": {
           "bgcolor": "white",
           "landcolor": "#E5ECF6",
           "subunitcolor": "white",
           "showland": true,
           "showlakes": true,
           "lakecolor": "white"
          },
          "title": {
           "x": 0.05
          },
          "mapbox": {
           "style": "light"
          }
         }
        },
        "xaxis": {
         "anchor": "y",
         "domain": [
          0.0,
          1.0
         ],
         "title": {
          "text": "Start Station"
         }
        },
        "yaxis": {
         "anchor": "x",
         "domain": [
          0.0,
          1.0
         ],
         "title": {
          "text": "Number of Trips"
         }
        },
        "coloraxis": {
         "colorbar": {
          "title": {
           "text": "Number of Trips"
          }
         },
         "colorscale": [
          [
           0.0,
           "rgb(247,251,255)"
          ],
          [
           0.125,
           "rgb(222,235,247)"
          ],
          [
           0.25,
           "rgb(198,219,239)"
          ],
          [
           0.375,
           "rgb(158,202,225)"
          ],
          [
           0.5,
           "rgb(107,174,214)"
          ],
          [
           0.625,
           "rgb(66,146,198)"
          ],
          [
           0.75,
           "rgb(33,113,181)"
          ],
          [
           0.875,
           "rgb(8,81,156)"
          ],
          [
           1.0,
           "rgb(8,48,107)"
          ]
         ]
        },
        "legend": {
         "tracegroupgap": 0
        },
        "title": {
         "text": "Top 5 Start Stations by Trip Count"
        },
        "barmode": "relative"
       },
       "config": {
        "plotlyServerURL": "https://plot.ly"
       }
      },
      "text/html": [
       "<div>                            <div id=\"77798e60-8a19-458d-b6b2-8d7afd216183\" class=\"plotly-graph-div\" style=\"height:525px; width:100%;\"></div>            <script type=\"text/javascript\">                require([\"plotly\"], function(Plotly) {                    window.PLOTLYENV=window.PLOTLYENV || {};                                    if (document.getElementById(\"77798e60-8a19-458d-b6b2-8d7afd216183\")) {                    Plotly.newPlot(                        \"77798e60-8a19-458d-b6b2-8d7afd216183\",                        [{\"alignmentgroup\":\"True\",\"hovertemplate\":\"Start Station=%{x}\\u003cbr\\u003eNumber of Trips=%{marker.color}\\u003cextra\\u003e\\u003c\\u002fextra\\u003e\",\"legendgroup\":\"\",\"marker\":{\"color\":[12,12,11,11,5],\"coloraxis\":\"coloraxis\",\"pattern\":{\"shape\":\"\"}},\"name\":\"\",\"offsetgroup\":\"\",\"orientation\":\"v\",\"showlegend\":false,\"textposition\":\"auto\",\"x\":[\"9th St & Pennsylvania Ave NW\",\"Half & Water St SW\",\"1st & O St NW\",\"Wilson Blvd & N Oak St\",\"N Lynn St & Fairfax Dr\"],\"xaxis\":\"x\",\"y\":[12,12,11,11,5],\"yaxis\":\"y\",\"type\":\"bar\"}],                        {\"template\":{\"data\":{\"histogram2dcontour\":[{\"type\":\"histogram2dcontour\",\"colorbar\":{\"outlinewidth\":0,\"ticks\":\"\"},\"colorscale\":[[0.0,\"#0d0887\"],[0.1111111111111111,\"#46039f\"],[0.2222222222222222,\"#7201a8\"],[0.3333333333333333,\"#9c179e\"],[0.4444444444444444,\"#bd3786\"],[0.5555555555555556,\"#d8576b\"],[0.6666666666666666,\"#ed7953\"],[0.7777777777777778,\"#fb9f3a\"],[0.8888888888888888,\"#fdca26\"],[1.0,\"#f0f921\"]]}],\"choropleth\":[{\"type\":\"choropleth\",\"colorbar\":{\"outlinewidth\":0,\"ticks\":\"\"}}],\"histogram2d\":[{\"type\":\"histogram2d\",\"colorbar\":{\"outlinewidth\":0,\"ticks\":\"\"},\"colorscale\":[[0.0,\"#0d0887\"],[0.1111111111111111,\"#46039f\"],[0.2222222222222222,\"#7201a8\"],[0.3333333333333333,\"#9c179e\"],[0.4444444444444444,\"#bd3786\"],[0.5555555555555556,\"#d8576b\"],[0.6666666666666666,\"#ed7953\"],[0.7777777777777778,\"#fb9f3a\"],[0.8888888888888888,\"#fdca26\"],[1.0,\"#f0f921\"]]}],\"heatmap\":[{\"type\":\"heatmap\",\"colorbar\":{\"outlinewidth\":0,\"ticks\":\"\"},\"colorscale\":[[0.0,\"#0d0887\"],[0.1111111111111111,\"#46039f\"],[0.2222222222222222,\"#7201a8\"],[0.3333333333333333,\"#9c179e\"],[0.4444444444444444,\"#bd3786\"],[0.5555555555555556,\"#d8576b\"],[0.6666666666666666,\"#ed7953\"],[0.7777777777777778,\"#fb9f3a\"],[0.8888888888888888,\"#fdca26\"],[1.0,\"#f0f921\"]]}],\"heatmapgl\":[{\"type\":\"heatmapgl\",\"colorbar\":{\"outlinewidth\":0,\"ticks\":\"\"},\"colorscale\":[[0.0,\"#0d0887\"],[0.1111111111111111,\"#46039f\"],[0.2222222222222222,\"#7201a8\"],[0.3333333333333333,\"#9c179e\"],[0.4444444444444444,\"#bd3786\"],[0.5555555555555556,\"#d8576b\"],[0.6666666666666666,\"#ed7953\"],[0.7777777777777778,\"#fb9f3a\"],[0.8888888888888888,\"#fdca26\"],[1.0,\"#f0f921\"]]}],\"contourcarpet\":[{\"type\":\"contourcarpet\",\"colorbar\":{\"outlinewidth\":0,\"ticks\":\"\"}}],\"contour\":[{\"type\":\"contour\",\"colorbar\":{\"outlinewidth\":0,\"ticks\":\"\"},\"colorscale\":[[0.0,\"#0d0887\"],[0.1111111111111111,\"#46039f\"],[0.2222222222222222,\"#7201a8\"],[0.3333333333333333,\"#9c179e\"],[0.4444444444444444,\"#bd3786\"],[0.5555555555555556,\"#d8576b\"],[0.6666666666666666,\"#ed7953\"],[0.7777777777777778,\"#fb9f3a\"],[0.8888888888888888,\"#fdca26\"],[1.0,\"#f0f921\"]]}],\"surface\":[{\"type\":\"surface\",\"colorbar\":{\"outlinewidth\":0,\"ticks\":\"\"},\"colorscale\":[[0.0,\"#0d0887\"],[0.1111111111111111,\"#46039f\"],[0.2222222222222222,\"#7201a8\"],[0.3333333333333333,\"#9c179e\"],[0.4444444444444444,\"#bd3786\"],[0.5555555555555556,\"#d8576b\"],[0.6666666666666666,\"#ed7953\"],[0.7777777777777778,\"#fb9f3a\"],[0.8888888888888888,\"#fdca26\"],[1.0,\"#f0f921\"]]}],\"mesh3d\":[{\"type\":\"mesh3d\",\"colorbar\":{\"outlinewidth\":0,\"ticks\":\"\"}}],\"scatter\":[{\"fillpattern\":{\"fillmode\":\"overlay\",\"size\":10,\"solidity\":0.2},\"type\":\"scatter\"}],\"parcoords\":[{\"type\":\"parcoords\",\"line\":{\"colorbar\":{\"outlinewidth\":0,\"ticks\":\"\"}}}],\"scatterpolargl\":[{\"type\":\"scatterpolargl\",\"marker\":{\"colorbar\":{\"outlinewidth\":0,\"ticks\":\"\"}}}],\"bar\":[{\"error_x\":{\"color\":\"#2a3f5f\"},\"error_y\":{\"color\":\"#2a3f5f\"},\"marker\":{\"line\":{\"color\":\"#E5ECF6\",\"width\":0.5},\"pattern\":{\"fillmode\":\"overlay\",\"size\":10,\"solidity\":0.2}},\"type\":\"bar\"}],\"scattergeo\":[{\"type\":\"scattergeo\",\"marker\":{\"colorbar\":{\"outlinewidth\":0,\"ticks\":\"\"}}}],\"scatterpolar\":[{\"type\":\"scatterpolar\",\"marker\":{\"colorbar\":{\"outlinewidth\":0,\"ticks\":\"\"}}}],\"histogram\":[{\"marker\":{\"pattern\":{\"fillmode\":\"overlay\",\"size\":10,\"solidity\":0.2}},\"type\":\"histogram\"}],\"scattergl\":[{\"type\":\"scattergl\",\"marker\":{\"colorbar\":{\"outlinewidth\":0,\"ticks\":\"\"}}}],\"scatter3d\":[{\"type\":\"scatter3d\",\"line\":{\"colorbar\":{\"outlinewidth\":0,\"ticks\":\"\"}},\"marker\":{\"colorbar\":{\"outlinewidth\":0,\"ticks\":\"\"}}}],\"scattermapbox\":[{\"type\":\"scattermapbox\",\"marker\":{\"colorbar\":{\"outlinewidth\":0,\"ticks\":\"\"}}}],\"scatterternary\":[{\"type\":\"scatterternary\",\"marker\":{\"colorbar\":{\"outlinewidth\":0,\"ticks\":\"\"}}}],\"scattercarpet\":[{\"type\":\"scattercarpet\",\"marker\":{\"colorbar\":{\"outlinewidth\":0,\"ticks\":\"\"}}}],\"carpet\":[{\"aaxis\":{\"endlinecolor\":\"#2a3f5f\",\"gridcolor\":\"white\",\"linecolor\":\"white\",\"minorgridcolor\":\"white\",\"startlinecolor\":\"#2a3f5f\"},\"baxis\":{\"endlinecolor\":\"#2a3f5f\",\"gridcolor\":\"white\",\"linecolor\":\"white\",\"minorgridcolor\":\"white\",\"startlinecolor\":\"#2a3f5f\"},\"type\":\"carpet\"}],\"table\":[{\"cells\":{\"fill\":{\"color\":\"#EBF0F8\"},\"line\":{\"color\":\"white\"}},\"header\":{\"fill\":{\"color\":\"#C8D4E3\"},\"line\":{\"color\":\"white\"}},\"type\":\"table\"}],\"barpolar\":[{\"marker\":{\"line\":{\"color\":\"#E5ECF6\",\"width\":0.5},\"pattern\":{\"fillmode\":\"overlay\",\"size\":10,\"solidity\":0.2}},\"type\":\"barpolar\"}],\"pie\":[{\"automargin\":true,\"type\":\"pie\"}]},\"layout\":{\"autotypenumbers\":\"strict\",\"colorway\":[\"#636efa\",\"#EF553B\",\"#00cc96\",\"#ab63fa\",\"#FFA15A\",\"#19d3f3\",\"#FF6692\",\"#B6E880\",\"#FF97FF\",\"#FECB52\"],\"font\":{\"color\":\"#2a3f5f\"},\"hovermode\":\"closest\",\"hoverlabel\":{\"align\":\"left\"},\"paper_bgcolor\":\"white\",\"plot_bgcolor\":\"#E5ECF6\",\"polar\":{\"bgcolor\":\"#E5ECF6\",\"angularaxis\":{\"gridcolor\":\"white\",\"linecolor\":\"white\",\"ticks\":\"\"},\"radialaxis\":{\"gridcolor\":\"white\",\"linecolor\":\"white\",\"ticks\":\"\"}},\"ternary\":{\"bgcolor\":\"#E5ECF6\",\"aaxis\":{\"gridcolor\":\"white\",\"linecolor\":\"white\",\"ticks\":\"\"},\"baxis\":{\"gridcolor\":\"white\",\"linecolor\":\"white\",\"ticks\":\"\"},\"caxis\":{\"gridcolor\":\"white\",\"linecolor\":\"white\",\"ticks\":\"\"}},\"coloraxis\":{\"colorbar\":{\"outlinewidth\":0,\"ticks\":\"\"}},\"colorscale\":{\"sequential\":[[0.0,\"#0d0887\"],[0.1111111111111111,\"#46039f\"],[0.2222222222222222,\"#7201a8\"],[0.3333333333333333,\"#9c179e\"],[0.4444444444444444,\"#bd3786\"],[0.5555555555555556,\"#d8576b\"],[0.6666666666666666,\"#ed7953\"],[0.7777777777777778,\"#fb9f3a\"],[0.8888888888888888,\"#fdca26\"],[1.0,\"#f0f921\"]],\"sequentialminus\":[[0.0,\"#0d0887\"],[0.1111111111111111,\"#46039f\"],[0.2222222222222222,\"#7201a8\"],[0.3333333333333333,\"#9c179e\"],[0.4444444444444444,\"#bd3786\"],[0.5555555555555556,\"#d8576b\"],[0.6666666666666666,\"#ed7953\"],[0.7777777777777778,\"#fb9f3a\"],[0.8888888888888888,\"#fdca26\"],[1.0,\"#f0f921\"]],\"diverging\":[[0,\"#8e0152\"],[0.1,\"#c51b7d\"],[0.2,\"#de77ae\"],[0.3,\"#f1b6da\"],[0.4,\"#fde0ef\"],[0.5,\"#f7f7f7\"],[0.6,\"#e6f5d0\"],[0.7,\"#b8e186\"],[0.8,\"#7fbc41\"],[0.9,\"#4d9221\"],[1,\"#276419\"]]},\"xaxis\":{\"gridcolor\":\"white\",\"linecolor\":\"white\",\"ticks\":\"\",\"title\":{\"standoff\":15},\"zerolinecolor\":\"white\",\"automargin\":true,\"zerolinewidth\":2},\"yaxis\":{\"gridcolor\":\"white\",\"linecolor\":\"white\",\"ticks\":\"\",\"title\":{\"standoff\":15},\"zerolinecolor\":\"white\",\"automargin\":true,\"zerolinewidth\":2},\"scene\":{\"xaxis\":{\"backgroundcolor\":\"#E5ECF6\",\"gridcolor\":\"white\",\"linecolor\":\"white\",\"showbackground\":true,\"ticks\":\"\",\"zerolinecolor\":\"white\",\"gridwidth\":2},\"yaxis\":{\"backgroundcolor\":\"#E5ECF6\",\"gridcolor\":\"white\",\"linecolor\":\"white\",\"showbackground\":true,\"ticks\":\"\",\"zerolinecolor\":\"white\",\"gridwidth\":2},\"zaxis\":{\"backgroundcolor\":\"#E5ECF6\",\"gridcolor\":\"white\",\"linecolor\":\"white\",\"showbackground\":true,\"ticks\":\"\",\"zerolinecolor\":\"white\",\"gridwidth\":2}},\"shapedefaults\":{\"line\":{\"color\":\"#2a3f5f\"}},\"annotationdefaults\":{\"arrowcolor\":\"#2a3f5f\",\"arrowhead\":0,\"arrowwidth\":1},\"geo\":{\"bgcolor\":\"white\",\"landcolor\":\"#E5ECF6\",\"subunitcolor\":\"white\",\"showland\":true,\"showlakes\":true,\"lakecolor\":\"white\"},\"title\":{\"x\":0.05},\"mapbox\":{\"style\":\"light\"}}},\"xaxis\":{\"anchor\":\"y\",\"domain\":[0.0,1.0],\"title\":{\"text\":\"Start Station\"}},\"yaxis\":{\"anchor\":\"x\",\"domain\":[0.0,1.0],\"title\":{\"text\":\"Number of Trips\"}},\"coloraxis\":{\"colorbar\":{\"title\":{\"text\":\"Number of Trips\"}},\"colorscale\":[[0.0,\"rgb(247,251,255)\"],[0.125,\"rgb(222,235,247)\"],[0.25,\"rgb(198,219,239)\"],[0.375,\"rgb(158,202,225)\"],[0.5,\"rgb(107,174,214)\"],[0.625,\"rgb(66,146,198)\"],[0.75,\"rgb(33,113,181)\"],[0.875,\"rgb(8,81,156)\"],[1.0,\"rgb(8,48,107)\"]]},\"legend\":{\"tracegroupgap\":0},\"title\":{\"text\":\"Top 5 Start Stations by Trip Count\"},\"barmode\":\"relative\"},                        {\"responsive\": true}                    ).then(function(){\n",
       "                            \n",
       "var gd = document.getElementById('77798e60-8a19-458d-b6b2-8d7afd216183');\n",
       "var x = new MutationObserver(function (mutations, observer) {{\n",
       "        var display = window.getComputedStyle(gd).display;\n",
       "        if (!display || display === 'none') {{\n",
       "            console.log([gd, 'removed!']);\n",
       "            Plotly.purge(gd);\n",
       "            observer.disconnect();\n",
       "        }}\n",
       "}});\n",
       "\n",
       "// Listen for the removal of the full notebook cells\n",
       "var notebookContainer = gd.closest('#notebook-container');\n",
       "if (notebookContainer) {{\n",
       "    x.observe(notebookContainer, {childList: true});\n",
       "}}\n",
       "\n",
       "// Listen for the clearing of the current output cell\n",
       "var outputEl = gd.closest('.output');\n",
       "if (outputEl) {{\n",
       "    x.observe(outputEl, {childList: true});\n",
       "}}\n",
       "\n",
       "                        })                };                });            </script>        </div>"
      ]
     },
     "metadata": {},
     "output_type": "display_data"
    }
   ],
   "execution_count": 484
  },
  {
   "metadata": {
    "ExecuteTime": {
     "end_time": "2025-06-21T15:57:26.260619Z",
     "start_time": "2025-06-21T15:57:26.220615Z"
    }
   },
   "cell_type": "code",
   "source": [
    "# 2. Bar plot: distribution of trips by bike and subscription type\n",
    "bike_subs_dist = df_modified.groupby(['rideable_type', 'member_casual']).size().reset_index(name='trip_count')\n",
    "fig2 = px.bar(\n",
    "    bike_subs_dist,\n",
    "    x='rideable_type',\n",
    "    y='trip_count',\n",
    "    color='member_casual',\n",
    "    barmode='group',\n",
    "    title='Trips by Bike Type and Subscription Type',\n",
    "    labels={'rideable_type': 'Bike Type', 'trip_count': 'Number of Trips', 'member_casual': 'User Type'}\n",
    ")\n",
    "\n",
    "fig2.show()"
   ],
   "id": "c5e85258108f6574",
   "outputs": [
    {
     "data": {
      "application/vnd.plotly.v1+json": {
       "data": [
        {
         "alignmentgroup": "True",
         "hovertemplate": "User Type=casual<br>Bike Type=%{x}<br>Number of Trips=%{y}<extra></extra>",
         "legendgroup": "casual",
         "marker": {
          "color": "#636efa",
          "pattern": {
           "shape": ""
          }
         },
         "name": "casual",
         "offsetgroup": "casual",
         "orientation": "v",
         "showlegend": true,
         "textposition": "auto",
         "x": [
          "classic_bike",
          "electric_bike"
         ],
         "xaxis": "x",
         "y": [
          9,
          18
         ],
         "yaxis": "y",
         "type": "bar"
        },
        {
         "alignmentgroup": "True",
         "hovertemplate": "User Type=member<br>Bike Type=%{x}<br>Number of Trips=%{y}<extra></extra>",
         "legendgroup": "member",
         "marker": {
          "color": "#EF553B",
          "pattern": {
           "shape": ""
          }
         },
         "name": "member",
         "offsetgroup": "member",
         "orientation": "v",
         "showlegend": true,
         "textposition": "auto",
         "x": [
          "classic_bike",
          "electric_bike"
         ],
         "xaxis": "x",
         "y": [
          30,
          40
         ],
         "yaxis": "y",
         "type": "bar"
        }
       ],
       "layout": {
        "template": {
         "data": {
          "histogram2dcontour": [
           {
            "type": "histogram2dcontour",
            "colorbar": {
             "outlinewidth": 0,
             "ticks": ""
            },
            "colorscale": [
             [
              0.0,
              "#0d0887"
             ],
             [
              0.1111111111111111,
              "#46039f"
             ],
             [
              0.2222222222222222,
              "#7201a8"
             ],
             [
              0.3333333333333333,
              "#9c179e"
             ],
             [
              0.4444444444444444,
              "#bd3786"
             ],
             [
              0.5555555555555556,
              "#d8576b"
             ],
             [
              0.6666666666666666,
              "#ed7953"
             ],
             [
              0.7777777777777778,
              "#fb9f3a"
             ],
             [
              0.8888888888888888,
              "#fdca26"
             ],
             [
              1.0,
              "#f0f921"
             ]
            ]
           }
          ],
          "choropleth": [
           {
            "type": "choropleth",
            "colorbar": {
             "outlinewidth": 0,
             "ticks": ""
            }
           }
          ],
          "histogram2d": [
           {
            "type": "histogram2d",
            "colorbar": {
             "outlinewidth": 0,
             "ticks": ""
            },
            "colorscale": [
             [
              0.0,
              "#0d0887"
             ],
             [
              0.1111111111111111,
              "#46039f"
             ],
             [
              0.2222222222222222,
              "#7201a8"
             ],
             [
              0.3333333333333333,
              "#9c179e"
             ],
             [
              0.4444444444444444,
              "#bd3786"
             ],
             [
              0.5555555555555556,
              "#d8576b"
             ],
             [
              0.6666666666666666,
              "#ed7953"
             ],
             [
              0.7777777777777778,
              "#fb9f3a"
             ],
             [
              0.8888888888888888,
              "#fdca26"
             ],
             [
              1.0,
              "#f0f921"
             ]
            ]
           }
          ],
          "heatmap": [
           {
            "type": "heatmap",
            "colorbar": {
             "outlinewidth": 0,
             "ticks": ""
            },
            "colorscale": [
             [
              0.0,
              "#0d0887"
             ],
             [
              0.1111111111111111,
              "#46039f"
             ],
             [
              0.2222222222222222,
              "#7201a8"
             ],
             [
              0.3333333333333333,
              "#9c179e"
             ],
             [
              0.4444444444444444,
              "#bd3786"
             ],
             [
              0.5555555555555556,
              "#d8576b"
             ],
             [
              0.6666666666666666,
              "#ed7953"
             ],
             [
              0.7777777777777778,
              "#fb9f3a"
             ],
             [
              0.8888888888888888,
              "#fdca26"
             ],
             [
              1.0,
              "#f0f921"
             ]
            ]
           }
          ],
          "heatmapgl": [
           {
            "type": "heatmapgl",
            "colorbar": {
             "outlinewidth": 0,
             "ticks": ""
            },
            "colorscale": [
             [
              0.0,
              "#0d0887"
             ],
             [
              0.1111111111111111,
              "#46039f"
             ],
             [
              0.2222222222222222,
              "#7201a8"
             ],
             [
              0.3333333333333333,
              "#9c179e"
             ],
             [
              0.4444444444444444,
              "#bd3786"
             ],
             [
              0.5555555555555556,
              "#d8576b"
             ],
             [
              0.6666666666666666,
              "#ed7953"
             ],
             [
              0.7777777777777778,
              "#fb9f3a"
             ],
             [
              0.8888888888888888,
              "#fdca26"
             ],
             [
              1.0,
              "#f0f921"
             ]
            ]
           }
          ],
          "contourcarpet": [
           {
            "type": "contourcarpet",
            "colorbar": {
             "outlinewidth": 0,
             "ticks": ""
            }
           }
          ],
          "contour": [
           {
            "type": "contour",
            "colorbar": {
             "outlinewidth": 0,
             "ticks": ""
            },
            "colorscale": [
             [
              0.0,
              "#0d0887"
             ],
             [
              0.1111111111111111,
              "#46039f"
             ],
             [
              0.2222222222222222,
              "#7201a8"
             ],
             [
              0.3333333333333333,
              "#9c179e"
             ],
             [
              0.4444444444444444,
              "#bd3786"
             ],
             [
              0.5555555555555556,
              "#d8576b"
             ],
             [
              0.6666666666666666,
              "#ed7953"
             ],
             [
              0.7777777777777778,
              "#fb9f3a"
             ],
             [
              0.8888888888888888,
              "#fdca26"
             ],
             [
              1.0,
              "#f0f921"
             ]
            ]
           }
          ],
          "surface": [
           {
            "type": "surface",
            "colorbar": {
             "outlinewidth": 0,
             "ticks": ""
            },
            "colorscale": [
             [
              0.0,
              "#0d0887"
             ],
             [
              0.1111111111111111,
              "#46039f"
             ],
             [
              0.2222222222222222,
              "#7201a8"
             ],
             [
              0.3333333333333333,
              "#9c179e"
             ],
             [
              0.4444444444444444,
              "#bd3786"
             ],
             [
              0.5555555555555556,
              "#d8576b"
             ],
             [
              0.6666666666666666,
              "#ed7953"
             ],
             [
              0.7777777777777778,
              "#fb9f3a"
             ],
             [
              0.8888888888888888,
              "#fdca26"
             ],
             [
              1.0,
              "#f0f921"
             ]
            ]
           }
          ],
          "mesh3d": [
           {
            "type": "mesh3d",
            "colorbar": {
             "outlinewidth": 0,
             "ticks": ""
            }
           }
          ],
          "scatter": [
           {
            "fillpattern": {
             "fillmode": "overlay",
             "size": 10,
             "solidity": 0.2
            },
            "type": "scatter"
           }
          ],
          "parcoords": [
           {
            "type": "parcoords",
            "line": {
             "colorbar": {
              "outlinewidth": 0,
              "ticks": ""
             }
            }
           }
          ],
          "scatterpolargl": [
           {
            "type": "scatterpolargl",
            "marker": {
             "colorbar": {
              "outlinewidth": 0,
              "ticks": ""
             }
            }
           }
          ],
          "bar": [
           {
            "error_x": {
             "color": "#2a3f5f"
            },
            "error_y": {
             "color": "#2a3f5f"
            },
            "marker": {
             "line": {
              "color": "#E5ECF6",
              "width": 0.5
             },
             "pattern": {
              "fillmode": "overlay",
              "size": 10,
              "solidity": 0.2
             }
            },
            "type": "bar"
           }
          ],
          "scattergeo": [
           {
            "type": "scattergeo",
            "marker": {
             "colorbar": {
              "outlinewidth": 0,
              "ticks": ""
             }
            }
           }
          ],
          "scatterpolar": [
           {
            "type": "scatterpolar",
            "marker": {
             "colorbar": {
              "outlinewidth": 0,
              "ticks": ""
             }
            }
           }
          ],
          "histogram": [
           {
            "marker": {
             "pattern": {
              "fillmode": "overlay",
              "size": 10,
              "solidity": 0.2
             }
            },
            "type": "histogram"
           }
          ],
          "scattergl": [
           {
            "type": "scattergl",
            "marker": {
             "colorbar": {
              "outlinewidth": 0,
              "ticks": ""
             }
            }
           }
          ],
          "scatter3d": [
           {
            "type": "scatter3d",
            "line": {
             "colorbar": {
              "outlinewidth": 0,
              "ticks": ""
             }
            },
            "marker": {
             "colorbar": {
              "outlinewidth": 0,
              "ticks": ""
             }
            }
           }
          ],
          "scattermapbox": [
           {
            "type": "scattermapbox",
            "marker": {
             "colorbar": {
              "outlinewidth": 0,
              "ticks": ""
             }
            }
           }
          ],
          "scatterternary": [
           {
            "type": "scatterternary",
            "marker": {
             "colorbar": {
              "outlinewidth": 0,
              "ticks": ""
             }
            }
           }
          ],
          "scattercarpet": [
           {
            "type": "scattercarpet",
            "marker": {
             "colorbar": {
              "outlinewidth": 0,
              "ticks": ""
             }
            }
           }
          ],
          "carpet": [
           {
            "aaxis": {
             "endlinecolor": "#2a3f5f",
             "gridcolor": "white",
             "linecolor": "white",
             "minorgridcolor": "white",
             "startlinecolor": "#2a3f5f"
            },
            "baxis": {
             "endlinecolor": "#2a3f5f",
             "gridcolor": "white",
             "linecolor": "white",
             "minorgridcolor": "white",
             "startlinecolor": "#2a3f5f"
            },
            "type": "carpet"
           }
          ],
          "table": [
           {
            "cells": {
             "fill": {
              "color": "#EBF0F8"
             },
             "line": {
              "color": "white"
             }
            },
            "header": {
             "fill": {
              "color": "#C8D4E3"
             },
             "line": {
              "color": "white"
             }
            },
            "type": "table"
           }
          ],
          "barpolar": [
           {
            "marker": {
             "line": {
              "color": "#E5ECF6",
              "width": 0.5
             },
             "pattern": {
              "fillmode": "overlay",
              "size": 10,
              "solidity": 0.2
             }
            },
            "type": "barpolar"
           }
          ],
          "pie": [
           {
            "automargin": true,
            "type": "pie"
           }
          ]
         },
         "layout": {
          "autotypenumbers": "strict",
          "colorway": [
           "#636efa",
           "#EF553B",
           "#00cc96",
           "#ab63fa",
           "#FFA15A",
           "#19d3f3",
           "#FF6692",
           "#B6E880",
           "#FF97FF",
           "#FECB52"
          ],
          "font": {
           "color": "#2a3f5f"
          },
          "hovermode": "closest",
          "hoverlabel": {
           "align": "left"
          },
          "paper_bgcolor": "white",
          "plot_bgcolor": "#E5ECF6",
          "polar": {
           "bgcolor": "#E5ECF6",
           "angularaxis": {
            "gridcolor": "white",
            "linecolor": "white",
            "ticks": ""
           },
           "radialaxis": {
            "gridcolor": "white",
            "linecolor": "white",
            "ticks": ""
           }
          },
          "ternary": {
           "bgcolor": "#E5ECF6",
           "aaxis": {
            "gridcolor": "white",
            "linecolor": "white",
            "ticks": ""
           },
           "baxis": {
            "gridcolor": "white",
            "linecolor": "white",
            "ticks": ""
           },
           "caxis": {
            "gridcolor": "white",
            "linecolor": "white",
            "ticks": ""
           }
          },
          "coloraxis": {
           "colorbar": {
            "outlinewidth": 0,
            "ticks": ""
           }
          },
          "colorscale": {
           "sequential": [
            [
             0.0,
             "#0d0887"
            ],
            [
             0.1111111111111111,
             "#46039f"
            ],
            [
             0.2222222222222222,
             "#7201a8"
            ],
            [
             0.3333333333333333,
             "#9c179e"
            ],
            [
             0.4444444444444444,
             "#bd3786"
            ],
            [
             0.5555555555555556,
             "#d8576b"
            ],
            [
             0.6666666666666666,
             "#ed7953"
            ],
            [
             0.7777777777777778,
             "#fb9f3a"
            ],
            [
             0.8888888888888888,
             "#fdca26"
            ],
            [
             1.0,
             "#f0f921"
            ]
           ],
           "sequentialminus": [
            [
             0.0,
             "#0d0887"
            ],
            [
             0.1111111111111111,
             "#46039f"
            ],
            [
             0.2222222222222222,
             "#7201a8"
            ],
            [
             0.3333333333333333,
             "#9c179e"
            ],
            [
             0.4444444444444444,
             "#bd3786"
            ],
            [
             0.5555555555555556,
             "#d8576b"
            ],
            [
             0.6666666666666666,
             "#ed7953"
            ],
            [
             0.7777777777777778,
             "#fb9f3a"
            ],
            [
             0.8888888888888888,
             "#fdca26"
            ],
            [
             1.0,
             "#f0f921"
            ]
           ],
           "diverging": [
            [
             0,
             "#8e0152"
            ],
            [
             0.1,
             "#c51b7d"
            ],
            [
             0.2,
             "#de77ae"
            ],
            [
             0.3,
             "#f1b6da"
            ],
            [
             0.4,
             "#fde0ef"
            ],
            [
             0.5,
             "#f7f7f7"
            ],
            [
             0.6,
             "#e6f5d0"
            ],
            [
             0.7,
             "#b8e186"
            ],
            [
             0.8,
             "#7fbc41"
            ],
            [
             0.9,
             "#4d9221"
            ],
            [
             1,
             "#276419"
            ]
           ]
          },
          "xaxis": {
           "gridcolor": "white",
           "linecolor": "white",
           "ticks": "",
           "title": {
            "standoff": 15
           },
           "zerolinecolor": "white",
           "automargin": true,
           "zerolinewidth": 2
          },
          "yaxis": {
           "gridcolor": "white",
           "linecolor": "white",
           "ticks": "",
           "title": {
            "standoff": 15
           },
           "zerolinecolor": "white",
           "automargin": true,
           "zerolinewidth": 2
          },
          "scene": {
           "xaxis": {
            "backgroundcolor": "#E5ECF6",
            "gridcolor": "white",
            "linecolor": "white",
            "showbackground": true,
            "ticks": "",
            "zerolinecolor": "white",
            "gridwidth": 2
           },
           "yaxis": {
            "backgroundcolor": "#E5ECF6",
            "gridcolor": "white",
            "linecolor": "white",
            "showbackground": true,
            "ticks": "",
            "zerolinecolor": "white",
            "gridwidth": 2
           },
           "zaxis": {
            "backgroundcolor": "#E5ECF6",
            "gridcolor": "white",
            "linecolor": "white",
            "showbackground": true,
            "ticks": "",
            "zerolinecolor": "white",
            "gridwidth": 2
           }
          },
          "shapedefaults": {
           "line": {
            "color": "#2a3f5f"
           }
          },
          "annotationdefaults": {
           "arrowcolor": "#2a3f5f",
           "arrowhead": 0,
           "arrowwidth": 1
          },
          "geo": {
           "bgcolor": "white",
           "landcolor": "#E5ECF6",
           "subunitcolor": "white",
           "showland": true,
           "showlakes": true,
           "lakecolor": "white"
          },
          "title": {
           "x": 0.05
          },
          "mapbox": {
           "style": "light"
          }
         }
        },
        "xaxis": {
         "anchor": "y",
         "domain": [
          0.0,
          1.0
         ],
         "title": {
          "text": "Bike Type"
         }
        },
        "yaxis": {
         "anchor": "x",
         "domain": [
          0.0,
          1.0
         ],
         "title": {
          "text": "Number of Trips"
         }
        },
        "legend": {
         "title": {
          "text": "User Type"
         },
         "tracegroupgap": 0
        },
        "title": {
         "text": "Trips by Bike Type and Subscription Type"
        },
        "barmode": "group"
       },
       "config": {
        "plotlyServerURL": "https://plot.ly"
       }
      },
      "text/html": [
       "<div>                            <div id=\"b94cee3c-9385-4f5f-b1ee-1dce83bcc55a\" class=\"plotly-graph-div\" style=\"height:525px; width:100%;\"></div>            <script type=\"text/javascript\">                require([\"plotly\"], function(Plotly) {                    window.PLOTLYENV=window.PLOTLYENV || {};                                    if (document.getElementById(\"b94cee3c-9385-4f5f-b1ee-1dce83bcc55a\")) {                    Plotly.newPlot(                        \"b94cee3c-9385-4f5f-b1ee-1dce83bcc55a\",                        [{\"alignmentgroup\":\"True\",\"hovertemplate\":\"User Type=casual\\u003cbr\\u003eBike Type=%{x}\\u003cbr\\u003eNumber of Trips=%{y}\\u003cextra\\u003e\\u003c\\u002fextra\\u003e\",\"legendgroup\":\"casual\",\"marker\":{\"color\":\"#636efa\",\"pattern\":{\"shape\":\"\"}},\"name\":\"casual\",\"offsetgroup\":\"casual\",\"orientation\":\"v\",\"showlegend\":true,\"textposition\":\"auto\",\"x\":[\"classic_bike\",\"electric_bike\"],\"xaxis\":\"x\",\"y\":[9,18],\"yaxis\":\"y\",\"type\":\"bar\"},{\"alignmentgroup\":\"True\",\"hovertemplate\":\"User Type=member\\u003cbr\\u003eBike Type=%{x}\\u003cbr\\u003eNumber of Trips=%{y}\\u003cextra\\u003e\\u003c\\u002fextra\\u003e\",\"legendgroup\":\"member\",\"marker\":{\"color\":\"#EF553B\",\"pattern\":{\"shape\":\"\"}},\"name\":\"member\",\"offsetgroup\":\"member\",\"orientation\":\"v\",\"showlegend\":true,\"textposition\":\"auto\",\"x\":[\"classic_bike\",\"electric_bike\"],\"xaxis\":\"x\",\"y\":[30,40],\"yaxis\":\"y\",\"type\":\"bar\"}],                        {\"template\":{\"data\":{\"histogram2dcontour\":[{\"type\":\"histogram2dcontour\",\"colorbar\":{\"outlinewidth\":0,\"ticks\":\"\"},\"colorscale\":[[0.0,\"#0d0887\"],[0.1111111111111111,\"#46039f\"],[0.2222222222222222,\"#7201a8\"],[0.3333333333333333,\"#9c179e\"],[0.4444444444444444,\"#bd3786\"],[0.5555555555555556,\"#d8576b\"],[0.6666666666666666,\"#ed7953\"],[0.7777777777777778,\"#fb9f3a\"],[0.8888888888888888,\"#fdca26\"],[1.0,\"#f0f921\"]]}],\"choropleth\":[{\"type\":\"choropleth\",\"colorbar\":{\"outlinewidth\":0,\"ticks\":\"\"}}],\"histogram2d\":[{\"type\":\"histogram2d\",\"colorbar\":{\"outlinewidth\":0,\"ticks\":\"\"},\"colorscale\":[[0.0,\"#0d0887\"],[0.1111111111111111,\"#46039f\"],[0.2222222222222222,\"#7201a8\"],[0.3333333333333333,\"#9c179e\"],[0.4444444444444444,\"#bd3786\"],[0.5555555555555556,\"#d8576b\"],[0.6666666666666666,\"#ed7953\"],[0.7777777777777778,\"#fb9f3a\"],[0.8888888888888888,\"#fdca26\"],[1.0,\"#f0f921\"]]}],\"heatmap\":[{\"type\":\"heatmap\",\"colorbar\":{\"outlinewidth\":0,\"ticks\":\"\"},\"colorscale\":[[0.0,\"#0d0887\"],[0.1111111111111111,\"#46039f\"],[0.2222222222222222,\"#7201a8\"],[0.3333333333333333,\"#9c179e\"],[0.4444444444444444,\"#bd3786\"],[0.5555555555555556,\"#d8576b\"],[0.6666666666666666,\"#ed7953\"],[0.7777777777777778,\"#fb9f3a\"],[0.8888888888888888,\"#fdca26\"],[1.0,\"#f0f921\"]]}],\"heatmapgl\":[{\"type\":\"heatmapgl\",\"colorbar\":{\"outlinewidth\":0,\"ticks\":\"\"},\"colorscale\":[[0.0,\"#0d0887\"],[0.1111111111111111,\"#46039f\"],[0.2222222222222222,\"#7201a8\"],[0.3333333333333333,\"#9c179e\"],[0.4444444444444444,\"#bd3786\"],[0.5555555555555556,\"#d8576b\"],[0.6666666666666666,\"#ed7953\"],[0.7777777777777778,\"#fb9f3a\"],[0.8888888888888888,\"#fdca26\"],[1.0,\"#f0f921\"]]}],\"contourcarpet\":[{\"type\":\"contourcarpet\",\"colorbar\":{\"outlinewidth\":0,\"ticks\":\"\"}}],\"contour\":[{\"type\":\"contour\",\"colorbar\":{\"outlinewidth\":0,\"ticks\":\"\"},\"colorscale\":[[0.0,\"#0d0887\"],[0.1111111111111111,\"#46039f\"],[0.2222222222222222,\"#7201a8\"],[0.3333333333333333,\"#9c179e\"],[0.4444444444444444,\"#bd3786\"],[0.5555555555555556,\"#d8576b\"],[0.6666666666666666,\"#ed7953\"],[0.7777777777777778,\"#fb9f3a\"],[0.8888888888888888,\"#fdca26\"],[1.0,\"#f0f921\"]]}],\"surface\":[{\"type\":\"surface\",\"colorbar\":{\"outlinewidth\":0,\"ticks\":\"\"},\"colorscale\":[[0.0,\"#0d0887\"],[0.1111111111111111,\"#46039f\"],[0.2222222222222222,\"#7201a8\"],[0.3333333333333333,\"#9c179e\"],[0.4444444444444444,\"#bd3786\"],[0.5555555555555556,\"#d8576b\"],[0.6666666666666666,\"#ed7953\"],[0.7777777777777778,\"#fb9f3a\"],[0.8888888888888888,\"#fdca26\"],[1.0,\"#f0f921\"]]}],\"mesh3d\":[{\"type\":\"mesh3d\",\"colorbar\":{\"outlinewidth\":0,\"ticks\":\"\"}}],\"scatter\":[{\"fillpattern\":{\"fillmode\":\"overlay\",\"size\":10,\"solidity\":0.2},\"type\":\"scatter\"}],\"parcoords\":[{\"type\":\"parcoords\",\"line\":{\"colorbar\":{\"outlinewidth\":0,\"ticks\":\"\"}}}],\"scatterpolargl\":[{\"type\":\"scatterpolargl\",\"marker\":{\"colorbar\":{\"outlinewidth\":0,\"ticks\":\"\"}}}],\"bar\":[{\"error_x\":{\"color\":\"#2a3f5f\"},\"error_y\":{\"color\":\"#2a3f5f\"},\"marker\":{\"line\":{\"color\":\"#E5ECF6\",\"width\":0.5},\"pattern\":{\"fillmode\":\"overlay\",\"size\":10,\"solidity\":0.2}},\"type\":\"bar\"}],\"scattergeo\":[{\"type\":\"scattergeo\",\"marker\":{\"colorbar\":{\"outlinewidth\":0,\"ticks\":\"\"}}}],\"scatterpolar\":[{\"type\":\"scatterpolar\",\"marker\":{\"colorbar\":{\"outlinewidth\":0,\"ticks\":\"\"}}}],\"histogram\":[{\"marker\":{\"pattern\":{\"fillmode\":\"overlay\",\"size\":10,\"solidity\":0.2}},\"type\":\"histogram\"}],\"scattergl\":[{\"type\":\"scattergl\",\"marker\":{\"colorbar\":{\"outlinewidth\":0,\"ticks\":\"\"}}}],\"scatter3d\":[{\"type\":\"scatter3d\",\"line\":{\"colorbar\":{\"outlinewidth\":0,\"ticks\":\"\"}},\"marker\":{\"colorbar\":{\"outlinewidth\":0,\"ticks\":\"\"}}}],\"scattermapbox\":[{\"type\":\"scattermapbox\",\"marker\":{\"colorbar\":{\"outlinewidth\":0,\"ticks\":\"\"}}}],\"scatterternary\":[{\"type\":\"scatterternary\",\"marker\":{\"colorbar\":{\"outlinewidth\":0,\"ticks\":\"\"}}}],\"scattercarpet\":[{\"type\":\"scattercarpet\",\"marker\":{\"colorbar\":{\"outlinewidth\":0,\"ticks\":\"\"}}}],\"carpet\":[{\"aaxis\":{\"endlinecolor\":\"#2a3f5f\",\"gridcolor\":\"white\",\"linecolor\":\"white\",\"minorgridcolor\":\"white\",\"startlinecolor\":\"#2a3f5f\"},\"baxis\":{\"endlinecolor\":\"#2a3f5f\",\"gridcolor\":\"white\",\"linecolor\":\"white\",\"minorgridcolor\":\"white\",\"startlinecolor\":\"#2a3f5f\"},\"type\":\"carpet\"}],\"table\":[{\"cells\":{\"fill\":{\"color\":\"#EBF0F8\"},\"line\":{\"color\":\"white\"}},\"header\":{\"fill\":{\"color\":\"#C8D4E3\"},\"line\":{\"color\":\"white\"}},\"type\":\"table\"}],\"barpolar\":[{\"marker\":{\"line\":{\"color\":\"#E5ECF6\",\"width\":0.5},\"pattern\":{\"fillmode\":\"overlay\",\"size\":10,\"solidity\":0.2}},\"type\":\"barpolar\"}],\"pie\":[{\"automargin\":true,\"type\":\"pie\"}]},\"layout\":{\"autotypenumbers\":\"strict\",\"colorway\":[\"#636efa\",\"#EF553B\",\"#00cc96\",\"#ab63fa\",\"#FFA15A\",\"#19d3f3\",\"#FF6692\",\"#B6E880\",\"#FF97FF\",\"#FECB52\"],\"font\":{\"color\":\"#2a3f5f\"},\"hovermode\":\"closest\",\"hoverlabel\":{\"align\":\"left\"},\"paper_bgcolor\":\"white\",\"plot_bgcolor\":\"#E5ECF6\",\"polar\":{\"bgcolor\":\"#E5ECF6\",\"angularaxis\":{\"gridcolor\":\"white\",\"linecolor\":\"white\",\"ticks\":\"\"},\"radialaxis\":{\"gridcolor\":\"white\",\"linecolor\":\"white\",\"ticks\":\"\"}},\"ternary\":{\"bgcolor\":\"#E5ECF6\",\"aaxis\":{\"gridcolor\":\"white\",\"linecolor\":\"white\",\"ticks\":\"\"},\"baxis\":{\"gridcolor\":\"white\",\"linecolor\":\"white\",\"ticks\":\"\"},\"caxis\":{\"gridcolor\":\"white\",\"linecolor\":\"white\",\"ticks\":\"\"}},\"coloraxis\":{\"colorbar\":{\"outlinewidth\":0,\"ticks\":\"\"}},\"colorscale\":{\"sequential\":[[0.0,\"#0d0887\"],[0.1111111111111111,\"#46039f\"],[0.2222222222222222,\"#7201a8\"],[0.3333333333333333,\"#9c179e\"],[0.4444444444444444,\"#bd3786\"],[0.5555555555555556,\"#d8576b\"],[0.6666666666666666,\"#ed7953\"],[0.7777777777777778,\"#fb9f3a\"],[0.8888888888888888,\"#fdca26\"],[1.0,\"#f0f921\"]],\"sequentialminus\":[[0.0,\"#0d0887\"],[0.1111111111111111,\"#46039f\"],[0.2222222222222222,\"#7201a8\"],[0.3333333333333333,\"#9c179e\"],[0.4444444444444444,\"#bd3786\"],[0.5555555555555556,\"#d8576b\"],[0.6666666666666666,\"#ed7953\"],[0.7777777777777778,\"#fb9f3a\"],[0.8888888888888888,\"#fdca26\"],[1.0,\"#f0f921\"]],\"diverging\":[[0,\"#8e0152\"],[0.1,\"#c51b7d\"],[0.2,\"#de77ae\"],[0.3,\"#f1b6da\"],[0.4,\"#fde0ef\"],[0.5,\"#f7f7f7\"],[0.6,\"#e6f5d0\"],[0.7,\"#b8e186\"],[0.8,\"#7fbc41\"],[0.9,\"#4d9221\"],[1,\"#276419\"]]},\"xaxis\":{\"gridcolor\":\"white\",\"linecolor\":\"white\",\"ticks\":\"\",\"title\":{\"standoff\":15},\"zerolinecolor\":\"white\",\"automargin\":true,\"zerolinewidth\":2},\"yaxis\":{\"gridcolor\":\"white\",\"linecolor\":\"white\",\"ticks\":\"\",\"title\":{\"standoff\":15},\"zerolinecolor\":\"white\",\"automargin\":true,\"zerolinewidth\":2},\"scene\":{\"xaxis\":{\"backgroundcolor\":\"#E5ECF6\",\"gridcolor\":\"white\",\"linecolor\":\"white\",\"showbackground\":true,\"ticks\":\"\",\"zerolinecolor\":\"white\",\"gridwidth\":2},\"yaxis\":{\"backgroundcolor\":\"#E5ECF6\",\"gridcolor\":\"white\",\"linecolor\":\"white\",\"showbackground\":true,\"ticks\":\"\",\"zerolinecolor\":\"white\",\"gridwidth\":2},\"zaxis\":{\"backgroundcolor\":\"#E5ECF6\",\"gridcolor\":\"white\",\"linecolor\":\"white\",\"showbackground\":true,\"ticks\":\"\",\"zerolinecolor\":\"white\",\"gridwidth\":2}},\"shapedefaults\":{\"line\":{\"color\":\"#2a3f5f\"}},\"annotationdefaults\":{\"arrowcolor\":\"#2a3f5f\",\"arrowhead\":0,\"arrowwidth\":1},\"geo\":{\"bgcolor\":\"white\",\"landcolor\":\"#E5ECF6\",\"subunitcolor\":\"white\",\"showland\":true,\"showlakes\":true,\"lakecolor\":\"white\"},\"title\":{\"x\":0.05},\"mapbox\":{\"style\":\"light\"}}},\"xaxis\":{\"anchor\":\"y\",\"domain\":[0.0,1.0],\"title\":{\"text\":\"Bike Type\"}},\"yaxis\":{\"anchor\":\"x\",\"domain\":[0.0,1.0],\"title\":{\"text\":\"Number of Trips\"}},\"legend\":{\"title\":{\"text\":\"User Type\"},\"tracegroupgap\":0},\"title\":{\"text\":\"Trips by Bike Type and Subscription Type\"},\"barmode\":\"group\"},                        {\"responsive\": true}                    ).then(function(){\n",
       "                            \n",
       "var gd = document.getElementById('b94cee3c-9385-4f5f-b1ee-1dce83bcc55a');\n",
       "var x = new MutationObserver(function (mutations, observer) {{\n",
       "        var display = window.getComputedStyle(gd).display;\n",
       "        if (!display || display === 'none') {{\n",
       "            console.log([gd, 'removed!']);\n",
       "            Plotly.purge(gd);\n",
       "            observer.disconnect();\n",
       "        }}\n",
       "}});\n",
       "\n",
       "// Listen for the removal of the full notebook cells\n",
       "var notebookContainer = gd.closest('#notebook-container');\n",
       "if (notebookContainer) {{\n",
       "    x.observe(notebookContainer, {childList: true});\n",
       "}}\n",
       "\n",
       "// Listen for the clearing of the current output cell\n",
       "var outputEl = gd.closest('.output');\n",
       "if (outputEl) {{\n",
       "    x.observe(outputEl, {childList: true});\n",
       "}}\n",
       "\n",
       "                        })                };                });            </script>        </div>"
      ]
     },
     "metadata": {},
     "output_type": "display_data"
    }
   ],
   "execution_count": 485
  },
  {
   "metadata": {
    "ExecuteTime": {
     "end_time": "2025-06-21T15:57:26.867130Z",
     "start_time": "2025-06-21T15:57:26.814781Z"
    }
   },
   "cell_type": "code",
   "source": [
    "top5_names = top5_starts['start_station_name'].tolist()\n",
    "sunburst_df = df_modified[df_modified['start_station_name'].isin(top5_names)]\n",
    "sunburst_data = sunburst_df.groupby(\n",
    "    ['start_station_name', 'rideable_type', 'member_casual']\n",
    ").size().reset_index(name='trip_count')\n",
    "\n",
    "fig3 = px.sunburst(\n",
    "    sunburst_data,\n",
    "    path=['start_station_name', 'rideable_type', 'member_casual'],\n",
    "    values='trip_count',\n",
    "    title='Trip Distribution for Top 5 Start Stations'\n",
    ")\n",
    "\n",
    "fig3.show()"
   ],
   "id": "f08a50d124644471",
   "outputs": [
    {
     "data": {
      "application/vnd.plotly.v1+json": {
       "data": [
        {
         "branchvalues": "total",
         "domain": {
          "x": [
           0.0,
           1.0
          ],
          "y": [
           0.0,
           1.0
          ]
         },
         "hovertemplate": "labels=%{label}<br>trip_count=%{value}<br>parent=%{parent}<br>id=%{id}<extra></extra>",
         "ids": [
          "1st & O St NW/classic_bike/casual",
          "9th St & Pennsylvania Ave NW/classic_bike/casual",
          "Wilson Blvd & N Oak St/classic_bike/casual",
          "1st & O St NW/electric_bike/casual",
          "9th St & Pennsylvania Ave NW/electric_bike/casual",
          "Half & Water St SW/electric_bike/casual",
          "Wilson Blvd & N Oak St/electric_bike/casual",
          "1st & O St NW/classic_bike/member",
          "9th St & Pennsylvania Ave NW/classic_bike/member",
          "Half & Water St SW/classic_bike/member",
          "N Lynn St & Fairfax Dr/classic_bike/member",
          "Wilson Blvd & N Oak St/classic_bike/member",
          "9th St & Pennsylvania Ave NW/electric_bike/member",
          "Half & Water St SW/electric_bike/member",
          "N Lynn St & Fairfax Dr/electric_bike/member",
          "Wilson Blvd & N Oak St/electric_bike/member",
          "1st & O St NW/classic_bike",
          "9th St & Pennsylvania Ave NW/classic_bike",
          "Half & Water St SW/classic_bike",
          "N Lynn St & Fairfax Dr/classic_bike",
          "Wilson Blvd & N Oak St/classic_bike",
          "1st & O St NW/electric_bike",
          "9th St & Pennsylvania Ave NW/electric_bike",
          "Half & Water St SW/electric_bike",
          "N Lynn St & Fairfax Dr/electric_bike",
          "Wilson Blvd & N Oak St/electric_bike",
          "1st & O St NW",
          "9th St & Pennsylvania Ave NW",
          "Half & Water St SW",
          "N Lynn St & Fairfax Dr",
          "Wilson Blvd & N Oak St"
         ],
         "labels": [
          "casual",
          "casual",
          "casual",
          "casual",
          "casual",
          "casual",
          "casual",
          "member",
          "member",
          "member",
          "member",
          "member",
          "member",
          "member",
          "member",
          "member",
          "classic_bike",
          "classic_bike",
          "classic_bike",
          "classic_bike",
          "classic_bike",
          "electric_bike",
          "electric_bike",
          "electric_bike",
          "electric_bike",
          "electric_bike",
          "1st & O St NW",
          "9th St & Pennsylvania Ave NW",
          "Half & Water St SW",
          "N Lynn St & Fairfax Dr",
          "Wilson Blvd & N Oak St"
         ],
         "name": "",
         "parents": [
          "1st & O St NW/classic_bike",
          "9th St & Pennsylvania Ave NW/classic_bike",
          "Wilson Blvd & N Oak St/classic_bike",
          "1st & O St NW/electric_bike",
          "9th St & Pennsylvania Ave NW/electric_bike",
          "Half & Water St SW/electric_bike",
          "Wilson Blvd & N Oak St/electric_bike",
          "1st & O St NW/classic_bike",
          "9th St & Pennsylvania Ave NW/classic_bike",
          "Half & Water St SW/classic_bike",
          "N Lynn St & Fairfax Dr/classic_bike",
          "Wilson Blvd & N Oak St/classic_bike",
          "9th St & Pennsylvania Ave NW/electric_bike",
          "Half & Water St SW/electric_bike",
          "N Lynn St & Fairfax Dr/electric_bike",
          "Wilson Blvd & N Oak St/electric_bike",
          "1st & O St NW",
          "9th St & Pennsylvania Ave NW",
          "Half & Water St SW",
          "N Lynn St & Fairfax Dr",
          "Wilson Blvd & N Oak St",
          "1st & O St NW",
          "9th St & Pennsylvania Ave NW",
          "Half & Water St SW",
          "N Lynn St & Fairfax Dr",
          "Wilson Blvd & N Oak St",
          "",
          "",
          "",
          "",
          ""
         ],
         "values": [
          3,
          1,
          1,
          1,
          1,
          4,
          1,
          7,
          1,
          2,
          4,
          1,
          9,
          6,
          1,
          8,
          10,
          2,
          2,
          4,
          2,
          1,
          10,
          10,
          1,
          9,
          11,
          12,
          12,
          5,
          11
         ],
         "type": "sunburst"
        }
       ],
       "layout": {
        "template": {
         "data": {
          "histogram2dcontour": [
           {
            "type": "histogram2dcontour",
            "colorbar": {
             "outlinewidth": 0,
             "ticks": ""
            },
            "colorscale": [
             [
              0.0,
              "#0d0887"
             ],
             [
              0.1111111111111111,
              "#46039f"
             ],
             [
              0.2222222222222222,
              "#7201a8"
             ],
             [
              0.3333333333333333,
              "#9c179e"
             ],
             [
              0.4444444444444444,
              "#bd3786"
             ],
             [
              0.5555555555555556,
              "#d8576b"
             ],
             [
              0.6666666666666666,
              "#ed7953"
             ],
             [
              0.7777777777777778,
              "#fb9f3a"
             ],
             [
              0.8888888888888888,
              "#fdca26"
             ],
             [
              1.0,
              "#f0f921"
             ]
            ]
           }
          ],
          "choropleth": [
           {
            "type": "choropleth",
            "colorbar": {
             "outlinewidth": 0,
             "ticks": ""
            }
           }
          ],
          "histogram2d": [
           {
            "type": "histogram2d",
            "colorbar": {
             "outlinewidth": 0,
             "ticks": ""
            },
            "colorscale": [
             [
              0.0,
              "#0d0887"
             ],
             [
              0.1111111111111111,
              "#46039f"
             ],
             [
              0.2222222222222222,
              "#7201a8"
             ],
             [
              0.3333333333333333,
              "#9c179e"
             ],
             [
              0.4444444444444444,
              "#bd3786"
             ],
             [
              0.5555555555555556,
              "#d8576b"
             ],
             [
              0.6666666666666666,
              "#ed7953"
             ],
             [
              0.7777777777777778,
              "#fb9f3a"
             ],
             [
              0.8888888888888888,
              "#fdca26"
             ],
             [
              1.0,
              "#f0f921"
             ]
            ]
           }
          ],
          "heatmap": [
           {
            "type": "heatmap",
            "colorbar": {
             "outlinewidth": 0,
             "ticks": ""
            },
            "colorscale": [
             [
              0.0,
              "#0d0887"
             ],
             [
              0.1111111111111111,
              "#46039f"
             ],
             [
              0.2222222222222222,
              "#7201a8"
             ],
             [
              0.3333333333333333,
              "#9c179e"
             ],
             [
              0.4444444444444444,
              "#bd3786"
             ],
             [
              0.5555555555555556,
              "#d8576b"
             ],
             [
              0.6666666666666666,
              "#ed7953"
             ],
             [
              0.7777777777777778,
              "#fb9f3a"
             ],
             [
              0.8888888888888888,
              "#fdca26"
             ],
             [
              1.0,
              "#f0f921"
             ]
            ]
           }
          ],
          "heatmapgl": [
           {
            "type": "heatmapgl",
            "colorbar": {
             "outlinewidth": 0,
             "ticks": ""
            },
            "colorscale": [
             [
              0.0,
              "#0d0887"
             ],
             [
              0.1111111111111111,
              "#46039f"
             ],
             [
              0.2222222222222222,
              "#7201a8"
             ],
             [
              0.3333333333333333,
              "#9c179e"
             ],
             [
              0.4444444444444444,
              "#bd3786"
             ],
             [
              0.5555555555555556,
              "#d8576b"
             ],
             [
              0.6666666666666666,
              "#ed7953"
             ],
             [
              0.7777777777777778,
              "#fb9f3a"
             ],
             [
              0.8888888888888888,
              "#fdca26"
             ],
             [
              1.0,
              "#f0f921"
             ]
            ]
           }
          ],
          "contourcarpet": [
           {
            "type": "contourcarpet",
            "colorbar": {
             "outlinewidth": 0,
             "ticks": ""
            }
           }
          ],
          "contour": [
           {
            "type": "contour",
            "colorbar": {
             "outlinewidth": 0,
             "ticks": ""
            },
            "colorscale": [
             [
              0.0,
              "#0d0887"
             ],
             [
              0.1111111111111111,
              "#46039f"
             ],
             [
              0.2222222222222222,
              "#7201a8"
             ],
             [
              0.3333333333333333,
              "#9c179e"
             ],
             [
              0.4444444444444444,
              "#bd3786"
             ],
             [
              0.5555555555555556,
              "#d8576b"
             ],
             [
              0.6666666666666666,
              "#ed7953"
             ],
             [
              0.7777777777777778,
              "#fb9f3a"
             ],
             [
              0.8888888888888888,
              "#fdca26"
             ],
             [
              1.0,
              "#f0f921"
             ]
            ]
           }
          ],
          "surface": [
           {
            "type": "surface",
            "colorbar": {
             "outlinewidth": 0,
             "ticks": ""
            },
            "colorscale": [
             [
              0.0,
              "#0d0887"
             ],
             [
              0.1111111111111111,
              "#46039f"
             ],
             [
              0.2222222222222222,
              "#7201a8"
             ],
             [
              0.3333333333333333,
              "#9c179e"
             ],
             [
              0.4444444444444444,
              "#bd3786"
             ],
             [
              0.5555555555555556,
              "#d8576b"
             ],
             [
              0.6666666666666666,
              "#ed7953"
             ],
             [
              0.7777777777777778,
              "#fb9f3a"
             ],
             [
              0.8888888888888888,
              "#fdca26"
             ],
             [
              1.0,
              "#f0f921"
             ]
            ]
           }
          ],
          "mesh3d": [
           {
            "type": "mesh3d",
            "colorbar": {
             "outlinewidth": 0,
             "ticks": ""
            }
           }
          ],
          "scatter": [
           {
            "fillpattern": {
             "fillmode": "overlay",
             "size": 10,
             "solidity": 0.2
            },
            "type": "scatter"
           }
          ],
          "parcoords": [
           {
            "type": "parcoords",
            "line": {
             "colorbar": {
              "outlinewidth": 0,
              "ticks": ""
             }
            }
           }
          ],
          "scatterpolargl": [
           {
            "type": "scatterpolargl",
            "marker": {
             "colorbar": {
              "outlinewidth": 0,
              "ticks": ""
             }
            }
           }
          ],
          "bar": [
           {
            "error_x": {
             "color": "#2a3f5f"
            },
            "error_y": {
             "color": "#2a3f5f"
            },
            "marker": {
             "line": {
              "color": "#E5ECF6",
              "width": 0.5
             },
             "pattern": {
              "fillmode": "overlay",
              "size": 10,
              "solidity": 0.2
             }
            },
            "type": "bar"
           }
          ],
          "scattergeo": [
           {
            "type": "scattergeo",
            "marker": {
             "colorbar": {
              "outlinewidth": 0,
              "ticks": ""
             }
            }
           }
          ],
          "scatterpolar": [
           {
            "type": "scatterpolar",
            "marker": {
             "colorbar": {
              "outlinewidth": 0,
              "ticks": ""
             }
            }
           }
          ],
          "histogram": [
           {
            "marker": {
             "pattern": {
              "fillmode": "overlay",
              "size": 10,
              "solidity": 0.2
             }
            },
            "type": "histogram"
           }
          ],
          "scattergl": [
           {
            "type": "scattergl",
            "marker": {
             "colorbar": {
              "outlinewidth": 0,
              "ticks": ""
             }
            }
           }
          ],
          "scatter3d": [
           {
            "type": "scatter3d",
            "line": {
             "colorbar": {
              "outlinewidth": 0,
              "ticks": ""
             }
            },
            "marker": {
             "colorbar": {
              "outlinewidth": 0,
              "ticks": ""
             }
            }
           }
          ],
          "scattermapbox": [
           {
            "type": "scattermapbox",
            "marker": {
             "colorbar": {
              "outlinewidth": 0,
              "ticks": ""
             }
            }
           }
          ],
          "scatterternary": [
           {
            "type": "scatterternary",
            "marker": {
             "colorbar": {
              "outlinewidth": 0,
              "ticks": ""
             }
            }
           }
          ],
          "scattercarpet": [
           {
            "type": "scattercarpet",
            "marker": {
             "colorbar": {
              "outlinewidth": 0,
              "ticks": ""
             }
            }
           }
          ],
          "carpet": [
           {
            "aaxis": {
             "endlinecolor": "#2a3f5f",
             "gridcolor": "white",
             "linecolor": "white",
             "minorgridcolor": "white",
             "startlinecolor": "#2a3f5f"
            },
            "baxis": {
             "endlinecolor": "#2a3f5f",
             "gridcolor": "white",
             "linecolor": "white",
             "minorgridcolor": "white",
             "startlinecolor": "#2a3f5f"
            },
            "type": "carpet"
           }
          ],
          "table": [
           {
            "cells": {
             "fill": {
              "color": "#EBF0F8"
             },
             "line": {
              "color": "white"
             }
            },
            "header": {
             "fill": {
              "color": "#C8D4E3"
             },
             "line": {
              "color": "white"
             }
            },
            "type": "table"
           }
          ],
          "barpolar": [
           {
            "marker": {
             "line": {
              "color": "#E5ECF6",
              "width": 0.5
             },
             "pattern": {
              "fillmode": "overlay",
              "size": 10,
              "solidity": 0.2
             }
            },
            "type": "barpolar"
           }
          ],
          "pie": [
           {
            "automargin": true,
            "type": "pie"
           }
          ]
         },
         "layout": {
          "autotypenumbers": "strict",
          "colorway": [
           "#636efa",
           "#EF553B",
           "#00cc96",
           "#ab63fa",
           "#FFA15A",
           "#19d3f3",
           "#FF6692",
           "#B6E880",
           "#FF97FF",
           "#FECB52"
          ],
          "font": {
           "color": "#2a3f5f"
          },
          "hovermode": "closest",
          "hoverlabel": {
           "align": "left"
          },
          "paper_bgcolor": "white",
          "plot_bgcolor": "#E5ECF6",
          "polar": {
           "bgcolor": "#E5ECF6",
           "angularaxis": {
            "gridcolor": "white",
            "linecolor": "white",
            "ticks": ""
           },
           "radialaxis": {
            "gridcolor": "white",
            "linecolor": "white",
            "ticks": ""
           }
          },
          "ternary": {
           "bgcolor": "#E5ECF6",
           "aaxis": {
            "gridcolor": "white",
            "linecolor": "white",
            "ticks": ""
           },
           "baxis": {
            "gridcolor": "white",
            "linecolor": "white",
            "ticks": ""
           },
           "caxis": {
            "gridcolor": "white",
            "linecolor": "white",
            "ticks": ""
           }
          },
          "coloraxis": {
           "colorbar": {
            "outlinewidth": 0,
            "ticks": ""
           }
          },
          "colorscale": {
           "sequential": [
            [
             0.0,
             "#0d0887"
            ],
            [
             0.1111111111111111,
             "#46039f"
            ],
            [
             0.2222222222222222,
             "#7201a8"
            ],
            [
             0.3333333333333333,
             "#9c179e"
            ],
            [
             0.4444444444444444,
             "#bd3786"
            ],
            [
             0.5555555555555556,
             "#d8576b"
            ],
            [
             0.6666666666666666,
             "#ed7953"
            ],
            [
             0.7777777777777778,
             "#fb9f3a"
            ],
            [
             0.8888888888888888,
             "#fdca26"
            ],
            [
             1.0,
             "#f0f921"
            ]
           ],
           "sequentialminus": [
            [
             0.0,
             "#0d0887"
            ],
            [
             0.1111111111111111,
             "#46039f"
            ],
            [
             0.2222222222222222,
             "#7201a8"
            ],
            [
             0.3333333333333333,
             "#9c179e"
            ],
            [
             0.4444444444444444,
             "#bd3786"
            ],
            [
             0.5555555555555556,
             "#d8576b"
            ],
            [
             0.6666666666666666,
             "#ed7953"
            ],
            [
             0.7777777777777778,
             "#fb9f3a"
            ],
            [
             0.8888888888888888,
             "#fdca26"
            ],
            [
             1.0,
             "#f0f921"
            ]
           ],
           "diverging": [
            [
             0,
             "#8e0152"
            ],
            [
             0.1,
             "#c51b7d"
            ],
            [
             0.2,
             "#de77ae"
            ],
            [
             0.3,
             "#f1b6da"
            ],
            [
             0.4,
             "#fde0ef"
            ],
            [
             0.5,
             "#f7f7f7"
            ],
            [
             0.6,
             "#e6f5d0"
            ],
            [
             0.7,
             "#b8e186"
            ],
            [
             0.8,
             "#7fbc41"
            ],
            [
             0.9,
             "#4d9221"
            ],
            [
             1,
             "#276419"
            ]
           ]
          },
          "xaxis": {
           "gridcolor": "white",
           "linecolor": "white",
           "ticks": "",
           "title": {
            "standoff": 15
           },
           "zerolinecolor": "white",
           "automargin": true,
           "zerolinewidth": 2
          },
          "yaxis": {
           "gridcolor": "white",
           "linecolor": "white",
           "ticks": "",
           "title": {
            "standoff": 15
           },
           "zerolinecolor": "white",
           "automargin": true,
           "zerolinewidth": 2
          },
          "scene": {
           "xaxis": {
            "backgroundcolor": "#E5ECF6",
            "gridcolor": "white",
            "linecolor": "white",
            "showbackground": true,
            "ticks": "",
            "zerolinecolor": "white",
            "gridwidth": 2
           },
           "yaxis": {
            "backgroundcolor": "#E5ECF6",
            "gridcolor": "white",
            "linecolor": "white",
            "showbackground": true,
            "ticks": "",
            "zerolinecolor": "white",
            "gridwidth": 2
           },
           "zaxis": {
            "backgroundcolor": "#E5ECF6",
            "gridcolor": "white",
            "linecolor": "white",
            "showbackground": true,
            "ticks": "",
            "zerolinecolor": "white",
            "gridwidth": 2
           }
          },
          "shapedefaults": {
           "line": {
            "color": "#2a3f5f"
           }
          },
          "annotationdefaults": {
           "arrowcolor": "#2a3f5f",
           "arrowhead": 0,
           "arrowwidth": 1
          },
          "geo": {
           "bgcolor": "white",
           "landcolor": "#E5ECF6",
           "subunitcolor": "white",
           "showland": true,
           "showlakes": true,
           "lakecolor": "white"
          },
          "title": {
           "x": 0.05
          },
          "mapbox": {
           "style": "light"
          }
         }
        },
        "legend": {
         "tracegroupgap": 0
        },
        "title": {
         "text": "Trip Distribution for Top 5 Start Stations"
        }
       },
       "config": {
        "plotlyServerURL": "https://plot.ly"
       }
      },
      "text/html": [
       "<div>                            <div id=\"41349edc-c9d4-46d4-80e1-3eebe46924df\" class=\"plotly-graph-div\" style=\"height:525px; width:100%;\"></div>            <script type=\"text/javascript\">                require([\"plotly\"], function(Plotly) {                    window.PLOTLYENV=window.PLOTLYENV || {};                                    if (document.getElementById(\"41349edc-c9d4-46d4-80e1-3eebe46924df\")) {                    Plotly.newPlot(                        \"41349edc-c9d4-46d4-80e1-3eebe46924df\",                        [{\"branchvalues\":\"total\",\"domain\":{\"x\":[0.0,1.0],\"y\":[0.0,1.0]},\"hovertemplate\":\"labels=%{label}\\u003cbr\\u003etrip_count=%{value}\\u003cbr\\u003eparent=%{parent}\\u003cbr\\u003eid=%{id}\\u003cextra\\u003e\\u003c\\u002fextra\\u003e\",\"ids\":[\"1st & O St NW\\u002fclassic_bike\\u002fcasual\",\"9th St & Pennsylvania Ave NW\\u002fclassic_bike\\u002fcasual\",\"Wilson Blvd & N Oak St\\u002fclassic_bike\\u002fcasual\",\"1st & O St NW\\u002felectric_bike\\u002fcasual\",\"9th St & Pennsylvania Ave NW\\u002felectric_bike\\u002fcasual\",\"Half & Water St SW\\u002felectric_bike\\u002fcasual\",\"Wilson Blvd & N Oak St\\u002felectric_bike\\u002fcasual\",\"1st & O St NW\\u002fclassic_bike\\u002fmember\",\"9th St & Pennsylvania Ave NW\\u002fclassic_bike\\u002fmember\",\"Half & Water St SW\\u002fclassic_bike\\u002fmember\",\"N Lynn St & Fairfax Dr\\u002fclassic_bike\\u002fmember\",\"Wilson Blvd & N Oak St\\u002fclassic_bike\\u002fmember\",\"9th St & Pennsylvania Ave NW\\u002felectric_bike\\u002fmember\",\"Half & Water St SW\\u002felectric_bike\\u002fmember\",\"N Lynn St & Fairfax Dr\\u002felectric_bike\\u002fmember\",\"Wilson Blvd & N Oak St\\u002felectric_bike\\u002fmember\",\"1st & O St NW\\u002fclassic_bike\",\"9th St & Pennsylvania Ave NW\\u002fclassic_bike\",\"Half & Water St SW\\u002fclassic_bike\",\"N Lynn St & Fairfax Dr\\u002fclassic_bike\",\"Wilson Blvd & N Oak St\\u002fclassic_bike\",\"1st & O St NW\\u002felectric_bike\",\"9th St & Pennsylvania Ave NW\\u002felectric_bike\",\"Half & Water St SW\\u002felectric_bike\",\"N Lynn St & Fairfax Dr\\u002felectric_bike\",\"Wilson Blvd & N Oak St\\u002felectric_bike\",\"1st & O St NW\",\"9th St & Pennsylvania Ave NW\",\"Half & Water St SW\",\"N Lynn St & Fairfax Dr\",\"Wilson Blvd & N Oak St\"],\"labels\":[\"casual\",\"casual\",\"casual\",\"casual\",\"casual\",\"casual\",\"casual\",\"member\",\"member\",\"member\",\"member\",\"member\",\"member\",\"member\",\"member\",\"member\",\"classic_bike\",\"classic_bike\",\"classic_bike\",\"classic_bike\",\"classic_bike\",\"electric_bike\",\"electric_bike\",\"electric_bike\",\"electric_bike\",\"electric_bike\",\"1st & O St NW\",\"9th St & Pennsylvania Ave NW\",\"Half & Water St SW\",\"N Lynn St & Fairfax Dr\",\"Wilson Blvd & N Oak St\"],\"name\":\"\",\"parents\":[\"1st & O St NW\\u002fclassic_bike\",\"9th St & Pennsylvania Ave NW\\u002fclassic_bike\",\"Wilson Blvd & N Oak St\\u002fclassic_bike\",\"1st & O St NW\\u002felectric_bike\",\"9th St & Pennsylvania Ave NW\\u002felectric_bike\",\"Half & Water St SW\\u002felectric_bike\",\"Wilson Blvd & N Oak St\\u002felectric_bike\",\"1st & O St NW\\u002fclassic_bike\",\"9th St & Pennsylvania Ave NW\\u002fclassic_bike\",\"Half & Water St SW\\u002fclassic_bike\",\"N Lynn St & Fairfax Dr\\u002fclassic_bike\",\"Wilson Blvd & N Oak St\\u002fclassic_bike\",\"9th St & Pennsylvania Ave NW\\u002felectric_bike\",\"Half & Water St SW\\u002felectric_bike\",\"N Lynn St & Fairfax Dr\\u002felectric_bike\",\"Wilson Blvd & N Oak St\\u002felectric_bike\",\"1st & O St NW\",\"9th St & Pennsylvania Ave NW\",\"Half & Water St SW\",\"N Lynn St & Fairfax Dr\",\"Wilson Blvd & N Oak St\",\"1st & O St NW\",\"9th St & Pennsylvania Ave NW\",\"Half & Water St SW\",\"N Lynn St & Fairfax Dr\",\"Wilson Blvd & N Oak St\",\"\",\"\",\"\",\"\",\"\"],\"values\":[3,1,1,1,1,4,1,7,1,2,4,1,9,6,1,8,10,2,2,4,2,1,10,10,1,9,11,12,12,5,11],\"type\":\"sunburst\"}],                        {\"template\":{\"data\":{\"histogram2dcontour\":[{\"type\":\"histogram2dcontour\",\"colorbar\":{\"outlinewidth\":0,\"ticks\":\"\"},\"colorscale\":[[0.0,\"#0d0887\"],[0.1111111111111111,\"#46039f\"],[0.2222222222222222,\"#7201a8\"],[0.3333333333333333,\"#9c179e\"],[0.4444444444444444,\"#bd3786\"],[0.5555555555555556,\"#d8576b\"],[0.6666666666666666,\"#ed7953\"],[0.7777777777777778,\"#fb9f3a\"],[0.8888888888888888,\"#fdca26\"],[1.0,\"#f0f921\"]]}],\"choropleth\":[{\"type\":\"choropleth\",\"colorbar\":{\"outlinewidth\":0,\"ticks\":\"\"}}],\"histogram2d\":[{\"type\":\"histogram2d\",\"colorbar\":{\"outlinewidth\":0,\"ticks\":\"\"},\"colorscale\":[[0.0,\"#0d0887\"],[0.1111111111111111,\"#46039f\"],[0.2222222222222222,\"#7201a8\"],[0.3333333333333333,\"#9c179e\"],[0.4444444444444444,\"#bd3786\"],[0.5555555555555556,\"#d8576b\"],[0.6666666666666666,\"#ed7953\"],[0.7777777777777778,\"#fb9f3a\"],[0.8888888888888888,\"#fdca26\"],[1.0,\"#f0f921\"]]}],\"heatmap\":[{\"type\":\"heatmap\",\"colorbar\":{\"outlinewidth\":0,\"ticks\":\"\"},\"colorscale\":[[0.0,\"#0d0887\"],[0.1111111111111111,\"#46039f\"],[0.2222222222222222,\"#7201a8\"],[0.3333333333333333,\"#9c179e\"],[0.4444444444444444,\"#bd3786\"],[0.5555555555555556,\"#d8576b\"],[0.6666666666666666,\"#ed7953\"],[0.7777777777777778,\"#fb9f3a\"],[0.8888888888888888,\"#fdca26\"],[1.0,\"#f0f921\"]]}],\"heatmapgl\":[{\"type\":\"heatmapgl\",\"colorbar\":{\"outlinewidth\":0,\"ticks\":\"\"},\"colorscale\":[[0.0,\"#0d0887\"],[0.1111111111111111,\"#46039f\"],[0.2222222222222222,\"#7201a8\"],[0.3333333333333333,\"#9c179e\"],[0.4444444444444444,\"#bd3786\"],[0.5555555555555556,\"#d8576b\"],[0.6666666666666666,\"#ed7953\"],[0.7777777777777778,\"#fb9f3a\"],[0.8888888888888888,\"#fdca26\"],[1.0,\"#f0f921\"]]}],\"contourcarpet\":[{\"type\":\"contourcarpet\",\"colorbar\":{\"outlinewidth\":0,\"ticks\":\"\"}}],\"contour\":[{\"type\":\"contour\",\"colorbar\":{\"outlinewidth\":0,\"ticks\":\"\"},\"colorscale\":[[0.0,\"#0d0887\"],[0.1111111111111111,\"#46039f\"],[0.2222222222222222,\"#7201a8\"],[0.3333333333333333,\"#9c179e\"],[0.4444444444444444,\"#bd3786\"],[0.5555555555555556,\"#d8576b\"],[0.6666666666666666,\"#ed7953\"],[0.7777777777777778,\"#fb9f3a\"],[0.8888888888888888,\"#fdca26\"],[1.0,\"#f0f921\"]]}],\"surface\":[{\"type\":\"surface\",\"colorbar\":{\"outlinewidth\":0,\"ticks\":\"\"},\"colorscale\":[[0.0,\"#0d0887\"],[0.1111111111111111,\"#46039f\"],[0.2222222222222222,\"#7201a8\"],[0.3333333333333333,\"#9c179e\"],[0.4444444444444444,\"#bd3786\"],[0.5555555555555556,\"#d8576b\"],[0.6666666666666666,\"#ed7953\"],[0.7777777777777778,\"#fb9f3a\"],[0.8888888888888888,\"#fdca26\"],[1.0,\"#f0f921\"]]}],\"mesh3d\":[{\"type\":\"mesh3d\",\"colorbar\":{\"outlinewidth\":0,\"ticks\":\"\"}}],\"scatter\":[{\"fillpattern\":{\"fillmode\":\"overlay\",\"size\":10,\"solidity\":0.2},\"type\":\"scatter\"}],\"parcoords\":[{\"type\":\"parcoords\",\"line\":{\"colorbar\":{\"outlinewidth\":0,\"ticks\":\"\"}}}],\"scatterpolargl\":[{\"type\":\"scatterpolargl\",\"marker\":{\"colorbar\":{\"outlinewidth\":0,\"ticks\":\"\"}}}],\"bar\":[{\"error_x\":{\"color\":\"#2a3f5f\"},\"error_y\":{\"color\":\"#2a3f5f\"},\"marker\":{\"line\":{\"color\":\"#E5ECF6\",\"width\":0.5},\"pattern\":{\"fillmode\":\"overlay\",\"size\":10,\"solidity\":0.2}},\"type\":\"bar\"}],\"scattergeo\":[{\"type\":\"scattergeo\",\"marker\":{\"colorbar\":{\"outlinewidth\":0,\"ticks\":\"\"}}}],\"scatterpolar\":[{\"type\":\"scatterpolar\",\"marker\":{\"colorbar\":{\"outlinewidth\":0,\"ticks\":\"\"}}}],\"histogram\":[{\"marker\":{\"pattern\":{\"fillmode\":\"overlay\",\"size\":10,\"solidity\":0.2}},\"type\":\"histogram\"}],\"scattergl\":[{\"type\":\"scattergl\",\"marker\":{\"colorbar\":{\"outlinewidth\":0,\"ticks\":\"\"}}}],\"scatter3d\":[{\"type\":\"scatter3d\",\"line\":{\"colorbar\":{\"outlinewidth\":0,\"ticks\":\"\"}},\"marker\":{\"colorbar\":{\"outlinewidth\":0,\"ticks\":\"\"}}}],\"scattermapbox\":[{\"type\":\"scattermapbox\",\"marker\":{\"colorbar\":{\"outlinewidth\":0,\"ticks\":\"\"}}}],\"scatterternary\":[{\"type\":\"scatterternary\",\"marker\":{\"colorbar\":{\"outlinewidth\":0,\"ticks\":\"\"}}}],\"scattercarpet\":[{\"type\":\"scattercarpet\",\"marker\":{\"colorbar\":{\"outlinewidth\":0,\"ticks\":\"\"}}}],\"carpet\":[{\"aaxis\":{\"endlinecolor\":\"#2a3f5f\",\"gridcolor\":\"white\",\"linecolor\":\"white\",\"minorgridcolor\":\"white\",\"startlinecolor\":\"#2a3f5f\"},\"baxis\":{\"endlinecolor\":\"#2a3f5f\",\"gridcolor\":\"white\",\"linecolor\":\"white\",\"minorgridcolor\":\"white\",\"startlinecolor\":\"#2a3f5f\"},\"type\":\"carpet\"}],\"table\":[{\"cells\":{\"fill\":{\"color\":\"#EBF0F8\"},\"line\":{\"color\":\"white\"}},\"header\":{\"fill\":{\"color\":\"#C8D4E3\"},\"line\":{\"color\":\"white\"}},\"type\":\"table\"}],\"barpolar\":[{\"marker\":{\"line\":{\"color\":\"#E5ECF6\",\"width\":0.5},\"pattern\":{\"fillmode\":\"overlay\",\"size\":10,\"solidity\":0.2}},\"type\":\"barpolar\"}],\"pie\":[{\"automargin\":true,\"type\":\"pie\"}]},\"layout\":{\"autotypenumbers\":\"strict\",\"colorway\":[\"#636efa\",\"#EF553B\",\"#00cc96\",\"#ab63fa\",\"#FFA15A\",\"#19d3f3\",\"#FF6692\",\"#B6E880\",\"#FF97FF\",\"#FECB52\"],\"font\":{\"color\":\"#2a3f5f\"},\"hovermode\":\"closest\",\"hoverlabel\":{\"align\":\"left\"},\"paper_bgcolor\":\"white\",\"plot_bgcolor\":\"#E5ECF6\",\"polar\":{\"bgcolor\":\"#E5ECF6\",\"angularaxis\":{\"gridcolor\":\"white\",\"linecolor\":\"white\",\"ticks\":\"\"},\"radialaxis\":{\"gridcolor\":\"white\",\"linecolor\":\"white\",\"ticks\":\"\"}},\"ternary\":{\"bgcolor\":\"#E5ECF6\",\"aaxis\":{\"gridcolor\":\"white\",\"linecolor\":\"white\",\"ticks\":\"\"},\"baxis\":{\"gridcolor\":\"white\",\"linecolor\":\"white\",\"ticks\":\"\"},\"caxis\":{\"gridcolor\":\"white\",\"linecolor\":\"white\",\"ticks\":\"\"}},\"coloraxis\":{\"colorbar\":{\"outlinewidth\":0,\"ticks\":\"\"}},\"colorscale\":{\"sequential\":[[0.0,\"#0d0887\"],[0.1111111111111111,\"#46039f\"],[0.2222222222222222,\"#7201a8\"],[0.3333333333333333,\"#9c179e\"],[0.4444444444444444,\"#bd3786\"],[0.5555555555555556,\"#d8576b\"],[0.6666666666666666,\"#ed7953\"],[0.7777777777777778,\"#fb9f3a\"],[0.8888888888888888,\"#fdca26\"],[1.0,\"#f0f921\"]],\"sequentialminus\":[[0.0,\"#0d0887\"],[0.1111111111111111,\"#46039f\"],[0.2222222222222222,\"#7201a8\"],[0.3333333333333333,\"#9c179e\"],[0.4444444444444444,\"#bd3786\"],[0.5555555555555556,\"#d8576b\"],[0.6666666666666666,\"#ed7953\"],[0.7777777777777778,\"#fb9f3a\"],[0.8888888888888888,\"#fdca26\"],[1.0,\"#f0f921\"]],\"diverging\":[[0,\"#8e0152\"],[0.1,\"#c51b7d\"],[0.2,\"#de77ae\"],[0.3,\"#f1b6da\"],[0.4,\"#fde0ef\"],[0.5,\"#f7f7f7\"],[0.6,\"#e6f5d0\"],[0.7,\"#b8e186\"],[0.8,\"#7fbc41\"],[0.9,\"#4d9221\"],[1,\"#276419\"]]},\"xaxis\":{\"gridcolor\":\"white\",\"linecolor\":\"white\",\"ticks\":\"\",\"title\":{\"standoff\":15},\"zerolinecolor\":\"white\",\"automargin\":true,\"zerolinewidth\":2},\"yaxis\":{\"gridcolor\":\"white\",\"linecolor\":\"white\",\"ticks\":\"\",\"title\":{\"standoff\":15},\"zerolinecolor\":\"white\",\"automargin\":true,\"zerolinewidth\":2},\"scene\":{\"xaxis\":{\"backgroundcolor\":\"#E5ECF6\",\"gridcolor\":\"white\",\"linecolor\":\"white\",\"showbackground\":true,\"ticks\":\"\",\"zerolinecolor\":\"white\",\"gridwidth\":2},\"yaxis\":{\"backgroundcolor\":\"#E5ECF6\",\"gridcolor\":\"white\",\"linecolor\":\"white\",\"showbackground\":true,\"ticks\":\"\",\"zerolinecolor\":\"white\",\"gridwidth\":2},\"zaxis\":{\"backgroundcolor\":\"#E5ECF6\",\"gridcolor\":\"white\",\"linecolor\":\"white\",\"showbackground\":true,\"ticks\":\"\",\"zerolinecolor\":\"white\",\"gridwidth\":2}},\"shapedefaults\":{\"line\":{\"color\":\"#2a3f5f\"}},\"annotationdefaults\":{\"arrowcolor\":\"#2a3f5f\",\"arrowhead\":0,\"arrowwidth\":1},\"geo\":{\"bgcolor\":\"white\",\"landcolor\":\"#E5ECF6\",\"subunitcolor\":\"white\",\"showland\":true,\"showlakes\":true,\"lakecolor\":\"white\"},\"title\":{\"x\":0.05},\"mapbox\":{\"style\":\"light\"}}},\"legend\":{\"tracegroupgap\":0},\"title\":{\"text\":\"Trip Distribution for Top 5 Start Stations\"}},                        {\"responsive\": true}                    ).then(function(){\n",
       "                            \n",
       "var gd = document.getElementById('41349edc-c9d4-46d4-80e1-3eebe46924df');\n",
       "var x = new MutationObserver(function (mutations, observer) {{\n",
       "        var display = window.getComputedStyle(gd).display;\n",
       "        if (!display || display === 'none') {{\n",
       "            console.log([gd, 'removed!']);\n",
       "            Plotly.purge(gd);\n",
       "            observer.disconnect();\n",
       "        }}\n",
       "}});\n",
       "\n",
       "// Listen for the removal of the full notebook cells\n",
       "var notebookContainer = gd.closest('#notebook-container');\n",
       "if (notebookContainer) {{\n",
       "    x.observe(notebookContainer, {childList: true});\n",
       "}}\n",
       "\n",
       "// Listen for the clearing of the current output cell\n",
       "var outputEl = gd.closest('.output');\n",
       "if (outputEl) {{\n",
       "    x.observe(outputEl, {childList: true});\n",
       "}}\n",
       "\n",
       "                        })                };                });            </script>        </div>"
      ]
     },
     "metadata": {},
     "output_type": "display_data"
    }
   ],
   "execution_count": 486
  },
  {
   "metadata": {
    "ExecuteTime": {
     "end_time": "2025-06-21T15:57:27.546732Z",
     "start_time": "2025-06-21T15:57:27.507733Z"
    }
   },
   "cell_type": "code",
   "source": [
    "# 4a. Histogram: station size distribution\n",
    "fig4a = px.histogram(\n",
    "    df_modified,\n",
    "    x='start_station_size',\n",
    "    color='start_station_size',\n",
    "    title='Distribution of Start Station Sizes',\n",
    "    labels={'start_station_size': 'Station Size'}\n",
    ")\n",
    "\n",
    "fig4a.show()"
   ],
   "id": "7ad6308f11e6a6b0",
   "outputs": [
    {
     "data": {
      "application/vnd.plotly.v1+json": {
       "data": [
        {
         "alignmentgroup": "True",
         "bingroup": "x",
         "hovertemplate": "Station Size=%{x}<br>count=%{y}<extra></extra>",
         "legendgroup": "Small",
         "marker": {
          "color": "#636efa",
          "pattern": {
           "shape": ""
          }
         },
         "name": "Small",
         "offsetgroup": "Small",
         "orientation": "v",
         "showlegend": true,
         "x": [
          "Small",
          "Small",
          "Small",
          "Small",
          "Small",
          "Small",
          "Small",
          "Small",
          "Small",
          "Small",
          "Small",
          "Small",
          "Small",
          "Small",
          "Small",
          "Small",
          "Small",
          "Small",
          "Small",
          "Small",
          "Small",
          "Small",
          "Small",
          "Small",
          "Small",
          "Small",
          "Small",
          "Small",
          "Small",
          "Small",
          "Small",
          "Small",
          "Small",
          "Small",
          "Small",
          "Small",
          "Small",
          "Small",
          "Small",
          "Small",
          "Small",
          "Small",
          "Small",
          "Small",
          "Small"
         ],
         "xaxis": "x",
         "yaxis": "y",
         "type": "histogram"
        },
        {
         "alignmentgroup": "True",
         "bingroup": "x",
         "hovertemplate": "Station Size=%{x}<br>count=%{y}<extra></extra>",
         "legendgroup": "Medium",
         "marker": {
          "color": "#EF553B",
          "pattern": {
           "shape": ""
          }
         },
         "name": "Medium",
         "offsetgroup": "Medium",
         "orientation": "v",
         "showlegend": true,
         "x": [
          "Medium",
          "Medium",
          "Medium",
          "Medium",
          "Medium",
          "Medium",
          "Medium",
          "Medium",
          "Medium",
          "Medium",
          "Medium",
          "Medium",
          "Medium",
          "Medium",
          "Medium",
          "Medium",
          "Medium",
          "Medium",
          "Medium",
          "Medium",
          "Medium",
          "Medium",
          "Medium",
          "Medium",
          "Medium",
          "Medium",
          "Medium"
         ],
         "xaxis": "x",
         "yaxis": "y",
         "type": "histogram"
        },
        {
         "alignmentgroup": "True",
         "bingroup": "x",
         "hovertemplate": "Station Size=%{x}<br>count=%{y}<extra></extra>",
         "legendgroup": "Large",
         "marker": {
          "color": "#00cc96",
          "pattern": {
           "shape": ""
          }
         },
         "name": "Large",
         "offsetgroup": "Large",
         "orientation": "v",
         "showlegend": true,
         "x": [
          "Large",
          "Large",
          "Large",
          "Large",
          "Large",
          "Large",
          "Large",
          "Large",
          "Large",
          "Large",
          "Large",
          "Large",
          "Large",
          "Large",
          "Large",
          "Large",
          "Large",
          "Large",
          "Large",
          "Large",
          "Large",
          "Large",
          "Large",
          "Large",
          "Large"
         ],
         "xaxis": "x",
         "yaxis": "y",
         "type": "histogram"
        }
       ],
       "layout": {
        "template": {
         "data": {
          "histogram2dcontour": [
           {
            "type": "histogram2dcontour",
            "colorbar": {
             "outlinewidth": 0,
             "ticks": ""
            },
            "colorscale": [
             [
              0.0,
              "#0d0887"
             ],
             [
              0.1111111111111111,
              "#46039f"
             ],
             [
              0.2222222222222222,
              "#7201a8"
             ],
             [
              0.3333333333333333,
              "#9c179e"
             ],
             [
              0.4444444444444444,
              "#bd3786"
             ],
             [
              0.5555555555555556,
              "#d8576b"
             ],
             [
              0.6666666666666666,
              "#ed7953"
             ],
             [
              0.7777777777777778,
              "#fb9f3a"
             ],
             [
              0.8888888888888888,
              "#fdca26"
             ],
             [
              1.0,
              "#f0f921"
             ]
            ]
           }
          ],
          "choropleth": [
           {
            "type": "choropleth",
            "colorbar": {
             "outlinewidth": 0,
             "ticks": ""
            }
           }
          ],
          "histogram2d": [
           {
            "type": "histogram2d",
            "colorbar": {
             "outlinewidth": 0,
             "ticks": ""
            },
            "colorscale": [
             [
              0.0,
              "#0d0887"
             ],
             [
              0.1111111111111111,
              "#46039f"
             ],
             [
              0.2222222222222222,
              "#7201a8"
             ],
             [
              0.3333333333333333,
              "#9c179e"
             ],
             [
              0.4444444444444444,
              "#bd3786"
             ],
             [
              0.5555555555555556,
              "#d8576b"
             ],
             [
              0.6666666666666666,
              "#ed7953"
             ],
             [
              0.7777777777777778,
              "#fb9f3a"
             ],
             [
              0.8888888888888888,
              "#fdca26"
             ],
             [
              1.0,
              "#f0f921"
             ]
            ]
           }
          ],
          "heatmap": [
           {
            "type": "heatmap",
            "colorbar": {
             "outlinewidth": 0,
             "ticks": ""
            },
            "colorscale": [
             [
              0.0,
              "#0d0887"
             ],
             [
              0.1111111111111111,
              "#46039f"
             ],
             [
              0.2222222222222222,
              "#7201a8"
             ],
             [
              0.3333333333333333,
              "#9c179e"
             ],
             [
              0.4444444444444444,
              "#bd3786"
             ],
             [
              0.5555555555555556,
              "#d8576b"
             ],
             [
              0.6666666666666666,
              "#ed7953"
             ],
             [
              0.7777777777777778,
              "#fb9f3a"
             ],
             [
              0.8888888888888888,
              "#fdca26"
             ],
             [
              1.0,
              "#f0f921"
             ]
            ]
           }
          ],
          "heatmapgl": [
           {
            "type": "heatmapgl",
            "colorbar": {
             "outlinewidth": 0,
             "ticks": ""
            },
            "colorscale": [
             [
              0.0,
              "#0d0887"
             ],
             [
              0.1111111111111111,
              "#46039f"
             ],
             [
              0.2222222222222222,
              "#7201a8"
             ],
             [
              0.3333333333333333,
              "#9c179e"
             ],
             [
              0.4444444444444444,
              "#bd3786"
             ],
             [
              0.5555555555555556,
              "#d8576b"
             ],
             [
              0.6666666666666666,
              "#ed7953"
             ],
             [
              0.7777777777777778,
              "#fb9f3a"
             ],
             [
              0.8888888888888888,
              "#fdca26"
             ],
             [
              1.0,
              "#f0f921"
             ]
            ]
           }
          ],
          "contourcarpet": [
           {
            "type": "contourcarpet",
            "colorbar": {
             "outlinewidth": 0,
             "ticks": ""
            }
           }
          ],
          "contour": [
           {
            "type": "contour",
            "colorbar": {
             "outlinewidth": 0,
             "ticks": ""
            },
            "colorscale": [
             [
              0.0,
              "#0d0887"
             ],
             [
              0.1111111111111111,
              "#46039f"
             ],
             [
              0.2222222222222222,
              "#7201a8"
             ],
             [
              0.3333333333333333,
              "#9c179e"
             ],
             [
              0.4444444444444444,
              "#bd3786"
             ],
             [
              0.5555555555555556,
              "#d8576b"
             ],
             [
              0.6666666666666666,
              "#ed7953"
             ],
             [
              0.7777777777777778,
              "#fb9f3a"
             ],
             [
              0.8888888888888888,
              "#fdca26"
             ],
             [
              1.0,
              "#f0f921"
             ]
            ]
           }
          ],
          "surface": [
           {
            "type": "surface",
            "colorbar": {
             "outlinewidth": 0,
             "ticks": ""
            },
            "colorscale": [
             [
              0.0,
              "#0d0887"
             ],
             [
              0.1111111111111111,
              "#46039f"
             ],
             [
              0.2222222222222222,
              "#7201a8"
             ],
             [
              0.3333333333333333,
              "#9c179e"
             ],
             [
              0.4444444444444444,
              "#bd3786"
             ],
             [
              0.5555555555555556,
              "#d8576b"
             ],
             [
              0.6666666666666666,
              "#ed7953"
             ],
             [
              0.7777777777777778,
              "#fb9f3a"
             ],
             [
              0.8888888888888888,
              "#fdca26"
             ],
             [
              1.0,
              "#f0f921"
             ]
            ]
           }
          ],
          "mesh3d": [
           {
            "type": "mesh3d",
            "colorbar": {
             "outlinewidth": 0,
             "ticks": ""
            }
           }
          ],
          "scatter": [
           {
            "fillpattern": {
             "fillmode": "overlay",
             "size": 10,
             "solidity": 0.2
            },
            "type": "scatter"
           }
          ],
          "parcoords": [
           {
            "type": "parcoords",
            "line": {
             "colorbar": {
              "outlinewidth": 0,
              "ticks": ""
             }
            }
           }
          ],
          "scatterpolargl": [
           {
            "type": "scatterpolargl",
            "marker": {
             "colorbar": {
              "outlinewidth": 0,
              "ticks": ""
             }
            }
           }
          ],
          "bar": [
           {
            "error_x": {
             "color": "#2a3f5f"
            },
            "error_y": {
             "color": "#2a3f5f"
            },
            "marker": {
             "line": {
              "color": "#E5ECF6",
              "width": 0.5
             },
             "pattern": {
              "fillmode": "overlay",
              "size": 10,
              "solidity": 0.2
             }
            },
            "type": "bar"
           }
          ],
          "scattergeo": [
           {
            "type": "scattergeo",
            "marker": {
             "colorbar": {
              "outlinewidth": 0,
              "ticks": ""
             }
            }
           }
          ],
          "scatterpolar": [
           {
            "type": "scatterpolar",
            "marker": {
             "colorbar": {
              "outlinewidth": 0,
              "ticks": ""
             }
            }
           }
          ],
          "histogram": [
           {
            "marker": {
             "pattern": {
              "fillmode": "overlay",
              "size": 10,
              "solidity": 0.2
             }
            },
            "type": "histogram"
           }
          ],
          "scattergl": [
           {
            "type": "scattergl",
            "marker": {
             "colorbar": {
              "outlinewidth": 0,
              "ticks": ""
             }
            }
           }
          ],
          "scatter3d": [
           {
            "type": "scatter3d",
            "line": {
             "colorbar": {
              "outlinewidth": 0,
              "ticks": ""
             }
            },
            "marker": {
             "colorbar": {
              "outlinewidth": 0,
              "ticks": ""
             }
            }
           }
          ],
          "scattermapbox": [
           {
            "type": "scattermapbox",
            "marker": {
             "colorbar": {
              "outlinewidth": 0,
              "ticks": ""
             }
            }
           }
          ],
          "scatterternary": [
           {
            "type": "scatterternary",
            "marker": {
             "colorbar": {
              "outlinewidth": 0,
              "ticks": ""
             }
            }
           }
          ],
          "scattercarpet": [
           {
            "type": "scattercarpet",
            "marker": {
             "colorbar": {
              "outlinewidth": 0,
              "ticks": ""
             }
            }
           }
          ],
          "carpet": [
           {
            "aaxis": {
             "endlinecolor": "#2a3f5f",
             "gridcolor": "white",
             "linecolor": "white",
             "minorgridcolor": "white",
             "startlinecolor": "#2a3f5f"
            },
            "baxis": {
             "endlinecolor": "#2a3f5f",
             "gridcolor": "white",
             "linecolor": "white",
             "minorgridcolor": "white",
             "startlinecolor": "#2a3f5f"
            },
            "type": "carpet"
           }
          ],
          "table": [
           {
            "cells": {
             "fill": {
              "color": "#EBF0F8"
             },
             "line": {
              "color": "white"
             }
            },
            "header": {
             "fill": {
              "color": "#C8D4E3"
             },
             "line": {
              "color": "white"
             }
            },
            "type": "table"
           }
          ],
          "barpolar": [
           {
            "marker": {
             "line": {
              "color": "#E5ECF6",
              "width": 0.5
             },
             "pattern": {
              "fillmode": "overlay",
              "size": 10,
              "solidity": 0.2
             }
            },
            "type": "barpolar"
           }
          ],
          "pie": [
           {
            "automargin": true,
            "type": "pie"
           }
          ]
         },
         "layout": {
          "autotypenumbers": "strict",
          "colorway": [
           "#636efa",
           "#EF553B",
           "#00cc96",
           "#ab63fa",
           "#FFA15A",
           "#19d3f3",
           "#FF6692",
           "#B6E880",
           "#FF97FF",
           "#FECB52"
          ],
          "font": {
           "color": "#2a3f5f"
          },
          "hovermode": "closest",
          "hoverlabel": {
           "align": "left"
          },
          "paper_bgcolor": "white",
          "plot_bgcolor": "#E5ECF6",
          "polar": {
           "bgcolor": "#E5ECF6",
           "angularaxis": {
            "gridcolor": "white",
            "linecolor": "white",
            "ticks": ""
           },
           "radialaxis": {
            "gridcolor": "white",
            "linecolor": "white",
            "ticks": ""
           }
          },
          "ternary": {
           "bgcolor": "#E5ECF6",
           "aaxis": {
            "gridcolor": "white",
            "linecolor": "white",
            "ticks": ""
           },
           "baxis": {
            "gridcolor": "white",
            "linecolor": "white",
            "ticks": ""
           },
           "caxis": {
            "gridcolor": "white",
            "linecolor": "white",
            "ticks": ""
           }
          },
          "coloraxis": {
           "colorbar": {
            "outlinewidth": 0,
            "ticks": ""
           }
          },
          "colorscale": {
           "sequential": [
            [
             0.0,
             "#0d0887"
            ],
            [
             0.1111111111111111,
             "#46039f"
            ],
            [
             0.2222222222222222,
             "#7201a8"
            ],
            [
             0.3333333333333333,
             "#9c179e"
            ],
            [
             0.4444444444444444,
             "#bd3786"
            ],
            [
             0.5555555555555556,
             "#d8576b"
            ],
            [
             0.6666666666666666,
             "#ed7953"
            ],
            [
             0.7777777777777778,
             "#fb9f3a"
            ],
            [
             0.8888888888888888,
             "#fdca26"
            ],
            [
             1.0,
             "#f0f921"
            ]
           ],
           "sequentialminus": [
            [
             0.0,
             "#0d0887"
            ],
            [
             0.1111111111111111,
             "#46039f"
            ],
            [
             0.2222222222222222,
             "#7201a8"
            ],
            [
             0.3333333333333333,
             "#9c179e"
            ],
            [
             0.4444444444444444,
             "#bd3786"
            ],
            [
             0.5555555555555556,
             "#d8576b"
            ],
            [
             0.6666666666666666,
             "#ed7953"
            ],
            [
             0.7777777777777778,
             "#fb9f3a"
            ],
            [
             0.8888888888888888,
             "#fdca26"
            ],
            [
             1.0,
             "#f0f921"
            ]
           ],
           "diverging": [
            [
             0,
             "#8e0152"
            ],
            [
             0.1,
             "#c51b7d"
            ],
            [
             0.2,
             "#de77ae"
            ],
            [
             0.3,
             "#f1b6da"
            ],
            [
             0.4,
             "#fde0ef"
            ],
            [
             0.5,
             "#f7f7f7"
            ],
            [
             0.6,
             "#e6f5d0"
            ],
            [
             0.7,
             "#b8e186"
            ],
            [
             0.8,
             "#7fbc41"
            ],
            [
             0.9,
             "#4d9221"
            ],
            [
             1,
             "#276419"
            ]
           ]
          },
          "xaxis": {
           "gridcolor": "white",
           "linecolor": "white",
           "ticks": "",
           "title": {
            "standoff": 15
           },
           "zerolinecolor": "white",
           "automargin": true,
           "zerolinewidth": 2
          },
          "yaxis": {
           "gridcolor": "white",
           "linecolor": "white",
           "ticks": "",
           "title": {
            "standoff": 15
           },
           "zerolinecolor": "white",
           "automargin": true,
           "zerolinewidth": 2
          },
          "scene": {
           "xaxis": {
            "backgroundcolor": "#E5ECF6",
            "gridcolor": "white",
            "linecolor": "white",
            "showbackground": true,
            "ticks": "",
            "zerolinecolor": "white",
            "gridwidth": 2
           },
           "yaxis": {
            "backgroundcolor": "#E5ECF6",
            "gridcolor": "white",
            "linecolor": "white",
            "showbackground": true,
            "ticks": "",
            "zerolinecolor": "white",
            "gridwidth": 2
           },
           "zaxis": {
            "backgroundcolor": "#E5ECF6",
            "gridcolor": "white",
            "linecolor": "white",
            "showbackground": true,
            "ticks": "",
            "zerolinecolor": "white",
            "gridwidth": 2
           }
          },
          "shapedefaults": {
           "line": {
            "color": "#2a3f5f"
           }
          },
          "annotationdefaults": {
           "arrowcolor": "#2a3f5f",
           "arrowhead": 0,
           "arrowwidth": 1
          },
          "geo": {
           "bgcolor": "white",
           "landcolor": "#E5ECF6",
           "subunitcolor": "white",
           "showland": true,
           "showlakes": true,
           "lakecolor": "white"
          },
          "title": {
           "x": 0.05
          },
          "mapbox": {
           "style": "light"
          }
         }
        },
        "xaxis": {
         "anchor": "y",
         "domain": [
          0.0,
          1.0
         ],
         "title": {
          "text": "Station Size"
         },
         "categoryorder": "array",
         "categoryarray": [
          "Small",
          "Medium",
          "Large"
         ]
        },
        "yaxis": {
         "anchor": "x",
         "domain": [
          0.0,
          1.0
         ],
         "title": {
          "text": "count"
         }
        },
        "legend": {
         "title": {
          "text": "Station Size"
         },
         "tracegroupgap": 0
        },
        "title": {
         "text": "Distribution of Start Station Sizes"
        },
        "barmode": "relative"
       },
       "config": {
        "plotlyServerURL": "https://plot.ly"
       }
      },
      "text/html": [
       "<div>                            <div id=\"23db4072-1c19-47a3-b5e2-55da5a836476\" class=\"plotly-graph-div\" style=\"height:525px; width:100%;\"></div>            <script type=\"text/javascript\">                require([\"plotly\"], function(Plotly) {                    window.PLOTLYENV=window.PLOTLYENV || {};                                    if (document.getElementById(\"23db4072-1c19-47a3-b5e2-55da5a836476\")) {                    Plotly.newPlot(                        \"23db4072-1c19-47a3-b5e2-55da5a836476\",                        [{\"alignmentgroup\":\"True\",\"bingroup\":\"x\",\"hovertemplate\":\"Station Size=%{x}\\u003cbr\\u003ecount=%{y}\\u003cextra\\u003e\\u003c\\u002fextra\\u003e\",\"legendgroup\":\"Small\",\"marker\":{\"color\":\"#636efa\",\"pattern\":{\"shape\":\"\"}},\"name\":\"Small\",\"offsetgroup\":\"Small\",\"orientation\":\"v\",\"showlegend\":true,\"x\":[\"Small\",\"Small\",\"Small\",\"Small\",\"Small\",\"Small\",\"Small\",\"Small\",\"Small\",\"Small\",\"Small\",\"Small\",\"Small\",\"Small\",\"Small\",\"Small\",\"Small\",\"Small\",\"Small\",\"Small\",\"Small\",\"Small\",\"Small\",\"Small\",\"Small\",\"Small\",\"Small\",\"Small\",\"Small\",\"Small\",\"Small\",\"Small\",\"Small\",\"Small\",\"Small\",\"Small\",\"Small\",\"Small\",\"Small\",\"Small\",\"Small\",\"Small\",\"Small\",\"Small\",\"Small\"],\"xaxis\":\"x\",\"yaxis\":\"y\",\"type\":\"histogram\"},{\"alignmentgroup\":\"True\",\"bingroup\":\"x\",\"hovertemplate\":\"Station Size=%{x}\\u003cbr\\u003ecount=%{y}\\u003cextra\\u003e\\u003c\\u002fextra\\u003e\",\"legendgroup\":\"Medium\",\"marker\":{\"color\":\"#EF553B\",\"pattern\":{\"shape\":\"\"}},\"name\":\"Medium\",\"offsetgroup\":\"Medium\",\"orientation\":\"v\",\"showlegend\":true,\"x\":[\"Medium\",\"Medium\",\"Medium\",\"Medium\",\"Medium\",\"Medium\",\"Medium\",\"Medium\",\"Medium\",\"Medium\",\"Medium\",\"Medium\",\"Medium\",\"Medium\",\"Medium\",\"Medium\",\"Medium\",\"Medium\",\"Medium\",\"Medium\",\"Medium\",\"Medium\",\"Medium\",\"Medium\",\"Medium\",\"Medium\",\"Medium\"],\"xaxis\":\"x\",\"yaxis\":\"y\",\"type\":\"histogram\"},{\"alignmentgroup\":\"True\",\"bingroup\":\"x\",\"hovertemplate\":\"Station Size=%{x}\\u003cbr\\u003ecount=%{y}\\u003cextra\\u003e\\u003c\\u002fextra\\u003e\",\"legendgroup\":\"Large\",\"marker\":{\"color\":\"#00cc96\",\"pattern\":{\"shape\":\"\"}},\"name\":\"Large\",\"offsetgroup\":\"Large\",\"orientation\":\"v\",\"showlegend\":true,\"x\":[\"Large\",\"Large\",\"Large\",\"Large\",\"Large\",\"Large\",\"Large\",\"Large\",\"Large\",\"Large\",\"Large\",\"Large\",\"Large\",\"Large\",\"Large\",\"Large\",\"Large\",\"Large\",\"Large\",\"Large\",\"Large\",\"Large\",\"Large\",\"Large\",\"Large\"],\"xaxis\":\"x\",\"yaxis\":\"y\",\"type\":\"histogram\"}],                        {\"template\":{\"data\":{\"histogram2dcontour\":[{\"type\":\"histogram2dcontour\",\"colorbar\":{\"outlinewidth\":0,\"ticks\":\"\"},\"colorscale\":[[0.0,\"#0d0887\"],[0.1111111111111111,\"#46039f\"],[0.2222222222222222,\"#7201a8\"],[0.3333333333333333,\"#9c179e\"],[0.4444444444444444,\"#bd3786\"],[0.5555555555555556,\"#d8576b\"],[0.6666666666666666,\"#ed7953\"],[0.7777777777777778,\"#fb9f3a\"],[0.8888888888888888,\"#fdca26\"],[1.0,\"#f0f921\"]]}],\"choropleth\":[{\"type\":\"choropleth\",\"colorbar\":{\"outlinewidth\":0,\"ticks\":\"\"}}],\"histogram2d\":[{\"type\":\"histogram2d\",\"colorbar\":{\"outlinewidth\":0,\"ticks\":\"\"},\"colorscale\":[[0.0,\"#0d0887\"],[0.1111111111111111,\"#46039f\"],[0.2222222222222222,\"#7201a8\"],[0.3333333333333333,\"#9c179e\"],[0.4444444444444444,\"#bd3786\"],[0.5555555555555556,\"#d8576b\"],[0.6666666666666666,\"#ed7953\"],[0.7777777777777778,\"#fb9f3a\"],[0.8888888888888888,\"#fdca26\"],[1.0,\"#f0f921\"]]}],\"heatmap\":[{\"type\":\"heatmap\",\"colorbar\":{\"outlinewidth\":0,\"ticks\":\"\"},\"colorscale\":[[0.0,\"#0d0887\"],[0.1111111111111111,\"#46039f\"],[0.2222222222222222,\"#7201a8\"],[0.3333333333333333,\"#9c179e\"],[0.4444444444444444,\"#bd3786\"],[0.5555555555555556,\"#d8576b\"],[0.6666666666666666,\"#ed7953\"],[0.7777777777777778,\"#fb9f3a\"],[0.8888888888888888,\"#fdca26\"],[1.0,\"#f0f921\"]]}],\"heatmapgl\":[{\"type\":\"heatmapgl\",\"colorbar\":{\"outlinewidth\":0,\"ticks\":\"\"},\"colorscale\":[[0.0,\"#0d0887\"],[0.1111111111111111,\"#46039f\"],[0.2222222222222222,\"#7201a8\"],[0.3333333333333333,\"#9c179e\"],[0.4444444444444444,\"#bd3786\"],[0.5555555555555556,\"#d8576b\"],[0.6666666666666666,\"#ed7953\"],[0.7777777777777778,\"#fb9f3a\"],[0.8888888888888888,\"#fdca26\"],[1.0,\"#f0f921\"]]}],\"contourcarpet\":[{\"type\":\"contourcarpet\",\"colorbar\":{\"outlinewidth\":0,\"ticks\":\"\"}}],\"contour\":[{\"type\":\"contour\",\"colorbar\":{\"outlinewidth\":0,\"ticks\":\"\"},\"colorscale\":[[0.0,\"#0d0887\"],[0.1111111111111111,\"#46039f\"],[0.2222222222222222,\"#7201a8\"],[0.3333333333333333,\"#9c179e\"],[0.4444444444444444,\"#bd3786\"],[0.5555555555555556,\"#d8576b\"],[0.6666666666666666,\"#ed7953\"],[0.7777777777777778,\"#fb9f3a\"],[0.8888888888888888,\"#fdca26\"],[1.0,\"#f0f921\"]]}],\"surface\":[{\"type\":\"surface\",\"colorbar\":{\"outlinewidth\":0,\"ticks\":\"\"},\"colorscale\":[[0.0,\"#0d0887\"],[0.1111111111111111,\"#46039f\"],[0.2222222222222222,\"#7201a8\"],[0.3333333333333333,\"#9c179e\"],[0.4444444444444444,\"#bd3786\"],[0.5555555555555556,\"#d8576b\"],[0.6666666666666666,\"#ed7953\"],[0.7777777777777778,\"#fb9f3a\"],[0.8888888888888888,\"#fdca26\"],[1.0,\"#f0f921\"]]}],\"mesh3d\":[{\"type\":\"mesh3d\",\"colorbar\":{\"outlinewidth\":0,\"ticks\":\"\"}}],\"scatter\":[{\"fillpattern\":{\"fillmode\":\"overlay\",\"size\":10,\"solidity\":0.2},\"type\":\"scatter\"}],\"parcoords\":[{\"type\":\"parcoords\",\"line\":{\"colorbar\":{\"outlinewidth\":0,\"ticks\":\"\"}}}],\"scatterpolargl\":[{\"type\":\"scatterpolargl\",\"marker\":{\"colorbar\":{\"outlinewidth\":0,\"ticks\":\"\"}}}],\"bar\":[{\"error_x\":{\"color\":\"#2a3f5f\"},\"error_y\":{\"color\":\"#2a3f5f\"},\"marker\":{\"line\":{\"color\":\"#E5ECF6\",\"width\":0.5},\"pattern\":{\"fillmode\":\"overlay\",\"size\":10,\"solidity\":0.2}},\"type\":\"bar\"}],\"scattergeo\":[{\"type\":\"scattergeo\",\"marker\":{\"colorbar\":{\"outlinewidth\":0,\"ticks\":\"\"}}}],\"scatterpolar\":[{\"type\":\"scatterpolar\",\"marker\":{\"colorbar\":{\"outlinewidth\":0,\"ticks\":\"\"}}}],\"histogram\":[{\"marker\":{\"pattern\":{\"fillmode\":\"overlay\",\"size\":10,\"solidity\":0.2}},\"type\":\"histogram\"}],\"scattergl\":[{\"type\":\"scattergl\",\"marker\":{\"colorbar\":{\"outlinewidth\":0,\"ticks\":\"\"}}}],\"scatter3d\":[{\"type\":\"scatter3d\",\"line\":{\"colorbar\":{\"outlinewidth\":0,\"ticks\":\"\"}},\"marker\":{\"colorbar\":{\"outlinewidth\":0,\"ticks\":\"\"}}}],\"scattermapbox\":[{\"type\":\"scattermapbox\",\"marker\":{\"colorbar\":{\"outlinewidth\":0,\"ticks\":\"\"}}}],\"scatterternary\":[{\"type\":\"scatterternary\",\"marker\":{\"colorbar\":{\"outlinewidth\":0,\"ticks\":\"\"}}}],\"scattercarpet\":[{\"type\":\"scattercarpet\",\"marker\":{\"colorbar\":{\"outlinewidth\":0,\"ticks\":\"\"}}}],\"carpet\":[{\"aaxis\":{\"endlinecolor\":\"#2a3f5f\",\"gridcolor\":\"white\",\"linecolor\":\"white\",\"minorgridcolor\":\"white\",\"startlinecolor\":\"#2a3f5f\"},\"baxis\":{\"endlinecolor\":\"#2a3f5f\",\"gridcolor\":\"white\",\"linecolor\":\"white\",\"minorgridcolor\":\"white\",\"startlinecolor\":\"#2a3f5f\"},\"type\":\"carpet\"}],\"table\":[{\"cells\":{\"fill\":{\"color\":\"#EBF0F8\"},\"line\":{\"color\":\"white\"}},\"header\":{\"fill\":{\"color\":\"#C8D4E3\"},\"line\":{\"color\":\"white\"}},\"type\":\"table\"}],\"barpolar\":[{\"marker\":{\"line\":{\"color\":\"#E5ECF6\",\"width\":0.5},\"pattern\":{\"fillmode\":\"overlay\",\"size\":10,\"solidity\":0.2}},\"type\":\"barpolar\"}],\"pie\":[{\"automargin\":true,\"type\":\"pie\"}]},\"layout\":{\"autotypenumbers\":\"strict\",\"colorway\":[\"#636efa\",\"#EF553B\",\"#00cc96\",\"#ab63fa\",\"#FFA15A\",\"#19d3f3\",\"#FF6692\",\"#B6E880\",\"#FF97FF\",\"#FECB52\"],\"font\":{\"color\":\"#2a3f5f\"},\"hovermode\":\"closest\",\"hoverlabel\":{\"align\":\"left\"},\"paper_bgcolor\":\"white\",\"plot_bgcolor\":\"#E5ECF6\",\"polar\":{\"bgcolor\":\"#E5ECF6\",\"angularaxis\":{\"gridcolor\":\"white\",\"linecolor\":\"white\",\"ticks\":\"\"},\"radialaxis\":{\"gridcolor\":\"white\",\"linecolor\":\"white\",\"ticks\":\"\"}},\"ternary\":{\"bgcolor\":\"#E5ECF6\",\"aaxis\":{\"gridcolor\":\"white\",\"linecolor\":\"white\",\"ticks\":\"\"},\"baxis\":{\"gridcolor\":\"white\",\"linecolor\":\"white\",\"ticks\":\"\"},\"caxis\":{\"gridcolor\":\"white\",\"linecolor\":\"white\",\"ticks\":\"\"}},\"coloraxis\":{\"colorbar\":{\"outlinewidth\":0,\"ticks\":\"\"}},\"colorscale\":{\"sequential\":[[0.0,\"#0d0887\"],[0.1111111111111111,\"#46039f\"],[0.2222222222222222,\"#7201a8\"],[0.3333333333333333,\"#9c179e\"],[0.4444444444444444,\"#bd3786\"],[0.5555555555555556,\"#d8576b\"],[0.6666666666666666,\"#ed7953\"],[0.7777777777777778,\"#fb9f3a\"],[0.8888888888888888,\"#fdca26\"],[1.0,\"#f0f921\"]],\"sequentialminus\":[[0.0,\"#0d0887\"],[0.1111111111111111,\"#46039f\"],[0.2222222222222222,\"#7201a8\"],[0.3333333333333333,\"#9c179e\"],[0.4444444444444444,\"#bd3786\"],[0.5555555555555556,\"#d8576b\"],[0.6666666666666666,\"#ed7953\"],[0.7777777777777778,\"#fb9f3a\"],[0.8888888888888888,\"#fdca26\"],[1.0,\"#f0f921\"]],\"diverging\":[[0,\"#8e0152\"],[0.1,\"#c51b7d\"],[0.2,\"#de77ae\"],[0.3,\"#f1b6da\"],[0.4,\"#fde0ef\"],[0.5,\"#f7f7f7\"],[0.6,\"#e6f5d0\"],[0.7,\"#b8e186\"],[0.8,\"#7fbc41\"],[0.9,\"#4d9221\"],[1,\"#276419\"]]},\"xaxis\":{\"gridcolor\":\"white\",\"linecolor\":\"white\",\"ticks\":\"\",\"title\":{\"standoff\":15},\"zerolinecolor\":\"white\",\"automargin\":true,\"zerolinewidth\":2},\"yaxis\":{\"gridcolor\":\"white\",\"linecolor\":\"white\",\"ticks\":\"\",\"title\":{\"standoff\":15},\"zerolinecolor\":\"white\",\"automargin\":true,\"zerolinewidth\":2},\"scene\":{\"xaxis\":{\"backgroundcolor\":\"#E5ECF6\",\"gridcolor\":\"white\",\"linecolor\":\"white\",\"showbackground\":true,\"ticks\":\"\",\"zerolinecolor\":\"white\",\"gridwidth\":2},\"yaxis\":{\"backgroundcolor\":\"#E5ECF6\",\"gridcolor\":\"white\",\"linecolor\":\"white\",\"showbackground\":true,\"ticks\":\"\",\"zerolinecolor\":\"white\",\"gridwidth\":2},\"zaxis\":{\"backgroundcolor\":\"#E5ECF6\",\"gridcolor\":\"white\",\"linecolor\":\"white\",\"showbackground\":true,\"ticks\":\"\",\"zerolinecolor\":\"white\",\"gridwidth\":2}},\"shapedefaults\":{\"line\":{\"color\":\"#2a3f5f\"}},\"annotationdefaults\":{\"arrowcolor\":\"#2a3f5f\",\"arrowhead\":0,\"arrowwidth\":1},\"geo\":{\"bgcolor\":\"white\",\"landcolor\":\"#E5ECF6\",\"subunitcolor\":\"white\",\"showland\":true,\"showlakes\":true,\"lakecolor\":\"white\"},\"title\":{\"x\":0.05},\"mapbox\":{\"style\":\"light\"}}},\"xaxis\":{\"anchor\":\"y\",\"domain\":[0.0,1.0],\"title\":{\"text\":\"Station Size\"},\"categoryorder\":\"array\",\"categoryarray\":[\"Small\",\"Medium\",\"Large\"]},\"yaxis\":{\"anchor\":\"x\",\"domain\":[0.0,1.0],\"title\":{\"text\":\"count\"}},\"legend\":{\"title\":{\"text\":\"Station Size\"},\"tracegroupgap\":0},\"title\":{\"text\":\"Distribution of Start Station Sizes\"},\"barmode\":\"relative\"},                        {\"responsive\": true}                    ).then(function(){\n",
       "                            \n",
       "var gd = document.getElementById('23db4072-1c19-47a3-b5e2-55da5a836476');\n",
       "var x = new MutationObserver(function (mutations, observer) {{\n",
       "        var display = window.getComputedStyle(gd).display;\n",
       "        if (!display || display === 'none') {{\n",
       "            console.log([gd, 'removed!']);\n",
       "            Plotly.purge(gd);\n",
       "            observer.disconnect();\n",
       "        }}\n",
       "}});\n",
       "\n",
       "// Listen for the removal of the full notebook cells\n",
       "var notebookContainer = gd.closest('#notebook-container');\n",
       "if (notebookContainer) {{\n",
       "    x.observe(notebookContainer, {childList: true});\n",
       "}}\n",
       "\n",
       "// Listen for the clearing of the current output cell\n",
       "var outputEl = gd.closest('.output');\n",
       "if (outputEl) {{\n",
       "    x.observe(outputEl, {childList: true});\n",
       "}}\n",
       "\n",
       "                        })                };                });            </script>        </div>"
      ]
     },
     "metadata": {},
     "output_type": "display_data"
    }
   ],
   "execution_count": 487
  },
  {
   "metadata": {
    "ExecuteTime": {
     "end_time": "2025-06-21T15:57:28.328708Z",
     "start_time": "2025-06-21T15:57:28.277244Z"
    }
   },
   "cell_type": "code",
   "source": [
    "# 4b. Bar plot: price category vs number of trips\n",
    "# Create price bins\n",
    "bins = [0, 4, 7, 20, 21]\n",
    "labels = ['Low ($0-4)', 'Medium ($4-7)', 'High ($7-20)', 'Very High ($20+)']\n",
    "df_modified['price_category'] = pd.cut(df_modified['trip_price'], bins=bins, labels=labels)\n",
    "\n",
    "price_dist = df_modified['price_category'].value_counts().sort_index().reset_index()\n",
    "price_dist.columns = ['price_category', 'trip_count']\n",
    "fig4b = px.bar(\n",
    "    price_dist,\n",
    "    x='price_category',\n",
    "    y='trip_count',\n",
    "    title='Trip Distribution by Price Category',\n",
    "    labels={'trip_count': 'Number of Trips', 'price_category': 'Price Range'},\n",
    "    color='price_category'\n",
    ")\n",
    "\n",
    "fig4b.show()"
   ],
   "id": "76e14d9c26030c0a",
   "outputs": [
    {
     "data": {
      "application/vnd.plotly.v1+json": {
       "data": [
        {
         "alignmentgroup": "True",
         "hovertemplate": "Price Range=%{x}<br>Number of Trips=%{y}<extra></extra>",
         "legendgroup": "Low ($0-4)",
         "marker": {
          "color": "#636efa",
          "pattern": {
           "shape": ""
          }
         },
         "name": "Low ($0-4)",
         "offsetgroup": "Low ($0-4)",
         "orientation": "v",
         "showlegend": true,
         "textposition": "auto",
         "x": [
          "Low ($0-4)"
         ],
         "xaxis": "x",
         "y": [
          83
         ],
         "yaxis": "y",
         "type": "bar"
        },
        {
         "alignmentgroup": "True",
         "hovertemplate": "Price Range=%{x}<br>Number of Trips=%{y}<extra></extra>",
         "legendgroup": "Medium ($4-7)",
         "marker": {
          "color": "#EF553B",
          "pattern": {
           "shape": ""
          }
         },
         "name": "Medium ($4-7)",
         "offsetgroup": "Medium ($4-7)",
         "orientation": "v",
         "showlegend": true,
         "textposition": "auto",
         "x": [
          "Medium ($4-7)"
         ],
         "xaxis": "x",
         "y": [
          14
         ],
         "yaxis": "y",
         "type": "bar"
        },
        {
         "alignmentgroup": "True",
         "hovertemplate": "Price Range=%{x}<br>Number of Trips=%{y}<extra></extra>",
         "legendgroup": "High ($7-20)",
         "marker": {
          "color": "#00cc96",
          "pattern": {
           "shape": ""
          }
         },
         "name": "High ($7-20)",
         "offsetgroup": "High ($7-20)",
         "orientation": "v",
         "showlegend": true,
         "textposition": "auto",
         "x": [
          "High ($7-20)"
         ],
         "xaxis": "x",
         "y": [
          0
         ],
         "yaxis": "y",
         "type": "bar"
        },
        {
         "alignmentgroup": "True",
         "hovertemplate": "Price Range=%{x}<br>Number of Trips=%{y}<extra></extra>",
         "legendgroup": "Very High ($20+)",
         "marker": {
          "color": "#ab63fa",
          "pattern": {
           "shape": ""
          }
         },
         "name": "Very High ($20+)",
         "offsetgroup": "Very High ($20+)",
         "orientation": "v",
         "showlegend": true,
         "textposition": "auto",
         "x": [
          "Very High ($20+)"
         ],
         "xaxis": "x",
         "y": [
          0
         ],
         "yaxis": "y",
         "type": "bar"
        }
       ],
       "layout": {
        "template": {
         "data": {
          "histogram2dcontour": [
           {
            "type": "histogram2dcontour",
            "colorbar": {
             "outlinewidth": 0,
             "ticks": ""
            },
            "colorscale": [
             [
              0.0,
              "#0d0887"
             ],
             [
              0.1111111111111111,
              "#46039f"
             ],
             [
              0.2222222222222222,
              "#7201a8"
             ],
             [
              0.3333333333333333,
              "#9c179e"
             ],
             [
              0.4444444444444444,
              "#bd3786"
             ],
             [
              0.5555555555555556,
              "#d8576b"
             ],
             [
              0.6666666666666666,
              "#ed7953"
             ],
             [
              0.7777777777777778,
              "#fb9f3a"
             ],
             [
              0.8888888888888888,
              "#fdca26"
             ],
             [
              1.0,
              "#f0f921"
             ]
            ]
           }
          ],
          "choropleth": [
           {
            "type": "choropleth",
            "colorbar": {
             "outlinewidth": 0,
             "ticks": ""
            }
           }
          ],
          "histogram2d": [
           {
            "type": "histogram2d",
            "colorbar": {
             "outlinewidth": 0,
             "ticks": ""
            },
            "colorscale": [
             [
              0.0,
              "#0d0887"
             ],
             [
              0.1111111111111111,
              "#46039f"
             ],
             [
              0.2222222222222222,
              "#7201a8"
             ],
             [
              0.3333333333333333,
              "#9c179e"
             ],
             [
              0.4444444444444444,
              "#bd3786"
             ],
             [
              0.5555555555555556,
              "#d8576b"
             ],
             [
              0.6666666666666666,
              "#ed7953"
             ],
             [
              0.7777777777777778,
              "#fb9f3a"
             ],
             [
              0.8888888888888888,
              "#fdca26"
             ],
             [
              1.0,
              "#f0f921"
             ]
            ]
           }
          ],
          "heatmap": [
           {
            "type": "heatmap",
            "colorbar": {
             "outlinewidth": 0,
             "ticks": ""
            },
            "colorscale": [
             [
              0.0,
              "#0d0887"
             ],
             [
              0.1111111111111111,
              "#46039f"
             ],
             [
              0.2222222222222222,
              "#7201a8"
             ],
             [
              0.3333333333333333,
              "#9c179e"
             ],
             [
              0.4444444444444444,
              "#bd3786"
             ],
             [
              0.5555555555555556,
              "#d8576b"
             ],
             [
              0.6666666666666666,
              "#ed7953"
             ],
             [
              0.7777777777777778,
              "#fb9f3a"
             ],
             [
              0.8888888888888888,
              "#fdca26"
             ],
             [
              1.0,
              "#f0f921"
             ]
            ]
           }
          ],
          "heatmapgl": [
           {
            "type": "heatmapgl",
            "colorbar": {
             "outlinewidth": 0,
             "ticks": ""
            },
            "colorscale": [
             [
              0.0,
              "#0d0887"
             ],
             [
              0.1111111111111111,
              "#46039f"
             ],
             [
              0.2222222222222222,
              "#7201a8"
             ],
             [
              0.3333333333333333,
              "#9c179e"
             ],
             [
              0.4444444444444444,
              "#bd3786"
             ],
             [
              0.5555555555555556,
              "#d8576b"
             ],
             [
              0.6666666666666666,
              "#ed7953"
             ],
             [
              0.7777777777777778,
              "#fb9f3a"
             ],
             [
              0.8888888888888888,
              "#fdca26"
             ],
             [
              1.0,
              "#f0f921"
             ]
            ]
           }
          ],
          "contourcarpet": [
           {
            "type": "contourcarpet",
            "colorbar": {
             "outlinewidth": 0,
             "ticks": ""
            }
           }
          ],
          "contour": [
           {
            "type": "contour",
            "colorbar": {
             "outlinewidth": 0,
             "ticks": ""
            },
            "colorscale": [
             [
              0.0,
              "#0d0887"
             ],
             [
              0.1111111111111111,
              "#46039f"
             ],
             [
              0.2222222222222222,
              "#7201a8"
             ],
             [
              0.3333333333333333,
              "#9c179e"
             ],
             [
              0.4444444444444444,
              "#bd3786"
             ],
             [
              0.5555555555555556,
              "#d8576b"
             ],
             [
              0.6666666666666666,
              "#ed7953"
             ],
             [
              0.7777777777777778,
              "#fb9f3a"
             ],
             [
              0.8888888888888888,
              "#fdca26"
             ],
             [
              1.0,
              "#f0f921"
             ]
            ]
           }
          ],
          "surface": [
           {
            "type": "surface",
            "colorbar": {
             "outlinewidth": 0,
             "ticks": ""
            },
            "colorscale": [
             [
              0.0,
              "#0d0887"
             ],
             [
              0.1111111111111111,
              "#46039f"
             ],
             [
              0.2222222222222222,
              "#7201a8"
             ],
             [
              0.3333333333333333,
              "#9c179e"
             ],
             [
              0.4444444444444444,
              "#bd3786"
             ],
             [
              0.5555555555555556,
              "#d8576b"
             ],
             [
              0.6666666666666666,
              "#ed7953"
             ],
             [
              0.7777777777777778,
              "#fb9f3a"
             ],
             [
              0.8888888888888888,
              "#fdca26"
             ],
             [
              1.0,
              "#f0f921"
             ]
            ]
           }
          ],
          "mesh3d": [
           {
            "type": "mesh3d",
            "colorbar": {
             "outlinewidth": 0,
             "ticks": ""
            }
           }
          ],
          "scatter": [
           {
            "fillpattern": {
             "fillmode": "overlay",
             "size": 10,
             "solidity": 0.2
            },
            "type": "scatter"
           }
          ],
          "parcoords": [
           {
            "type": "parcoords",
            "line": {
             "colorbar": {
              "outlinewidth": 0,
              "ticks": ""
             }
            }
           }
          ],
          "scatterpolargl": [
           {
            "type": "scatterpolargl",
            "marker": {
             "colorbar": {
              "outlinewidth": 0,
              "ticks": ""
             }
            }
           }
          ],
          "bar": [
           {
            "error_x": {
             "color": "#2a3f5f"
            },
            "error_y": {
             "color": "#2a3f5f"
            },
            "marker": {
             "line": {
              "color": "#E5ECF6",
              "width": 0.5
             },
             "pattern": {
              "fillmode": "overlay",
              "size": 10,
              "solidity": 0.2
             }
            },
            "type": "bar"
           }
          ],
          "scattergeo": [
           {
            "type": "scattergeo",
            "marker": {
             "colorbar": {
              "outlinewidth": 0,
              "ticks": ""
             }
            }
           }
          ],
          "scatterpolar": [
           {
            "type": "scatterpolar",
            "marker": {
             "colorbar": {
              "outlinewidth": 0,
              "ticks": ""
             }
            }
           }
          ],
          "histogram": [
           {
            "marker": {
             "pattern": {
              "fillmode": "overlay",
              "size": 10,
              "solidity": 0.2
             }
            },
            "type": "histogram"
           }
          ],
          "scattergl": [
           {
            "type": "scattergl",
            "marker": {
             "colorbar": {
              "outlinewidth": 0,
              "ticks": ""
             }
            }
           }
          ],
          "scatter3d": [
           {
            "type": "scatter3d",
            "line": {
             "colorbar": {
              "outlinewidth": 0,
              "ticks": ""
             }
            },
            "marker": {
             "colorbar": {
              "outlinewidth": 0,
              "ticks": ""
             }
            }
           }
          ],
          "scattermapbox": [
           {
            "type": "scattermapbox",
            "marker": {
             "colorbar": {
              "outlinewidth": 0,
              "ticks": ""
             }
            }
           }
          ],
          "scatterternary": [
           {
            "type": "scatterternary",
            "marker": {
             "colorbar": {
              "outlinewidth": 0,
              "ticks": ""
             }
            }
           }
          ],
          "scattercarpet": [
           {
            "type": "scattercarpet",
            "marker": {
             "colorbar": {
              "outlinewidth": 0,
              "ticks": ""
             }
            }
           }
          ],
          "carpet": [
           {
            "aaxis": {
             "endlinecolor": "#2a3f5f",
             "gridcolor": "white",
             "linecolor": "white",
             "minorgridcolor": "white",
             "startlinecolor": "#2a3f5f"
            },
            "baxis": {
             "endlinecolor": "#2a3f5f",
             "gridcolor": "white",
             "linecolor": "white",
             "minorgridcolor": "white",
             "startlinecolor": "#2a3f5f"
            },
            "type": "carpet"
           }
          ],
          "table": [
           {
            "cells": {
             "fill": {
              "color": "#EBF0F8"
             },
             "line": {
              "color": "white"
             }
            },
            "header": {
             "fill": {
              "color": "#C8D4E3"
             },
             "line": {
              "color": "white"
             }
            },
            "type": "table"
           }
          ],
          "barpolar": [
           {
            "marker": {
             "line": {
              "color": "#E5ECF6",
              "width": 0.5
             },
             "pattern": {
              "fillmode": "overlay",
              "size": 10,
              "solidity": 0.2
             }
            },
            "type": "barpolar"
           }
          ],
          "pie": [
           {
            "automargin": true,
            "type": "pie"
           }
          ]
         },
         "layout": {
          "autotypenumbers": "strict",
          "colorway": [
           "#636efa",
           "#EF553B",
           "#00cc96",
           "#ab63fa",
           "#FFA15A",
           "#19d3f3",
           "#FF6692",
           "#B6E880",
           "#FF97FF",
           "#FECB52"
          ],
          "font": {
           "color": "#2a3f5f"
          },
          "hovermode": "closest",
          "hoverlabel": {
           "align": "left"
          },
          "paper_bgcolor": "white",
          "plot_bgcolor": "#E5ECF6",
          "polar": {
           "bgcolor": "#E5ECF6",
           "angularaxis": {
            "gridcolor": "white",
            "linecolor": "white",
            "ticks": ""
           },
           "radialaxis": {
            "gridcolor": "white",
            "linecolor": "white",
            "ticks": ""
           }
          },
          "ternary": {
           "bgcolor": "#E5ECF6",
           "aaxis": {
            "gridcolor": "white",
            "linecolor": "white",
            "ticks": ""
           },
           "baxis": {
            "gridcolor": "white",
            "linecolor": "white",
            "ticks": ""
           },
           "caxis": {
            "gridcolor": "white",
            "linecolor": "white",
            "ticks": ""
           }
          },
          "coloraxis": {
           "colorbar": {
            "outlinewidth": 0,
            "ticks": ""
           }
          },
          "colorscale": {
           "sequential": [
            [
             0.0,
             "#0d0887"
            ],
            [
             0.1111111111111111,
             "#46039f"
            ],
            [
             0.2222222222222222,
             "#7201a8"
            ],
            [
             0.3333333333333333,
             "#9c179e"
            ],
            [
             0.4444444444444444,
             "#bd3786"
            ],
            [
             0.5555555555555556,
             "#d8576b"
            ],
            [
             0.6666666666666666,
             "#ed7953"
            ],
            [
             0.7777777777777778,
             "#fb9f3a"
            ],
            [
             0.8888888888888888,
             "#fdca26"
            ],
            [
             1.0,
             "#f0f921"
            ]
           ],
           "sequentialminus": [
            [
             0.0,
             "#0d0887"
            ],
            [
             0.1111111111111111,
             "#46039f"
            ],
            [
             0.2222222222222222,
             "#7201a8"
            ],
            [
             0.3333333333333333,
             "#9c179e"
            ],
            [
             0.4444444444444444,
             "#bd3786"
            ],
            [
             0.5555555555555556,
             "#d8576b"
            ],
            [
             0.6666666666666666,
             "#ed7953"
            ],
            [
             0.7777777777777778,
             "#fb9f3a"
            ],
            [
             0.8888888888888888,
             "#fdca26"
            ],
            [
             1.0,
             "#f0f921"
            ]
           ],
           "diverging": [
            [
             0,
             "#8e0152"
            ],
            [
             0.1,
             "#c51b7d"
            ],
            [
             0.2,
             "#de77ae"
            ],
            [
             0.3,
             "#f1b6da"
            ],
            [
             0.4,
             "#fde0ef"
            ],
            [
             0.5,
             "#f7f7f7"
            ],
            [
             0.6,
             "#e6f5d0"
            ],
            [
             0.7,
             "#b8e186"
            ],
            [
             0.8,
             "#7fbc41"
            ],
            [
             0.9,
             "#4d9221"
            ],
            [
             1,
             "#276419"
            ]
           ]
          },
          "xaxis": {
           "gridcolor": "white",
           "linecolor": "white",
           "ticks": "",
           "title": {
            "standoff": 15
           },
           "zerolinecolor": "white",
           "automargin": true,
           "zerolinewidth": 2
          },
          "yaxis": {
           "gridcolor": "white",
           "linecolor": "white",
           "ticks": "",
           "title": {
            "standoff": 15
           },
           "zerolinecolor": "white",
           "automargin": true,
           "zerolinewidth": 2
          },
          "scene": {
           "xaxis": {
            "backgroundcolor": "#E5ECF6",
            "gridcolor": "white",
            "linecolor": "white",
            "showbackground": true,
            "ticks": "",
            "zerolinecolor": "white",
            "gridwidth": 2
           },
           "yaxis": {
            "backgroundcolor": "#E5ECF6",
            "gridcolor": "white",
            "linecolor": "white",
            "showbackground": true,
            "ticks": "",
            "zerolinecolor": "white",
            "gridwidth": 2
           },
           "zaxis": {
            "backgroundcolor": "#E5ECF6",
            "gridcolor": "white",
            "linecolor": "white",
            "showbackground": true,
            "ticks": "",
            "zerolinecolor": "white",
            "gridwidth": 2
           }
          },
          "shapedefaults": {
           "line": {
            "color": "#2a3f5f"
           }
          },
          "annotationdefaults": {
           "arrowcolor": "#2a3f5f",
           "arrowhead": 0,
           "arrowwidth": 1
          },
          "geo": {
           "bgcolor": "white",
           "landcolor": "#E5ECF6",
           "subunitcolor": "white",
           "showland": true,
           "showlakes": true,
           "lakecolor": "white"
          },
          "title": {
           "x": 0.05
          },
          "mapbox": {
           "style": "light"
          }
         }
        },
        "xaxis": {
         "anchor": "y",
         "domain": [
          0.0,
          1.0
         ],
         "title": {
          "text": "Price Range"
         },
         "categoryorder": "array",
         "categoryarray": [
          "Low ($0-4)",
          "Medium ($4-7)",
          "High ($7-20)",
          "Very High ($20+)"
         ]
        },
        "yaxis": {
         "anchor": "x",
         "domain": [
          0.0,
          1.0
         ],
         "title": {
          "text": "Number of Trips"
         }
        },
        "legend": {
         "title": {
          "text": "Price Range"
         },
         "tracegroupgap": 0
        },
        "title": {
         "text": "Trip Distribution by Price Category"
        },
        "barmode": "relative"
       },
       "config": {
        "plotlyServerURL": "https://plot.ly"
       }
      },
      "text/html": [
       "<div>                            <div id=\"bf028343-f490-479e-9134-ec43ee644362\" class=\"plotly-graph-div\" style=\"height:525px; width:100%;\"></div>            <script type=\"text/javascript\">                require([\"plotly\"], function(Plotly) {                    window.PLOTLYENV=window.PLOTLYENV || {};                                    if (document.getElementById(\"bf028343-f490-479e-9134-ec43ee644362\")) {                    Plotly.newPlot(                        \"bf028343-f490-479e-9134-ec43ee644362\",                        [{\"alignmentgroup\":\"True\",\"hovertemplate\":\"Price Range=%{x}\\u003cbr\\u003eNumber of Trips=%{y}\\u003cextra\\u003e\\u003c\\u002fextra\\u003e\",\"legendgroup\":\"Low ($0-4)\",\"marker\":{\"color\":\"#636efa\",\"pattern\":{\"shape\":\"\"}},\"name\":\"Low ($0-4)\",\"offsetgroup\":\"Low ($0-4)\",\"orientation\":\"v\",\"showlegend\":true,\"textposition\":\"auto\",\"x\":[\"Low ($0-4)\"],\"xaxis\":\"x\",\"y\":[83],\"yaxis\":\"y\",\"type\":\"bar\"},{\"alignmentgroup\":\"True\",\"hovertemplate\":\"Price Range=%{x}\\u003cbr\\u003eNumber of Trips=%{y}\\u003cextra\\u003e\\u003c\\u002fextra\\u003e\",\"legendgroup\":\"Medium ($4-7)\",\"marker\":{\"color\":\"#EF553B\",\"pattern\":{\"shape\":\"\"}},\"name\":\"Medium ($4-7)\",\"offsetgroup\":\"Medium ($4-7)\",\"orientation\":\"v\",\"showlegend\":true,\"textposition\":\"auto\",\"x\":[\"Medium ($4-7)\"],\"xaxis\":\"x\",\"y\":[14],\"yaxis\":\"y\",\"type\":\"bar\"},{\"alignmentgroup\":\"True\",\"hovertemplate\":\"Price Range=%{x}\\u003cbr\\u003eNumber of Trips=%{y}\\u003cextra\\u003e\\u003c\\u002fextra\\u003e\",\"legendgroup\":\"High ($7-20)\",\"marker\":{\"color\":\"#00cc96\",\"pattern\":{\"shape\":\"\"}},\"name\":\"High ($7-20)\",\"offsetgroup\":\"High ($7-20)\",\"orientation\":\"v\",\"showlegend\":true,\"textposition\":\"auto\",\"x\":[\"High ($7-20)\"],\"xaxis\":\"x\",\"y\":[0],\"yaxis\":\"y\",\"type\":\"bar\"},{\"alignmentgroup\":\"True\",\"hovertemplate\":\"Price Range=%{x}\\u003cbr\\u003eNumber of Trips=%{y}\\u003cextra\\u003e\\u003c\\u002fextra\\u003e\",\"legendgroup\":\"Very High ($20+)\",\"marker\":{\"color\":\"#ab63fa\",\"pattern\":{\"shape\":\"\"}},\"name\":\"Very High ($20+)\",\"offsetgroup\":\"Very High ($20+)\",\"orientation\":\"v\",\"showlegend\":true,\"textposition\":\"auto\",\"x\":[\"Very High ($20+)\"],\"xaxis\":\"x\",\"y\":[0],\"yaxis\":\"y\",\"type\":\"bar\"}],                        {\"template\":{\"data\":{\"histogram2dcontour\":[{\"type\":\"histogram2dcontour\",\"colorbar\":{\"outlinewidth\":0,\"ticks\":\"\"},\"colorscale\":[[0.0,\"#0d0887\"],[0.1111111111111111,\"#46039f\"],[0.2222222222222222,\"#7201a8\"],[0.3333333333333333,\"#9c179e\"],[0.4444444444444444,\"#bd3786\"],[0.5555555555555556,\"#d8576b\"],[0.6666666666666666,\"#ed7953\"],[0.7777777777777778,\"#fb9f3a\"],[0.8888888888888888,\"#fdca26\"],[1.0,\"#f0f921\"]]}],\"choropleth\":[{\"type\":\"choropleth\",\"colorbar\":{\"outlinewidth\":0,\"ticks\":\"\"}}],\"histogram2d\":[{\"type\":\"histogram2d\",\"colorbar\":{\"outlinewidth\":0,\"ticks\":\"\"},\"colorscale\":[[0.0,\"#0d0887\"],[0.1111111111111111,\"#46039f\"],[0.2222222222222222,\"#7201a8\"],[0.3333333333333333,\"#9c179e\"],[0.4444444444444444,\"#bd3786\"],[0.5555555555555556,\"#d8576b\"],[0.6666666666666666,\"#ed7953\"],[0.7777777777777778,\"#fb9f3a\"],[0.8888888888888888,\"#fdca26\"],[1.0,\"#f0f921\"]]}],\"heatmap\":[{\"type\":\"heatmap\",\"colorbar\":{\"outlinewidth\":0,\"ticks\":\"\"},\"colorscale\":[[0.0,\"#0d0887\"],[0.1111111111111111,\"#46039f\"],[0.2222222222222222,\"#7201a8\"],[0.3333333333333333,\"#9c179e\"],[0.4444444444444444,\"#bd3786\"],[0.5555555555555556,\"#d8576b\"],[0.6666666666666666,\"#ed7953\"],[0.7777777777777778,\"#fb9f3a\"],[0.8888888888888888,\"#fdca26\"],[1.0,\"#f0f921\"]]}],\"heatmapgl\":[{\"type\":\"heatmapgl\",\"colorbar\":{\"outlinewidth\":0,\"ticks\":\"\"},\"colorscale\":[[0.0,\"#0d0887\"],[0.1111111111111111,\"#46039f\"],[0.2222222222222222,\"#7201a8\"],[0.3333333333333333,\"#9c179e\"],[0.4444444444444444,\"#bd3786\"],[0.5555555555555556,\"#d8576b\"],[0.6666666666666666,\"#ed7953\"],[0.7777777777777778,\"#fb9f3a\"],[0.8888888888888888,\"#fdca26\"],[1.0,\"#f0f921\"]]}],\"contourcarpet\":[{\"type\":\"contourcarpet\",\"colorbar\":{\"outlinewidth\":0,\"ticks\":\"\"}}],\"contour\":[{\"type\":\"contour\",\"colorbar\":{\"outlinewidth\":0,\"ticks\":\"\"},\"colorscale\":[[0.0,\"#0d0887\"],[0.1111111111111111,\"#46039f\"],[0.2222222222222222,\"#7201a8\"],[0.3333333333333333,\"#9c179e\"],[0.4444444444444444,\"#bd3786\"],[0.5555555555555556,\"#d8576b\"],[0.6666666666666666,\"#ed7953\"],[0.7777777777777778,\"#fb9f3a\"],[0.8888888888888888,\"#fdca26\"],[1.0,\"#f0f921\"]]}],\"surface\":[{\"type\":\"surface\",\"colorbar\":{\"outlinewidth\":0,\"ticks\":\"\"},\"colorscale\":[[0.0,\"#0d0887\"],[0.1111111111111111,\"#46039f\"],[0.2222222222222222,\"#7201a8\"],[0.3333333333333333,\"#9c179e\"],[0.4444444444444444,\"#bd3786\"],[0.5555555555555556,\"#d8576b\"],[0.6666666666666666,\"#ed7953\"],[0.7777777777777778,\"#fb9f3a\"],[0.8888888888888888,\"#fdca26\"],[1.0,\"#f0f921\"]]}],\"mesh3d\":[{\"type\":\"mesh3d\",\"colorbar\":{\"outlinewidth\":0,\"ticks\":\"\"}}],\"scatter\":[{\"fillpattern\":{\"fillmode\":\"overlay\",\"size\":10,\"solidity\":0.2},\"type\":\"scatter\"}],\"parcoords\":[{\"type\":\"parcoords\",\"line\":{\"colorbar\":{\"outlinewidth\":0,\"ticks\":\"\"}}}],\"scatterpolargl\":[{\"type\":\"scatterpolargl\",\"marker\":{\"colorbar\":{\"outlinewidth\":0,\"ticks\":\"\"}}}],\"bar\":[{\"error_x\":{\"color\":\"#2a3f5f\"},\"error_y\":{\"color\":\"#2a3f5f\"},\"marker\":{\"line\":{\"color\":\"#E5ECF6\",\"width\":0.5},\"pattern\":{\"fillmode\":\"overlay\",\"size\":10,\"solidity\":0.2}},\"type\":\"bar\"}],\"scattergeo\":[{\"type\":\"scattergeo\",\"marker\":{\"colorbar\":{\"outlinewidth\":0,\"ticks\":\"\"}}}],\"scatterpolar\":[{\"type\":\"scatterpolar\",\"marker\":{\"colorbar\":{\"outlinewidth\":0,\"ticks\":\"\"}}}],\"histogram\":[{\"marker\":{\"pattern\":{\"fillmode\":\"overlay\",\"size\":10,\"solidity\":0.2}},\"type\":\"histogram\"}],\"scattergl\":[{\"type\":\"scattergl\",\"marker\":{\"colorbar\":{\"outlinewidth\":0,\"ticks\":\"\"}}}],\"scatter3d\":[{\"type\":\"scatter3d\",\"line\":{\"colorbar\":{\"outlinewidth\":0,\"ticks\":\"\"}},\"marker\":{\"colorbar\":{\"outlinewidth\":0,\"ticks\":\"\"}}}],\"scattermapbox\":[{\"type\":\"scattermapbox\",\"marker\":{\"colorbar\":{\"outlinewidth\":0,\"ticks\":\"\"}}}],\"scatterternary\":[{\"type\":\"scatterternary\",\"marker\":{\"colorbar\":{\"outlinewidth\":0,\"ticks\":\"\"}}}],\"scattercarpet\":[{\"type\":\"scattercarpet\",\"marker\":{\"colorbar\":{\"outlinewidth\":0,\"ticks\":\"\"}}}],\"carpet\":[{\"aaxis\":{\"endlinecolor\":\"#2a3f5f\",\"gridcolor\":\"white\",\"linecolor\":\"white\",\"minorgridcolor\":\"white\",\"startlinecolor\":\"#2a3f5f\"},\"baxis\":{\"endlinecolor\":\"#2a3f5f\",\"gridcolor\":\"white\",\"linecolor\":\"white\",\"minorgridcolor\":\"white\",\"startlinecolor\":\"#2a3f5f\"},\"type\":\"carpet\"}],\"table\":[{\"cells\":{\"fill\":{\"color\":\"#EBF0F8\"},\"line\":{\"color\":\"white\"}},\"header\":{\"fill\":{\"color\":\"#C8D4E3\"},\"line\":{\"color\":\"white\"}},\"type\":\"table\"}],\"barpolar\":[{\"marker\":{\"line\":{\"color\":\"#E5ECF6\",\"width\":0.5},\"pattern\":{\"fillmode\":\"overlay\",\"size\":10,\"solidity\":0.2}},\"type\":\"barpolar\"}],\"pie\":[{\"automargin\":true,\"type\":\"pie\"}]},\"layout\":{\"autotypenumbers\":\"strict\",\"colorway\":[\"#636efa\",\"#EF553B\",\"#00cc96\",\"#ab63fa\",\"#FFA15A\",\"#19d3f3\",\"#FF6692\",\"#B6E880\",\"#FF97FF\",\"#FECB52\"],\"font\":{\"color\":\"#2a3f5f\"},\"hovermode\":\"closest\",\"hoverlabel\":{\"align\":\"left\"},\"paper_bgcolor\":\"white\",\"plot_bgcolor\":\"#E5ECF6\",\"polar\":{\"bgcolor\":\"#E5ECF6\",\"angularaxis\":{\"gridcolor\":\"white\",\"linecolor\":\"white\",\"ticks\":\"\"},\"radialaxis\":{\"gridcolor\":\"white\",\"linecolor\":\"white\",\"ticks\":\"\"}},\"ternary\":{\"bgcolor\":\"#E5ECF6\",\"aaxis\":{\"gridcolor\":\"white\",\"linecolor\":\"white\",\"ticks\":\"\"},\"baxis\":{\"gridcolor\":\"white\",\"linecolor\":\"white\",\"ticks\":\"\"},\"caxis\":{\"gridcolor\":\"white\",\"linecolor\":\"white\",\"ticks\":\"\"}},\"coloraxis\":{\"colorbar\":{\"outlinewidth\":0,\"ticks\":\"\"}},\"colorscale\":{\"sequential\":[[0.0,\"#0d0887\"],[0.1111111111111111,\"#46039f\"],[0.2222222222222222,\"#7201a8\"],[0.3333333333333333,\"#9c179e\"],[0.4444444444444444,\"#bd3786\"],[0.5555555555555556,\"#d8576b\"],[0.6666666666666666,\"#ed7953\"],[0.7777777777777778,\"#fb9f3a\"],[0.8888888888888888,\"#fdca26\"],[1.0,\"#f0f921\"]],\"sequentialminus\":[[0.0,\"#0d0887\"],[0.1111111111111111,\"#46039f\"],[0.2222222222222222,\"#7201a8\"],[0.3333333333333333,\"#9c179e\"],[0.4444444444444444,\"#bd3786\"],[0.5555555555555556,\"#d8576b\"],[0.6666666666666666,\"#ed7953\"],[0.7777777777777778,\"#fb9f3a\"],[0.8888888888888888,\"#fdca26\"],[1.0,\"#f0f921\"]],\"diverging\":[[0,\"#8e0152\"],[0.1,\"#c51b7d\"],[0.2,\"#de77ae\"],[0.3,\"#f1b6da\"],[0.4,\"#fde0ef\"],[0.5,\"#f7f7f7\"],[0.6,\"#e6f5d0\"],[0.7,\"#b8e186\"],[0.8,\"#7fbc41\"],[0.9,\"#4d9221\"],[1,\"#276419\"]]},\"xaxis\":{\"gridcolor\":\"white\",\"linecolor\":\"white\",\"ticks\":\"\",\"title\":{\"standoff\":15},\"zerolinecolor\":\"white\",\"automargin\":true,\"zerolinewidth\":2},\"yaxis\":{\"gridcolor\":\"white\",\"linecolor\":\"white\",\"ticks\":\"\",\"title\":{\"standoff\":15},\"zerolinecolor\":\"white\",\"automargin\":true,\"zerolinewidth\":2},\"scene\":{\"xaxis\":{\"backgroundcolor\":\"#E5ECF6\",\"gridcolor\":\"white\",\"linecolor\":\"white\",\"showbackground\":true,\"ticks\":\"\",\"zerolinecolor\":\"white\",\"gridwidth\":2},\"yaxis\":{\"backgroundcolor\":\"#E5ECF6\",\"gridcolor\":\"white\",\"linecolor\":\"white\",\"showbackground\":true,\"ticks\":\"\",\"zerolinecolor\":\"white\",\"gridwidth\":2},\"zaxis\":{\"backgroundcolor\":\"#E5ECF6\",\"gridcolor\":\"white\",\"linecolor\":\"white\",\"showbackground\":true,\"ticks\":\"\",\"zerolinecolor\":\"white\",\"gridwidth\":2}},\"shapedefaults\":{\"line\":{\"color\":\"#2a3f5f\"}},\"annotationdefaults\":{\"arrowcolor\":\"#2a3f5f\",\"arrowhead\":0,\"arrowwidth\":1},\"geo\":{\"bgcolor\":\"white\",\"landcolor\":\"#E5ECF6\",\"subunitcolor\":\"white\",\"showland\":true,\"showlakes\":true,\"lakecolor\":\"white\"},\"title\":{\"x\":0.05},\"mapbox\":{\"style\":\"light\"}}},\"xaxis\":{\"anchor\":\"y\",\"domain\":[0.0,1.0],\"title\":{\"text\":\"Price Range\"},\"categoryorder\":\"array\",\"categoryarray\":[\"Low ($0-4)\",\"Medium ($4-7)\",\"High ($7-20)\",\"Very High ($20+)\"]},\"yaxis\":{\"anchor\":\"x\",\"domain\":[0.0,1.0],\"title\":{\"text\":\"Number of Trips\"}},\"legend\":{\"title\":{\"text\":\"Price Range\"},\"tracegroupgap\":0},\"title\":{\"text\":\"Trip Distribution by Price Category\"},\"barmode\":\"relative\"},                        {\"responsive\": true}                    ).then(function(){\n",
       "                            \n",
       "var gd = document.getElementById('bf028343-f490-479e-9134-ec43ee644362');\n",
       "var x = new MutationObserver(function (mutations, observer) {{\n",
       "        var display = window.getComputedStyle(gd).display;\n",
       "        if (!display || display === 'none') {{\n",
       "            console.log([gd, 'removed!']);\n",
       "            Plotly.purge(gd);\n",
       "            observer.disconnect();\n",
       "        }}\n",
       "}});\n",
       "\n",
       "// Listen for the removal of the full notebook cells\n",
       "var notebookContainer = gd.closest('#notebook-container');\n",
       "if (notebookContainer) {{\n",
       "    x.observe(notebookContainer, {childList: true});\n",
       "}}\n",
       "\n",
       "// Listen for the clearing of the current output cell\n",
       "var outputEl = gd.closest('.output');\n",
       "if (outputEl) {{\n",
       "    x.observe(outputEl, {childList: true});\n",
       "}}\n",
       "\n",
       "                        })                };                });            </script>        </div>"
      ]
     },
     "metadata": {},
     "output_type": "display_data"
    }
   ],
   "execution_count": 488
  },
  {
   "metadata": {
    "ExecuteTime": {
     "end_time": "2025-06-21T15:57:29.309591Z",
     "start_time": "2025-06-21T15:57:29.273532Z"
    }
   },
   "cell_type": "code",
   "source": [
    "fig5 = px.histogram(\n",
    "    df_modified,\n",
    "    x=\"duration_min\",\n",
    "    nbins=100,\n",
    "    title=\"Distribution of Trip Duration (Minutes)\",\n",
    "    labels={\"duration_min\": \"Duration (minutes)\"}\n",
    ")\n",
    "fig5.update_layout(bargap=0.2)"
   ],
   "id": "a1ac78a2c4f71b79",
   "outputs": [
    {
     "data": {
      "application/vnd.plotly.v1+json": {
       "data": [
        {
         "alignmentgroup": "True",
         "bingroup": "x",
         "hovertemplate": "Duration (minutes)=%{x}<br>count=%{y}<extra></extra>",
         "legendgroup": "",
         "marker": {
          "color": "#636efa",
          "pattern": {
           "shape": ""
          }
         },
         "name": "",
         "nbinsx": 100,
         "offsetgroup": "",
         "orientation": "v",
         "showlegend": false,
         "x": [
          2.6,
          8.45,
          3.6666666666666665,
          2.583333333333333,
          7.7,
          16.1,
          13.266666666666667,
          7.516666666666667,
          6.033333333333333,
          12.416666666666666,
          7.066666666666666,
          8.966666666666667,
          6.45,
          9.233333333333333,
          4.116666666666666,
          4.6,
          3.566666666666667,
          7.4,
          6.016666666666667,
          26.216666666666665,
          8.116666666666667,
          73.96666666666667,
          22.25,
          1.8333333333333333,
          3.35,
          10.133333333333333,
          20.216666666666665,
          11.333333333333334,
          1.15,
          6.016666666666667,
          3.883333333333333,
          15.333333333333334,
          9.5,
          9.816666666666666,
          16.383333333333333,
          3.283333333333333,
          3.85,
          9.5,
          4.733333333333333,
          10.9,
          8.566666666666666,
          15.05,
          3.9,
          67.6,
          4.95,
          8.566666666666666,
          10.366666666666667,
          10.183333333333334,
          8.95,
          9.6,
          4.066666666666666,
          18.8,
          7.783333333333333,
          16.033333333333335,
          32.8,
          7.5,
          36.25,
          10.15,
          6.85,
          5.4,
          10.166666666666666,
          16.116666666666667,
          9.4,
          5.533333333333333,
          11.783333333333331,
          7.383333333333334,
          43.73333333333333,
          34.28333333333333,
          24.133333333333333,
          6.05,
          25.73333333333333,
          7.383333333333334,
          29.383333333333333,
          30.666666666666668,
          4.55,
          8.0,
          13.15,
          7.6,
          19.566666666666663,
          11.833333333333334,
          6.75,
          5.033333333333333,
          11.266666666666667,
          16.316666666666666,
          23.6,
          16.3,
          10.25,
          20.866666666666667,
          20.03333333333333,
          14.516666666666667,
          10.116666666666667,
          6.366666666666666,
          6.016666666666667,
          6.216666666666667,
          4.116666666666666,
          11.866666666666667,
          7.733333333333333
         ],
         "xaxis": "x",
         "yaxis": "y",
         "type": "histogram"
        }
       ],
       "layout": {
        "template": {
         "data": {
          "histogram2dcontour": [
           {
            "type": "histogram2dcontour",
            "colorbar": {
             "outlinewidth": 0,
             "ticks": ""
            },
            "colorscale": [
             [
              0.0,
              "#0d0887"
             ],
             [
              0.1111111111111111,
              "#46039f"
             ],
             [
              0.2222222222222222,
              "#7201a8"
             ],
             [
              0.3333333333333333,
              "#9c179e"
             ],
             [
              0.4444444444444444,
              "#bd3786"
             ],
             [
              0.5555555555555556,
              "#d8576b"
             ],
             [
              0.6666666666666666,
              "#ed7953"
             ],
             [
              0.7777777777777778,
              "#fb9f3a"
             ],
             [
              0.8888888888888888,
              "#fdca26"
             ],
             [
              1.0,
              "#f0f921"
             ]
            ]
           }
          ],
          "choropleth": [
           {
            "type": "choropleth",
            "colorbar": {
             "outlinewidth": 0,
             "ticks": ""
            }
           }
          ],
          "histogram2d": [
           {
            "type": "histogram2d",
            "colorbar": {
             "outlinewidth": 0,
             "ticks": ""
            },
            "colorscale": [
             [
              0.0,
              "#0d0887"
             ],
             [
              0.1111111111111111,
              "#46039f"
             ],
             [
              0.2222222222222222,
              "#7201a8"
             ],
             [
              0.3333333333333333,
              "#9c179e"
             ],
             [
              0.4444444444444444,
              "#bd3786"
             ],
             [
              0.5555555555555556,
              "#d8576b"
             ],
             [
              0.6666666666666666,
              "#ed7953"
             ],
             [
              0.7777777777777778,
              "#fb9f3a"
             ],
             [
              0.8888888888888888,
              "#fdca26"
             ],
             [
              1.0,
              "#f0f921"
             ]
            ]
           }
          ],
          "heatmap": [
           {
            "type": "heatmap",
            "colorbar": {
             "outlinewidth": 0,
             "ticks": ""
            },
            "colorscale": [
             [
              0.0,
              "#0d0887"
             ],
             [
              0.1111111111111111,
              "#46039f"
             ],
             [
              0.2222222222222222,
              "#7201a8"
             ],
             [
              0.3333333333333333,
              "#9c179e"
             ],
             [
              0.4444444444444444,
              "#bd3786"
             ],
             [
              0.5555555555555556,
              "#d8576b"
             ],
             [
              0.6666666666666666,
              "#ed7953"
             ],
             [
              0.7777777777777778,
              "#fb9f3a"
             ],
             [
              0.8888888888888888,
              "#fdca26"
             ],
             [
              1.0,
              "#f0f921"
             ]
            ]
           }
          ],
          "heatmapgl": [
           {
            "type": "heatmapgl",
            "colorbar": {
             "outlinewidth": 0,
             "ticks": ""
            },
            "colorscale": [
             [
              0.0,
              "#0d0887"
             ],
             [
              0.1111111111111111,
              "#46039f"
             ],
             [
              0.2222222222222222,
              "#7201a8"
             ],
             [
              0.3333333333333333,
              "#9c179e"
             ],
             [
              0.4444444444444444,
              "#bd3786"
             ],
             [
              0.5555555555555556,
              "#d8576b"
             ],
             [
              0.6666666666666666,
              "#ed7953"
             ],
             [
              0.7777777777777778,
              "#fb9f3a"
             ],
             [
              0.8888888888888888,
              "#fdca26"
             ],
             [
              1.0,
              "#f0f921"
             ]
            ]
           }
          ],
          "contourcarpet": [
           {
            "type": "contourcarpet",
            "colorbar": {
             "outlinewidth": 0,
             "ticks": ""
            }
           }
          ],
          "contour": [
           {
            "type": "contour",
            "colorbar": {
             "outlinewidth": 0,
             "ticks": ""
            },
            "colorscale": [
             [
              0.0,
              "#0d0887"
             ],
             [
              0.1111111111111111,
              "#46039f"
             ],
             [
              0.2222222222222222,
              "#7201a8"
             ],
             [
              0.3333333333333333,
              "#9c179e"
             ],
             [
              0.4444444444444444,
              "#bd3786"
             ],
             [
              0.5555555555555556,
              "#d8576b"
             ],
             [
              0.6666666666666666,
              "#ed7953"
             ],
             [
              0.7777777777777778,
              "#fb9f3a"
             ],
             [
              0.8888888888888888,
              "#fdca26"
             ],
             [
              1.0,
              "#f0f921"
             ]
            ]
           }
          ],
          "surface": [
           {
            "type": "surface",
            "colorbar": {
             "outlinewidth": 0,
             "ticks": ""
            },
            "colorscale": [
             [
              0.0,
              "#0d0887"
             ],
             [
              0.1111111111111111,
              "#46039f"
             ],
             [
              0.2222222222222222,
              "#7201a8"
             ],
             [
              0.3333333333333333,
              "#9c179e"
             ],
             [
              0.4444444444444444,
              "#bd3786"
             ],
             [
              0.5555555555555556,
              "#d8576b"
             ],
             [
              0.6666666666666666,
              "#ed7953"
             ],
             [
              0.7777777777777778,
              "#fb9f3a"
             ],
             [
              0.8888888888888888,
              "#fdca26"
             ],
             [
              1.0,
              "#f0f921"
             ]
            ]
           }
          ],
          "mesh3d": [
           {
            "type": "mesh3d",
            "colorbar": {
             "outlinewidth": 0,
             "ticks": ""
            }
           }
          ],
          "scatter": [
           {
            "fillpattern": {
             "fillmode": "overlay",
             "size": 10,
             "solidity": 0.2
            },
            "type": "scatter"
           }
          ],
          "parcoords": [
           {
            "type": "parcoords",
            "line": {
             "colorbar": {
              "outlinewidth": 0,
              "ticks": ""
             }
            }
           }
          ],
          "scatterpolargl": [
           {
            "type": "scatterpolargl",
            "marker": {
             "colorbar": {
              "outlinewidth": 0,
              "ticks": ""
             }
            }
           }
          ],
          "bar": [
           {
            "error_x": {
             "color": "#2a3f5f"
            },
            "error_y": {
             "color": "#2a3f5f"
            },
            "marker": {
             "line": {
              "color": "#E5ECF6",
              "width": 0.5
             },
             "pattern": {
              "fillmode": "overlay",
              "size": 10,
              "solidity": 0.2
             }
            },
            "type": "bar"
           }
          ],
          "scattergeo": [
           {
            "type": "scattergeo",
            "marker": {
             "colorbar": {
              "outlinewidth": 0,
              "ticks": ""
             }
            }
           }
          ],
          "scatterpolar": [
           {
            "type": "scatterpolar",
            "marker": {
             "colorbar": {
              "outlinewidth": 0,
              "ticks": ""
             }
            }
           }
          ],
          "histogram": [
           {
            "marker": {
             "pattern": {
              "fillmode": "overlay",
              "size": 10,
              "solidity": 0.2
             }
            },
            "type": "histogram"
           }
          ],
          "scattergl": [
           {
            "type": "scattergl",
            "marker": {
             "colorbar": {
              "outlinewidth": 0,
              "ticks": ""
             }
            }
           }
          ],
          "scatter3d": [
           {
            "type": "scatter3d",
            "line": {
             "colorbar": {
              "outlinewidth": 0,
              "ticks": ""
             }
            },
            "marker": {
             "colorbar": {
              "outlinewidth": 0,
              "ticks": ""
             }
            }
           }
          ],
          "scattermapbox": [
           {
            "type": "scattermapbox",
            "marker": {
             "colorbar": {
              "outlinewidth": 0,
              "ticks": ""
             }
            }
           }
          ],
          "scatterternary": [
           {
            "type": "scatterternary",
            "marker": {
             "colorbar": {
              "outlinewidth": 0,
              "ticks": ""
             }
            }
           }
          ],
          "scattercarpet": [
           {
            "type": "scattercarpet",
            "marker": {
             "colorbar": {
              "outlinewidth": 0,
              "ticks": ""
             }
            }
           }
          ],
          "carpet": [
           {
            "aaxis": {
             "endlinecolor": "#2a3f5f",
             "gridcolor": "white",
             "linecolor": "white",
             "minorgridcolor": "white",
             "startlinecolor": "#2a3f5f"
            },
            "baxis": {
             "endlinecolor": "#2a3f5f",
             "gridcolor": "white",
             "linecolor": "white",
             "minorgridcolor": "white",
             "startlinecolor": "#2a3f5f"
            },
            "type": "carpet"
           }
          ],
          "table": [
           {
            "cells": {
             "fill": {
              "color": "#EBF0F8"
             },
             "line": {
              "color": "white"
             }
            },
            "header": {
             "fill": {
              "color": "#C8D4E3"
             },
             "line": {
              "color": "white"
             }
            },
            "type": "table"
           }
          ],
          "barpolar": [
           {
            "marker": {
             "line": {
              "color": "#E5ECF6",
              "width": 0.5
             },
             "pattern": {
              "fillmode": "overlay",
              "size": 10,
              "solidity": 0.2
             }
            },
            "type": "barpolar"
           }
          ],
          "pie": [
           {
            "automargin": true,
            "type": "pie"
           }
          ]
         },
         "layout": {
          "autotypenumbers": "strict",
          "colorway": [
           "#636efa",
           "#EF553B",
           "#00cc96",
           "#ab63fa",
           "#FFA15A",
           "#19d3f3",
           "#FF6692",
           "#B6E880",
           "#FF97FF",
           "#FECB52"
          ],
          "font": {
           "color": "#2a3f5f"
          },
          "hovermode": "closest",
          "hoverlabel": {
           "align": "left"
          },
          "paper_bgcolor": "white",
          "plot_bgcolor": "#E5ECF6",
          "polar": {
           "bgcolor": "#E5ECF6",
           "angularaxis": {
            "gridcolor": "white",
            "linecolor": "white",
            "ticks": ""
           },
           "radialaxis": {
            "gridcolor": "white",
            "linecolor": "white",
            "ticks": ""
           }
          },
          "ternary": {
           "bgcolor": "#E5ECF6",
           "aaxis": {
            "gridcolor": "white",
            "linecolor": "white",
            "ticks": ""
           },
           "baxis": {
            "gridcolor": "white",
            "linecolor": "white",
            "ticks": ""
           },
           "caxis": {
            "gridcolor": "white",
            "linecolor": "white",
            "ticks": ""
           }
          },
          "coloraxis": {
           "colorbar": {
            "outlinewidth": 0,
            "ticks": ""
           }
          },
          "colorscale": {
           "sequential": [
            [
             0.0,
             "#0d0887"
            ],
            [
             0.1111111111111111,
             "#46039f"
            ],
            [
             0.2222222222222222,
             "#7201a8"
            ],
            [
             0.3333333333333333,
             "#9c179e"
            ],
            [
             0.4444444444444444,
             "#bd3786"
            ],
            [
             0.5555555555555556,
             "#d8576b"
            ],
            [
             0.6666666666666666,
             "#ed7953"
            ],
            [
             0.7777777777777778,
             "#fb9f3a"
            ],
            [
             0.8888888888888888,
             "#fdca26"
            ],
            [
             1.0,
             "#f0f921"
            ]
           ],
           "sequentialminus": [
            [
             0.0,
             "#0d0887"
            ],
            [
             0.1111111111111111,
             "#46039f"
            ],
            [
             0.2222222222222222,
             "#7201a8"
            ],
            [
             0.3333333333333333,
             "#9c179e"
            ],
            [
             0.4444444444444444,
             "#bd3786"
            ],
            [
             0.5555555555555556,
             "#d8576b"
            ],
            [
             0.6666666666666666,
             "#ed7953"
            ],
            [
             0.7777777777777778,
             "#fb9f3a"
            ],
            [
             0.8888888888888888,
             "#fdca26"
            ],
            [
             1.0,
             "#f0f921"
            ]
           ],
           "diverging": [
            [
             0,
             "#8e0152"
            ],
            [
             0.1,
             "#c51b7d"
            ],
            [
             0.2,
             "#de77ae"
            ],
            [
             0.3,
             "#f1b6da"
            ],
            [
             0.4,
             "#fde0ef"
            ],
            [
             0.5,
             "#f7f7f7"
            ],
            [
             0.6,
             "#e6f5d0"
            ],
            [
             0.7,
             "#b8e186"
            ],
            [
             0.8,
             "#7fbc41"
            ],
            [
             0.9,
             "#4d9221"
            ],
            [
             1,
             "#276419"
            ]
           ]
          },
          "xaxis": {
           "gridcolor": "white",
           "linecolor": "white",
           "ticks": "",
           "title": {
            "standoff": 15
           },
           "zerolinecolor": "white",
           "automargin": true,
           "zerolinewidth": 2
          },
          "yaxis": {
           "gridcolor": "white",
           "linecolor": "white",
           "ticks": "",
           "title": {
            "standoff": 15
           },
           "zerolinecolor": "white",
           "automargin": true,
           "zerolinewidth": 2
          },
          "scene": {
           "xaxis": {
            "backgroundcolor": "#E5ECF6",
            "gridcolor": "white",
            "linecolor": "white",
            "showbackground": true,
            "ticks": "",
            "zerolinecolor": "white",
            "gridwidth": 2
           },
           "yaxis": {
            "backgroundcolor": "#E5ECF6",
            "gridcolor": "white",
            "linecolor": "white",
            "showbackground": true,
            "ticks": "",
            "zerolinecolor": "white",
            "gridwidth": 2
           },
           "zaxis": {
            "backgroundcolor": "#E5ECF6",
            "gridcolor": "white",
            "linecolor": "white",
            "showbackground": true,
            "ticks": "",
            "zerolinecolor": "white",
            "gridwidth": 2
           }
          },
          "shapedefaults": {
           "line": {
            "color": "#2a3f5f"
           }
          },
          "annotationdefaults": {
           "arrowcolor": "#2a3f5f",
           "arrowhead": 0,
           "arrowwidth": 1
          },
          "geo": {
           "bgcolor": "white",
           "landcolor": "#E5ECF6",
           "subunitcolor": "white",
           "showland": true,
           "showlakes": true,
           "lakecolor": "white"
          },
          "title": {
           "x": 0.05
          },
          "mapbox": {
           "style": "light"
          }
         }
        },
        "xaxis": {
         "anchor": "y",
         "domain": [
          0.0,
          1.0
         ],
         "title": {
          "text": "Duration (minutes)"
         }
        },
        "yaxis": {
         "anchor": "x",
         "domain": [
          0.0,
          1.0
         ],
         "title": {
          "text": "count"
         }
        },
        "legend": {
         "tracegroupgap": 0
        },
        "title": {
         "text": "Distribution of Trip Duration (Minutes)"
        },
        "barmode": "relative",
        "bargap": 0.2
       },
       "config": {
        "plotlyServerURL": "https://plot.ly"
       }
      },
      "text/html": [
       "<div>                            <div id=\"1f0025c0-02a8-4daf-a4ce-423e1aa8ba95\" class=\"plotly-graph-div\" style=\"height:525px; width:100%;\"></div>            <script type=\"text/javascript\">                require([\"plotly\"], function(Plotly) {                    window.PLOTLYENV=window.PLOTLYENV || {};                                    if (document.getElementById(\"1f0025c0-02a8-4daf-a4ce-423e1aa8ba95\")) {                    Plotly.newPlot(                        \"1f0025c0-02a8-4daf-a4ce-423e1aa8ba95\",                        [{\"alignmentgroup\":\"True\",\"bingroup\":\"x\",\"hovertemplate\":\"Duration (minutes)=%{x}\\u003cbr\\u003ecount=%{y}\\u003cextra\\u003e\\u003c\\u002fextra\\u003e\",\"legendgroup\":\"\",\"marker\":{\"color\":\"#636efa\",\"pattern\":{\"shape\":\"\"}},\"name\":\"\",\"nbinsx\":100,\"offsetgroup\":\"\",\"orientation\":\"v\",\"showlegend\":false,\"x\":[2.6,8.45,3.6666666666666665,2.583333333333333,7.7,16.1,13.266666666666667,7.516666666666667,6.033333333333333,12.416666666666666,7.066666666666666,8.966666666666667,6.45,9.233333333333333,4.116666666666666,4.6,3.566666666666667,7.4,6.016666666666667,26.216666666666665,8.116666666666667,73.96666666666667,22.25,1.8333333333333333,3.35,10.133333333333333,20.216666666666665,11.333333333333334,1.15,6.016666666666667,3.883333333333333,15.333333333333334,9.5,9.816666666666666,16.383333333333333,3.283333333333333,3.85,9.5,4.733333333333333,10.9,8.566666666666666,15.05,3.9,67.6,4.95,8.566666666666666,10.366666666666667,10.183333333333334,8.95,9.6,4.066666666666666,18.8,7.783333333333333,16.033333333333335,32.8,7.5,36.25,10.15,6.85,5.4,10.166666666666666,16.116666666666667,9.4,5.533333333333333,11.783333333333331,7.383333333333334,43.73333333333333,34.28333333333333,24.133333333333333,6.05,25.73333333333333,7.383333333333334,29.383333333333333,30.666666666666668,4.55,8.0,13.15,7.6,19.566666666666663,11.833333333333334,6.75,5.033333333333333,11.266666666666667,16.316666666666666,23.6,16.3,10.25,20.866666666666667,20.03333333333333,14.516666666666667,10.116666666666667,6.366666666666666,6.016666666666667,6.216666666666667,4.116666666666666,11.866666666666667,7.733333333333333],\"xaxis\":\"x\",\"yaxis\":\"y\",\"type\":\"histogram\"}],                        {\"template\":{\"data\":{\"histogram2dcontour\":[{\"type\":\"histogram2dcontour\",\"colorbar\":{\"outlinewidth\":0,\"ticks\":\"\"},\"colorscale\":[[0.0,\"#0d0887\"],[0.1111111111111111,\"#46039f\"],[0.2222222222222222,\"#7201a8\"],[0.3333333333333333,\"#9c179e\"],[0.4444444444444444,\"#bd3786\"],[0.5555555555555556,\"#d8576b\"],[0.6666666666666666,\"#ed7953\"],[0.7777777777777778,\"#fb9f3a\"],[0.8888888888888888,\"#fdca26\"],[1.0,\"#f0f921\"]]}],\"choropleth\":[{\"type\":\"choropleth\",\"colorbar\":{\"outlinewidth\":0,\"ticks\":\"\"}}],\"histogram2d\":[{\"type\":\"histogram2d\",\"colorbar\":{\"outlinewidth\":0,\"ticks\":\"\"},\"colorscale\":[[0.0,\"#0d0887\"],[0.1111111111111111,\"#46039f\"],[0.2222222222222222,\"#7201a8\"],[0.3333333333333333,\"#9c179e\"],[0.4444444444444444,\"#bd3786\"],[0.5555555555555556,\"#d8576b\"],[0.6666666666666666,\"#ed7953\"],[0.7777777777777778,\"#fb9f3a\"],[0.8888888888888888,\"#fdca26\"],[1.0,\"#f0f921\"]]}],\"heatmap\":[{\"type\":\"heatmap\",\"colorbar\":{\"outlinewidth\":0,\"ticks\":\"\"},\"colorscale\":[[0.0,\"#0d0887\"],[0.1111111111111111,\"#46039f\"],[0.2222222222222222,\"#7201a8\"],[0.3333333333333333,\"#9c179e\"],[0.4444444444444444,\"#bd3786\"],[0.5555555555555556,\"#d8576b\"],[0.6666666666666666,\"#ed7953\"],[0.7777777777777778,\"#fb9f3a\"],[0.8888888888888888,\"#fdca26\"],[1.0,\"#f0f921\"]]}],\"heatmapgl\":[{\"type\":\"heatmapgl\",\"colorbar\":{\"outlinewidth\":0,\"ticks\":\"\"},\"colorscale\":[[0.0,\"#0d0887\"],[0.1111111111111111,\"#46039f\"],[0.2222222222222222,\"#7201a8\"],[0.3333333333333333,\"#9c179e\"],[0.4444444444444444,\"#bd3786\"],[0.5555555555555556,\"#d8576b\"],[0.6666666666666666,\"#ed7953\"],[0.7777777777777778,\"#fb9f3a\"],[0.8888888888888888,\"#fdca26\"],[1.0,\"#f0f921\"]]}],\"contourcarpet\":[{\"type\":\"contourcarpet\",\"colorbar\":{\"outlinewidth\":0,\"ticks\":\"\"}}],\"contour\":[{\"type\":\"contour\",\"colorbar\":{\"outlinewidth\":0,\"ticks\":\"\"},\"colorscale\":[[0.0,\"#0d0887\"],[0.1111111111111111,\"#46039f\"],[0.2222222222222222,\"#7201a8\"],[0.3333333333333333,\"#9c179e\"],[0.4444444444444444,\"#bd3786\"],[0.5555555555555556,\"#d8576b\"],[0.6666666666666666,\"#ed7953\"],[0.7777777777777778,\"#fb9f3a\"],[0.8888888888888888,\"#fdca26\"],[1.0,\"#f0f921\"]]}],\"surface\":[{\"type\":\"surface\",\"colorbar\":{\"outlinewidth\":0,\"ticks\":\"\"},\"colorscale\":[[0.0,\"#0d0887\"],[0.1111111111111111,\"#46039f\"],[0.2222222222222222,\"#7201a8\"],[0.3333333333333333,\"#9c179e\"],[0.4444444444444444,\"#bd3786\"],[0.5555555555555556,\"#d8576b\"],[0.6666666666666666,\"#ed7953\"],[0.7777777777777778,\"#fb9f3a\"],[0.8888888888888888,\"#fdca26\"],[1.0,\"#f0f921\"]]}],\"mesh3d\":[{\"type\":\"mesh3d\",\"colorbar\":{\"outlinewidth\":0,\"ticks\":\"\"}}],\"scatter\":[{\"fillpattern\":{\"fillmode\":\"overlay\",\"size\":10,\"solidity\":0.2},\"type\":\"scatter\"}],\"parcoords\":[{\"type\":\"parcoords\",\"line\":{\"colorbar\":{\"outlinewidth\":0,\"ticks\":\"\"}}}],\"scatterpolargl\":[{\"type\":\"scatterpolargl\",\"marker\":{\"colorbar\":{\"outlinewidth\":0,\"ticks\":\"\"}}}],\"bar\":[{\"error_x\":{\"color\":\"#2a3f5f\"},\"error_y\":{\"color\":\"#2a3f5f\"},\"marker\":{\"line\":{\"color\":\"#E5ECF6\",\"width\":0.5},\"pattern\":{\"fillmode\":\"overlay\",\"size\":10,\"solidity\":0.2}},\"type\":\"bar\"}],\"scattergeo\":[{\"type\":\"scattergeo\",\"marker\":{\"colorbar\":{\"outlinewidth\":0,\"ticks\":\"\"}}}],\"scatterpolar\":[{\"type\":\"scatterpolar\",\"marker\":{\"colorbar\":{\"outlinewidth\":0,\"ticks\":\"\"}}}],\"histogram\":[{\"marker\":{\"pattern\":{\"fillmode\":\"overlay\",\"size\":10,\"solidity\":0.2}},\"type\":\"histogram\"}],\"scattergl\":[{\"type\":\"scattergl\",\"marker\":{\"colorbar\":{\"outlinewidth\":0,\"ticks\":\"\"}}}],\"scatter3d\":[{\"type\":\"scatter3d\",\"line\":{\"colorbar\":{\"outlinewidth\":0,\"ticks\":\"\"}},\"marker\":{\"colorbar\":{\"outlinewidth\":0,\"ticks\":\"\"}}}],\"scattermapbox\":[{\"type\":\"scattermapbox\",\"marker\":{\"colorbar\":{\"outlinewidth\":0,\"ticks\":\"\"}}}],\"scatterternary\":[{\"type\":\"scatterternary\",\"marker\":{\"colorbar\":{\"outlinewidth\":0,\"ticks\":\"\"}}}],\"scattercarpet\":[{\"type\":\"scattercarpet\",\"marker\":{\"colorbar\":{\"outlinewidth\":0,\"ticks\":\"\"}}}],\"carpet\":[{\"aaxis\":{\"endlinecolor\":\"#2a3f5f\",\"gridcolor\":\"white\",\"linecolor\":\"white\",\"minorgridcolor\":\"white\",\"startlinecolor\":\"#2a3f5f\"},\"baxis\":{\"endlinecolor\":\"#2a3f5f\",\"gridcolor\":\"white\",\"linecolor\":\"white\",\"minorgridcolor\":\"white\",\"startlinecolor\":\"#2a3f5f\"},\"type\":\"carpet\"}],\"table\":[{\"cells\":{\"fill\":{\"color\":\"#EBF0F8\"},\"line\":{\"color\":\"white\"}},\"header\":{\"fill\":{\"color\":\"#C8D4E3\"},\"line\":{\"color\":\"white\"}},\"type\":\"table\"}],\"barpolar\":[{\"marker\":{\"line\":{\"color\":\"#E5ECF6\",\"width\":0.5},\"pattern\":{\"fillmode\":\"overlay\",\"size\":10,\"solidity\":0.2}},\"type\":\"barpolar\"}],\"pie\":[{\"automargin\":true,\"type\":\"pie\"}]},\"layout\":{\"autotypenumbers\":\"strict\",\"colorway\":[\"#636efa\",\"#EF553B\",\"#00cc96\",\"#ab63fa\",\"#FFA15A\",\"#19d3f3\",\"#FF6692\",\"#B6E880\",\"#FF97FF\",\"#FECB52\"],\"font\":{\"color\":\"#2a3f5f\"},\"hovermode\":\"closest\",\"hoverlabel\":{\"align\":\"left\"},\"paper_bgcolor\":\"white\",\"plot_bgcolor\":\"#E5ECF6\",\"polar\":{\"bgcolor\":\"#E5ECF6\",\"angularaxis\":{\"gridcolor\":\"white\",\"linecolor\":\"white\",\"ticks\":\"\"},\"radialaxis\":{\"gridcolor\":\"white\",\"linecolor\":\"white\",\"ticks\":\"\"}},\"ternary\":{\"bgcolor\":\"#E5ECF6\",\"aaxis\":{\"gridcolor\":\"white\",\"linecolor\":\"white\",\"ticks\":\"\"},\"baxis\":{\"gridcolor\":\"white\",\"linecolor\":\"white\",\"ticks\":\"\"},\"caxis\":{\"gridcolor\":\"white\",\"linecolor\":\"white\",\"ticks\":\"\"}},\"coloraxis\":{\"colorbar\":{\"outlinewidth\":0,\"ticks\":\"\"}},\"colorscale\":{\"sequential\":[[0.0,\"#0d0887\"],[0.1111111111111111,\"#46039f\"],[0.2222222222222222,\"#7201a8\"],[0.3333333333333333,\"#9c179e\"],[0.4444444444444444,\"#bd3786\"],[0.5555555555555556,\"#d8576b\"],[0.6666666666666666,\"#ed7953\"],[0.7777777777777778,\"#fb9f3a\"],[0.8888888888888888,\"#fdca26\"],[1.0,\"#f0f921\"]],\"sequentialminus\":[[0.0,\"#0d0887\"],[0.1111111111111111,\"#46039f\"],[0.2222222222222222,\"#7201a8\"],[0.3333333333333333,\"#9c179e\"],[0.4444444444444444,\"#bd3786\"],[0.5555555555555556,\"#d8576b\"],[0.6666666666666666,\"#ed7953\"],[0.7777777777777778,\"#fb9f3a\"],[0.8888888888888888,\"#fdca26\"],[1.0,\"#f0f921\"]],\"diverging\":[[0,\"#8e0152\"],[0.1,\"#c51b7d\"],[0.2,\"#de77ae\"],[0.3,\"#f1b6da\"],[0.4,\"#fde0ef\"],[0.5,\"#f7f7f7\"],[0.6,\"#e6f5d0\"],[0.7,\"#b8e186\"],[0.8,\"#7fbc41\"],[0.9,\"#4d9221\"],[1,\"#276419\"]]},\"xaxis\":{\"gridcolor\":\"white\",\"linecolor\":\"white\",\"ticks\":\"\",\"title\":{\"standoff\":15},\"zerolinecolor\":\"white\",\"automargin\":true,\"zerolinewidth\":2},\"yaxis\":{\"gridcolor\":\"white\",\"linecolor\":\"white\",\"ticks\":\"\",\"title\":{\"standoff\":15},\"zerolinecolor\":\"white\",\"automargin\":true,\"zerolinewidth\":2},\"scene\":{\"xaxis\":{\"backgroundcolor\":\"#E5ECF6\",\"gridcolor\":\"white\",\"linecolor\":\"white\",\"showbackground\":true,\"ticks\":\"\",\"zerolinecolor\":\"white\",\"gridwidth\":2},\"yaxis\":{\"backgroundcolor\":\"#E5ECF6\",\"gridcolor\":\"white\",\"linecolor\":\"white\",\"showbackground\":true,\"ticks\":\"\",\"zerolinecolor\":\"white\",\"gridwidth\":2},\"zaxis\":{\"backgroundcolor\":\"#E5ECF6\",\"gridcolor\":\"white\",\"linecolor\":\"white\",\"showbackground\":true,\"ticks\":\"\",\"zerolinecolor\":\"white\",\"gridwidth\":2}},\"shapedefaults\":{\"line\":{\"color\":\"#2a3f5f\"}},\"annotationdefaults\":{\"arrowcolor\":\"#2a3f5f\",\"arrowhead\":0,\"arrowwidth\":1},\"geo\":{\"bgcolor\":\"white\",\"landcolor\":\"#E5ECF6\",\"subunitcolor\":\"white\",\"showland\":true,\"showlakes\":true,\"lakecolor\":\"white\"},\"title\":{\"x\":0.05},\"mapbox\":{\"style\":\"light\"}}},\"xaxis\":{\"anchor\":\"y\",\"domain\":[0.0,1.0],\"title\":{\"text\":\"Duration (minutes)\"}},\"yaxis\":{\"anchor\":\"x\",\"domain\":[0.0,1.0],\"title\":{\"text\":\"count\"}},\"legend\":{\"tracegroupgap\":0},\"title\":{\"text\":\"Distribution of Trip Duration (Minutes)\"},\"barmode\":\"relative\",\"bargap\":0.2},                        {\"responsive\": true}                    ).then(function(){\n",
       "                            \n",
       "var gd = document.getElementById('1f0025c0-02a8-4daf-a4ce-423e1aa8ba95');\n",
       "var x = new MutationObserver(function (mutations, observer) {{\n",
       "        var display = window.getComputedStyle(gd).display;\n",
       "        if (!display || display === 'none') {{\n",
       "            console.log([gd, 'removed!']);\n",
       "            Plotly.purge(gd);\n",
       "            observer.disconnect();\n",
       "        }}\n",
       "}});\n",
       "\n",
       "// Listen for the removal of the full notebook cells\n",
       "var notebookContainer = gd.closest('#notebook-container');\n",
       "if (notebookContainer) {{\n",
       "    x.observe(notebookContainer, {childList: true});\n",
       "}}\n",
       "\n",
       "// Listen for the clearing of the current output cell\n",
       "var outputEl = gd.closest('.output');\n",
       "if (outputEl) {{\n",
       "    x.observe(outputEl, {childList: true});\n",
       "}}\n",
       "\n",
       "                        })                };                });            </script>        </div>"
      ]
     },
     "metadata": {},
     "output_type": "display_data"
    }
   ],
   "execution_count": 489
  },
  {
   "metadata": {
    "ExecuteTime": {
     "end_time": "2025-06-21T15:57:30.087792Z",
     "start_time": "2025-06-21T15:57:30.052360Z"
    }
   },
   "cell_type": "code",
   "source": [
    "fig6 = px.box(\n",
    "    df_modified,\n",
    "    x=\"rideable_type\",\n",
    "    y=\"duration_min\",\n",
    "    title=\"Trip Duration by Bike Type (Log Scale)\",\n",
    "    labels={\"rideable_type\": \"Bike Type\", \"duration_min\": \"Duration (minutes)\"},\n",
    "    log_y=True\n",
    ")\n",
    "fig6.show()"
   ],
   "id": "12b2dfe0699c7dab",
   "outputs": [
    {
     "data": {
      "application/vnd.plotly.v1+json": {
       "data": [
        {
         "alignmentgroup": "True",
         "hovertemplate": "Bike Type=%{x}<br>Duration (minutes)=%{y}<extra></extra>",
         "legendgroup": "",
         "marker": {
          "color": "#636efa"
         },
         "name": "",
         "notched": false,
         "offsetgroup": "",
         "orientation": "v",
         "showlegend": false,
         "x": [
          "classic_bike",
          "classic_bike",
          "classic_bike",
          "classic_bike",
          "electric_bike",
          "classic_bike",
          "classic_bike",
          "electric_bike",
          "electric_bike",
          "electric_bike",
          "electric_bike",
          "electric_bike",
          "electric_bike",
          "electric_bike",
          "electric_bike",
          "electric_bike",
          "electric_bike",
          "electric_bike",
          "electric_bike",
          "electric_bike",
          "electric_bike",
          "electric_bike",
          "electric_bike",
          "electric_bike",
          "electric_bike",
          "electric_bike",
          "electric_bike",
          "electric_bike",
          "electric_bike",
          "electric_bike",
          "electric_bike",
          "electric_bike",
          "electric_bike",
          "electric_bike",
          "electric_bike",
          "electric_bike",
          "electric_bike",
          "classic_bike",
          "electric_bike",
          "classic_bike",
          "electric_bike",
          "electric_bike",
          "electric_bike",
          "classic_bike",
          "electric_bike",
          "electric_bike",
          "classic_bike",
          "classic_bike",
          "electric_bike",
          "electric_bike",
          "classic_bike",
          "electric_bike",
          "electric_bike",
          "classic_bike",
          "electric_bike",
          "electric_bike",
          "classic_bike",
          "electric_bike",
          "classic_bike",
          "classic_bike",
          "electric_bike",
          "classic_bike",
          "classic_bike",
          "electric_bike",
          "classic_bike",
          "electric_bike",
          "classic_bike",
          "classic_bike",
          "electric_bike",
          "electric_bike",
          "electric_bike",
          "classic_bike",
          "electric_bike",
          "electric_bike",
          "electric_bike",
          "classic_bike",
          "classic_bike",
          "electric_bike",
          "classic_bike",
          "classic_bike",
          "classic_bike",
          "electric_bike",
          "classic_bike",
          "classic_bike",
          "electric_bike",
          "classic_bike",
          "electric_bike",
          "classic_bike",
          "classic_bike",
          "electric_bike",
          "classic_bike",
          "classic_bike",
          "classic_bike",
          "classic_bike",
          "classic_bike",
          "classic_bike",
          "classic_bike"
         ],
         "x0": " ",
         "xaxis": "x",
         "y": [
          2.6,
          8.45,
          3.6666666666666665,
          2.583333333333333,
          7.7,
          16.1,
          13.266666666666667,
          7.516666666666667,
          6.033333333333333,
          12.416666666666666,
          7.066666666666666,
          8.966666666666667,
          6.45,
          9.233333333333333,
          4.116666666666666,
          4.6,
          3.566666666666667,
          7.4,
          6.016666666666667,
          26.216666666666665,
          8.116666666666667,
          73.96666666666667,
          22.25,
          1.8333333333333333,
          3.35,
          10.133333333333333,
          20.216666666666665,
          11.333333333333334,
          1.15,
          6.016666666666667,
          3.883333333333333,
          15.333333333333334,
          9.5,
          9.816666666666666,
          16.383333333333333,
          3.283333333333333,
          3.85,
          9.5,
          4.733333333333333,
          10.9,
          8.566666666666666,
          15.05,
          3.9,
          67.6,
          4.95,
          8.566666666666666,
          10.366666666666667,
          10.183333333333334,
          8.95,
          9.6,
          4.066666666666666,
          18.8,
          7.783333333333333,
          16.033333333333335,
          32.8,
          7.5,
          36.25,
          10.15,
          6.85,
          5.4,
          10.166666666666666,
          16.116666666666667,
          9.4,
          5.533333333333333,
          11.783333333333331,
          7.383333333333334,
          43.73333333333333,
          34.28333333333333,
          24.133333333333333,
          6.05,
          25.73333333333333,
          7.383333333333334,
          29.383333333333333,
          30.666666666666668,
          4.55,
          8.0,
          13.15,
          7.6,
          19.566666666666663,
          11.833333333333334,
          6.75,
          5.033333333333333,
          11.266666666666667,
          16.316666666666666,
          23.6,
          16.3,
          10.25,
          20.866666666666667,
          20.03333333333333,
          14.516666666666667,
          10.116666666666667,
          6.366666666666666,
          6.016666666666667,
          6.216666666666667,
          4.116666666666666,
          11.866666666666667,
          7.733333333333333
         ],
         "y0": " ",
         "yaxis": "y",
         "type": "box"
        }
       ],
       "layout": {
        "template": {
         "data": {
          "histogram2dcontour": [
           {
            "type": "histogram2dcontour",
            "colorbar": {
             "outlinewidth": 0,
             "ticks": ""
            },
            "colorscale": [
             [
              0.0,
              "#0d0887"
             ],
             [
              0.1111111111111111,
              "#46039f"
             ],
             [
              0.2222222222222222,
              "#7201a8"
             ],
             [
              0.3333333333333333,
              "#9c179e"
             ],
             [
              0.4444444444444444,
              "#bd3786"
             ],
             [
              0.5555555555555556,
              "#d8576b"
             ],
             [
              0.6666666666666666,
              "#ed7953"
             ],
             [
              0.7777777777777778,
              "#fb9f3a"
             ],
             [
              0.8888888888888888,
              "#fdca26"
             ],
             [
              1.0,
              "#f0f921"
             ]
            ]
           }
          ],
          "choropleth": [
           {
            "type": "choropleth",
            "colorbar": {
             "outlinewidth": 0,
             "ticks": ""
            }
           }
          ],
          "histogram2d": [
           {
            "type": "histogram2d",
            "colorbar": {
             "outlinewidth": 0,
             "ticks": ""
            },
            "colorscale": [
             [
              0.0,
              "#0d0887"
             ],
             [
              0.1111111111111111,
              "#46039f"
             ],
             [
              0.2222222222222222,
              "#7201a8"
             ],
             [
              0.3333333333333333,
              "#9c179e"
             ],
             [
              0.4444444444444444,
              "#bd3786"
             ],
             [
              0.5555555555555556,
              "#d8576b"
             ],
             [
              0.6666666666666666,
              "#ed7953"
             ],
             [
              0.7777777777777778,
              "#fb9f3a"
             ],
             [
              0.8888888888888888,
              "#fdca26"
             ],
             [
              1.0,
              "#f0f921"
             ]
            ]
           }
          ],
          "heatmap": [
           {
            "type": "heatmap",
            "colorbar": {
             "outlinewidth": 0,
             "ticks": ""
            },
            "colorscale": [
             [
              0.0,
              "#0d0887"
             ],
             [
              0.1111111111111111,
              "#46039f"
             ],
             [
              0.2222222222222222,
              "#7201a8"
             ],
             [
              0.3333333333333333,
              "#9c179e"
             ],
             [
              0.4444444444444444,
              "#bd3786"
             ],
             [
              0.5555555555555556,
              "#d8576b"
             ],
             [
              0.6666666666666666,
              "#ed7953"
             ],
             [
              0.7777777777777778,
              "#fb9f3a"
             ],
             [
              0.8888888888888888,
              "#fdca26"
             ],
             [
              1.0,
              "#f0f921"
             ]
            ]
           }
          ],
          "heatmapgl": [
           {
            "type": "heatmapgl",
            "colorbar": {
             "outlinewidth": 0,
             "ticks": ""
            },
            "colorscale": [
             [
              0.0,
              "#0d0887"
             ],
             [
              0.1111111111111111,
              "#46039f"
             ],
             [
              0.2222222222222222,
              "#7201a8"
             ],
             [
              0.3333333333333333,
              "#9c179e"
             ],
             [
              0.4444444444444444,
              "#bd3786"
             ],
             [
              0.5555555555555556,
              "#d8576b"
             ],
             [
              0.6666666666666666,
              "#ed7953"
             ],
             [
              0.7777777777777778,
              "#fb9f3a"
             ],
             [
              0.8888888888888888,
              "#fdca26"
             ],
             [
              1.0,
              "#f0f921"
             ]
            ]
           }
          ],
          "contourcarpet": [
           {
            "type": "contourcarpet",
            "colorbar": {
             "outlinewidth": 0,
             "ticks": ""
            }
           }
          ],
          "contour": [
           {
            "type": "contour",
            "colorbar": {
             "outlinewidth": 0,
             "ticks": ""
            },
            "colorscale": [
             [
              0.0,
              "#0d0887"
             ],
             [
              0.1111111111111111,
              "#46039f"
             ],
             [
              0.2222222222222222,
              "#7201a8"
             ],
             [
              0.3333333333333333,
              "#9c179e"
             ],
             [
              0.4444444444444444,
              "#bd3786"
             ],
             [
              0.5555555555555556,
              "#d8576b"
             ],
             [
              0.6666666666666666,
              "#ed7953"
             ],
             [
              0.7777777777777778,
              "#fb9f3a"
             ],
             [
              0.8888888888888888,
              "#fdca26"
             ],
             [
              1.0,
              "#f0f921"
             ]
            ]
           }
          ],
          "surface": [
           {
            "type": "surface",
            "colorbar": {
             "outlinewidth": 0,
             "ticks": ""
            },
            "colorscale": [
             [
              0.0,
              "#0d0887"
             ],
             [
              0.1111111111111111,
              "#46039f"
             ],
             [
              0.2222222222222222,
              "#7201a8"
             ],
             [
              0.3333333333333333,
              "#9c179e"
             ],
             [
              0.4444444444444444,
              "#bd3786"
             ],
             [
              0.5555555555555556,
              "#d8576b"
             ],
             [
              0.6666666666666666,
              "#ed7953"
             ],
             [
              0.7777777777777778,
              "#fb9f3a"
             ],
             [
              0.8888888888888888,
              "#fdca26"
             ],
             [
              1.0,
              "#f0f921"
             ]
            ]
           }
          ],
          "mesh3d": [
           {
            "type": "mesh3d",
            "colorbar": {
             "outlinewidth": 0,
             "ticks": ""
            }
           }
          ],
          "scatter": [
           {
            "fillpattern": {
             "fillmode": "overlay",
             "size": 10,
             "solidity": 0.2
            },
            "type": "scatter"
           }
          ],
          "parcoords": [
           {
            "type": "parcoords",
            "line": {
             "colorbar": {
              "outlinewidth": 0,
              "ticks": ""
             }
            }
           }
          ],
          "scatterpolargl": [
           {
            "type": "scatterpolargl",
            "marker": {
             "colorbar": {
              "outlinewidth": 0,
              "ticks": ""
             }
            }
           }
          ],
          "bar": [
           {
            "error_x": {
             "color": "#2a3f5f"
            },
            "error_y": {
             "color": "#2a3f5f"
            },
            "marker": {
             "line": {
              "color": "#E5ECF6",
              "width": 0.5
             },
             "pattern": {
              "fillmode": "overlay",
              "size": 10,
              "solidity": 0.2
             }
            },
            "type": "bar"
           }
          ],
          "scattergeo": [
           {
            "type": "scattergeo",
            "marker": {
             "colorbar": {
              "outlinewidth": 0,
              "ticks": ""
             }
            }
           }
          ],
          "scatterpolar": [
           {
            "type": "scatterpolar",
            "marker": {
             "colorbar": {
              "outlinewidth": 0,
              "ticks": ""
             }
            }
           }
          ],
          "histogram": [
           {
            "marker": {
             "pattern": {
              "fillmode": "overlay",
              "size": 10,
              "solidity": 0.2
             }
            },
            "type": "histogram"
           }
          ],
          "scattergl": [
           {
            "type": "scattergl",
            "marker": {
             "colorbar": {
              "outlinewidth": 0,
              "ticks": ""
             }
            }
           }
          ],
          "scatter3d": [
           {
            "type": "scatter3d",
            "line": {
             "colorbar": {
              "outlinewidth": 0,
              "ticks": ""
             }
            },
            "marker": {
             "colorbar": {
              "outlinewidth": 0,
              "ticks": ""
             }
            }
           }
          ],
          "scattermapbox": [
           {
            "type": "scattermapbox",
            "marker": {
             "colorbar": {
              "outlinewidth": 0,
              "ticks": ""
             }
            }
           }
          ],
          "scatterternary": [
           {
            "type": "scatterternary",
            "marker": {
             "colorbar": {
              "outlinewidth": 0,
              "ticks": ""
             }
            }
           }
          ],
          "scattercarpet": [
           {
            "type": "scattercarpet",
            "marker": {
             "colorbar": {
              "outlinewidth": 0,
              "ticks": ""
             }
            }
           }
          ],
          "carpet": [
           {
            "aaxis": {
             "endlinecolor": "#2a3f5f",
             "gridcolor": "white",
             "linecolor": "white",
             "minorgridcolor": "white",
             "startlinecolor": "#2a3f5f"
            },
            "baxis": {
             "endlinecolor": "#2a3f5f",
             "gridcolor": "white",
             "linecolor": "white",
             "minorgridcolor": "white",
             "startlinecolor": "#2a3f5f"
            },
            "type": "carpet"
           }
          ],
          "table": [
           {
            "cells": {
             "fill": {
              "color": "#EBF0F8"
             },
             "line": {
              "color": "white"
             }
            },
            "header": {
             "fill": {
              "color": "#C8D4E3"
             },
             "line": {
              "color": "white"
             }
            },
            "type": "table"
           }
          ],
          "barpolar": [
           {
            "marker": {
             "line": {
              "color": "#E5ECF6",
              "width": 0.5
             },
             "pattern": {
              "fillmode": "overlay",
              "size": 10,
              "solidity": 0.2
             }
            },
            "type": "barpolar"
           }
          ],
          "pie": [
           {
            "automargin": true,
            "type": "pie"
           }
          ]
         },
         "layout": {
          "autotypenumbers": "strict",
          "colorway": [
           "#636efa",
           "#EF553B",
           "#00cc96",
           "#ab63fa",
           "#FFA15A",
           "#19d3f3",
           "#FF6692",
           "#B6E880",
           "#FF97FF",
           "#FECB52"
          ],
          "font": {
           "color": "#2a3f5f"
          },
          "hovermode": "closest",
          "hoverlabel": {
           "align": "left"
          },
          "paper_bgcolor": "white",
          "plot_bgcolor": "#E5ECF6",
          "polar": {
           "bgcolor": "#E5ECF6",
           "angularaxis": {
            "gridcolor": "white",
            "linecolor": "white",
            "ticks": ""
           },
           "radialaxis": {
            "gridcolor": "white",
            "linecolor": "white",
            "ticks": ""
           }
          },
          "ternary": {
           "bgcolor": "#E5ECF6",
           "aaxis": {
            "gridcolor": "white",
            "linecolor": "white",
            "ticks": ""
           },
           "baxis": {
            "gridcolor": "white",
            "linecolor": "white",
            "ticks": ""
           },
           "caxis": {
            "gridcolor": "white",
            "linecolor": "white",
            "ticks": ""
           }
          },
          "coloraxis": {
           "colorbar": {
            "outlinewidth": 0,
            "ticks": ""
           }
          },
          "colorscale": {
           "sequential": [
            [
             0.0,
             "#0d0887"
            ],
            [
             0.1111111111111111,
             "#46039f"
            ],
            [
             0.2222222222222222,
             "#7201a8"
            ],
            [
             0.3333333333333333,
             "#9c179e"
            ],
            [
             0.4444444444444444,
             "#bd3786"
            ],
            [
             0.5555555555555556,
             "#d8576b"
            ],
            [
             0.6666666666666666,
             "#ed7953"
            ],
            [
             0.7777777777777778,
             "#fb9f3a"
            ],
            [
             0.8888888888888888,
             "#fdca26"
            ],
            [
             1.0,
             "#f0f921"
            ]
           ],
           "sequentialminus": [
            [
             0.0,
             "#0d0887"
            ],
            [
             0.1111111111111111,
             "#46039f"
            ],
            [
             0.2222222222222222,
             "#7201a8"
            ],
            [
             0.3333333333333333,
             "#9c179e"
            ],
            [
             0.4444444444444444,
             "#bd3786"
            ],
            [
             0.5555555555555556,
             "#d8576b"
            ],
            [
             0.6666666666666666,
             "#ed7953"
            ],
            [
             0.7777777777777778,
             "#fb9f3a"
            ],
            [
             0.8888888888888888,
             "#fdca26"
            ],
            [
             1.0,
             "#f0f921"
            ]
           ],
           "diverging": [
            [
             0,
             "#8e0152"
            ],
            [
             0.1,
             "#c51b7d"
            ],
            [
             0.2,
             "#de77ae"
            ],
            [
             0.3,
             "#f1b6da"
            ],
            [
             0.4,
             "#fde0ef"
            ],
            [
             0.5,
             "#f7f7f7"
            ],
            [
             0.6,
             "#e6f5d0"
            ],
            [
             0.7,
             "#b8e186"
            ],
            [
             0.8,
             "#7fbc41"
            ],
            [
             0.9,
             "#4d9221"
            ],
            [
             1,
             "#276419"
            ]
           ]
          },
          "xaxis": {
           "gridcolor": "white",
           "linecolor": "white",
           "ticks": "",
           "title": {
            "standoff": 15
           },
           "zerolinecolor": "white",
           "automargin": true,
           "zerolinewidth": 2
          },
          "yaxis": {
           "gridcolor": "white",
           "linecolor": "white",
           "ticks": "",
           "title": {
            "standoff": 15
           },
           "zerolinecolor": "white",
           "automargin": true,
           "zerolinewidth": 2
          },
          "scene": {
           "xaxis": {
            "backgroundcolor": "#E5ECF6",
            "gridcolor": "white",
            "linecolor": "white",
            "showbackground": true,
            "ticks": "",
            "zerolinecolor": "white",
            "gridwidth": 2
           },
           "yaxis": {
            "backgroundcolor": "#E5ECF6",
            "gridcolor": "white",
            "linecolor": "white",
            "showbackground": true,
            "ticks": "",
            "zerolinecolor": "white",
            "gridwidth": 2
           },
           "zaxis": {
            "backgroundcolor": "#E5ECF6",
            "gridcolor": "white",
            "linecolor": "white",
            "showbackground": true,
            "ticks": "",
            "zerolinecolor": "white",
            "gridwidth": 2
           }
          },
          "shapedefaults": {
           "line": {
            "color": "#2a3f5f"
           }
          },
          "annotationdefaults": {
           "arrowcolor": "#2a3f5f",
           "arrowhead": 0,
           "arrowwidth": 1
          },
          "geo": {
           "bgcolor": "white",
           "landcolor": "#E5ECF6",
           "subunitcolor": "white",
           "showland": true,
           "showlakes": true,
           "lakecolor": "white"
          },
          "title": {
           "x": 0.05
          },
          "mapbox": {
           "style": "light"
          }
         }
        },
        "xaxis": {
         "anchor": "y",
         "domain": [
          0.0,
          1.0
         ],
         "title": {
          "text": "Bike Type"
         }
        },
        "yaxis": {
         "anchor": "x",
         "domain": [
          0.0,
          1.0
         ],
         "title": {
          "text": "Duration (minutes)"
         },
         "type": "log"
        },
        "legend": {
         "tracegroupgap": 0
        },
        "title": {
         "text": "Trip Duration by Bike Type (Log Scale)"
        },
        "boxmode": "group"
       },
       "config": {
        "plotlyServerURL": "https://plot.ly"
       }
      },
      "text/html": [
       "<div>                            <div id=\"16efc51e-12ac-4f8c-a1ee-70a21e0f43a6\" class=\"plotly-graph-div\" style=\"height:525px; width:100%;\"></div>            <script type=\"text/javascript\">                require([\"plotly\"], function(Plotly) {                    window.PLOTLYENV=window.PLOTLYENV || {};                                    if (document.getElementById(\"16efc51e-12ac-4f8c-a1ee-70a21e0f43a6\")) {                    Plotly.newPlot(                        \"16efc51e-12ac-4f8c-a1ee-70a21e0f43a6\",                        [{\"alignmentgroup\":\"True\",\"hovertemplate\":\"Bike Type=%{x}\\u003cbr\\u003eDuration (minutes)=%{y}\\u003cextra\\u003e\\u003c\\u002fextra\\u003e\",\"legendgroup\":\"\",\"marker\":{\"color\":\"#636efa\"},\"name\":\"\",\"notched\":false,\"offsetgroup\":\"\",\"orientation\":\"v\",\"showlegend\":false,\"x\":[\"classic_bike\",\"classic_bike\",\"classic_bike\",\"classic_bike\",\"electric_bike\",\"classic_bike\",\"classic_bike\",\"electric_bike\",\"electric_bike\",\"electric_bike\",\"electric_bike\",\"electric_bike\",\"electric_bike\",\"electric_bike\",\"electric_bike\",\"electric_bike\",\"electric_bike\",\"electric_bike\",\"electric_bike\",\"electric_bike\",\"electric_bike\",\"electric_bike\",\"electric_bike\",\"electric_bike\",\"electric_bike\",\"electric_bike\",\"electric_bike\",\"electric_bike\",\"electric_bike\",\"electric_bike\",\"electric_bike\",\"electric_bike\",\"electric_bike\",\"electric_bike\",\"electric_bike\",\"electric_bike\",\"electric_bike\",\"classic_bike\",\"electric_bike\",\"classic_bike\",\"electric_bike\",\"electric_bike\",\"electric_bike\",\"classic_bike\",\"electric_bike\",\"electric_bike\",\"classic_bike\",\"classic_bike\",\"electric_bike\",\"electric_bike\",\"classic_bike\",\"electric_bike\",\"electric_bike\",\"classic_bike\",\"electric_bike\",\"electric_bike\",\"classic_bike\",\"electric_bike\",\"classic_bike\",\"classic_bike\",\"electric_bike\",\"classic_bike\",\"classic_bike\",\"electric_bike\",\"classic_bike\",\"electric_bike\",\"classic_bike\",\"classic_bike\",\"electric_bike\",\"electric_bike\",\"electric_bike\",\"classic_bike\",\"electric_bike\",\"electric_bike\",\"electric_bike\",\"classic_bike\",\"classic_bike\",\"electric_bike\",\"classic_bike\",\"classic_bike\",\"classic_bike\",\"electric_bike\",\"classic_bike\",\"classic_bike\",\"electric_bike\",\"classic_bike\",\"electric_bike\",\"classic_bike\",\"classic_bike\",\"electric_bike\",\"classic_bike\",\"classic_bike\",\"classic_bike\",\"classic_bike\",\"classic_bike\",\"classic_bike\",\"classic_bike\"],\"x0\":\" \",\"xaxis\":\"x\",\"y\":[2.6,8.45,3.6666666666666665,2.583333333333333,7.7,16.1,13.266666666666667,7.516666666666667,6.033333333333333,12.416666666666666,7.066666666666666,8.966666666666667,6.45,9.233333333333333,4.116666666666666,4.6,3.566666666666667,7.4,6.016666666666667,26.216666666666665,8.116666666666667,73.96666666666667,22.25,1.8333333333333333,3.35,10.133333333333333,20.216666666666665,11.333333333333334,1.15,6.016666666666667,3.883333333333333,15.333333333333334,9.5,9.816666666666666,16.383333333333333,3.283333333333333,3.85,9.5,4.733333333333333,10.9,8.566666666666666,15.05,3.9,67.6,4.95,8.566666666666666,10.366666666666667,10.183333333333334,8.95,9.6,4.066666666666666,18.8,7.783333333333333,16.033333333333335,32.8,7.5,36.25,10.15,6.85,5.4,10.166666666666666,16.116666666666667,9.4,5.533333333333333,11.783333333333331,7.383333333333334,43.73333333333333,34.28333333333333,24.133333333333333,6.05,25.73333333333333,7.383333333333334,29.383333333333333,30.666666666666668,4.55,8.0,13.15,7.6,19.566666666666663,11.833333333333334,6.75,5.033333333333333,11.266666666666667,16.316666666666666,23.6,16.3,10.25,20.866666666666667,20.03333333333333,14.516666666666667,10.116666666666667,6.366666666666666,6.016666666666667,6.216666666666667,4.116666666666666,11.866666666666667,7.733333333333333],\"y0\":\" \",\"yaxis\":\"y\",\"type\":\"box\"}],                        {\"template\":{\"data\":{\"histogram2dcontour\":[{\"type\":\"histogram2dcontour\",\"colorbar\":{\"outlinewidth\":0,\"ticks\":\"\"},\"colorscale\":[[0.0,\"#0d0887\"],[0.1111111111111111,\"#46039f\"],[0.2222222222222222,\"#7201a8\"],[0.3333333333333333,\"#9c179e\"],[0.4444444444444444,\"#bd3786\"],[0.5555555555555556,\"#d8576b\"],[0.6666666666666666,\"#ed7953\"],[0.7777777777777778,\"#fb9f3a\"],[0.8888888888888888,\"#fdca26\"],[1.0,\"#f0f921\"]]}],\"choropleth\":[{\"type\":\"choropleth\",\"colorbar\":{\"outlinewidth\":0,\"ticks\":\"\"}}],\"histogram2d\":[{\"type\":\"histogram2d\",\"colorbar\":{\"outlinewidth\":0,\"ticks\":\"\"},\"colorscale\":[[0.0,\"#0d0887\"],[0.1111111111111111,\"#46039f\"],[0.2222222222222222,\"#7201a8\"],[0.3333333333333333,\"#9c179e\"],[0.4444444444444444,\"#bd3786\"],[0.5555555555555556,\"#d8576b\"],[0.6666666666666666,\"#ed7953\"],[0.7777777777777778,\"#fb9f3a\"],[0.8888888888888888,\"#fdca26\"],[1.0,\"#f0f921\"]]}],\"heatmap\":[{\"type\":\"heatmap\",\"colorbar\":{\"outlinewidth\":0,\"ticks\":\"\"},\"colorscale\":[[0.0,\"#0d0887\"],[0.1111111111111111,\"#46039f\"],[0.2222222222222222,\"#7201a8\"],[0.3333333333333333,\"#9c179e\"],[0.4444444444444444,\"#bd3786\"],[0.5555555555555556,\"#d8576b\"],[0.6666666666666666,\"#ed7953\"],[0.7777777777777778,\"#fb9f3a\"],[0.8888888888888888,\"#fdca26\"],[1.0,\"#f0f921\"]]}],\"heatmapgl\":[{\"type\":\"heatmapgl\",\"colorbar\":{\"outlinewidth\":0,\"ticks\":\"\"},\"colorscale\":[[0.0,\"#0d0887\"],[0.1111111111111111,\"#46039f\"],[0.2222222222222222,\"#7201a8\"],[0.3333333333333333,\"#9c179e\"],[0.4444444444444444,\"#bd3786\"],[0.5555555555555556,\"#d8576b\"],[0.6666666666666666,\"#ed7953\"],[0.7777777777777778,\"#fb9f3a\"],[0.8888888888888888,\"#fdca26\"],[1.0,\"#f0f921\"]]}],\"contourcarpet\":[{\"type\":\"contourcarpet\",\"colorbar\":{\"outlinewidth\":0,\"ticks\":\"\"}}],\"contour\":[{\"type\":\"contour\",\"colorbar\":{\"outlinewidth\":0,\"ticks\":\"\"},\"colorscale\":[[0.0,\"#0d0887\"],[0.1111111111111111,\"#46039f\"],[0.2222222222222222,\"#7201a8\"],[0.3333333333333333,\"#9c179e\"],[0.4444444444444444,\"#bd3786\"],[0.5555555555555556,\"#d8576b\"],[0.6666666666666666,\"#ed7953\"],[0.7777777777777778,\"#fb9f3a\"],[0.8888888888888888,\"#fdca26\"],[1.0,\"#f0f921\"]]}],\"surface\":[{\"type\":\"surface\",\"colorbar\":{\"outlinewidth\":0,\"ticks\":\"\"},\"colorscale\":[[0.0,\"#0d0887\"],[0.1111111111111111,\"#46039f\"],[0.2222222222222222,\"#7201a8\"],[0.3333333333333333,\"#9c179e\"],[0.4444444444444444,\"#bd3786\"],[0.5555555555555556,\"#d8576b\"],[0.6666666666666666,\"#ed7953\"],[0.7777777777777778,\"#fb9f3a\"],[0.8888888888888888,\"#fdca26\"],[1.0,\"#f0f921\"]]}],\"mesh3d\":[{\"type\":\"mesh3d\",\"colorbar\":{\"outlinewidth\":0,\"ticks\":\"\"}}],\"scatter\":[{\"fillpattern\":{\"fillmode\":\"overlay\",\"size\":10,\"solidity\":0.2},\"type\":\"scatter\"}],\"parcoords\":[{\"type\":\"parcoords\",\"line\":{\"colorbar\":{\"outlinewidth\":0,\"ticks\":\"\"}}}],\"scatterpolargl\":[{\"type\":\"scatterpolargl\",\"marker\":{\"colorbar\":{\"outlinewidth\":0,\"ticks\":\"\"}}}],\"bar\":[{\"error_x\":{\"color\":\"#2a3f5f\"},\"error_y\":{\"color\":\"#2a3f5f\"},\"marker\":{\"line\":{\"color\":\"#E5ECF6\",\"width\":0.5},\"pattern\":{\"fillmode\":\"overlay\",\"size\":10,\"solidity\":0.2}},\"type\":\"bar\"}],\"scattergeo\":[{\"type\":\"scattergeo\",\"marker\":{\"colorbar\":{\"outlinewidth\":0,\"ticks\":\"\"}}}],\"scatterpolar\":[{\"type\":\"scatterpolar\",\"marker\":{\"colorbar\":{\"outlinewidth\":0,\"ticks\":\"\"}}}],\"histogram\":[{\"marker\":{\"pattern\":{\"fillmode\":\"overlay\",\"size\":10,\"solidity\":0.2}},\"type\":\"histogram\"}],\"scattergl\":[{\"type\":\"scattergl\",\"marker\":{\"colorbar\":{\"outlinewidth\":0,\"ticks\":\"\"}}}],\"scatter3d\":[{\"type\":\"scatter3d\",\"line\":{\"colorbar\":{\"outlinewidth\":0,\"ticks\":\"\"}},\"marker\":{\"colorbar\":{\"outlinewidth\":0,\"ticks\":\"\"}}}],\"scattermapbox\":[{\"type\":\"scattermapbox\",\"marker\":{\"colorbar\":{\"outlinewidth\":0,\"ticks\":\"\"}}}],\"scatterternary\":[{\"type\":\"scatterternary\",\"marker\":{\"colorbar\":{\"outlinewidth\":0,\"ticks\":\"\"}}}],\"scattercarpet\":[{\"type\":\"scattercarpet\",\"marker\":{\"colorbar\":{\"outlinewidth\":0,\"ticks\":\"\"}}}],\"carpet\":[{\"aaxis\":{\"endlinecolor\":\"#2a3f5f\",\"gridcolor\":\"white\",\"linecolor\":\"white\",\"minorgridcolor\":\"white\",\"startlinecolor\":\"#2a3f5f\"},\"baxis\":{\"endlinecolor\":\"#2a3f5f\",\"gridcolor\":\"white\",\"linecolor\":\"white\",\"minorgridcolor\":\"white\",\"startlinecolor\":\"#2a3f5f\"},\"type\":\"carpet\"}],\"table\":[{\"cells\":{\"fill\":{\"color\":\"#EBF0F8\"},\"line\":{\"color\":\"white\"}},\"header\":{\"fill\":{\"color\":\"#C8D4E3\"},\"line\":{\"color\":\"white\"}},\"type\":\"table\"}],\"barpolar\":[{\"marker\":{\"line\":{\"color\":\"#E5ECF6\",\"width\":0.5},\"pattern\":{\"fillmode\":\"overlay\",\"size\":10,\"solidity\":0.2}},\"type\":\"barpolar\"}],\"pie\":[{\"automargin\":true,\"type\":\"pie\"}]},\"layout\":{\"autotypenumbers\":\"strict\",\"colorway\":[\"#636efa\",\"#EF553B\",\"#00cc96\",\"#ab63fa\",\"#FFA15A\",\"#19d3f3\",\"#FF6692\",\"#B6E880\",\"#FF97FF\",\"#FECB52\"],\"font\":{\"color\":\"#2a3f5f\"},\"hovermode\":\"closest\",\"hoverlabel\":{\"align\":\"left\"},\"paper_bgcolor\":\"white\",\"plot_bgcolor\":\"#E5ECF6\",\"polar\":{\"bgcolor\":\"#E5ECF6\",\"angularaxis\":{\"gridcolor\":\"white\",\"linecolor\":\"white\",\"ticks\":\"\"},\"radialaxis\":{\"gridcolor\":\"white\",\"linecolor\":\"white\",\"ticks\":\"\"}},\"ternary\":{\"bgcolor\":\"#E5ECF6\",\"aaxis\":{\"gridcolor\":\"white\",\"linecolor\":\"white\",\"ticks\":\"\"},\"baxis\":{\"gridcolor\":\"white\",\"linecolor\":\"white\",\"ticks\":\"\"},\"caxis\":{\"gridcolor\":\"white\",\"linecolor\":\"white\",\"ticks\":\"\"}},\"coloraxis\":{\"colorbar\":{\"outlinewidth\":0,\"ticks\":\"\"}},\"colorscale\":{\"sequential\":[[0.0,\"#0d0887\"],[0.1111111111111111,\"#46039f\"],[0.2222222222222222,\"#7201a8\"],[0.3333333333333333,\"#9c179e\"],[0.4444444444444444,\"#bd3786\"],[0.5555555555555556,\"#d8576b\"],[0.6666666666666666,\"#ed7953\"],[0.7777777777777778,\"#fb9f3a\"],[0.8888888888888888,\"#fdca26\"],[1.0,\"#f0f921\"]],\"sequentialminus\":[[0.0,\"#0d0887\"],[0.1111111111111111,\"#46039f\"],[0.2222222222222222,\"#7201a8\"],[0.3333333333333333,\"#9c179e\"],[0.4444444444444444,\"#bd3786\"],[0.5555555555555556,\"#d8576b\"],[0.6666666666666666,\"#ed7953\"],[0.7777777777777778,\"#fb9f3a\"],[0.8888888888888888,\"#fdca26\"],[1.0,\"#f0f921\"]],\"diverging\":[[0,\"#8e0152\"],[0.1,\"#c51b7d\"],[0.2,\"#de77ae\"],[0.3,\"#f1b6da\"],[0.4,\"#fde0ef\"],[0.5,\"#f7f7f7\"],[0.6,\"#e6f5d0\"],[0.7,\"#b8e186\"],[0.8,\"#7fbc41\"],[0.9,\"#4d9221\"],[1,\"#276419\"]]},\"xaxis\":{\"gridcolor\":\"white\",\"linecolor\":\"white\",\"ticks\":\"\",\"title\":{\"standoff\":15},\"zerolinecolor\":\"white\",\"automargin\":true,\"zerolinewidth\":2},\"yaxis\":{\"gridcolor\":\"white\",\"linecolor\":\"white\",\"ticks\":\"\",\"title\":{\"standoff\":15},\"zerolinecolor\":\"white\",\"automargin\":true,\"zerolinewidth\":2},\"scene\":{\"xaxis\":{\"backgroundcolor\":\"#E5ECF6\",\"gridcolor\":\"white\",\"linecolor\":\"white\",\"showbackground\":true,\"ticks\":\"\",\"zerolinecolor\":\"white\",\"gridwidth\":2},\"yaxis\":{\"backgroundcolor\":\"#E5ECF6\",\"gridcolor\":\"white\",\"linecolor\":\"white\",\"showbackground\":true,\"ticks\":\"\",\"zerolinecolor\":\"white\",\"gridwidth\":2},\"zaxis\":{\"backgroundcolor\":\"#E5ECF6\",\"gridcolor\":\"white\",\"linecolor\":\"white\",\"showbackground\":true,\"ticks\":\"\",\"zerolinecolor\":\"white\",\"gridwidth\":2}},\"shapedefaults\":{\"line\":{\"color\":\"#2a3f5f\"}},\"annotationdefaults\":{\"arrowcolor\":\"#2a3f5f\",\"arrowhead\":0,\"arrowwidth\":1},\"geo\":{\"bgcolor\":\"white\",\"landcolor\":\"#E5ECF6\",\"subunitcolor\":\"white\",\"showland\":true,\"showlakes\":true,\"lakecolor\":\"white\"},\"title\":{\"x\":0.05},\"mapbox\":{\"style\":\"light\"}}},\"xaxis\":{\"anchor\":\"y\",\"domain\":[0.0,1.0],\"title\":{\"text\":\"Bike Type\"}},\"yaxis\":{\"anchor\":\"x\",\"domain\":[0.0,1.0],\"title\":{\"text\":\"Duration (minutes)\"},\"type\":\"log\"},\"legend\":{\"tracegroupgap\":0},\"title\":{\"text\":\"Trip Duration by Bike Type (Log Scale)\"},\"boxmode\":\"group\"},                        {\"responsive\": true}                    ).then(function(){\n",
       "                            \n",
       "var gd = document.getElementById('16efc51e-12ac-4f8c-a1ee-70a21e0f43a6');\n",
       "var x = new MutationObserver(function (mutations, observer) {{\n",
       "        var display = window.getComputedStyle(gd).display;\n",
       "        if (!display || display === 'none') {{\n",
       "            console.log([gd, 'removed!']);\n",
       "            Plotly.purge(gd);\n",
       "            observer.disconnect();\n",
       "        }}\n",
       "}});\n",
       "\n",
       "// Listen for the removal of the full notebook cells\n",
       "var notebookContainer = gd.closest('#notebook-container');\n",
       "if (notebookContainer) {{\n",
       "    x.observe(notebookContainer, {childList: true});\n",
       "}}\n",
       "\n",
       "// Listen for the clearing of the current output cell\n",
       "var outputEl = gd.closest('.output');\n",
       "if (outputEl) {{\n",
       "    x.observe(outputEl, {childList: true});\n",
       "}}\n",
       "\n",
       "                        })                };                });            </script>        </div>"
      ]
     },
     "metadata": {},
     "output_type": "display_data"
    }
   ],
   "execution_count": 490
  },
  {
   "metadata": {
    "ExecuteTime": {
     "end_time": "2025-06-21T15:58:25.600017Z",
     "start_time": "2025-06-21T15:58:25.565828Z"
    }
   },
   "cell_type": "code",
   "source": [
    "fig7 = px.box(\n",
    "    df_modified,\n",
    "    x=\"member_casual\",\n",
    "    y=\"duration_min\",\n",
    "    title=\"Trip Duration by Subscription Type\",\n",
    "    labels={\"member_casual\": \"User Type\", \"duration_min\": \"Duration (minutes)\"},\n",
    "    log_y=True\n",
    ")\n",
    "\n",
    "\n",
    "fig7.show()"
   ],
   "id": "1f7add010ab0f805",
   "outputs": [
    {
     "data": {
      "application/vnd.plotly.v1+json": {
       "data": [
        {
         "alignmentgroup": "True",
         "hovertemplate": "User Type=%{x}<br>Duration (minutes)=%{y}<extra></extra>",
         "legendgroup": "",
         "marker": {
          "color": "#636efa"
         },
         "name": "",
         "notched": false,
         "offsetgroup": "",
         "orientation": "v",
         "showlegend": false,
         "x": [
          "member",
          "member",
          "member",
          "member",
          "casual",
          "casual",
          "casual",
          "member",
          "member",
          "member",
          "member",
          "casual",
          "casual",
          "member",
          "member",
          "casual",
          "casual",
          "casual",
          "casual",
          "casual",
          "member",
          "member",
          "member",
          "member",
          "member",
          "member",
          "member",
          "member",
          "member",
          "member",
          "member",
          "member",
          "member",
          "member",
          "member",
          "member",
          "member",
          "member",
          "casual",
          "casual",
          "member",
          "member",
          "casual",
          "casual",
          "member",
          "member",
          "member",
          "member",
          "member",
          "member",
          "member",
          "member",
          "casual",
          "casual",
          "casual",
          "casual",
          "member",
          "member",
          "member",
          "member",
          "member",
          "member",
          "member",
          "casual",
          "casual",
          "member",
          "member",
          "member",
          "casual",
          "casual",
          "casual",
          "member",
          "member",
          "member",
          "member",
          "member",
          "member",
          "member",
          "member",
          "member",
          "casual",
          "casual",
          "member",
          "member",
          "member",
          "member",
          "member",
          "member",
          "member",
          "member",
          "member",
          "member",
          "member",
          "casual",
          "member",
          "casual",
          "member"
         ],
         "x0": " ",
         "xaxis": "x",
         "y": [
          2.6,
          8.45,
          3.6666666666666665,
          2.583333333333333,
          7.7,
          16.1,
          13.266666666666667,
          7.516666666666667,
          6.033333333333333,
          12.416666666666666,
          7.066666666666666,
          8.966666666666667,
          6.45,
          9.233333333333333,
          4.116666666666666,
          4.6,
          3.566666666666667,
          7.4,
          6.016666666666667,
          26.216666666666665,
          8.116666666666667,
          73.96666666666667,
          22.25,
          1.8333333333333333,
          3.35,
          10.133333333333333,
          20.216666666666665,
          11.333333333333334,
          1.15,
          6.016666666666667,
          3.883333333333333,
          15.333333333333334,
          9.5,
          9.816666666666666,
          16.383333333333333,
          3.283333333333333,
          3.85,
          9.5,
          4.733333333333333,
          10.9,
          8.566666666666666,
          15.05,
          3.9,
          67.6,
          4.95,
          8.566666666666666,
          10.366666666666667,
          10.183333333333334,
          8.95,
          9.6,
          4.066666666666666,
          18.8,
          7.783333333333333,
          16.033333333333335,
          32.8,
          7.5,
          36.25,
          10.15,
          6.85,
          5.4,
          10.166666666666666,
          16.116666666666667,
          9.4,
          5.533333333333333,
          11.783333333333331,
          7.383333333333334,
          43.73333333333333,
          34.28333333333333,
          24.133333333333333,
          6.05,
          25.73333333333333,
          7.383333333333334,
          29.383333333333333,
          30.666666666666668,
          4.55,
          8.0,
          13.15,
          7.6,
          19.566666666666663,
          11.833333333333334,
          6.75,
          5.033333333333333,
          11.266666666666667,
          16.316666666666666,
          23.6,
          16.3,
          10.25,
          20.866666666666667,
          20.03333333333333,
          14.516666666666667,
          10.116666666666667,
          6.366666666666666,
          6.016666666666667,
          6.216666666666667,
          4.116666666666666,
          11.866666666666667,
          7.733333333333333
         ],
         "y0": " ",
         "yaxis": "y",
         "type": "box"
        }
       ],
       "layout": {
        "template": {
         "data": {
          "histogram2dcontour": [
           {
            "type": "histogram2dcontour",
            "colorbar": {
             "outlinewidth": 0,
             "ticks": ""
            },
            "colorscale": [
             [
              0.0,
              "#0d0887"
             ],
             [
              0.1111111111111111,
              "#46039f"
             ],
             [
              0.2222222222222222,
              "#7201a8"
             ],
             [
              0.3333333333333333,
              "#9c179e"
             ],
             [
              0.4444444444444444,
              "#bd3786"
             ],
             [
              0.5555555555555556,
              "#d8576b"
             ],
             [
              0.6666666666666666,
              "#ed7953"
             ],
             [
              0.7777777777777778,
              "#fb9f3a"
             ],
             [
              0.8888888888888888,
              "#fdca26"
             ],
             [
              1.0,
              "#f0f921"
             ]
            ]
           }
          ],
          "choropleth": [
           {
            "type": "choropleth",
            "colorbar": {
             "outlinewidth": 0,
             "ticks": ""
            }
           }
          ],
          "histogram2d": [
           {
            "type": "histogram2d",
            "colorbar": {
             "outlinewidth": 0,
             "ticks": ""
            },
            "colorscale": [
             [
              0.0,
              "#0d0887"
             ],
             [
              0.1111111111111111,
              "#46039f"
             ],
             [
              0.2222222222222222,
              "#7201a8"
             ],
             [
              0.3333333333333333,
              "#9c179e"
             ],
             [
              0.4444444444444444,
              "#bd3786"
             ],
             [
              0.5555555555555556,
              "#d8576b"
             ],
             [
              0.6666666666666666,
              "#ed7953"
             ],
             [
              0.7777777777777778,
              "#fb9f3a"
             ],
             [
              0.8888888888888888,
              "#fdca26"
             ],
             [
              1.0,
              "#f0f921"
             ]
            ]
           }
          ],
          "heatmap": [
           {
            "type": "heatmap",
            "colorbar": {
             "outlinewidth": 0,
             "ticks": ""
            },
            "colorscale": [
             [
              0.0,
              "#0d0887"
             ],
             [
              0.1111111111111111,
              "#46039f"
             ],
             [
              0.2222222222222222,
              "#7201a8"
             ],
             [
              0.3333333333333333,
              "#9c179e"
             ],
             [
              0.4444444444444444,
              "#bd3786"
             ],
             [
              0.5555555555555556,
              "#d8576b"
             ],
             [
              0.6666666666666666,
              "#ed7953"
             ],
             [
              0.7777777777777778,
              "#fb9f3a"
             ],
             [
              0.8888888888888888,
              "#fdca26"
             ],
             [
              1.0,
              "#f0f921"
             ]
            ]
           }
          ],
          "heatmapgl": [
           {
            "type": "heatmapgl",
            "colorbar": {
             "outlinewidth": 0,
             "ticks": ""
            },
            "colorscale": [
             [
              0.0,
              "#0d0887"
             ],
             [
              0.1111111111111111,
              "#46039f"
             ],
             [
              0.2222222222222222,
              "#7201a8"
             ],
             [
              0.3333333333333333,
              "#9c179e"
             ],
             [
              0.4444444444444444,
              "#bd3786"
             ],
             [
              0.5555555555555556,
              "#d8576b"
             ],
             [
              0.6666666666666666,
              "#ed7953"
             ],
             [
              0.7777777777777778,
              "#fb9f3a"
             ],
             [
              0.8888888888888888,
              "#fdca26"
             ],
             [
              1.0,
              "#f0f921"
             ]
            ]
           }
          ],
          "contourcarpet": [
           {
            "type": "contourcarpet",
            "colorbar": {
             "outlinewidth": 0,
             "ticks": ""
            }
           }
          ],
          "contour": [
           {
            "type": "contour",
            "colorbar": {
             "outlinewidth": 0,
             "ticks": ""
            },
            "colorscale": [
             [
              0.0,
              "#0d0887"
             ],
             [
              0.1111111111111111,
              "#46039f"
             ],
             [
              0.2222222222222222,
              "#7201a8"
             ],
             [
              0.3333333333333333,
              "#9c179e"
             ],
             [
              0.4444444444444444,
              "#bd3786"
             ],
             [
              0.5555555555555556,
              "#d8576b"
             ],
             [
              0.6666666666666666,
              "#ed7953"
             ],
             [
              0.7777777777777778,
              "#fb9f3a"
             ],
             [
              0.8888888888888888,
              "#fdca26"
             ],
             [
              1.0,
              "#f0f921"
             ]
            ]
           }
          ],
          "surface": [
           {
            "type": "surface",
            "colorbar": {
             "outlinewidth": 0,
             "ticks": ""
            },
            "colorscale": [
             [
              0.0,
              "#0d0887"
             ],
             [
              0.1111111111111111,
              "#46039f"
             ],
             [
              0.2222222222222222,
              "#7201a8"
             ],
             [
              0.3333333333333333,
              "#9c179e"
             ],
             [
              0.4444444444444444,
              "#bd3786"
             ],
             [
              0.5555555555555556,
              "#d8576b"
             ],
             [
              0.6666666666666666,
              "#ed7953"
             ],
             [
              0.7777777777777778,
              "#fb9f3a"
             ],
             [
              0.8888888888888888,
              "#fdca26"
             ],
             [
              1.0,
              "#f0f921"
             ]
            ]
           }
          ],
          "mesh3d": [
           {
            "type": "mesh3d",
            "colorbar": {
             "outlinewidth": 0,
             "ticks": ""
            }
           }
          ],
          "scatter": [
           {
            "fillpattern": {
             "fillmode": "overlay",
             "size": 10,
             "solidity": 0.2
            },
            "type": "scatter"
           }
          ],
          "parcoords": [
           {
            "type": "parcoords",
            "line": {
             "colorbar": {
              "outlinewidth": 0,
              "ticks": ""
             }
            }
           }
          ],
          "scatterpolargl": [
           {
            "type": "scatterpolargl",
            "marker": {
             "colorbar": {
              "outlinewidth": 0,
              "ticks": ""
             }
            }
           }
          ],
          "bar": [
           {
            "error_x": {
             "color": "#2a3f5f"
            },
            "error_y": {
             "color": "#2a3f5f"
            },
            "marker": {
             "line": {
              "color": "#E5ECF6",
              "width": 0.5
             },
             "pattern": {
              "fillmode": "overlay",
              "size": 10,
              "solidity": 0.2
             }
            },
            "type": "bar"
           }
          ],
          "scattergeo": [
           {
            "type": "scattergeo",
            "marker": {
             "colorbar": {
              "outlinewidth": 0,
              "ticks": ""
             }
            }
           }
          ],
          "scatterpolar": [
           {
            "type": "scatterpolar",
            "marker": {
             "colorbar": {
              "outlinewidth": 0,
              "ticks": ""
             }
            }
           }
          ],
          "histogram": [
           {
            "marker": {
             "pattern": {
              "fillmode": "overlay",
              "size": 10,
              "solidity": 0.2
             }
            },
            "type": "histogram"
           }
          ],
          "scattergl": [
           {
            "type": "scattergl",
            "marker": {
             "colorbar": {
              "outlinewidth": 0,
              "ticks": ""
             }
            }
           }
          ],
          "scatter3d": [
           {
            "type": "scatter3d",
            "line": {
             "colorbar": {
              "outlinewidth": 0,
              "ticks": ""
             }
            },
            "marker": {
             "colorbar": {
              "outlinewidth": 0,
              "ticks": ""
             }
            }
           }
          ],
          "scattermapbox": [
           {
            "type": "scattermapbox",
            "marker": {
             "colorbar": {
              "outlinewidth": 0,
              "ticks": ""
             }
            }
           }
          ],
          "scatterternary": [
           {
            "type": "scatterternary",
            "marker": {
             "colorbar": {
              "outlinewidth": 0,
              "ticks": ""
             }
            }
           }
          ],
          "scattercarpet": [
           {
            "type": "scattercarpet",
            "marker": {
             "colorbar": {
              "outlinewidth": 0,
              "ticks": ""
             }
            }
           }
          ],
          "carpet": [
           {
            "aaxis": {
             "endlinecolor": "#2a3f5f",
             "gridcolor": "white",
             "linecolor": "white",
             "minorgridcolor": "white",
             "startlinecolor": "#2a3f5f"
            },
            "baxis": {
             "endlinecolor": "#2a3f5f",
             "gridcolor": "white",
             "linecolor": "white",
             "minorgridcolor": "white",
             "startlinecolor": "#2a3f5f"
            },
            "type": "carpet"
           }
          ],
          "table": [
           {
            "cells": {
             "fill": {
              "color": "#EBF0F8"
             },
             "line": {
              "color": "white"
             }
            },
            "header": {
             "fill": {
              "color": "#C8D4E3"
             },
             "line": {
              "color": "white"
             }
            },
            "type": "table"
           }
          ],
          "barpolar": [
           {
            "marker": {
             "line": {
              "color": "#E5ECF6",
              "width": 0.5
             },
             "pattern": {
              "fillmode": "overlay",
              "size": 10,
              "solidity": 0.2
             }
            },
            "type": "barpolar"
           }
          ],
          "pie": [
           {
            "automargin": true,
            "type": "pie"
           }
          ]
         },
         "layout": {
          "autotypenumbers": "strict",
          "colorway": [
           "#636efa",
           "#EF553B",
           "#00cc96",
           "#ab63fa",
           "#FFA15A",
           "#19d3f3",
           "#FF6692",
           "#B6E880",
           "#FF97FF",
           "#FECB52"
          ],
          "font": {
           "color": "#2a3f5f"
          },
          "hovermode": "closest",
          "hoverlabel": {
           "align": "left"
          },
          "paper_bgcolor": "white",
          "plot_bgcolor": "#E5ECF6",
          "polar": {
           "bgcolor": "#E5ECF6",
           "angularaxis": {
            "gridcolor": "white",
            "linecolor": "white",
            "ticks": ""
           },
           "radialaxis": {
            "gridcolor": "white",
            "linecolor": "white",
            "ticks": ""
           }
          },
          "ternary": {
           "bgcolor": "#E5ECF6",
           "aaxis": {
            "gridcolor": "white",
            "linecolor": "white",
            "ticks": ""
           },
           "baxis": {
            "gridcolor": "white",
            "linecolor": "white",
            "ticks": ""
           },
           "caxis": {
            "gridcolor": "white",
            "linecolor": "white",
            "ticks": ""
           }
          },
          "coloraxis": {
           "colorbar": {
            "outlinewidth": 0,
            "ticks": ""
           }
          },
          "colorscale": {
           "sequential": [
            [
             0.0,
             "#0d0887"
            ],
            [
             0.1111111111111111,
             "#46039f"
            ],
            [
             0.2222222222222222,
             "#7201a8"
            ],
            [
             0.3333333333333333,
             "#9c179e"
            ],
            [
             0.4444444444444444,
             "#bd3786"
            ],
            [
             0.5555555555555556,
             "#d8576b"
            ],
            [
             0.6666666666666666,
             "#ed7953"
            ],
            [
             0.7777777777777778,
             "#fb9f3a"
            ],
            [
             0.8888888888888888,
             "#fdca26"
            ],
            [
             1.0,
             "#f0f921"
            ]
           ],
           "sequentialminus": [
            [
             0.0,
             "#0d0887"
            ],
            [
             0.1111111111111111,
             "#46039f"
            ],
            [
             0.2222222222222222,
             "#7201a8"
            ],
            [
             0.3333333333333333,
             "#9c179e"
            ],
            [
             0.4444444444444444,
             "#bd3786"
            ],
            [
             0.5555555555555556,
             "#d8576b"
            ],
            [
             0.6666666666666666,
             "#ed7953"
            ],
            [
             0.7777777777777778,
             "#fb9f3a"
            ],
            [
             0.8888888888888888,
             "#fdca26"
            ],
            [
             1.0,
             "#f0f921"
            ]
           ],
           "diverging": [
            [
             0,
             "#8e0152"
            ],
            [
             0.1,
             "#c51b7d"
            ],
            [
             0.2,
             "#de77ae"
            ],
            [
             0.3,
             "#f1b6da"
            ],
            [
             0.4,
             "#fde0ef"
            ],
            [
             0.5,
             "#f7f7f7"
            ],
            [
             0.6,
             "#e6f5d0"
            ],
            [
             0.7,
             "#b8e186"
            ],
            [
             0.8,
             "#7fbc41"
            ],
            [
             0.9,
             "#4d9221"
            ],
            [
             1,
             "#276419"
            ]
           ]
          },
          "xaxis": {
           "gridcolor": "white",
           "linecolor": "white",
           "ticks": "",
           "title": {
            "standoff": 15
           },
           "zerolinecolor": "white",
           "automargin": true,
           "zerolinewidth": 2
          },
          "yaxis": {
           "gridcolor": "white",
           "linecolor": "white",
           "ticks": "",
           "title": {
            "standoff": 15
           },
           "zerolinecolor": "white",
           "automargin": true,
           "zerolinewidth": 2
          },
          "scene": {
           "xaxis": {
            "backgroundcolor": "#E5ECF6",
            "gridcolor": "white",
            "linecolor": "white",
            "showbackground": true,
            "ticks": "",
            "zerolinecolor": "white",
            "gridwidth": 2
           },
           "yaxis": {
            "backgroundcolor": "#E5ECF6",
            "gridcolor": "white",
            "linecolor": "white",
            "showbackground": true,
            "ticks": "",
            "zerolinecolor": "white",
            "gridwidth": 2
           },
           "zaxis": {
            "backgroundcolor": "#E5ECF6",
            "gridcolor": "white",
            "linecolor": "white",
            "showbackground": true,
            "ticks": "",
            "zerolinecolor": "white",
            "gridwidth": 2
           }
          },
          "shapedefaults": {
           "line": {
            "color": "#2a3f5f"
           }
          },
          "annotationdefaults": {
           "arrowcolor": "#2a3f5f",
           "arrowhead": 0,
           "arrowwidth": 1
          },
          "geo": {
           "bgcolor": "white",
           "landcolor": "#E5ECF6",
           "subunitcolor": "white",
           "showland": true,
           "showlakes": true,
           "lakecolor": "white"
          },
          "title": {
           "x": 0.05
          },
          "mapbox": {
           "style": "light"
          }
         }
        },
        "xaxis": {
         "anchor": "y",
         "domain": [
          0.0,
          1.0
         ],
         "title": {
          "text": "User Type"
         }
        },
        "yaxis": {
         "anchor": "x",
         "domain": [
          0.0,
          1.0
         ],
         "title": {
          "text": "Duration (minutes)"
         },
         "type": "log"
        },
        "legend": {
         "tracegroupgap": 0
        },
        "title": {
         "text": "Trip Duration by Subscription Type"
        },
        "boxmode": "group"
       },
       "config": {
        "plotlyServerURL": "https://plot.ly"
       }
      },
      "text/html": [
       "<div>                            <div id=\"8bbdabb2-d15c-489d-984d-740041b528b2\" class=\"plotly-graph-div\" style=\"height:525px; width:100%;\"></div>            <script type=\"text/javascript\">                require([\"plotly\"], function(Plotly) {                    window.PLOTLYENV=window.PLOTLYENV || {};                                    if (document.getElementById(\"8bbdabb2-d15c-489d-984d-740041b528b2\")) {                    Plotly.newPlot(                        \"8bbdabb2-d15c-489d-984d-740041b528b2\",                        [{\"alignmentgroup\":\"True\",\"hovertemplate\":\"User Type=%{x}\\u003cbr\\u003eDuration (minutes)=%{y}\\u003cextra\\u003e\\u003c\\u002fextra\\u003e\",\"legendgroup\":\"\",\"marker\":{\"color\":\"#636efa\"},\"name\":\"\",\"notched\":false,\"offsetgroup\":\"\",\"orientation\":\"v\",\"showlegend\":false,\"x\":[\"member\",\"member\",\"member\",\"member\",\"casual\",\"casual\",\"casual\",\"member\",\"member\",\"member\",\"member\",\"casual\",\"casual\",\"member\",\"member\",\"casual\",\"casual\",\"casual\",\"casual\",\"casual\",\"member\",\"member\",\"member\",\"member\",\"member\",\"member\",\"member\",\"member\",\"member\",\"member\",\"member\",\"member\",\"member\",\"member\",\"member\",\"member\",\"member\",\"member\",\"casual\",\"casual\",\"member\",\"member\",\"casual\",\"casual\",\"member\",\"member\",\"member\",\"member\",\"member\",\"member\",\"member\",\"member\",\"casual\",\"casual\",\"casual\",\"casual\",\"member\",\"member\",\"member\",\"member\",\"member\",\"member\",\"member\",\"casual\",\"casual\",\"member\",\"member\",\"member\",\"casual\",\"casual\",\"casual\",\"member\",\"member\",\"member\",\"member\",\"member\",\"member\",\"member\",\"member\",\"member\",\"casual\",\"casual\",\"member\",\"member\",\"member\",\"member\",\"member\",\"member\",\"member\",\"member\",\"member\",\"member\",\"member\",\"casual\",\"member\",\"casual\",\"member\"],\"x0\":\" \",\"xaxis\":\"x\",\"y\":[2.6,8.45,3.6666666666666665,2.583333333333333,7.7,16.1,13.266666666666667,7.516666666666667,6.033333333333333,12.416666666666666,7.066666666666666,8.966666666666667,6.45,9.233333333333333,4.116666666666666,4.6,3.566666666666667,7.4,6.016666666666667,26.216666666666665,8.116666666666667,73.96666666666667,22.25,1.8333333333333333,3.35,10.133333333333333,20.216666666666665,11.333333333333334,1.15,6.016666666666667,3.883333333333333,15.333333333333334,9.5,9.816666666666666,16.383333333333333,3.283333333333333,3.85,9.5,4.733333333333333,10.9,8.566666666666666,15.05,3.9,67.6,4.95,8.566666666666666,10.366666666666667,10.183333333333334,8.95,9.6,4.066666666666666,18.8,7.783333333333333,16.033333333333335,32.8,7.5,36.25,10.15,6.85,5.4,10.166666666666666,16.116666666666667,9.4,5.533333333333333,11.783333333333331,7.383333333333334,43.73333333333333,34.28333333333333,24.133333333333333,6.05,25.73333333333333,7.383333333333334,29.383333333333333,30.666666666666668,4.55,8.0,13.15,7.6,19.566666666666663,11.833333333333334,6.75,5.033333333333333,11.266666666666667,16.316666666666666,23.6,16.3,10.25,20.866666666666667,20.03333333333333,14.516666666666667,10.116666666666667,6.366666666666666,6.016666666666667,6.216666666666667,4.116666666666666,11.866666666666667,7.733333333333333],\"y0\":\" \",\"yaxis\":\"y\",\"type\":\"box\"}],                        {\"template\":{\"data\":{\"histogram2dcontour\":[{\"type\":\"histogram2dcontour\",\"colorbar\":{\"outlinewidth\":0,\"ticks\":\"\"},\"colorscale\":[[0.0,\"#0d0887\"],[0.1111111111111111,\"#46039f\"],[0.2222222222222222,\"#7201a8\"],[0.3333333333333333,\"#9c179e\"],[0.4444444444444444,\"#bd3786\"],[0.5555555555555556,\"#d8576b\"],[0.6666666666666666,\"#ed7953\"],[0.7777777777777778,\"#fb9f3a\"],[0.8888888888888888,\"#fdca26\"],[1.0,\"#f0f921\"]]}],\"choropleth\":[{\"type\":\"choropleth\",\"colorbar\":{\"outlinewidth\":0,\"ticks\":\"\"}}],\"histogram2d\":[{\"type\":\"histogram2d\",\"colorbar\":{\"outlinewidth\":0,\"ticks\":\"\"},\"colorscale\":[[0.0,\"#0d0887\"],[0.1111111111111111,\"#46039f\"],[0.2222222222222222,\"#7201a8\"],[0.3333333333333333,\"#9c179e\"],[0.4444444444444444,\"#bd3786\"],[0.5555555555555556,\"#d8576b\"],[0.6666666666666666,\"#ed7953\"],[0.7777777777777778,\"#fb9f3a\"],[0.8888888888888888,\"#fdca26\"],[1.0,\"#f0f921\"]]}],\"heatmap\":[{\"type\":\"heatmap\",\"colorbar\":{\"outlinewidth\":0,\"ticks\":\"\"},\"colorscale\":[[0.0,\"#0d0887\"],[0.1111111111111111,\"#46039f\"],[0.2222222222222222,\"#7201a8\"],[0.3333333333333333,\"#9c179e\"],[0.4444444444444444,\"#bd3786\"],[0.5555555555555556,\"#d8576b\"],[0.6666666666666666,\"#ed7953\"],[0.7777777777777778,\"#fb9f3a\"],[0.8888888888888888,\"#fdca26\"],[1.0,\"#f0f921\"]]}],\"heatmapgl\":[{\"type\":\"heatmapgl\",\"colorbar\":{\"outlinewidth\":0,\"ticks\":\"\"},\"colorscale\":[[0.0,\"#0d0887\"],[0.1111111111111111,\"#46039f\"],[0.2222222222222222,\"#7201a8\"],[0.3333333333333333,\"#9c179e\"],[0.4444444444444444,\"#bd3786\"],[0.5555555555555556,\"#d8576b\"],[0.6666666666666666,\"#ed7953\"],[0.7777777777777778,\"#fb9f3a\"],[0.8888888888888888,\"#fdca26\"],[1.0,\"#f0f921\"]]}],\"contourcarpet\":[{\"type\":\"contourcarpet\",\"colorbar\":{\"outlinewidth\":0,\"ticks\":\"\"}}],\"contour\":[{\"type\":\"contour\",\"colorbar\":{\"outlinewidth\":0,\"ticks\":\"\"},\"colorscale\":[[0.0,\"#0d0887\"],[0.1111111111111111,\"#46039f\"],[0.2222222222222222,\"#7201a8\"],[0.3333333333333333,\"#9c179e\"],[0.4444444444444444,\"#bd3786\"],[0.5555555555555556,\"#d8576b\"],[0.6666666666666666,\"#ed7953\"],[0.7777777777777778,\"#fb9f3a\"],[0.8888888888888888,\"#fdca26\"],[1.0,\"#f0f921\"]]}],\"surface\":[{\"type\":\"surface\",\"colorbar\":{\"outlinewidth\":0,\"ticks\":\"\"},\"colorscale\":[[0.0,\"#0d0887\"],[0.1111111111111111,\"#46039f\"],[0.2222222222222222,\"#7201a8\"],[0.3333333333333333,\"#9c179e\"],[0.4444444444444444,\"#bd3786\"],[0.5555555555555556,\"#d8576b\"],[0.6666666666666666,\"#ed7953\"],[0.7777777777777778,\"#fb9f3a\"],[0.8888888888888888,\"#fdca26\"],[1.0,\"#f0f921\"]]}],\"mesh3d\":[{\"type\":\"mesh3d\",\"colorbar\":{\"outlinewidth\":0,\"ticks\":\"\"}}],\"scatter\":[{\"fillpattern\":{\"fillmode\":\"overlay\",\"size\":10,\"solidity\":0.2},\"type\":\"scatter\"}],\"parcoords\":[{\"type\":\"parcoords\",\"line\":{\"colorbar\":{\"outlinewidth\":0,\"ticks\":\"\"}}}],\"scatterpolargl\":[{\"type\":\"scatterpolargl\",\"marker\":{\"colorbar\":{\"outlinewidth\":0,\"ticks\":\"\"}}}],\"bar\":[{\"error_x\":{\"color\":\"#2a3f5f\"},\"error_y\":{\"color\":\"#2a3f5f\"},\"marker\":{\"line\":{\"color\":\"#E5ECF6\",\"width\":0.5},\"pattern\":{\"fillmode\":\"overlay\",\"size\":10,\"solidity\":0.2}},\"type\":\"bar\"}],\"scattergeo\":[{\"type\":\"scattergeo\",\"marker\":{\"colorbar\":{\"outlinewidth\":0,\"ticks\":\"\"}}}],\"scatterpolar\":[{\"type\":\"scatterpolar\",\"marker\":{\"colorbar\":{\"outlinewidth\":0,\"ticks\":\"\"}}}],\"histogram\":[{\"marker\":{\"pattern\":{\"fillmode\":\"overlay\",\"size\":10,\"solidity\":0.2}},\"type\":\"histogram\"}],\"scattergl\":[{\"type\":\"scattergl\",\"marker\":{\"colorbar\":{\"outlinewidth\":0,\"ticks\":\"\"}}}],\"scatter3d\":[{\"type\":\"scatter3d\",\"line\":{\"colorbar\":{\"outlinewidth\":0,\"ticks\":\"\"}},\"marker\":{\"colorbar\":{\"outlinewidth\":0,\"ticks\":\"\"}}}],\"scattermapbox\":[{\"type\":\"scattermapbox\",\"marker\":{\"colorbar\":{\"outlinewidth\":0,\"ticks\":\"\"}}}],\"scatterternary\":[{\"type\":\"scatterternary\",\"marker\":{\"colorbar\":{\"outlinewidth\":0,\"ticks\":\"\"}}}],\"scattercarpet\":[{\"type\":\"scattercarpet\",\"marker\":{\"colorbar\":{\"outlinewidth\":0,\"ticks\":\"\"}}}],\"carpet\":[{\"aaxis\":{\"endlinecolor\":\"#2a3f5f\",\"gridcolor\":\"white\",\"linecolor\":\"white\",\"minorgridcolor\":\"white\",\"startlinecolor\":\"#2a3f5f\"},\"baxis\":{\"endlinecolor\":\"#2a3f5f\",\"gridcolor\":\"white\",\"linecolor\":\"white\",\"minorgridcolor\":\"white\",\"startlinecolor\":\"#2a3f5f\"},\"type\":\"carpet\"}],\"table\":[{\"cells\":{\"fill\":{\"color\":\"#EBF0F8\"},\"line\":{\"color\":\"white\"}},\"header\":{\"fill\":{\"color\":\"#C8D4E3\"},\"line\":{\"color\":\"white\"}},\"type\":\"table\"}],\"barpolar\":[{\"marker\":{\"line\":{\"color\":\"#E5ECF6\",\"width\":0.5},\"pattern\":{\"fillmode\":\"overlay\",\"size\":10,\"solidity\":0.2}},\"type\":\"barpolar\"}],\"pie\":[{\"automargin\":true,\"type\":\"pie\"}]},\"layout\":{\"autotypenumbers\":\"strict\",\"colorway\":[\"#636efa\",\"#EF553B\",\"#00cc96\",\"#ab63fa\",\"#FFA15A\",\"#19d3f3\",\"#FF6692\",\"#B6E880\",\"#FF97FF\",\"#FECB52\"],\"font\":{\"color\":\"#2a3f5f\"},\"hovermode\":\"closest\",\"hoverlabel\":{\"align\":\"left\"},\"paper_bgcolor\":\"white\",\"plot_bgcolor\":\"#E5ECF6\",\"polar\":{\"bgcolor\":\"#E5ECF6\",\"angularaxis\":{\"gridcolor\":\"white\",\"linecolor\":\"white\",\"ticks\":\"\"},\"radialaxis\":{\"gridcolor\":\"white\",\"linecolor\":\"white\",\"ticks\":\"\"}},\"ternary\":{\"bgcolor\":\"#E5ECF6\",\"aaxis\":{\"gridcolor\":\"white\",\"linecolor\":\"white\",\"ticks\":\"\"},\"baxis\":{\"gridcolor\":\"white\",\"linecolor\":\"white\",\"ticks\":\"\"},\"caxis\":{\"gridcolor\":\"white\",\"linecolor\":\"white\",\"ticks\":\"\"}},\"coloraxis\":{\"colorbar\":{\"outlinewidth\":0,\"ticks\":\"\"}},\"colorscale\":{\"sequential\":[[0.0,\"#0d0887\"],[0.1111111111111111,\"#46039f\"],[0.2222222222222222,\"#7201a8\"],[0.3333333333333333,\"#9c179e\"],[0.4444444444444444,\"#bd3786\"],[0.5555555555555556,\"#d8576b\"],[0.6666666666666666,\"#ed7953\"],[0.7777777777777778,\"#fb9f3a\"],[0.8888888888888888,\"#fdca26\"],[1.0,\"#f0f921\"]],\"sequentialminus\":[[0.0,\"#0d0887\"],[0.1111111111111111,\"#46039f\"],[0.2222222222222222,\"#7201a8\"],[0.3333333333333333,\"#9c179e\"],[0.4444444444444444,\"#bd3786\"],[0.5555555555555556,\"#d8576b\"],[0.6666666666666666,\"#ed7953\"],[0.7777777777777778,\"#fb9f3a\"],[0.8888888888888888,\"#fdca26\"],[1.0,\"#f0f921\"]],\"diverging\":[[0,\"#8e0152\"],[0.1,\"#c51b7d\"],[0.2,\"#de77ae\"],[0.3,\"#f1b6da\"],[0.4,\"#fde0ef\"],[0.5,\"#f7f7f7\"],[0.6,\"#e6f5d0\"],[0.7,\"#b8e186\"],[0.8,\"#7fbc41\"],[0.9,\"#4d9221\"],[1,\"#276419\"]]},\"xaxis\":{\"gridcolor\":\"white\",\"linecolor\":\"white\",\"ticks\":\"\",\"title\":{\"standoff\":15},\"zerolinecolor\":\"white\",\"automargin\":true,\"zerolinewidth\":2},\"yaxis\":{\"gridcolor\":\"white\",\"linecolor\":\"white\",\"ticks\":\"\",\"title\":{\"standoff\":15},\"zerolinecolor\":\"white\",\"automargin\":true,\"zerolinewidth\":2},\"scene\":{\"xaxis\":{\"backgroundcolor\":\"#E5ECF6\",\"gridcolor\":\"white\",\"linecolor\":\"white\",\"showbackground\":true,\"ticks\":\"\",\"zerolinecolor\":\"white\",\"gridwidth\":2},\"yaxis\":{\"backgroundcolor\":\"#E5ECF6\",\"gridcolor\":\"white\",\"linecolor\":\"white\",\"showbackground\":true,\"ticks\":\"\",\"zerolinecolor\":\"white\",\"gridwidth\":2},\"zaxis\":{\"backgroundcolor\":\"#E5ECF6\",\"gridcolor\":\"white\",\"linecolor\":\"white\",\"showbackground\":true,\"ticks\":\"\",\"zerolinecolor\":\"white\",\"gridwidth\":2}},\"shapedefaults\":{\"line\":{\"color\":\"#2a3f5f\"}},\"annotationdefaults\":{\"arrowcolor\":\"#2a3f5f\",\"arrowhead\":0,\"arrowwidth\":1},\"geo\":{\"bgcolor\":\"white\",\"landcolor\":\"#E5ECF6\",\"subunitcolor\":\"white\",\"showland\":true,\"showlakes\":true,\"lakecolor\":\"white\"},\"title\":{\"x\":0.05},\"mapbox\":{\"style\":\"light\"}}},\"xaxis\":{\"anchor\":\"y\",\"domain\":[0.0,1.0],\"title\":{\"text\":\"User Type\"}},\"yaxis\":{\"anchor\":\"x\",\"domain\":[0.0,1.0],\"title\":{\"text\":\"Duration (minutes)\"},\"type\":\"log\"},\"legend\":{\"tracegroupgap\":0},\"title\":{\"text\":\"Trip Duration by Subscription Type\"},\"boxmode\":\"group\"},                        {\"responsive\": true}                    ).then(function(){\n",
       "                            \n",
       "var gd = document.getElementById('8bbdabb2-d15c-489d-984d-740041b528b2');\n",
       "var x = new MutationObserver(function (mutations, observer) {{\n",
       "        var display = window.getComputedStyle(gd).display;\n",
       "        if (!display || display === 'none') {{\n",
       "            console.log([gd, 'removed!']);\n",
       "            Plotly.purge(gd);\n",
       "            observer.disconnect();\n",
       "        }}\n",
       "}});\n",
       "\n",
       "// Listen for the removal of the full notebook cells\n",
       "var notebookContainer = gd.closest('#notebook-container');\n",
       "if (notebookContainer) {{\n",
       "    x.observe(notebookContainer, {childList: true});\n",
       "}}\n",
       "\n",
       "// Listen for the clearing of the current output cell\n",
       "var outputEl = gd.closest('.output');\n",
       "if (outputEl) {{\n",
       "    x.observe(outputEl, {childList: true});\n",
       "}}\n",
       "\n",
       "                        })                };                });            </script>        </div>"
      ]
     },
     "metadata": {},
     "output_type": "display_data"
    }
   ],
   "execution_count": 492
  },
  {
   "metadata": {
    "ExecuteTime": {
     "end_time": "2025-06-21T17:01:17.324564Z",
     "start_time": "2025-06-21T17:01:17.291546Z"
    }
   },
   "cell_type": "code",
   "source": [
    "import folium\n",
    "from folium.plugins import MarkerCluster\n",
    "\n",
    "# 1. Check if any trips > 24 hours exist\n",
    "long_trips = df_modified[df_modified['duration_min'] > 25 ].copy()\n",
    "print(f\"Found {len(long_trips)} long trips (>24h)\")\n",
    "\n",
    "if len(long_trips) == 0:\n",
    "    print(\"No trips exceed 24 hours. Adjust your filter or check data.\")\n",
    "else:\n",
    "    # 2. Use correct column names (adjust based on your actual columns!)\n",
    "    start_trips = long_trips[['start_station_name', 'start_latitude', 'start_longitude']]\n",
    "    end_trips = long_trips[['end_station_name', 'end_latitude', 'end_longitude']]\n",
    "\n",
    "    # Standardize column names\n",
    "    start_trips.columns = ['station_name', 'lat', 'lon']\n",
    "    end_trips.columns = ['station_name', 'lat', 'lon']\n",
    "\n",
    "    # 3. Combine and drop invalid coordinates\n",
    "    stations_all = pd.concat([start_trips, end_trips]).dropna(subset=['lat', 'lon'])\n",
    "    print(f\"Stations with valid coords: {len(stations_all)}\")\n",
    "\n",
    "    if len(stations_all) > 0:\n",
    "        # Count trips per station\n",
    "        station_counts = stations_all.groupby(['station_name', 'lat', 'lon']).size().reset_index(name='trip_count')\n",
    "        \n",
    "        # Filter to DC area (optional)\n",
    "        station_counts = station_counts[\n",
    "            (station_counts['lat'].between(38.80, 38.97)) & \n",
    "            (station_counts['lon'].between(-77.12, -76.90))\n",
    "        ]\n",
    "        print(\"Top stations:\\n\", station_counts.head())\n",
    "\n",
    "        # Create map only if data exists\n",
    "        m = folium.Map(location=[38.9072, -77.0369], zoom_start=13)\n",
    "        for _, row in station_counts.iterrows():\n",
    "            folium.CircleMarker(\n",
    "                location=[row['lat'], row['lon']],\n",
    "                radius=row['trip_count'] * 0.5,\n",
    "                color='red',\n",
    "                fill=True,\n",
    "                popup=f\"{row['station_name']}: {row['trip_count']} long trips\"\n",
    "            ).add_to(m)\n",
    "        display(m)  # For Jupyter; use `m.save('map.html')` otherwise\n",
    "    else:\n",
    "        print(\"No stations with valid coordinates found.\")"
   ],
   "id": "53653d5d2f98e960",
   "outputs": [
    {
     "name": "stdout",
     "output_type": "stream",
     "text": [
      "Found 10 long trips (>24h)\n",
      "Stations with valid coords: 19\n",
      "Top stations:\n",
      "                      station_name        lat        lon  trip_count\n",
      "0                  11th & C St SE  38.885908 -76.991476           2\n",
      "1             17th & Upshur St NW  38.942146 -77.038684           1\n",
      "2                  24th & N St NW  38.906600 -77.051520           1\n",
      "3                   5th & F St NW  38.897222 -77.019347           1\n",
      "4  8th & Eye St SE / Barracks Row  38.879200 -76.995300           3\n"
     ]
    },
    {
     "data": {
      "text/plain": [
       "<folium.folium.Map at 0x2ed64597f50>"
      ],
      "text/html": [
       "<div style=\"width:100%;\"><div style=\"position:relative;width:100%;height:0;padding-bottom:60%;\"><span style=\"color:#565656\">Make this Notebook Trusted to load map: File -> Trust Notebook</span><iframe srcdoc=\"&lt;!DOCTYPE html&gt;\n",
       "&lt;html&gt;\n",
       "&lt;head&gt;\n",
       "    \n",
       "    &lt;meta http-equiv=&quot;content-type&quot; content=&quot;text/html; charset=UTF-8&quot; /&gt;\n",
       "    &lt;script src=&quot;https://cdn.jsdelivr.net/npm/leaflet@1.9.3/dist/leaflet.js&quot;&gt;&lt;/script&gt;\n",
       "    &lt;script src=&quot;https://code.jquery.com/jquery-3.7.1.min.js&quot;&gt;&lt;/script&gt;\n",
       "    &lt;script src=&quot;https://cdn.jsdelivr.net/npm/bootstrap@5.2.2/dist/js/bootstrap.bundle.min.js&quot;&gt;&lt;/script&gt;\n",
       "    &lt;script src=&quot;https://cdnjs.cloudflare.com/ajax/libs/Leaflet.awesome-markers/2.0.2/leaflet.awesome-markers.js&quot;&gt;&lt;/script&gt;\n",
       "    &lt;link rel=&quot;stylesheet&quot; href=&quot;https://cdn.jsdelivr.net/npm/leaflet@1.9.3/dist/leaflet.css&quot;/&gt;\n",
       "    &lt;link rel=&quot;stylesheet&quot; href=&quot;https://cdn.jsdelivr.net/npm/bootstrap@5.2.2/dist/css/bootstrap.min.css&quot;/&gt;\n",
       "    &lt;link rel=&quot;stylesheet&quot; href=&quot;https://netdna.bootstrapcdn.com/bootstrap/3.0.0/css/bootstrap-glyphicons.css&quot;/&gt;\n",
       "    &lt;link rel=&quot;stylesheet&quot; href=&quot;https://cdn.jsdelivr.net/npm/@fortawesome/fontawesome-free@6.2.0/css/all.min.css&quot;/&gt;\n",
       "    &lt;link rel=&quot;stylesheet&quot; href=&quot;https://cdnjs.cloudflare.com/ajax/libs/Leaflet.awesome-markers/2.0.2/leaflet.awesome-markers.css&quot;/&gt;\n",
       "    &lt;link rel=&quot;stylesheet&quot; href=&quot;https://cdn.jsdelivr.net/gh/python-visualization/folium/folium/templates/leaflet.awesome.rotate.min.css&quot;/&gt;\n",
       "    \n",
       "            &lt;meta name=&quot;viewport&quot; content=&quot;width=device-width,\n",
       "                initial-scale=1.0, maximum-scale=1.0, user-scalable=no&quot; /&gt;\n",
       "            &lt;style&gt;\n",
       "                #map_78baac4d6b928831526b7315a450a608 {\n",
       "                    position: relative;\n",
       "                    width: 100.0%;\n",
       "                    height: 100.0%;\n",
       "                    left: 0.0%;\n",
       "                    top: 0.0%;\n",
       "                }\n",
       "                .leaflet-container { font-size: 1rem; }\n",
       "            &lt;/style&gt;\n",
       "\n",
       "            &lt;style&gt;html, body {\n",
       "                width: 100%;\n",
       "                height: 100%;\n",
       "                margin: 0;\n",
       "                padding: 0;\n",
       "            }\n",
       "            &lt;/style&gt;\n",
       "\n",
       "            &lt;style&gt;#map {\n",
       "                position:absolute;\n",
       "                top:0;\n",
       "                bottom:0;\n",
       "                right:0;\n",
       "                left:0;\n",
       "                }\n",
       "            &lt;/style&gt;\n",
       "\n",
       "            &lt;script&gt;\n",
       "                L_NO_TOUCH = false;\n",
       "                L_DISABLE_3D = false;\n",
       "            &lt;/script&gt;\n",
       "\n",
       "        \n",
       "&lt;/head&gt;\n",
       "&lt;body&gt;\n",
       "    \n",
       "    \n",
       "            &lt;div class=&quot;folium-map&quot; id=&quot;map_78baac4d6b928831526b7315a450a608&quot; &gt;&lt;/div&gt;\n",
       "        \n",
       "&lt;/body&gt;\n",
       "&lt;script&gt;\n",
       "    \n",
       "    \n",
       "            var map_78baac4d6b928831526b7315a450a608 = L.map(\n",
       "                &quot;map_78baac4d6b928831526b7315a450a608&quot;,\n",
       "                {\n",
       "                    center: [38.9072, -77.0369],\n",
       "                    crs: L.CRS.EPSG3857,\n",
       "                    ...{\n",
       "  &quot;zoom&quot;: 13,\n",
       "  &quot;zoomControl&quot;: true,\n",
       "  &quot;preferCanvas&quot;: false,\n",
       "}\n",
       "\n",
       "                }\n",
       "            );\n",
       "\n",
       "            \n",
       "\n",
       "        \n",
       "    \n",
       "            var tile_layer_356a218a0e786cabc9adccbe7d407fbb = L.tileLayer(\n",
       "                &quot;https://tile.openstreetmap.org/{z}/{x}/{y}.png&quot;,\n",
       "                {\n",
       "  &quot;minZoom&quot;: 0,\n",
       "  &quot;maxZoom&quot;: 19,\n",
       "  &quot;maxNativeZoom&quot;: 19,\n",
       "  &quot;noWrap&quot;: false,\n",
       "  &quot;attribution&quot;: &quot;\\u0026copy; \\u003ca href=\\&quot;https://www.openstreetmap.org/copyright\\&quot;\\u003eOpenStreetMap\\u003c/a\\u003e contributors&quot;,\n",
       "  &quot;subdomains&quot;: &quot;abc&quot;,\n",
       "  &quot;detectRetina&quot;: false,\n",
       "  &quot;tms&quot;: false,\n",
       "  &quot;opacity&quot;: 1,\n",
       "}\n",
       "\n",
       "            );\n",
       "        \n",
       "    \n",
       "            tile_layer_356a218a0e786cabc9adccbe7d407fbb.addTo(map_78baac4d6b928831526b7315a450a608);\n",
       "        \n",
       "    \n",
       "            var circle_marker_648d51a2e2a118cf3ac014a89d6fcbe3 = L.circleMarker(\n",
       "                [38.885908, -76.991476],\n",
       "                {&quot;bubblingMouseEvents&quot;: true, &quot;color&quot;: &quot;red&quot;, &quot;dashArray&quot;: null, &quot;dashOffset&quot;: null, &quot;fill&quot;: true, &quot;fillColor&quot;: &quot;red&quot;, &quot;fillOpacity&quot;: 0.2, &quot;fillRule&quot;: &quot;evenodd&quot;, &quot;lineCap&quot;: &quot;round&quot;, &quot;lineJoin&quot;: &quot;round&quot;, &quot;opacity&quot;: 1.0, &quot;radius&quot;: 1.0, &quot;stroke&quot;: true, &quot;weight&quot;: 3}\n",
       "            ).addTo(map_78baac4d6b928831526b7315a450a608);\n",
       "        \n",
       "    \n",
       "        var popup_bf4c18d3740011859ace72bcb7bb6b23 = L.popup({\n",
       "  &quot;maxWidth&quot;: &quot;100%&quot;,\n",
       "});\n",
       "\n",
       "        \n",
       "            \n",
       "                var html_f37bb75788dce76389dc28665f696b11 = $(`&lt;div id=&quot;html_f37bb75788dce76389dc28665f696b11&quot; style=&quot;width: 100.0%; height: 100.0%;&quot;&gt;11th &amp; C St SE: 2 long trips&lt;/div&gt;`)[0];\n",
       "                popup_bf4c18d3740011859ace72bcb7bb6b23.setContent(html_f37bb75788dce76389dc28665f696b11);\n",
       "            \n",
       "        \n",
       "\n",
       "        circle_marker_648d51a2e2a118cf3ac014a89d6fcbe3.bindPopup(popup_bf4c18d3740011859ace72bcb7bb6b23)\n",
       "        ;\n",
       "\n",
       "        \n",
       "    \n",
       "    \n",
       "            var circle_marker_bb679dd4a88614ce457cd6259822501a = L.circleMarker(\n",
       "                [38.942146, -77.038684],\n",
       "                {&quot;bubblingMouseEvents&quot;: true, &quot;color&quot;: &quot;red&quot;, &quot;dashArray&quot;: null, &quot;dashOffset&quot;: null, &quot;fill&quot;: true, &quot;fillColor&quot;: &quot;red&quot;, &quot;fillOpacity&quot;: 0.2, &quot;fillRule&quot;: &quot;evenodd&quot;, &quot;lineCap&quot;: &quot;round&quot;, &quot;lineJoin&quot;: &quot;round&quot;, &quot;opacity&quot;: 1.0, &quot;radius&quot;: 0.5, &quot;stroke&quot;: true, &quot;weight&quot;: 3}\n",
       "            ).addTo(map_78baac4d6b928831526b7315a450a608);\n",
       "        \n",
       "    \n",
       "        var popup_b0261adaa10d3dc0da238d2297f5dd9a = L.popup({\n",
       "  &quot;maxWidth&quot;: &quot;100%&quot;,\n",
       "});\n",
       "\n",
       "        \n",
       "            \n",
       "                var html_42cec2fd3ef89bac5f1c0f2ddf47bdcb = $(`&lt;div id=&quot;html_42cec2fd3ef89bac5f1c0f2ddf47bdcb&quot; style=&quot;width: 100.0%; height: 100.0%;&quot;&gt;17th &amp; Upshur St NW: 1 long trips&lt;/div&gt;`)[0];\n",
       "                popup_b0261adaa10d3dc0da238d2297f5dd9a.setContent(html_42cec2fd3ef89bac5f1c0f2ddf47bdcb);\n",
       "            \n",
       "        \n",
       "\n",
       "        circle_marker_bb679dd4a88614ce457cd6259822501a.bindPopup(popup_b0261adaa10d3dc0da238d2297f5dd9a)\n",
       "        ;\n",
       "\n",
       "        \n",
       "    \n",
       "    \n",
       "            var circle_marker_38ce327cec6a0e743e6239e54bd0652d = L.circleMarker(\n",
       "                [38.9066, -77.05152],\n",
       "                {&quot;bubblingMouseEvents&quot;: true, &quot;color&quot;: &quot;red&quot;, &quot;dashArray&quot;: null, &quot;dashOffset&quot;: null, &quot;fill&quot;: true, &quot;fillColor&quot;: &quot;red&quot;, &quot;fillOpacity&quot;: 0.2, &quot;fillRule&quot;: &quot;evenodd&quot;, &quot;lineCap&quot;: &quot;round&quot;, &quot;lineJoin&quot;: &quot;round&quot;, &quot;opacity&quot;: 1.0, &quot;radius&quot;: 0.5, &quot;stroke&quot;: true, &quot;weight&quot;: 3}\n",
       "            ).addTo(map_78baac4d6b928831526b7315a450a608);\n",
       "        \n",
       "    \n",
       "        var popup_7d5e53f87bd8ac59b50ca8cb38944174 = L.popup({\n",
       "  &quot;maxWidth&quot;: &quot;100%&quot;,\n",
       "});\n",
       "\n",
       "        \n",
       "            \n",
       "                var html_e44d7f37c9c78a063529a146a3866832 = $(`&lt;div id=&quot;html_e44d7f37c9c78a063529a146a3866832&quot; style=&quot;width: 100.0%; height: 100.0%;&quot;&gt;24th &amp; N St NW: 1 long trips&lt;/div&gt;`)[0];\n",
       "                popup_7d5e53f87bd8ac59b50ca8cb38944174.setContent(html_e44d7f37c9c78a063529a146a3866832);\n",
       "            \n",
       "        \n",
       "\n",
       "        circle_marker_38ce327cec6a0e743e6239e54bd0652d.bindPopup(popup_7d5e53f87bd8ac59b50ca8cb38944174)\n",
       "        ;\n",
       "\n",
       "        \n",
       "    \n",
       "    \n",
       "            var circle_marker_baa4dd2c7fff95823b9d9bd2a7db544f = L.circleMarker(\n",
       "                [38.897222, -77.019347],\n",
       "                {&quot;bubblingMouseEvents&quot;: true, &quot;color&quot;: &quot;red&quot;, &quot;dashArray&quot;: null, &quot;dashOffset&quot;: null, &quot;fill&quot;: true, &quot;fillColor&quot;: &quot;red&quot;, &quot;fillOpacity&quot;: 0.2, &quot;fillRule&quot;: &quot;evenodd&quot;, &quot;lineCap&quot;: &quot;round&quot;, &quot;lineJoin&quot;: &quot;round&quot;, &quot;opacity&quot;: 1.0, &quot;radius&quot;: 0.5, &quot;stroke&quot;: true, &quot;weight&quot;: 3}\n",
       "            ).addTo(map_78baac4d6b928831526b7315a450a608);\n",
       "        \n",
       "    \n",
       "        var popup_fd473cb6f9ab2b9e84a63e7fab63cb74 = L.popup({\n",
       "  &quot;maxWidth&quot;: &quot;100%&quot;,\n",
       "});\n",
       "\n",
       "        \n",
       "            \n",
       "                var html_d4131134c87b5ae9193eb26fa75d6a81 = $(`&lt;div id=&quot;html_d4131134c87b5ae9193eb26fa75d6a81&quot; style=&quot;width: 100.0%; height: 100.0%;&quot;&gt;5th &amp; F St NW: 1 long trips&lt;/div&gt;`)[0];\n",
       "                popup_fd473cb6f9ab2b9e84a63e7fab63cb74.setContent(html_d4131134c87b5ae9193eb26fa75d6a81);\n",
       "            \n",
       "        \n",
       "\n",
       "        circle_marker_baa4dd2c7fff95823b9d9bd2a7db544f.bindPopup(popup_fd473cb6f9ab2b9e84a63e7fab63cb74)\n",
       "        ;\n",
       "\n",
       "        \n",
       "    \n",
       "    \n",
       "            var circle_marker_bc0ba5196a90a017a4413d7d9e5c5aed = L.circleMarker(\n",
       "                [38.8792, -76.9953],\n",
       "                {&quot;bubblingMouseEvents&quot;: true, &quot;color&quot;: &quot;red&quot;, &quot;dashArray&quot;: null, &quot;dashOffset&quot;: null, &quot;fill&quot;: true, &quot;fillColor&quot;: &quot;red&quot;, &quot;fillOpacity&quot;: 0.2, &quot;fillRule&quot;: &quot;evenodd&quot;, &quot;lineCap&quot;: &quot;round&quot;, &quot;lineJoin&quot;: &quot;round&quot;, &quot;opacity&quot;: 1.0, &quot;radius&quot;: 1.5, &quot;stroke&quot;: true, &quot;weight&quot;: 3}\n",
       "            ).addTo(map_78baac4d6b928831526b7315a450a608);\n",
       "        \n",
       "    \n",
       "        var popup_930a552b7d346a1791c9ae9e82e2d023 = L.popup({\n",
       "  &quot;maxWidth&quot;: &quot;100%&quot;,\n",
       "});\n",
       "\n",
       "        \n",
       "            \n",
       "                var html_572567b121a6a59e50d828e86ef7ecc4 = $(`&lt;div id=&quot;html_572567b121a6a59e50d828e86ef7ecc4&quot; style=&quot;width: 100.0%; height: 100.0%;&quot;&gt;8th &amp; Eye St SE / Barracks Row: 3 long trips&lt;/div&gt;`)[0];\n",
       "                popup_930a552b7d346a1791c9ae9e82e2d023.setContent(html_572567b121a6a59e50d828e86ef7ecc4);\n",
       "            \n",
       "        \n",
       "\n",
       "        circle_marker_bc0ba5196a90a017a4413d7d9e5c5aed.bindPopup(popup_930a552b7d346a1791c9ae9e82e2d023)\n",
       "        ;\n",
       "\n",
       "        \n",
       "    \n",
       "    \n",
       "            var circle_marker_fdda6d987b584657a7df009b6d7215fa = L.circleMarker(\n",
       "                [38.89428, -77.023979],\n",
       "                {&quot;bubblingMouseEvents&quot;: true, &quot;color&quot;: &quot;red&quot;, &quot;dashArray&quot;: null, &quot;dashOffset&quot;: null, &quot;fill&quot;: true, &quot;fillColor&quot;: &quot;red&quot;, &quot;fillOpacity&quot;: 0.2, &quot;fillRule&quot;: &quot;evenodd&quot;, &quot;lineCap&quot;: &quot;round&quot;, &quot;lineJoin&quot;: &quot;round&quot;, &quot;opacity&quot;: 1.0, &quot;radius&quot;: 1.0, &quot;stroke&quot;: true, &quot;weight&quot;: 3}\n",
       "            ).addTo(map_78baac4d6b928831526b7315a450a608);\n",
       "        \n",
       "    \n",
       "        var popup_99f84a7f1e85bdd3cf89233cdd156b05 = L.popup({\n",
       "  &quot;maxWidth&quot;: &quot;100%&quot;,\n",
       "});\n",
       "\n",
       "        \n",
       "            \n",
       "                var html_f7c54139c235c60e2f0857835d81c134 = $(`&lt;div id=&quot;html_f7c54139c235c60e2f0857835d81c134&quot; style=&quot;width: 100.0%; height: 100.0%;&quot;&gt;9th St &amp; Pennsylvania Ave NW: 2 long trips&lt;/div&gt;`)[0];\n",
       "                popup_99f84a7f1e85bdd3cf89233cdd156b05.setContent(html_f7c54139c235c60e2f0857835d81c134);\n",
       "            \n",
       "        \n",
       "\n",
       "        circle_marker_fdda6d987b584657a7df009b6d7215fa.bindPopup(popup_99f84a7f1e85bdd3cf89233cdd156b05)\n",
       "        ;\n",
       "\n",
       "        \n",
       "    \n",
       "    \n",
       "            var circle_marker_eaeb63935bb7e044416b38fd2d1835a1 = L.circleMarker(\n",
       "                [38.854019, -77.118106],\n",
       "                {&quot;bubblingMouseEvents&quot;: true, &quot;color&quot;: &quot;red&quot;, &quot;dashArray&quot;: null, &quot;dashOffset&quot;: null, &quot;fill&quot;: true, &quot;fillColor&quot;: &quot;red&quot;, &quot;fillOpacity&quot;: 0.2, &quot;fillRule&quot;: &quot;evenodd&quot;, &quot;lineCap&quot;: &quot;round&quot;, &quot;lineJoin&quot;: &quot;round&quot;, &quot;opacity&quot;: 1.0, &quot;radius&quot;: 0.5, &quot;stroke&quot;: true, &quot;weight&quot;: 3}\n",
       "            ).addTo(map_78baac4d6b928831526b7315a450a608);\n",
       "        \n",
       "    \n",
       "        var popup_3aaaae557b9d09a5bea78836c85dd676 = L.popup({\n",
       "  &quot;maxWidth&quot;: &quot;100%&quot;,\n",
       "});\n",
       "\n",
       "        \n",
       "            \n",
       "                var html_3db841d01911be38792429c86c83bca2 = $(`&lt;div id=&quot;html_3db841d01911be38792429c86c83bca2&quot; style=&quot;width: 100.0%; height: 100.0%;&quot;&gt;Columbia Pike &amp; S Greenbrier St: 1 long trips&lt;/div&gt;`)[0];\n",
       "                popup_3aaaae557b9d09a5bea78836c85dd676.setContent(html_3db841d01911be38792429c86c83bca2);\n",
       "            \n",
       "        \n",
       "\n",
       "        circle_marker_eaeb63935bb7e044416b38fd2d1835a1.bindPopup(popup_3aaaae557b9d09a5bea78836c85dd676)\n",
       "        ;\n",
       "\n",
       "        \n",
       "    \n",
       "    \n",
       "            var circle_marker_331d07f17798c4ad443663945989cbdf = L.circleMarker(\n",
       "                [38.936684, -77.024181],\n",
       "                {&quot;bubblingMouseEvents&quot;: true, &quot;color&quot;: &quot;red&quot;, &quot;dashArray&quot;: null, &quot;dashOffset&quot;: null, &quot;fill&quot;: true, &quot;fillColor&quot;: &quot;red&quot;, &quot;fillOpacity&quot;: 0.2, &quot;fillRule&quot;: &quot;evenodd&quot;, &quot;lineCap&quot;: &quot;round&quot;, &quot;lineJoin&quot;: &quot;round&quot;, &quot;opacity&quot;: 1.0, &quot;radius&quot;: 0.5, &quot;stroke&quot;: true, &quot;weight&quot;: 3}\n",
       "            ).addTo(map_78baac4d6b928831526b7315a450a608);\n",
       "        \n",
       "    \n",
       "        var popup_4886f184fdfa0bff18a5a323f1e12ea3 = L.popup({\n",
       "  &quot;maxWidth&quot;: &quot;100%&quot;,\n",
       "});\n",
       "\n",
       "        \n",
       "            \n",
       "                var html_fa7a210cc0c4557339be9f62c442a978 = $(`&lt;div id=&quot;html_fa7a210cc0c4557339be9f62c442a978&quot; style=&quot;width: 100.0%; height: 100.0%;&quot;&gt;Georgia &amp; New Hampshire Ave NW: 1 long trips&lt;/div&gt;`)[0];\n",
       "                popup_4886f184fdfa0bff18a5a323f1e12ea3.setContent(html_fa7a210cc0c4557339be9f62c442a978);\n",
       "            \n",
       "        \n",
       "\n",
       "        circle_marker_331d07f17798c4ad443663945989cbdf.bindPopup(popup_4886f184fdfa0bff18a5a323f1e12ea3)\n",
       "        ;\n",
       "\n",
       "        \n",
       "    \n",
       "    \n",
       "            var circle_marker_4d8a2f15b7c55b9bf4c3b5d55060abbc = L.circleMarker(\n",
       "                [38.878433, -77.03023],\n",
       "                {&quot;bubblingMouseEvents&quot;: true, &quot;color&quot;: &quot;red&quot;, &quot;dashArray&quot;: null, &quot;dashOffset&quot;: null, &quot;fill&quot;: true, &quot;fillColor&quot;: &quot;red&quot;, &quot;fillOpacity&quot;: 0.2, &quot;fillRule&quot;: &quot;evenodd&quot;, &quot;lineCap&quot;: &quot;round&quot;, &quot;lineJoin&quot;: &quot;round&quot;, &quot;opacity&quot;: 1.0, &quot;radius&quot;: 0.5, &quot;stroke&quot;: true, &quot;weight&quot;: 3}\n",
       "            ).addTo(map_78baac4d6b928831526b7315a450a608);\n",
       "        \n",
       "    \n",
       "        var popup_8286c43e3dbcb2185b66d86e9e2ccbb8 = L.popup({\n",
       "  &quot;maxWidth&quot;: &quot;100%&quot;,\n",
       "});\n",
       "\n",
       "        \n",
       "            \n",
       "                var html_a52623538a54946e62ab5aaccffc70d8 = $(`&lt;div id=&quot;html_a52623538a54946e62ab5aaccffc70d8&quot; style=&quot;width: 100.0%; height: 100.0%;&quot;&gt;Hains Point/Buckeye &amp; Ohio Dr SW: 1 long trips&lt;/div&gt;`)[0];\n",
       "                popup_8286c43e3dbcb2185b66d86e9e2ccbb8.setContent(html_a52623538a54946e62ab5aaccffc70d8);\n",
       "            \n",
       "        \n",
       "\n",
       "        circle_marker_4d8a2f15b7c55b9bf4c3b5d55060abbc.bindPopup(popup_8286c43e3dbcb2185b66d86e9e2ccbb8)\n",
       "        ;\n",
       "\n",
       "        \n",
       "    \n",
       "    \n",
       "            var circle_marker_32f7faa7c0f66e647003c99c1292150a = L.circleMarker(\n",
       "                [38.866277, -77.010551],\n",
       "                {&quot;bubblingMouseEvents&quot;: true, &quot;color&quot;: &quot;red&quot;, &quot;dashArray&quot;: null, &quot;dashOffset&quot;: null, &quot;fill&quot;: true, &quot;fillColor&quot;: &quot;red&quot;, &quot;fillOpacity&quot;: 0.2, &quot;fillRule&quot;: &quot;evenodd&quot;, &quot;lineCap&quot;: &quot;round&quot;, &quot;lineJoin&quot;: &quot;round&quot;, &quot;opacity&quot;: 1.0, &quot;radius&quot;: 1.0, &quot;stroke&quot;: true, &quot;weight&quot;: 3}\n",
       "            ).addTo(map_78baac4d6b928831526b7315a450a608);\n",
       "        \n",
       "    \n",
       "        var popup_5e9cf466567138b2f861da1175461cbe = L.popup({\n",
       "  &quot;maxWidth&quot;: &quot;100%&quot;,\n",
       "});\n",
       "\n",
       "        \n",
       "            \n",
       "                var html_5e27050fdcf2ebb572c9b2ab476d4500 = $(`&lt;div id=&quot;html_5e27050fdcf2ebb572c9b2ab476d4500&quot; style=&quot;width: 100.0%; height: 100.0%;&quot;&gt;Half &amp; Water St SW: 2 long trips&lt;/div&gt;`)[0];\n",
       "                popup_5e9cf466567138b2f861da1175461cbe.setContent(html_5e27050fdcf2ebb572c9b2ab476d4500);\n",
       "            \n",
       "        \n",
       "\n",
       "        circle_marker_32f7faa7c0f66e647003c99c1292150a.bindPopup(popup_5e9cf466567138b2f861da1175461cbe)\n",
       "        ;\n",
       "\n",
       "        \n",
       "    \n",
       "    \n",
       "            var circle_marker_04f87e9295c1882f5dfc6247b568043b = L.circleMarker(\n",
       "                [38.8946, -77.072305],\n",
       "                {&quot;bubblingMouseEvents&quot;: true, &quot;color&quot;: &quot;red&quot;, &quot;dashArray&quot;: null, &quot;dashOffset&quot;: null, &quot;fill&quot;: true, &quot;fillColor&quot;: &quot;red&quot;, &quot;fillOpacity&quot;: 0.2, &quot;fillRule&quot;: &quot;evenodd&quot;, &quot;lineCap&quot;: &quot;round&quot;, &quot;lineJoin&quot;: &quot;round&quot;, &quot;opacity&quot;: 1.0, &quot;radius&quot;: 0.5, &quot;stroke&quot;: true, &quot;weight&quot;: 3}\n",
       "            ).addTo(map_78baac4d6b928831526b7315a450a608);\n",
       "        \n",
       "    \n",
       "        var popup_4c8aa0878298b1c5970376e95ae7aca7 = L.popup({\n",
       "  &quot;maxWidth&quot;: &quot;100%&quot;,\n",
       "});\n",
       "\n",
       "        \n",
       "            \n",
       "                var html_8cbe15f50b2ee3bb3d438c7391ef95b8 = $(`&lt;div id=&quot;html_8cbe15f50b2ee3bb3d438c7391ef95b8&quot; style=&quot;width: 100.0%; height: 100.0%;&quot;&gt;Wilson Blvd &amp; Ft Myer Dr: 1 long trips&lt;/div&gt;`)[0];\n",
       "                popup_4c8aa0878298b1c5970376e95ae7aca7.setContent(html_8cbe15f50b2ee3bb3d438c7391ef95b8);\n",
       "            \n",
       "        \n",
       "\n",
       "        circle_marker_04f87e9295c1882f5dfc6247b568043b.bindPopup(popup_4c8aa0878298b1c5970376e95ae7aca7)\n",
       "        ;\n",
       "\n",
       "        \n",
       "    \n",
       "    \n",
       "            var circle_marker_abda5e1912d21a85b59b97ce160bb7fb = L.circleMarker(\n",
       "                [38.895068, -77.07386],\n",
       "                {&quot;bubblingMouseEvents&quot;: true, &quot;color&quot;: &quot;red&quot;, &quot;dashArray&quot;: null, &quot;dashOffset&quot;: null, &quot;fill&quot;: true, &quot;fillColor&quot;: &quot;red&quot;, &quot;fillOpacity&quot;: 0.2, &quot;fillRule&quot;: &quot;evenodd&quot;, &quot;lineCap&quot;: &quot;round&quot;, &quot;lineJoin&quot;: &quot;round&quot;, &quot;opacity&quot;: 1.0, &quot;radius&quot;: 1.0, &quot;stroke&quot;: true, &quot;weight&quot;: 3}\n",
       "            ).addTo(map_78baac4d6b928831526b7315a450a608);\n",
       "        \n",
       "    \n",
       "        var popup_b1458ee644b08fda99f164ce51163740 = L.popup({\n",
       "  &quot;maxWidth&quot;: &quot;100%&quot;,\n",
       "});\n",
       "\n",
       "        \n",
       "            \n",
       "                var html_5b8de8daaaba9e428dfd467def9415b1 = $(`&lt;div id=&quot;html_5b8de8daaaba9e428dfd467def9415b1&quot; style=&quot;width: 100.0%; height: 100.0%;&quot;&gt;Wilson Blvd &amp; N Oak St: 2 long trips&lt;/div&gt;`)[0];\n",
       "                popup_b1458ee644b08fda99f164ce51163740.setContent(html_5b8de8daaaba9e428dfd467def9415b1);\n",
       "            \n",
       "        \n",
       "\n",
       "        circle_marker_abda5e1912d21a85b59b97ce160bb7fb.bindPopup(popup_b1458ee644b08fda99f164ce51163740)\n",
       "        ;\n",
       "\n",
       "        \n",
       "    \n",
       "&lt;/script&gt;\n",
       "&lt;/html&gt;\" style=\"position:absolute;width:100%;height:100%;left:0;top:0;border:none !important;\" allowfullscreen webkitallowfullscreen mozallowfullscreen></iframe></div></div>"
      ]
     },
     "metadata": {},
     "output_type": "display_data"
    }
   ],
   "execution_count": 513
  }
 ],
 "metadata": {
  "kernelspec": {
   "display_name": "Python 3",
   "language": "python",
   "name": "python3"
  },
  "language_info": {
   "codemirror_mode": {
    "name": "ipython",
    "version": 2
   },
   "file_extension": ".py",
   "mimetype": "text/x-python",
   "name": "python",
   "nbconvert_exporter": "python",
   "pygments_lexer": "ipython2",
   "version": "2.7.6"
  }
 },
 "nbformat": 4,
 "nbformat_minor": 5
}
