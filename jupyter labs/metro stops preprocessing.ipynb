{
 "cells": [
  {
   "cell_type": "code",
   "id": "initial_id",
   "metadata": {
    "collapsed": true,
    "ExecuteTime": {
     "end_time": "2025-06-20T08:47:50.880948Z",
     "start_time": "2025-06-20T08:47:50.876948Z"
    }
   },
   "source": [
    "import pandas as pd\n",
    "import os\n",
    "import numpy as np\n",
    "from geopandas import gpd\n",
    "import pygeohash as pgh"
   ],
   "outputs": [],
   "execution_count": 2
  },
  {
   "metadata": {
    "ExecuteTime": {
     "end_time": "2025-06-20T08:47:50.908688Z",
     "start_time": "2025-06-20T08:47:50.904629Z"
    }
   },
   "cell_type": "code",
   "source": "os.chdir('C:/Users/wissam_T/Desktop/5th/2nd semester/dm/h.w 1/project')",
   "id": "8a6fea6166ba70dc",
   "outputs": [],
   "execution_count": 3
  },
  {
   "metadata": {
    "ExecuteTime": {
     "end_time": "2025-06-20T08:47:50.995069Z",
     "start_time": "2025-06-20T08:47:50.956240Z"
    }
   },
   "cell_type": "code",
   "source": "df_merged = pd.read_csv('datasets/Merged_trips_with_stations.csv')",
   "id": "d6ad419eb005f3a5",
   "outputs": [],
   "execution_count": 4
  },
  {
   "metadata": {
    "ExecuteTime": {
     "end_time": "2025-06-20T08:47:51.003221Z",
     "start_time": "2025-06-20T08:47:50.996087Z"
    }
   },
   "cell_type": "code",
   "source": "df_merged.columns",
   "id": "7f58b6cf3cd36294",
   "outputs": [
    {
     "data": {
      "text/plain": [
       "Index(['ride_id', 'rideable_type', 'started_at', 'ended_at',\n",
       "       'start_station_name', 'start_station_id', 'end_station_name',\n",
       "       'end_station_id', 'member_casual', 'duration_min', 'geometry_start',\n",
       "       'geometry_end', 'Zone_start_zone_name', 'Zone_start_GIS_ID',\n",
       "       'Zone_start_OBJECTID', 'Zone_start_geometry', 'Zone_end_zone_name',\n",
       "       'Zone_end_GIS_ID', 'Zone_end_OBJECTID', 'Zone_end_geometry', 'date',\n",
       "       'Weather_temp', 'Weather_windspeedmean', 'Weather_sunrise',\n",
       "       'Weather_sunset', 'Weather_conditions', 'Bikeshare_NAME_start',\n",
       "       'Bikeshare_STATION_TYPE_start', 'Bikeshare_CAPACITY_start',\n",
       "       'Bikeshare_REGION_ID_start', 'Bikeshare_REGION_NAME_start',\n",
       "       'Bikeshare_geometry_start', 'Bikeshare_NAME_end',\n",
       "       'Bikeshare_STATION_TYPE_end', 'Bikeshare_CAPACITY_end',\n",
       "       'Bikeshare_REGION_ID_end', 'Bikeshare_REGION_NAME_end',\n",
       "       'Bikeshare_geometry_end', 'StartStation_NAME', 'EndStation_NAME'],\n",
       "      dtype='object')"
      ]
     },
     "execution_count": 5,
     "metadata": {},
     "output_type": "execute_result"
    }
   ],
   "execution_count": 5
  },
  {
   "metadata": {
    "ExecuteTime": {
     "end_time": "2025-06-20T08:47:51.017185Z",
     "start_time": "2025-06-20T08:47:51.011227Z"
    }
   },
   "cell_type": "code",
   "source": [
    "print(df_merged['Bikeshare_CAPACITY_start'].isna().sum())\n",
    "print(df_merged['Bikeshare_CAPACITY_end'].isna().sum())"
   ],
   "id": "e075889d408bac57",
   "outputs": [
    {
     "name": "stdout",
     "output_type": "stream",
     "text": [
      "0\n",
      "28\n"
     ]
    }
   ],
   "execution_count": 6
  },
  {
   "metadata": {
    "ExecuteTime": {
     "end_time": "2025-06-20T08:47:51.045438Z",
     "start_time": "2025-06-20T08:47:51.040666Z"
    }
   },
   "cell_type": "code",
   "source": "df_merged.shape",
   "id": "219ec4c6da4c2d0a",
   "outputs": [
    {
     "data": {
      "text/plain": [
       "(97, 40)"
      ]
     },
     "execution_count": 7,
     "metadata": {},
     "output_type": "execute_result"
    }
   ],
   "execution_count": 7
  },
  {
   "metadata": {
    "ExecuteTime": {
     "end_time": "2025-06-20T08:47:51.081643Z",
     "start_time": "2025-06-20T08:47:51.077693Z"
    }
   },
   "cell_type": "code",
   "source": "df_merged_copy = df_merged.copy()",
   "id": "23571f0543384bea",
   "outputs": [],
   "execution_count": 8
  },
  {
   "metadata": {
    "ExecuteTime": {
     "end_time": "2025-06-20T08:47:51.115526Z",
     "start_time": "2025-06-20T08:47:51.099399Z"
    }
   },
   "cell_type": "code",
   "source": [
    "start_stations = df_merged[['start_station_id', 'Bikeshare_CAPACITY_start']].rename(\n",
    "    columns={'start_station_id': 'station_id', 'Bikeshare_CAPACITY_start': 'capacity'}\n",
    ")\n",
    "\n",
    "end_stations = df_merged[['end_station_id', 'Bikeshare_CAPACITY_end']].rename(\n",
    "    columns={'end_station_id': 'station_id', 'Bikeshare_CAPACITY_end': 'capacity'}\n",
    ")\n",
    "\n",
    "# Combine both into one list of stations\n",
    "stations = pd.concat([start_stations, end_stations])\n",
    "\n",
    "# Remove nulls and duplicates (in case some stations appear twice)\n",
    "stations = stations.drop_duplicates(subset='station_id')\n",
    "\n",
    "# Step 2: Calculate thresholds (33rd and 66th percentiles)\n",
    "low_threshold = np.percentile(stations['capacity'], 33)\n",
    "high_threshold = np.percentile(stations['capacity'], 66)\n",
    "\n",
    "# Step 3: Define a function to assign category\n",
    "def assign_size_category(cap):\n",
    "    if cap < low_threshold:\n",
    "        return 'Small'\n",
    "    elif cap < high_threshold:\n",
    "        return 'Medium'\n",
    "    else:\n",
    "        return 'Large'\n",
    "\n",
    "# Step 4: Apply the function to create the new column\n",
    "stations['station_size'] = stations['capacity'].apply(assign_size_category)\n",
    "\n",
    "# Now `stations` has: station_id, capacity, and station_size\n",
    "print(stations.head())\n"
   ],
   "id": "48656885bffb7daf",
   "outputs": [
    {
     "name": "stdout",
     "output_type": "stream",
     "text": [
      "    station_id  capacity station_size\n",
      "0      31519.0      15.0        Large\n",
      "7      31651.0      19.0        Large\n",
      "9      31939.0      17.0        Large\n",
      "10     30200.0      27.0        Large\n",
      "11     32265.0      12.0        Large\n"
     ]
    }
   ],
   "execution_count": 9
  },
  {
   "metadata": {
    "ExecuteTime": {
     "end_time": "2025-06-20T08:47:51.133739Z",
     "start_time": "2025-06-20T08:47:51.121531Z"
    }
   },
   "cell_type": "code",
   "source": [
    "# Merge back to the original df for start stations\n",
    "df_with_sizes = df_merged_copy.merge(\n",
    "    stations[['station_id', 'station_size']],\n",
    "    left_on='start_station_id',\n",
    "    right_on='station_id',\n",
    "    how='left'\n",
    ").rename(columns={'station_size': 'start_station_size'}).drop(columns=['station_id'])\n",
    "\n",
    "# Merge back again for end stations\n",
    "df_with_sizes = df_with_sizes.merge(\n",
    "    stations[['station_id', 'station_size']],\n",
    "    left_on='end_station_id',\n",
    "    right_on='station_id',\n",
    "    how='left'\n",
    ").rename(columns={'station_size': 'end_station_size'}).drop(columns=['station_id'])\n"
   ],
   "id": "98f0e0b5c8ad1729",
   "outputs": [],
   "execution_count": 10
  },
  {
   "metadata": {
    "ExecuteTime": {
     "end_time": "2025-06-20T08:47:51.157069Z",
     "start_time": "2025-06-20T08:47:51.151752Z"
    }
   },
   "cell_type": "code",
   "source": "df_with_sizes.shape",
   "id": "7e307576618ad7a2",
   "outputs": [
    {
     "data": {
      "text/plain": [
       "(97, 42)"
      ]
     },
     "execution_count": 11,
     "metadata": {},
     "output_type": "execute_result"
    }
   ],
   "execution_count": 11
  },
  {
   "metadata": {
    "ExecuteTime": {
     "end_time": "2025-06-20T08:47:51.198103Z",
     "start_time": "2025-06-20T08:47:51.193076Z"
    }
   },
   "cell_type": "code",
   "source": "df_merged_copy.columns",
   "id": "4cbd99b39ee46815",
   "outputs": [
    {
     "data": {
      "text/plain": [
       "Index(['ride_id', 'rideable_type', 'started_at', 'ended_at',\n",
       "       'start_station_name', 'start_station_id', 'end_station_name',\n",
       "       'end_station_id', 'member_casual', 'duration_min', 'geometry_start',\n",
       "       'geometry_end', 'Zone_start_zone_name', 'Zone_start_GIS_ID',\n",
       "       'Zone_start_OBJECTID', 'Zone_start_geometry', 'Zone_end_zone_name',\n",
       "       'Zone_end_GIS_ID', 'Zone_end_OBJECTID', 'Zone_end_geometry', 'date',\n",
       "       'Weather_temp', 'Weather_windspeedmean', 'Weather_sunrise',\n",
       "       'Weather_sunset', 'Weather_conditions', 'Bikeshare_NAME_start',\n",
       "       'Bikeshare_STATION_TYPE_start', 'Bikeshare_CAPACITY_start',\n",
       "       'Bikeshare_REGION_ID_start', 'Bikeshare_REGION_NAME_start',\n",
       "       'Bikeshare_geometry_start', 'Bikeshare_NAME_end',\n",
       "       'Bikeshare_STATION_TYPE_end', 'Bikeshare_CAPACITY_end',\n",
       "       'Bikeshare_REGION_ID_end', 'Bikeshare_REGION_NAME_end',\n",
       "       'Bikeshare_geometry_end', 'StartStation_NAME', 'EndStation_NAME'],\n",
       "      dtype='object')"
      ]
     },
     "execution_count": 12,
     "metadata": {},
     "output_type": "execute_result"
    }
   ],
   "execution_count": 12
  },
  {
   "metadata": {
    "ExecuteTime": {
     "end_time": "2025-06-20T08:47:51.258488Z",
     "start_time": "2025-06-20T08:47:51.249157Z"
    }
   },
   "cell_type": "code",
   "source": [
    "# First, remove the \"POINT (\" and \")\" parts, then split\n",
    "df_with_coords = pd.DataFrame(df_merged_copy)\n",
    "df_with_coords['start_longitude'] = df_with_coords['Bikeshare_geometry_start'].str.extract(r'POINT \\((-?\\d+\\.\\d+)')[0].astype(float)\n",
    "df_with_coords['start_latitude'] = df_with_coords['Bikeshare_geometry_start'].str.extract(r'POINT \\(-?\\d+\\.\\d+ (\\d+\\.\\d+)\\)')[0].astype(float)\n",
    "\n",
    "df_with_coords['end_longitude'] = df_with_coords['Bikeshare_geometry_end'].str.extract(r'POINT \\((-?\\d+\\.\\d+)')[0].astype(float)\n",
    "df_with_coords['end_latitude'] = df_with_coords['Bikeshare_geometry_end'].str.extract(r'POINT \\(-?\\d+\\.\\d+ (\\d+\\.\\d+)\\)')[0].astype(float)\n"
   ],
   "id": "8fab6ac7313d8879",
   "outputs": [],
   "execution_count": 13
  },
  {
   "metadata": {
    "ExecuteTime": {
     "end_time": "2025-06-20T08:47:51.307862Z",
     "start_time": "2025-06-20T08:47:51.288494Z"
    }
   },
   "cell_type": "code",
   "source": "df_with_coords.head()",
   "id": "4a2974ac2dfd54b9",
   "outputs": [
    {
     "data": {
      "text/plain": [
       "            ride_id  rideable_type           started_at             ended_at  \\\n",
       "0  748A93D7DE8A41CD   classic_bike  2024-01-25 15:49:59  2024-01-25 15:52:35   \n",
       "1  75CBFD136F06305B   classic_bike  2024-01-02 16:44:58  2024-01-02 16:53:25   \n",
       "2  0536C9720F87E04C   classic_bike  2024-01-24 15:40:15  2024-01-24 15:43:55   \n",
       "3  9E17390C218783B5   classic_bike  2024-01-04 15:35:00  2024-01-04 15:37:35   \n",
       "4  00727D0E773CDFF7  electric_bike  2024-01-05 12:27:58  2024-01-05 12:35:40   \n",
       "\n",
       "  start_station_name  start_station_id     end_station_name  end_station_id  \\\n",
       "0      1st & O St NW             31519        1st & L St NW         31677.0   \n",
       "1      1st & O St NW             31519  4th & College St NW         31138.0   \n",
       "2      1st & O St NW             31519        1st & L St NW         31677.0   \n",
       "3      1st & O St NW             31519        1st & L St NW         31677.0   \n",
       "4      1st & O St NW             31519       10th & G St NW         31274.0   \n",
       "\n",
       "  member_casual  duration_min  ... Bikeshare_CAPACITY_end  \\\n",
       "0        member      2.600000  ...                   19.0   \n",
       "1        member      8.450000  ...                   15.0   \n",
       "2        member      3.666667  ...                   19.0   \n",
       "3        member      2.583333  ...                   19.0   \n",
       "4        casual      7.700000  ...                   23.0   \n",
       "\n",
       "  Bikeshare_REGION_ID_end Bikeshare_REGION_NAME_end  \\\n",
       "0                    42.0                  DCA-CABI   \n",
       "1                    42.0                  DCA-CABI   \n",
       "2                    42.0                  DCA-CABI   \n",
       "3                    42.0                  DCA-CABI   \n",
       "4                    42.0                  DCA-CABI   \n",
       "\n",
       "         Bikeshare_geometry_end  StartStation_NAME      EndStation_NAME  \\\n",
       "0  POINT (-77.011987 38.903819)      1st & O St NW        1st & L St NW   \n",
       "1  POINT (-77.018135 38.921233)      1st & O St NW  4th & College St NW   \n",
       "2  POINT (-77.011987 38.903819)      1st & O St NW        1st & L St NW   \n",
       "3  POINT (-77.011987 38.903819)      1st & O St NW        1st & L St NW   \n",
       "4  POINT (-77.026235 38.898243)      1st & O St NW       10th & G St NW   \n",
       "\n",
       "  start_longitude start_latitude  end_longitude end_latitude  \n",
       "0      -77.012365      38.908643     -77.011987    38.903819  \n",
       "1      -77.012365      38.908643     -77.018135    38.921233  \n",
       "2      -77.012365      38.908643     -77.011987    38.903819  \n",
       "3      -77.012365      38.908643     -77.011987    38.903819  \n",
       "4      -77.012365      38.908643     -77.026235    38.898243  \n",
       "\n",
       "[5 rows x 44 columns]"
      ],
      "text/html": [
       "<div>\n",
       "<style scoped>\n",
       "    .dataframe tbody tr th:only-of-type {\n",
       "        vertical-align: middle;\n",
       "    }\n",
       "\n",
       "    .dataframe tbody tr th {\n",
       "        vertical-align: top;\n",
       "    }\n",
       "\n",
       "    .dataframe thead th {\n",
       "        text-align: right;\n",
       "    }\n",
       "</style>\n",
       "<table border=\"1\" class=\"dataframe\">\n",
       "  <thead>\n",
       "    <tr style=\"text-align: right;\">\n",
       "      <th></th>\n",
       "      <th>ride_id</th>\n",
       "      <th>rideable_type</th>\n",
       "      <th>started_at</th>\n",
       "      <th>ended_at</th>\n",
       "      <th>start_station_name</th>\n",
       "      <th>start_station_id</th>\n",
       "      <th>end_station_name</th>\n",
       "      <th>end_station_id</th>\n",
       "      <th>member_casual</th>\n",
       "      <th>duration_min</th>\n",
       "      <th>...</th>\n",
       "      <th>Bikeshare_CAPACITY_end</th>\n",
       "      <th>Bikeshare_REGION_ID_end</th>\n",
       "      <th>Bikeshare_REGION_NAME_end</th>\n",
       "      <th>Bikeshare_geometry_end</th>\n",
       "      <th>StartStation_NAME</th>\n",
       "      <th>EndStation_NAME</th>\n",
       "      <th>start_longitude</th>\n",
       "      <th>start_latitude</th>\n",
       "      <th>end_longitude</th>\n",
       "      <th>end_latitude</th>\n",
       "    </tr>\n",
       "  </thead>\n",
       "  <tbody>\n",
       "    <tr>\n",
       "      <th>0</th>\n",
       "      <td>748A93D7DE8A41CD</td>\n",
       "      <td>classic_bike</td>\n",
       "      <td>2024-01-25 15:49:59</td>\n",
       "      <td>2024-01-25 15:52:35</td>\n",
       "      <td>1st &amp; O St NW</td>\n",
       "      <td>31519</td>\n",
       "      <td>1st &amp; L St NW</td>\n",
       "      <td>31677.0</td>\n",
       "      <td>member</td>\n",
       "      <td>2.600000</td>\n",
       "      <td>...</td>\n",
       "      <td>19.0</td>\n",
       "      <td>42.0</td>\n",
       "      <td>DCA-CABI</td>\n",
       "      <td>POINT (-77.011987 38.903819)</td>\n",
       "      <td>1st &amp; O St NW</td>\n",
       "      <td>1st &amp; L St NW</td>\n",
       "      <td>-77.012365</td>\n",
       "      <td>38.908643</td>\n",
       "      <td>-77.011987</td>\n",
       "      <td>38.903819</td>\n",
       "    </tr>\n",
       "    <tr>\n",
       "      <th>1</th>\n",
       "      <td>75CBFD136F06305B</td>\n",
       "      <td>classic_bike</td>\n",
       "      <td>2024-01-02 16:44:58</td>\n",
       "      <td>2024-01-02 16:53:25</td>\n",
       "      <td>1st &amp; O St NW</td>\n",
       "      <td>31519</td>\n",
       "      <td>4th &amp; College St NW</td>\n",
       "      <td>31138.0</td>\n",
       "      <td>member</td>\n",
       "      <td>8.450000</td>\n",
       "      <td>...</td>\n",
       "      <td>15.0</td>\n",
       "      <td>42.0</td>\n",
       "      <td>DCA-CABI</td>\n",
       "      <td>POINT (-77.018135 38.921233)</td>\n",
       "      <td>1st &amp; O St NW</td>\n",
       "      <td>4th &amp; College St NW</td>\n",
       "      <td>-77.012365</td>\n",
       "      <td>38.908643</td>\n",
       "      <td>-77.018135</td>\n",
       "      <td>38.921233</td>\n",
       "    </tr>\n",
       "    <tr>\n",
       "      <th>2</th>\n",
       "      <td>0536C9720F87E04C</td>\n",
       "      <td>classic_bike</td>\n",
       "      <td>2024-01-24 15:40:15</td>\n",
       "      <td>2024-01-24 15:43:55</td>\n",
       "      <td>1st &amp; O St NW</td>\n",
       "      <td>31519</td>\n",
       "      <td>1st &amp; L St NW</td>\n",
       "      <td>31677.0</td>\n",
       "      <td>member</td>\n",
       "      <td>3.666667</td>\n",
       "      <td>...</td>\n",
       "      <td>19.0</td>\n",
       "      <td>42.0</td>\n",
       "      <td>DCA-CABI</td>\n",
       "      <td>POINT (-77.011987 38.903819)</td>\n",
       "      <td>1st &amp; O St NW</td>\n",
       "      <td>1st &amp; L St NW</td>\n",
       "      <td>-77.012365</td>\n",
       "      <td>38.908643</td>\n",
       "      <td>-77.011987</td>\n",
       "      <td>38.903819</td>\n",
       "    </tr>\n",
       "    <tr>\n",
       "      <th>3</th>\n",
       "      <td>9E17390C218783B5</td>\n",
       "      <td>classic_bike</td>\n",
       "      <td>2024-01-04 15:35:00</td>\n",
       "      <td>2024-01-04 15:37:35</td>\n",
       "      <td>1st &amp; O St NW</td>\n",
       "      <td>31519</td>\n",
       "      <td>1st &amp; L St NW</td>\n",
       "      <td>31677.0</td>\n",
       "      <td>member</td>\n",
       "      <td>2.583333</td>\n",
       "      <td>...</td>\n",
       "      <td>19.0</td>\n",
       "      <td>42.0</td>\n",
       "      <td>DCA-CABI</td>\n",
       "      <td>POINT (-77.011987 38.903819)</td>\n",
       "      <td>1st &amp; O St NW</td>\n",
       "      <td>1st &amp; L St NW</td>\n",
       "      <td>-77.012365</td>\n",
       "      <td>38.908643</td>\n",
       "      <td>-77.011987</td>\n",
       "      <td>38.903819</td>\n",
       "    </tr>\n",
       "    <tr>\n",
       "      <th>4</th>\n",
       "      <td>00727D0E773CDFF7</td>\n",
       "      <td>electric_bike</td>\n",
       "      <td>2024-01-05 12:27:58</td>\n",
       "      <td>2024-01-05 12:35:40</td>\n",
       "      <td>1st &amp; O St NW</td>\n",
       "      <td>31519</td>\n",
       "      <td>10th &amp; G St NW</td>\n",
       "      <td>31274.0</td>\n",
       "      <td>casual</td>\n",
       "      <td>7.700000</td>\n",
       "      <td>...</td>\n",
       "      <td>23.0</td>\n",
       "      <td>42.0</td>\n",
       "      <td>DCA-CABI</td>\n",
       "      <td>POINT (-77.026235 38.898243)</td>\n",
       "      <td>1st &amp; O St NW</td>\n",
       "      <td>10th &amp; G St NW</td>\n",
       "      <td>-77.012365</td>\n",
       "      <td>38.908643</td>\n",
       "      <td>-77.026235</td>\n",
       "      <td>38.898243</td>\n",
       "    </tr>\n",
       "  </tbody>\n",
       "</table>\n",
       "<p>5 rows × 44 columns</p>\n",
       "</div>"
      ]
     },
     "execution_count": 14,
     "metadata": {},
     "output_type": "execute_result"
    }
   ],
   "execution_count": 14
  },
  {
   "metadata": {
    "ExecuteTime": {
     "end_time": "2025-06-20T08:47:51.325093Z",
     "start_time": "2025-06-20T08:47:51.319883Z"
    }
   },
   "cell_type": "code",
   "source": [
    "def haversine_np(lat1, lon1, lat2, lon2):\n",
    "    R = 6371000\n",
    "    phi1 = np.radians(lat1)\n",
    "    phi2 = np.radians(lat2)\n",
    "    delta_phi = np.radians(lat2 - lat1)\n",
    "    delta_lambda = np.radians(lon2 - lon1)\n",
    "    \n",
    "    a = np.sin(delta_phi / 2.0)**2 + \\\n",
    "        np.cos(phi1) * np.cos(phi2) * np.sin(delta_lambda / 2.0)**2\n",
    "    c = 2 * np.arcsin(np.sqrt(a))\n",
    "    \n",
    "    return R * c"
   ],
   "id": "9fbc7d215575edc",
   "outputs": [],
   "execution_count": 15
  },
  {
   "metadata": {
    "ExecuteTime": {
     "end_time": "2025-06-20T08:47:51.356232Z",
     "start_time": "2025-06-20T08:47:51.353098Z"
    }
   },
   "cell_type": "code",
   "source": [
    "def distance_to_closest_mall(lat, lon):\n",
    "    if np.isnan(lat) or np.isnan(lon):\n",
    "        return np.nan\n",
    "    distances = haversine_np(lat, lon, shopping_centers[:, 0], shopping_centers[:, 1])\n",
    "    return np.min(distances)"
   ],
   "id": "aab470ab4bbc5d68",
   "outputs": [],
   "execution_count": 16
  },
  {
   "metadata": {
    "ExecuteTime": {
     "end_time": "2025-06-20T08:47:51.385418Z",
     "start_time": "2025-06-20T08:47:51.381237Z"
    }
   },
   "cell_type": "code",
   "source": [
    "shopping_centers = np.array([\n",
    "    [38.9009, -77.0260],   # CityCenterDC\n",
    "    [38.8971, -77.0064],   # Union Station\n",
    "    [38.9057, -77.0631],   # Georgetown Park\n",
    "    [38.8631, -77.0599],   # Pentagon City\n",
    "    [38.8765, -77.0316],   # The Wharf\n",
    "    [38.8741, -77.0028],   # Capitol Riverfront\n",
    "    [38.9613, -77.0840],   # Friendship Heights\n",
    "])"
   ],
   "id": "a20bcdf388a6981",
   "outputs": [],
   "execution_count": 17
  },
  {
   "metadata": {
    "ExecuteTime": {
     "end_time": "2025-06-20T08:47:51.420422Z",
     "start_time": "2025-06-20T08:47:51.409422Z"
    }
   },
   "cell_type": "code",
   "source": [
    "proximity = 300\n",
    "df_with_coords['start_near_any_mall'] = df_with_coords.apply(\n",
    "    lambda row: int(distance_to_closest_mall(row['start_latitude'], row['start_longitude']) <= proximity),\n",
    "    axis=1\n",
    ")\n",
    "\n",
    "df_with_coords['end_near_any_mall'] = df_with_coords.apply(\n",
    "    lambda row: int(distance_to_closest_mall(row['end_latitude'], row['end_longitude']) <= proximity),\n",
    "    axis=1\n",
    ")"
   ],
   "id": "19e23bd38c3a5aba",
   "outputs": [],
   "execution_count": 18
  },
  {
   "metadata": {
    "ExecuteTime": {
     "end_time": "2025-06-20T08:47:51.528036Z",
     "start_time": "2025-06-20T08:47:51.524929Z"
    }
   },
   "cell_type": "code",
   "source": [
    "def closest_mall_info(lat, lon):\n",
    "    if np.isnan(lat) or np.isnan(lon):\n",
    "        return (np.nan, np.nan)\n",
    "    distances = haversine_np(lat, lon, shopping_centers[:, 0], shopping_centers[:, 1])\n",
    "    idx = np.argmin(distances)\n",
    "    return distances[idx]"
   ],
   "id": "16082d939733dcdb",
   "outputs": [],
   "execution_count": 19
  },
  {
   "metadata": {
    "ExecuteTime": {
     "end_time": "2025-06-20T08:47:51.549363Z",
     "start_time": "2025-06-20T08:47:51.543046Z"
    }
   },
   "cell_type": "code",
   "source": [
    "count_of_ones = df_with_coords['start_near_any_mall'].eq(1).sum()\n",
    "\n",
    "print(f\"Number of 1s in '{'start_near_any_mall'}': {count_of_ones}\")\n",
    "\n",
    "count_of_ones = df_with_coords['end_near_any_mall'].eq(1).sum()\n",
    "\n",
    "print(f\"Number of 1s in '{'end_near_any_mall'}': {count_of_ones}\")"
   ],
   "id": "c86bdd903ddf397a",
   "outputs": [
    {
     "name": "stdout",
     "output_type": "stream",
     "text": [
      "Number of 1s in 'start_near_any_mall': 2\n",
      "Number of 1s in 'end_near_any_mall': 9\n"
     ]
    }
   ],
   "execution_count": 20
  },
  {
   "metadata": {
    "ExecuteTime": {
     "end_time": "2025-06-20T08:47:51.575349Z",
     "start_time": "2025-06-20T08:47:51.568368Z"
    }
   },
   "cell_type": "code",
   "source": [
    "df_with_coords['end_distance_to_closest_mall_m'] = df_with_coords.apply(\n",
    "    lambda row: distance_to_closest_mall(row['end_latitude'], row['end_longitude']),\n",
    "    axis=1\n",
    ")"
   ],
   "id": "f195c9f85cbf28cf",
   "outputs": [],
   "execution_count": 21
  },
  {
   "metadata": {
    "ExecuteTime": {
     "end_time": "2025-06-20T08:47:51.675831Z",
     "start_time": "2025-06-20T08:47:51.594355Z"
    }
   },
   "cell_type": "code",
   "source": "df_with_coords.to_csv('datasets/modified.csv', index=False)",
   "id": "21ca1f2afadfa296",
   "outputs": [],
   "execution_count": 22
  },
  {
   "metadata": {
    "ExecuteTime": {
     "end_time": "2025-06-20T08:55:14.598458Z",
     "start_time": "2025-06-20T08:55:14.588578Z"
    }
   },
   "cell_type": "code",
   "source": [
    "precision = 6\n",
    "\n",
    "df_with_coords['start_geohash'] = df_with_coords.apply(\n",
    "    lambda row: pgh.encode(row['start_latitude'], row['start_longitude'], precision=precision)\n",
    "    if not np.isnan(row['start_latitude']) and not np.isnan(row['start_longitude']) else np.nan,\n",
    "    axis=1\n",
    ")\n",
    "\n",
    "df_with_coords['end_geohash'] = df_with_coords.apply(\n",
    "    lambda row: pgh.encode(row['end_latitude'], row['end_longitude'], precision=precision)\n",
    "    if not np.isnan(row['end_latitude']) and not np.isnan(row['end_longitude']) else np.nan,\n",
    "    axis=1\n",
    ")"
   ],
   "id": "18a96e42322bfd1b",
   "outputs": [],
   "execution_count": 36
  },
  {
   "metadata": {
    "ExecuteTime": {
     "end_time": "2025-06-20T09:10:43.717184Z",
     "start_time": "2025-06-20T09:10:43.711184Z"
    }
   },
   "cell_type": "code",
   "source": [
    "# Example: Count daily trips per start_geohash\n",
    "daily_trip_counts = df_with_coords.groupby(['start_geohash']).size().reset_index(name='trip_count')\n"
   ],
   "id": "8f19ff01d8b470b0",
   "outputs": [],
   "execution_count": 39
  },
  {
   "metadata": {
    "ExecuteTime": {
     "end_time": "2025-06-20T09:10:44.324555Z",
     "start_time": "2025-06-20T09:10:44.318081Z"
    }
   },
   "cell_type": "code",
   "source": "daily_trip_counts",
   "id": "9a4e746f5aa3565b",
   "outputs": [
    {
     "data": {
      "text/plain": [
       "   start_geohash  trip_count\n",
       "0         dqchyd           1\n",
       "1         dqchzz           2\n",
       "2         dqcj4s           1\n",
       "3         dqcj71           2\n",
       "4         dqcjhz           3\n",
       "5         dqcjj1           5\n",
       "6         dqcjmb           1\n",
       "7         dqcjpe          12\n",
       "8         dqcjps           2\n",
       "9         dqcjpz           3\n",
       "10        dqcjq0          16\n",
       "11        dqcjqv           1\n",
       "12        dqcjr2          12\n",
       "13        dqcjr3           5\n",
       "14        dqcjrb           5\n",
       "15        dqcjrc           2\n",
       "16        dqcjre          11\n",
       "17        dqcjrh           1\n",
       "18        dqcjrp           4\n",
       "19        dqcjrs           1\n",
       "20        dqcjx2           3\n",
       "21        dqcjx6           1\n",
       "22        dqcjz8           2\n",
       "23        dqcm22           1"
      ],
      "text/html": [
       "<div>\n",
       "<style scoped>\n",
       "    .dataframe tbody tr th:only-of-type {\n",
       "        vertical-align: middle;\n",
       "    }\n",
       "\n",
       "    .dataframe tbody tr th {\n",
       "        vertical-align: top;\n",
       "    }\n",
       "\n",
       "    .dataframe thead th {\n",
       "        text-align: right;\n",
       "    }\n",
       "</style>\n",
       "<table border=\"1\" class=\"dataframe\">\n",
       "  <thead>\n",
       "    <tr style=\"text-align: right;\">\n",
       "      <th></th>\n",
       "      <th>start_geohash</th>\n",
       "      <th>trip_count</th>\n",
       "    </tr>\n",
       "  </thead>\n",
       "  <tbody>\n",
       "    <tr>\n",
       "      <th>0</th>\n",
       "      <td>dqchyd</td>\n",
       "      <td>1</td>\n",
       "    </tr>\n",
       "    <tr>\n",
       "      <th>1</th>\n",
       "      <td>dqchzz</td>\n",
       "      <td>2</td>\n",
       "    </tr>\n",
       "    <tr>\n",
       "      <th>2</th>\n",
       "      <td>dqcj4s</td>\n",
       "      <td>1</td>\n",
       "    </tr>\n",
       "    <tr>\n",
       "      <th>3</th>\n",
       "      <td>dqcj71</td>\n",
       "      <td>2</td>\n",
       "    </tr>\n",
       "    <tr>\n",
       "      <th>4</th>\n",
       "      <td>dqcjhz</td>\n",
       "      <td>3</td>\n",
       "    </tr>\n",
       "    <tr>\n",
       "      <th>5</th>\n",
       "      <td>dqcjj1</td>\n",
       "      <td>5</td>\n",
       "    </tr>\n",
       "    <tr>\n",
       "      <th>6</th>\n",
       "      <td>dqcjmb</td>\n",
       "      <td>1</td>\n",
       "    </tr>\n",
       "    <tr>\n",
       "      <th>7</th>\n",
       "      <td>dqcjpe</td>\n",
       "      <td>12</td>\n",
       "    </tr>\n",
       "    <tr>\n",
       "      <th>8</th>\n",
       "      <td>dqcjps</td>\n",
       "      <td>2</td>\n",
       "    </tr>\n",
       "    <tr>\n",
       "      <th>9</th>\n",
       "      <td>dqcjpz</td>\n",
       "      <td>3</td>\n",
       "    </tr>\n",
       "    <tr>\n",
       "      <th>10</th>\n",
       "      <td>dqcjq0</td>\n",
       "      <td>16</td>\n",
       "    </tr>\n",
       "    <tr>\n",
       "      <th>11</th>\n",
       "      <td>dqcjqv</td>\n",
       "      <td>1</td>\n",
       "    </tr>\n",
       "    <tr>\n",
       "      <th>12</th>\n",
       "      <td>dqcjr2</td>\n",
       "      <td>12</td>\n",
       "    </tr>\n",
       "    <tr>\n",
       "      <th>13</th>\n",
       "      <td>dqcjr3</td>\n",
       "      <td>5</td>\n",
       "    </tr>\n",
       "    <tr>\n",
       "      <th>14</th>\n",
       "      <td>dqcjrb</td>\n",
       "      <td>5</td>\n",
       "    </tr>\n",
       "    <tr>\n",
       "      <th>15</th>\n",
       "      <td>dqcjrc</td>\n",
       "      <td>2</td>\n",
       "    </tr>\n",
       "    <tr>\n",
       "      <th>16</th>\n",
       "      <td>dqcjre</td>\n",
       "      <td>11</td>\n",
       "    </tr>\n",
       "    <tr>\n",
       "      <th>17</th>\n",
       "      <td>dqcjrh</td>\n",
       "      <td>1</td>\n",
       "    </tr>\n",
       "    <tr>\n",
       "      <th>18</th>\n",
       "      <td>dqcjrp</td>\n",
       "      <td>4</td>\n",
       "    </tr>\n",
       "    <tr>\n",
       "      <th>19</th>\n",
       "      <td>dqcjrs</td>\n",
       "      <td>1</td>\n",
       "    </tr>\n",
       "    <tr>\n",
       "      <th>20</th>\n",
       "      <td>dqcjx2</td>\n",
       "      <td>3</td>\n",
       "    </tr>\n",
       "    <tr>\n",
       "      <th>21</th>\n",
       "      <td>dqcjx6</td>\n",
       "      <td>1</td>\n",
       "    </tr>\n",
       "    <tr>\n",
       "      <th>22</th>\n",
       "      <td>dqcjz8</td>\n",
       "      <td>2</td>\n",
       "    </tr>\n",
       "    <tr>\n",
       "      <th>23</th>\n",
       "      <td>dqcm22</td>\n",
       "      <td>1</td>\n",
       "    </tr>\n",
       "  </tbody>\n",
       "</table>\n",
       "</div>"
      ]
     },
     "execution_count": 40,
     "metadata": {},
     "output_type": "execute_result"
    }
   ],
   "execution_count": 40
  }
 ],
 "metadata": {
  "kernelspec": {
   "display_name": "Python 3",
   "language": "python",
   "name": "python3"
  },
  "language_info": {
   "codemirror_mode": {
    "name": "ipython",
    "version": 2
   },
   "file_extension": ".py",
   "mimetype": "text/x-python",
   "name": "python",
   "nbconvert_exporter": "python",
   "pygments_lexer": "ipython2",
   "version": "2.7.6"
  }
 },
 "nbformat": 4,
 "nbformat_minor": 5
}
